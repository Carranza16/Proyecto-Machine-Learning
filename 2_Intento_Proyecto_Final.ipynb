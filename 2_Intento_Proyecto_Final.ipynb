{
  "nbformat": 4,
  "nbformat_minor": 0,
  "metadata": {
    "colab": {
      "provenance": [],
      "include_colab_link": true
    },
    "kernelspec": {
      "name": "python3",
      "display_name": "Python 3"
    },
    "language_info": {
      "name": "python"
    }
  },
  "cells": [
    {
      "cell_type": "markdown",
      "metadata": {
        "id": "view-in-github",
        "colab_type": "text"
      },
      "source": [
        "<a href=\"https://colab.research.google.com/github/Carranza16/Proyecto-Machine-Learning/blob/main/2_Intento_Proyecto_Final.ipynb\" target=\"_parent\"><img src=\"https://colab.research.google.com/assets/colab-badge.svg\" alt=\"Open In Colab\"/></a>"
      ]
    },
    {
      "cell_type": "markdown",
      "source": [
        "#Melbourne Dataset\n",
        "Extraido desde: https://www.kaggle.com/datasets/dansbecker/melbourne-housing-snapshot\n",
        "\n",
        "#Descripción de Variables:\n",
        "**Rooms:** Número de habitaciones\n",
        "\n",
        "**Price:** Precio en dolares\n",
        "\n",
        "**Method:** S - propiedad vendida; SP - propiedad vendida ante; PI - propiedad traspasada; PN - vendido antes no divulgado; SN - vendido no divulgado; NB - sin oferta; VB - oferta del proveedor; W - retirado antes de la subasta; SA - vendido después de la subasta; SS - vendido después del precio de la subasta no revelado. N/A - precio u oferta más alta no disponible.\n",
        "\n",
        "**Type:** br - bedroom(s); h - casa, cabaña, villa, semi, terraza; u - unidad, duplex; t - casa adosada; dev site - sitio en desarrollo; o res - otras residenciales.\n",
        "\n",
        "**SellerG:** Agente de bienes raíces\n",
        "\n",
        "**Date:** Fecha de venta\n",
        "\n",
        "**Distance:** Distancia desde CBD\n",
        "\n",
        "**Regionname:** Región General (West, North West, North, North east …etc)\n",
        "\n",
        "**Propertycount:** Número de propiedades que existen en el suburbio.\n",
        "\n",
        "**Bedroom2:** Numero de dormitorios (from different source)\n",
        "\n",
        "**Bathroom:** Numero de baños\n",
        "\n",
        "**Car:** Numero de sitios para aparcar\n",
        "\n",
        "**Landsize:** Tamaño del terreno\n",
        "\n",
        "**BuildingArea:** Tamaño del edificio\n",
        "\n",
        "**CouncilArea:** Consejo de gobierno de la zona"
      ],
      "metadata": {
        "id": "2OjQRuAwUOmB"
      }
    },
    {
      "cell_type": "markdown",
      "source": [
        "# Problema: \n",
        "Predecir el precio de la vivienda en Melbourne en función a nuestras columnas X.\n",
        "\n",
        "#Solución tecnológica: \n",
        "\n",
        "Utilizar un modelo de machine learning para analizar el conjunto de datos Melbourne Housing Snapshot, eliminar los outlieres de las columnas 'Landsize', 'BuildingArea' y 'YearBuilt', escalar el dataset con Standar Scaller y entrenar un modelo que pueda predecir el precio de la vivienda en función a todos los X. Se utilizará los modelos de RandomForest y AdaBoost. Luego, se podría evaluar el rendimiento del modelo utilizando las métricas nesarias."
      ],
      "metadata": {
        "id": "Jp4Gpj3Mpc_F"
      }
    },
    {
      "cell_type": "markdown",
      "source": [
        "![intento_2.PNG](data:image/png;base64,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)"
      ],
      "metadata": {
        "id": "UDRYpLYkpqgm"
      }
    },
    {
      "cell_type": "markdown",
      "source": [
        "#Limpiar los datos: realiza el proceso EDA"
      ],
      "metadata": {
        "id": "r6D9ayPbTS3V"
      }
    },
    {
      "cell_type": "code",
      "execution_count": 1,
      "metadata": {
        "id": "mMPNK317Su4H"
      },
      "outputs": [],
      "source": [
        "import pandas as pd               \n",
        "import numpy as np                \n",
        "import matplotlib.pyplot as plt  \n",
        "import seaborn as sns             \n",
        "%matplotlib inline               "
      ]
    },
    {
      "cell_type": "code",
      "source": [
        "# Leemos la data\n",
        "melb_data = pd.read_csv(\"/content/sample_data/melb_data.csv\")"
      ],
      "metadata": {
        "id": "bhFL4bvNGPH9"
      },
      "execution_count": 2,
      "outputs": []
    },
    {
      "cell_type": "code",
      "source": [
        "# Visualizamos la data\n",
        "melb_data.head()"
      ],
      "metadata": {
        "id": "hSjyxWXdmhAE",
        "colab": {
          "base_uri": "https://localhost:8080/",
          "height": 421
        },
        "outputId": "84a93360-bfff-4fb0-ae55-81ad0bb4a6f4"
      },
      "execution_count": 3,
      "outputs": [
        {
          "output_type": "execute_result",
          "data": {
            "text/plain": [
              "       Suburb           Address  Rooms Type      Price Method SellerG  \\\n",
              "0  Abbotsford      85 Turner St      2    h  1480000.0      S  Biggin   \n",
              "1  Abbotsford   25 Bloomburg St      2    h  1035000.0      S  Biggin   \n",
              "2  Abbotsford      5 Charles St      3    h  1465000.0     SP  Biggin   \n",
              "3  Abbotsford  40 Federation La      3    h   850000.0     PI  Biggin   \n",
              "4  Abbotsford       55a Park St      4    h  1600000.0     VB  Nelson   \n",
              "\n",
              "        Date  Distance  Postcode  ...  Bathroom  Car  Landsize  BuildingArea  \\\n",
              "0  3/12/2016       2.5    3067.0  ...       1.0  1.0     202.0           NaN   \n",
              "1  4/02/2016       2.5    3067.0  ...       1.0  0.0     156.0          79.0   \n",
              "2  4/03/2017       2.5    3067.0  ...       2.0  0.0     134.0         150.0   \n",
              "3  4/03/2017       2.5    3067.0  ...       2.0  1.0      94.0           NaN   \n",
              "4  4/06/2016       2.5    3067.0  ...       1.0  2.0     120.0         142.0   \n",
              "\n",
              "   YearBuilt  CouncilArea Lattitude  Longtitude             Regionname  \\\n",
              "0        NaN        Yarra  -37.7996    144.9984  Northern Metropolitan   \n",
              "1     1900.0        Yarra  -37.8079    144.9934  Northern Metropolitan   \n",
              "2     1900.0        Yarra  -37.8093    144.9944  Northern Metropolitan   \n",
              "3        NaN        Yarra  -37.7969    144.9969  Northern Metropolitan   \n",
              "4     2014.0        Yarra  -37.8072    144.9941  Northern Metropolitan   \n",
              "\n",
              "  Propertycount  \n",
              "0        4019.0  \n",
              "1        4019.0  \n",
              "2        4019.0  \n",
              "3        4019.0  \n",
              "4        4019.0  \n",
              "\n",
              "[5 rows x 21 columns]"
            ],
            "text/html": [
              "\n",
              "  <div id=\"df-7fa923e4-db25-493f-96cb-d7cf8014699c\">\n",
              "    <div class=\"colab-df-container\">\n",
              "      <div>\n",
              "<style scoped>\n",
              "    .dataframe tbody tr th:only-of-type {\n",
              "        vertical-align: middle;\n",
              "    }\n",
              "\n",
              "    .dataframe tbody tr th {\n",
              "        vertical-align: top;\n",
              "    }\n",
              "\n",
              "    .dataframe thead th {\n",
              "        text-align: right;\n",
              "    }\n",
              "</style>\n",
              "<table border=\"1\" class=\"dataframe\">\n",
              "  <thead>\n",
              "    <tr style=\"text-align: right;\">\n",
              "      <th></th>\n",
              "      <th>Suburb</th>\n",
              "      <th>Address</th>\n",
              "      <th>Rooms</th>\n",
              "      <th>Type</th>\n",
              "      <th>Price</th>\n",
              "      <th>Method</th>\n",
              "      <th>SellerG</th>\n",
              "      <th>Date</th>\n",
              "      <th>Distance</th>\n",
              "      <th>Postcode</th>\n",
              "      <th>...</th>\n",
              "      <th>Bathroom</th>\n",
              "      <th>Car</th>\n",
              "      <th>Landsize</th>\n",
              "      <th>BuildingArea</th>\n",
              "      <th>YearBuilt</th>\n",
              "      <th>CouncilArea</th>\n",
              "      <th>Lattitude</th>\n",
              "      <th>Longtitude</th>\n",
              "      <th>Regionname</th>\n",
              "      <th>Propertycount</th>\n",
              "    </tr>\n",
              "  </thead>\n",
              "  <tbody>\n",
              "    <tr>\n",
              "      <th>0</th>\n",
              "      <td>Abbotsford</td>\n",
              "      <td>85 Turner St</td>\n",
              "      <td>2</td>\n",
              "      <td>h</td>\n",
              "      <td>1480000.0</td>\n",
              "      <td>S</td>\n",
              "      <td>Biggin</td>\n",
              "      <td>3/12/2016</td>\n",
              "      <td>2.5</td>\n",
              "      <td>3067.0</td>\n",
              "      <td>...</td>\n",
              "      <td>1.0</td>\n",
              "      <td>1.0</td>\n",
              "      <td>202.0</td>\n",
              "      <td>NaN</td>\n",
              "      <td>NaN</td>\n",
              "      <td>Yarra</td>\n",
              "      <td>-37.7996</td>\n",
              "      <td>144.9984</td>\n",
              "      <td>Northern Metropolitan</td>\n",
              "      <td>4019.0</td>\n",
              "    </tr>\n",
              "    <tr>\n",
              "      <th>1</th>\n",
              "      <td>Abbotsford</td>\n",
              "      <td>25 Bloomburg St</td>\n",
              "      <td>2</td>\n",
              "      <td>h</td>\n",
              "      <td>1035000.0</td>\n",
              "      <td>S</td>\n",
              "      <td>Biggin</td>\n",
              "      <td>4/02/2016</td>\n",
              "      <td>2.5</td>\n",
              "      <td>3067.0</td>\n",
              "      <td>...</td>\n",
              "      <td>1.0</td>\n",
              "      <td>0.0</td>\n",
              "      <td>156.0</td>\n",
              "      <td>79.0</td>\n",
              "      <td>1900.0</td>\n",
              "      <td>Yarra</td>\n",
              "      <td>-37.8079</td>\n",
              "      <td>144.9934</td>\n",
              "      <td>Northern Metropolitan</td>\n",
              "      <td>4019.0</td>\n",
              "    </tr>\n",
              "    <tr>\n",
              "      <th>2</th>\n",
              "      <td>Abbotsford</td>\n",
              "      <td>5 Charles St</td>\n",
              "      <td>3</td>\n",
              "      <td>h</td>\n",
              "      <td>1465000.0</td>\n",
              "      <td>SP</td>\n",
              "      <td>Biggin</td>\n",
              "      <td>4/03/2017</td>\n",
              "      <td>2.5</td>\n",
              "      <td>3067.0</td>\n",
              "      <td>...</td>\n",
              "      <td>2.0</td>\n",
              "      <td>0.0</td>\n",
              "      <td>134.0</td>\n",
              "      <td>150.0</td>\n",
              "      <td>1900.0</td>\n",
              "      <td>Yarra</td>\n",
              "      <td>-37.8093</td>\n",
              "      <td>144.9944</td>\n",
              "      <td>Northern Metropolitan</td>\n",
              "      <td>4019.0</td>\n",
              "    </tr>\n",
              "    <tr>\n",
              "      <th>3</th>\n",
              "      <td>Abbotsford</td>\n",
              "      <td>40 Federation La</td>\n",
              "      <td>3</td>\n",
              "      <td>h</td>\n",
              "      <td>850000.0</td>\n",
              "      <td>PI</td>\n",
              "      <td>Biggin</td>\n",
              "      <td>4/03/2017</td>\n",
              "      <td>2.5</td>\n",
              "      <td>3067.0</td>\n",
              "      <td>...</td>\n",
              "      <td>2.0</td>\n",
              "      <td>1.0</td>\n",
              "      <td>94.0</td>\n",
              "      <td>NaN</td>\n",
              "      <td>NaN</td>\n",
              "      <td>Yarra</td>\n",
              "      <td>-37.7969</td>\n",
              "      <td>144.9969</td>\n",
              "      <td>Northern Metropolitan</td>\n",
              "      <td>4019.0</td>\n",
              "    </tr>\n",
              "    <tr>\n",
              "      <th>4</th>\n",
              "      <td>Abbotsford</td>\n",
              "      <td>55a Park St</td>\n",
              "      <td>4</td>\n",
              "      <td>h</td>\n",
              "      <td>1600000.0</td>\n",
              "      <td>VB</td>\n",
              "      <td>Nelson</td>\n",
              "      <td>4/06/2016</td>\n",
              "      <td>2.5</td>\n",
              "      <td>3067.0</td>\n",
              "      <td>...</td>\n",
              "      <td>1.0</td>\n",
              "      <td>2.0</td>\n",
              "      <td>120.0</td>\n",
              "      <td>142.0</td>\n",
              "      <td>2014.0</td>\n",
              "      <td>Yarra</td>\n",
              "      <td>-37.8072</td>\n",
              "      <td>144.9941</td>\n",
              "      <td>Northern Metropolitan</td>\n",
              "      <td>4019.0</td>\n",
              "    </tr>\n",
              "  </tbody>\n",
              "</table>\n",
              "<p>5 rows × 21 columns</p>\n",
              "</div>\n",
              "      <button class=\"colab-df-convert\" onclick=\"convertToInteractive('df-7fa923e4-db25-493f-96cb-d7cf8014699c')\"\n",
              "              title=\"Convert this dataframe to an interactive table.\"\n",
              "              style=\"display:none;\">\n",
              "        \n",
              "  <svg xmlns=\"http://www.w3.org/2000/svg\" height=\"24px\"viewBox=\"0 0 24 24\"\n",
              "       width=\"24px\">\n",
              "    <path d=\"M0 0h24v24H0V0z\" fill=\"none\"/>\n",
              "    <path d=\"M18.56 5.44l.94 2.06.94-2.06 2.06-.94-2.06-.94-.94-2.06-.94 2.06-2.06.94zm-11 1L8.5 8.5l.94-2.06 2.06-.94-2.06-.94L8.5 2.5l-.94 2.06-2.06.94zm10 10l.94 2.06.94-2.06 2.06-.94-2.06-.94-.94-2.06-.94 2.06-2.06.94z\"/><path d=\"M17.41 7.96l-1.37-1.37c-.4-.4-.92-.59-1.43-.59-.52 0-1.04.2-1.43.59L10.3 9.45l-7.72 7.72c-.78.78-.78 2.05 0 2.83L4 21.41c.39.39.9.59 1.41.59.51 0 1.02-.2 1.41-.59l7.78-7.78 2.81-2.81c.8-.78.8-2.07 0-2.86zM5.41 20L4 18.59l7.72-7.72 1.47 1.35L5.41 20z\"/>\n",
              "  </svg>\n",
              "      </button>\n",
              "      \n",
              "  <style>\n",
              "    .colab-df-container {\n",
              "      display:flex;\n",
              "      flex-wrap:wrap;\n",
              "      gap: 12px;\n",
              "    }\n",
              "\n",
              "    .colab-df-convert {\n",
              "      background-color: #E8F0FE;\n",
              "      border: none;\n",
              "      border-radius: 50%;\n",
              "      cursor: pointer;\n",
              "      display: none;\n",
              "      fill: #1967D2;\n",
              "      height: 32px;\n",
              "      padding: 0 0 0 0;\n",
              "      width: 32px;\n",
              "    }\n",
              "\n",
              "    .colab-df-convert:hover {\n",
              "      background-color: #E2EBFA;\n",
              "      box-shadow: 0px 1px 2px rgba(60, 64, 67, 0.3), 0px 1px 3px 1px rgba(60, 64, 67, 0.15);\n",
              "      fill: #174EA6;\n",
              "    }\n",
              "\n",
              "    [theme=dark] .colab-df-convert {\n",
              "      background-color: #3B4455;\n",
              "      fill: #D2E3FC;\n",
              "    }\n",
              "\n",
              "    [theme=dark] .colab-df-convert:hover {\n",
              "      background-color: #434B5C;\n",
              "      box-shadow: 0px 1px 3px 1px rgba(0, 0, 0, 0.15);\n",
              "      filter: drop-shadow(0px 1px 2px rgba(0, 0, 0, 0.3));\n",
              "      fill: #FFFFFF;\n",
              "    }\n",
              "  </style>\n",
              "\n",
              "      <script>\n",
              "        const buttonEl =\n",
              "          document.querySelector('#df-7fa923e4-db25-493f-96cb-d7cf8014699c button.colab-df-convert');\n",
              "        buttonEl.style.display =\n",
              "          google.colab.kernel.accessAllowed ? 'block' : 'none';\n",
              "\n",
              "        async function convertToInteractive(key) {\n",
              "          const element = document.querySelector('#df-7fa923e4-db25-493f-96cb-d7cf8014699c');\n",
              "          const dataTable =\n",
              "            await google.colab.kernel.invokeFunction('convertToInteractive',\n",
              "                                                     [key], {});\n",
              "          if (!dataTable) return;\n",
              "\n",
              "          const docLinkHtml = 'Like what you see? Visit the ' +\n",
              "            '<a target=\"_blank\" href=https://colab.research.google.com/notebooks/data_table.ipynb>data table notebook</a>'\n",
              "            + ' to learn more about interactive tables.';\n",
              "          element.innerHTML = '';\n",
              "          dataTable['output_type'] = 'display_data';\n",
              "          await google.colab.output.renderOutput(dataTable, element);\n",
              "          const docLink = document.createElement('div');\n",
              "          docLink.innerHTML = docLinkHtml;\n",
              "          element.appendChild(docLink);\n",
              "        }\n",
              "      </script>\n",
              "    </div>\n",
              "  </div>\n",
              "  "
            ]
          },
          "metadata": {},
          "execution_count": 3
        }
      ]
    },
    {
      "cell_type": "code",
      "source": [
        "# Visualizamos las columnas de la data\n",
        "melb_data.columns"
      ],
      "metadata": {
        "colab": {
          "base_uri": "https://localhost:8080/"
        },
        "id": "ai2hCguHdklm",
        "outputId": "eef9436f-e49b-4094-8278-15855c0066b2"
      },
      "execution_count": 4,
      "outputs": [
        {
          "output_type": "execute_result",
          "data": {
            "text/plain": [
              "Index(['Suburb', 'Address', 'Rooms', 'Type', 'Price', 'Method', 'SellerG',\n",
              "       'Date', 'Distance', 'Postcode', 'Bedroom2', 'Bathroom', 'Car',\n",
              "       'Landsize', 'BuildingArea', 'YearBuilt', 'CouncilArea', 'Lattitude',\n",
              "       'Longtitude', 'Regionname', 'Propertycount'],\n",
              "      dtype='object')"
            ]
          },
          "metadata": {},
          "execution_count": 4
        }
      ]
    },
    {
      "cell_type": "code",
      "source": [
        "# Observamos el tipo de dato de cada columna\n",
        "melb_data.info()"
      ],
      "metadata": {
        "colab": {
          "base_uri": "https://localhost:8080/"
        },
        "id": "FgeUl9M29n2Q",
        "outputId": "305809aa-9068-4515-cfa4-d24e0a7b5543"
      },
      "execution_count": 5,
      "outputs": [
        {
          "output_type": "stream",
          "name": "stdout",
          "text": [
            "<class 'pandas.core.frame.DataFrame'>\n",
            "RangeIndex: 13580 entries, 0 to 13579\n",
            "Data columns (total 21 columns):\n",
            " #   Column         Non-Null Count  Dtype  \n",
            "---  ------         --------------  -----  \n",
            " 0   Suburb         13580 non-null  object \n",
            " 1   Address        13580 non-null  object \n",
            " 2   Rooms          13580 non-null  int64  \n",
            " 3   Type           13580 non-null  object \n",
            " 4   Price          13580 non-null  float64\n",
            " 5   Method         13580 non-null  object \n",
            " 6   SellerG        13580 non-null  object \n",
            " 7   Date           13580 non-null  object \n",
            " 8   Distance       13580 non-null  float64\n",
            " 9   Postcode       13580 non-null  float64\n",
            " 10  Bedroom2       13580 non-null  float64\n",
            " 11  Bathroom       13580 non-null  float64\n",
            " 12  Car            13518 non-null  float64\n",
            " 13  Landsize       13580 non-null  float64\n",
            " 14  BuildingArea   7130 non-null   float64\n",
            " 15  YearBuilt      8205 non-null   float64\n",
            " 16  CouncilArea    12211 non-null  object \n",
            " 17  Lattitude      13580 non-null  float64\n",
            " 18  Longtitude     13580 non-null  float64\n",
            " 19  Regionname     13580 non-null  object \n",
            " 20  Propertycount  13580 non-null  float64\n",
            "dtypes: float64(12), int64(1), object(8)\n",
            "memory usage: 2.2+ MB\n"
          ]
        }
      ]
    },
    {
      "cell_type": "code",
      "source": [
        "# Nulos en cada columna (variable)\n",
        "melb_data.isnull().sum()"
      ],
      "metadata": {
        "colab": {
          "base_uri": "https://localhost:8080/"
        },
        "id": "ui9tnehf93lX",
        "outputId": "7ac32221-756a-40c8-c866-5dfe48ca0224"
      },
      "execution_count": 6,
      "outputs": [
        {
          "output_type": "execute_result",
          "data": {
            "text/plain": [
              "Suburb              0\n",
              "Address             0\n",
              "Rooms               0\n",
              "Type                0\n",
              "Price               0\n",
              "Method              0\n",
              "SellerG             0\n",
              "Date                0\n",
              "Distance            0\n",
              "Postcode            0\n",
              "Bedroom2            0\n",
              "Bathroom            0\n",
              "Car                62\n",
              "Landsize            0\n",
              "BuildingArea     6450\n",
              "YearBuilt        5375\n",
              "CouncilArea      1369\n",
              "Lattitude           0\n",
              "Longtitude          0\n",
              "Regionname          0\n",
              "Propertycount       0\n",
              "dtype: int64"
            ]
          },
          "metadata": {},
          "execution_count": 6
        }
      ]
    },
    {
      "cell_type": "code",
      "source": [
        "# Función para hallar el porcentaje de nulos en cada columna\n",
        "def porcentaje(columna):\n",
        "  total_null = columna.isnull().sum()\n",
        "  return ((total_null)/len(columna))*100\n",
        "porcentaje(melb_data) "
      ],
      "metadata": {
        "colab": {
          "base_uri": "https://localhost:8080/"
        },
        "id": "noMGC7G2-DSz",
        "outputId": "0420ab62-0b7b-46f3-ed71-f4a0fbe8e6ee"
      },
      "execution_count": 7,
      "outputs": [
        {
          "output_type": "execute_result",
          "data": {
            "text/plain": [
              "Suburb            0.000000\n",
              "Address           0.000000\n",
              "Rooms             0.000000\n",
              "Type              0.000000\n",
              "Price             0.000000\n",
              "Method            0.000000\n",
              "SellerG           0.000000\n",
              "Date              0.000000\n",
              "Distance          0.000000\n",
              "Postcode          0.000000\n",
              "Bedroom2          0.000000\n",
              "Bathroom          0.000000\n",
              "Car               0.456554\n",
              "Landsize          0.000000\n",
              "BuildingArea     47.496318\n",
              "YearBuilt        39.580265\n",
              "CouncilArea      10.081001\n",
              "Lattitude         0.000000\n",
              "Longtitude        0.000000\n",
              "Regionname        0.000000\n",
              "Propertycount     0.000000\n",
              "dtype: float64"
            ]
          },
          "metadata": {},
          "execution_count": 7
        }
      ]
    },
    {
      "cell_type": "code",
      "source": [
        "# El porcentaje de datos en las variables es menor al 80% por lo tanto realizamos la \n",
        "# imputación para cada tipo de variable "
      ],
      "metadata": {
        "id": "vEJj-JZ1-PXW"
      },
      "execution_count": 8,
      "outputs": []
    },
    {
      "cell_type": "markdown",
      "source": [
        "#Imputación de valores *nulos*"
      ],
      "metadata": {
        "id": "EAXNzR9U--oa"
      }
    },
    {
      "cell_type": "code",
      "source": [
        "# ['BuildingArea']\n",
        "# Empezaremos con la columna BuildingArea\n",
        "# 'BuildinArea' es el tamaño del edificio construido en metros\n",
        "# Este dato está relacionado con nuestra columna 'Landsize' que es el tamaño\n",
        "# del terreno en metros por lo tanto si el dato en 'Landsize' es 0 tambien lo\n",
        "# debe ser en 'BuildingArea'. Ya que no puede haber un edificio construido donde\n",
        "# no hay terreno. \n",
        "\n",
        "melb_data_relacion = melb_data[melb_data['Landsize'] == 0]\n",
        "melb_data_relacion[['Landsize','BuildingArea','Price']]\n"
      ],
      "metadata": {
        "id": "hRCX_EfG-5XI",
        "colab": {
          "base_uri": "https://localhost:8080/",
          "height": 423
        },
        "outputId": "5e1dced0-64b3-4b47-cad2-54901743fc2a"
      },
      "execution_count": 9,
      "outputs": [
        {
          "output_type": "execute_result",
          "data": {
            "text/plain": [
              "       Landsize  BuildingArea      Price\n",
              "8           0.0           NaN   300000.0\n",
              "10          0.0           NaN   700000.0\n",
              "12          0.0         94.00   750000.0\n",
              "14          0.0           NaN   441000.0\n",
              "21          0.0           NaN   900000.0\n",
              "...         ...           ...        ...\n",
              "12168       0.0         82.00   600000.0\n",
              "12176       0.0           NaN  1050000.0\n",
              "12188       0.0         66.32   300000.0\n",
              "12207       0.0         35.64   385000.0\n",
              "12209       0.0         61.60   560000.0\n",
              "\n",
              "[1939 rows x 3 columns]"
            ],
            "text/html": [
              "\n",
              "  <div id=\"df-2810fc49-c5a5-42bc-a3fc-bb094d37c9bc\">\n",
              "    <div class=\"colab-df-container\">\n",
              "      <div>\n",
              "<style scoped>\n",
              "    .dataframe tbody tr th:only-of-type {\n",
              "        vertical-align: middle;\n",
              "    }\n",
              "\n",
              "    .dataframe tbody tr th {\n",
              "        vertical-align: top;\n",
              "    }\n",
              "\n",
              "    .dataframe thead th {\n",
              "        text-align: right;\n",
              "    }\n",
              "</style>\n",
              "<table border=\"1\" class=\"dataframe\">\n",
              "  <thead>\n",
              "    <tr style=\"text-align: right;\">\n",
              "      <th></th>\n",
              "      <th>Landsize</th>\n",
              "      <th>BuildingArea</th>\n",
              "      <th>Price</th>\n",
              "    </tr>\n",
              "  </thead>\n",
              "  <tbody>\n",
              "    <tr>\n",
              "      <th>8</th>\n",
              "      <td>0.0</td>\n",
              "      <td>NaN</td>\n",
              "      <td>300000.0</td>\n",
              "    </tr>\n",
              "    <tr>\n",
              "      <th>10</th>\n",
              "      <td>0.0</td>\n",
              "      <td>NaN</td>\n",
              "      <td>700000.0</td>\n",
              "    </tr>\n",
              "    <tr>\n",
              "      <th>12</th>\n",
              "      <td>0.0</td>\n",
              "      <td>94.00</td>\n",
              "      <td>750000.0</td>\n",
              "    </tr>\n",
              "    <tr>\n",
              "      <th>14</th>\n",
              "      <td>0.0</td>\n",
              "      <td>NaN</td>\n",
              "      <td>441000.0</td>\n",
              "    </tr>\n",
              "    <tr>\n",
              "      <th>21</th>\n",
              "      <td>0.0</td>\n",
              "      <td>NaN</td>\n",
              "      <td>900000.0</td>\n",
              "    </tr>\n",
              "    <tr>\n",
              "      <th>...</th>\n",
              "      <td>...</td>\n",
              "      <td>...</td>\n",
              "      <td>...</td>\n",
              "    </tr>\n",
              "    <tr>\n",
              "      <th>12168</th>\n",
              "      <td>0.0</td>\n",
              "      <td>82.00</td>\n",
              "      <td>600000.0</td>\n",
              "    </tr>\n",
              "    <tr>\n",
              "      <th>12176</th>\n",
              "      <td>0.0</td>\n",
              "      <td>NaN</td>\n",
              "      <td>1050000.0</td>\n",
              "    </tr>\n",
              "    <tr>\n",
              "      <th>12188</th>\n",
              "      <td>0.0</td>\n",
              "      <td>66.32</td>\n",
              "      <td>300000.0</td>\n",
              "    </tr>\n",
              "    <tr>\n",
              "      <th>12207</th>\n",
              "      <td>0.0</td>\n",
              "      <td>35.64</td>\n",
              "      <td>385000.0</td>\n",
              "    </tr>\n",
              "    <tr>\n",
              "      <th>12209</th>\n",
              "      <td>0.0</td>\n",
              "      <td>61.60</td>\n",
              "      <td>560000.0</td>\n",
              "    </tr>\n",
              "  </tbody>\n",
              "</table>\n",
              "<p>1939 rows × 3 columns</p>\n",
              "</div>\n",
              "      <button class=\"colab-df-convert\" onclick=\"convertToInteractive('df-2810fc49-c5a5-42bc-a3fc-bb094d37c9bc')\"\n",
              "              title=\"Convert this dataframe to an interactive table.\"\n",
              "              style=\"display:none;\">\n",
              "        \n",
              "  <svg xmlns=\"http://www.w3.org/2000/svg\" height=\"24px\"viewBox=\"0 0 24 24\"\n",
              "       width=\"24px\">\n",
              "    <path d=\"M0 0h24v24H0V0z\" fill=\"none\"/>\n",
              "    <path d=\"M18.56 5.44l.94 2.06.94-2.06 2.06-.94-2.06-.94-.94-2.06-.94 2.06-2.06.94zm-11 1L8.5 8.5l.94-2.06 2.06-.94-2.06-.94L8.5 2.5l-.94 2.06-2.06.94zm10 10l.94 2.06.94-2.06 2.06-.94-2.06-.94-.94-2.06-.94 2.06-2.06.94z\"/><path d=\"M17.41 7.96l-1.37-1.37c-.4-.4-.92-.59-1.43-.59-.52 0-1.04.2-1.43.59L10.3 9.45l-7.72 7.72c-.78.78-.78 2.05 0 2.83L4 21.41c.39.39.9.59 1.41.59.51 0 1.02-.2 1.41-.59l7.78-7.78 2.81-2.81c.8-.78.8-2.07 0-2.86zM5.41 20L4 18.59l7.72-7.72 1.47 1.35L5.41 20z\"/>\n",
              "  </svg>\n",
              "      </button>\n",
              "      \n",
              "  <style>\n",
              "    .colab-df-container {\n",
              "      display:flex;\n",
              "      flex-wrap:wrap;\n",
              "      gap: 12px;\n",
              "    }\n",
              "\n",
              "    .colab-df-convert {\n",
              "      background-color: #E8F0FE;\n",
              "      border: none;\n",
              "      border-radius: 50%;\n",
              "      cursor: pointer;\n",
              "      display: none;\n",
              "      fill: #1967D2;\n",
              "      height: 32px;\n",
              "      padding: 0 0 0 0;\n",
              "      width: 32px;\n",
              "    }\n",
              "\n",
              "    .colab-df-convert:hover {\n",
              "      background-color: #E2EBFA;\n",
              "      box-shadow: 0px 1px 2px rgba(60, 64, 67, 0.3), 0px 1px 3px 1px rgba(60, 64, 67, 0.15);\n",
              "      fill: #174EA6;\n",
              "    }\n",
              "\n",
              "    [theme=dark] .colab-df-convert {\n",
              "      background-color: #3B4455;\n",
              "      fill: #D2E3FC;\n",
              "    }\n",
              "\n",
              "    [theme=dark] .colab-df-convert:hover {\n",
              "      background-color: #434B5C;\n",
              "      box-shadow: 0px 1px 3px 1px rgba(0, 0, 0, 0.15);\n",
              "      filter: drop-shadow(0px 1px 2px rgba(0, 0, 0, 0.3));\n",
              "      fill: #FFFFFF;\n",
              "    }\n",
              "  </style>\n",
              "\n",
              "      <script>\n",
              "        const buttonEl =\n",
              "          document.querySelector('#df-2810fc49-c5a5-42bc-a3fc-bb094d37c9bc button.colab-df-convert');\n",
              "        buttonEl.style.display =\n",
              "          google.colab.kernel.accessAllowed ? 'block' : 'none';\n",
              "\n",
              "        async function convertToInteractive(key) {\n",
              "          const element = document.querySelector('#df-2810fc49-c5a5-42bc-a3fc-bb094d37c9bc');\n",
              "          const dataTable =\n",
              "            await google.colab.kernel.invokeFunction('convertToInteractive',\n",
              "                                                     [key], {});\n",
              "          if (!dataTable) return;\n",
              "\n",
              "          const docLinkHtml = 'Like what you see? Visit the ' +\n",
              "            '<a target=\"_blank\" href=https://colab.research.google.com/notebooks/data_table.ipynb>data table notebook</a>'\n",
              "            + ' to learn more about interactive tables.';\n",
              "          element.innerHTML = '';\n",
              "          dataTable['output_type'] = 'display_data';\n",
              "          await google.colab.output.renderOutput(dataTable, element);\n",
              "          const docLink = document.createElement('div');\n",
              "          docLink.innerHTML = docLinkHtml;\n",
              "          element.appendChild(docLink);\n",
              "        }\n",
              "      </script>\n",
              "    </div>\n",
              "  </div>\n",
              "  "
            ]
          },
          "metadata": {},
          "execution_count": 9
        }
      ]
    },
    {
      "cell_type": "code",
      "source": [
        "# Llenamos los valores faltantes con 0 gracias a la función fillna()\n",
        "melb_data_ba = melb_data\n",
        "melb_data_ba['BuildingArea'] = melb_data_ba['BuildingArea'].fillna(0) \n",
        "melb_data_ba['BuildingArea'][8:22]"
      ],
      "metadata": {
        "colab": {
          "base_uri": "https://localhost:8080/"
        },
        "id": "OV19Nq3iAZH3",
        "outputId": "959e78bd-070f-445e-a55d-b8ef2318c100"
      },
      "execution_count": 10,
      "outputs": [
        {
          "output_type": "execute_result",
          "data": {
            "text/plain": [
              "8       0.0\n",
              "9      75.0\n",
              "10      0.0\n",
              "11    190.0\n",
              "12     94.0\n",
              "13      0.0\n",
              "14      0.0\n",
              "15     97.0\n",
              "16    110.0\n",
              "17    105.0\n",
              "18      0.0\n",
              "19     73.0\n",
              "20    135.0\n",
              "21      0.0\n",
              "Name: BuildingArea, dtype: float64"
            ]
          },
          "metadata": {},
          "execution_count": 10
        }
      ]
    },
    {
      "cell_type": "code",
      "source": [
        "# ['Car']\n",
        "# Nuestra columna 'Car' hace referencia a la cantidad de coches que se pueden\n",
        "# aparcar en el terreno, por lo tanto hemos relacionado la columna 'Car' con la\n",
        "# 'Suburb' que es la calle.\n",
        "# Imputaremos la mediana de 'Car' segun la calle 'Suburb' a la que pertenece\n",
        "# .\n",
        "# .\n",
        "# Agruparemos los datos por Suburbio \n",
        "# Creamos un diccionaro de numero de aparcamientos segun el suburbio\n",
        "\n",
        "use_cols = ['Suburb','Car']\n",
        "imp_car = pd.read_csv('/content/sample_data/melb_data.csv',usecols=use_cols)\n",
        "\n",
        "df_suburb_car = imp_car.groupby(['Suburb']).agg('median')\n",
        "df_suburb_car['Car_round'] = round(df_suburb_car['Car'])\n",
        "df_suburb_car.drop(['Car'],axis=1, inplace= True)\n",
        "df_suburb_car =df_suburb_car.rename(columns={'Car_round':'Car'})\n",
        "\n",
        "list_suburb_car = df_suburb_car.reset_index()\n",
        "dict_suburb_car = dict(zip(list_suburb_car.Suburb, list_suburb_car.Car))\n",
        "#dict_suburb_car"
      ],
      "metadata": {
        "id": "Xfeja56kERmz"
      },
      "execution_count": 11,
      "outputs": []
    },
    {
      "cell_type": "code",
      "source": [
        "# Llenamos los datos nulos con el diccionario que creamos\n",
        "melb_data_ba.Car = melb_data_ba.Car.fillna(melb_data_ba.Suburb.map(dict_suburb_car))\n",
        "melb_data_ba['Car'].isnull().sum()"
      ],
      "metadata": {
        "colab": {
          "base_uri": "https://localhost:8080/"
        },
        "id": "S3b6g_ckIJiA",
        "outputId": "942c92f0-eddd-4b2f-9d41-8373195a6392"
      },
      "execution_count": 12,
      "outputs": [
        {
          "output_type": "execute_result",
          "data": {
            "text/plain": [
              "0"
            ]
          },
          "metadata": {},
          "execution_count": 12
        }
      ]
    },
    {
      "cell_type": "code",
      "source": [
        "# Para la variable 'YearBuild' que es el año de construcción\n",
        "# Realizamos la imputación con el valor 0 debido a que los datos nulos\n",
        "# coinciden con el tamaño del edificio que realmente no existe\n",
        "# por ende no existe o no hay un año de construcción\n",
        "\n",
        "melb_data_yb = melb_data_ba\n",
        "melb_data_yb['YearBuilt'] = melb_data_yb['YearBuilt'].fillna(melb_data_yb['YearBuilt'].mode()[0])"
      ],
      "metadata": {
        "id": "3RgVpaKiOjn7"
      },
      "execution_count": 13,
      "outputs": []
    },
    {
      "cell_type": "code",
      "source": [
        "# ['YearBuilt']\n",
        "# Para la variable 'YearBuild' que es el año de construcción\n",
        "# Realizamos la imputación con el valor 0 debido a que los datos nulos\n",
        "# coinciden con el tamaño del edificio que realmente no existe\n",
        "# por ende no existe o no hay un año de construcción\n",
        "\n",
        "melb_data_year_ba = melb_data_ba[melb_data['BuildingArea'] == 0]\n",
        "melb_data_year_ba[['BuildingArea','YearBuilt','Price']]"
      ],
      "metadata": {
        "id": "YavMkuTCI4SK",
        "colab": {
          "base_uri": "https://localhost:8080/",
          "height": 423
        },
        "outputId": "eb755e4c-719b-4fda-cf8f-e6358fdccbcc"
      },
      "execution_count": 14,
      "outputs": [
        {
          "output_type": "execute_result",
          "data": {
            "text/plain": [
              "       BuildingArea  YearBuilt      Price\n",
              "0               0.0     1970.0  1480000.0\n",
              "3               0.0     1970.0   850000.0\n",
              "5               0.0     1970.0   941000.0\n",
              "8               0.0     1970.0   300000.0\n",
              "10              0.0     1970.0   700000.0\n",
              "...             ...        ...        ...\n",
              "13569           0.0     1970.0  1323000.0\n",
              "13570           0.0     1970.0   970000.0\n",
              "13574           0.0     1970.0   582000.0\n",
              "13575           0.0     1981.0  1245000.0\n",
              "13577           0.0     1997.0  1170000.0\n",
              "\n",
              "[6467 rows x 3 columns]"
            ],
            "text/html": [
              "\n",
              "  <div id=\"df-05326dc2-5867-4704-8104-7da3eb6920f0\">\n",
              "    <div class=\"colab-df-container\">\n",
              "      <div>\n",
              "<style scoped>\n",
              "    .dataframe tbody tr th:only-of-type {\n",
              "        vertical-align: middle;\n",
              "    }\n",
              "\n",
              "    .dataframe tbody tr th {\n",
              "        vertical-align: top;\n",
              "    }\n",
              "\n",
              "    .dataframe thead th {\n",
              "        text-align: right;\n",
              "    }\n",
              "</style>\n",
              "<table border=\"1\" class=\"dataframe\">\n",
              "  <thead>\n",
              "    <tr style=\"text-align: right;\">\n",
              "      <th></th>\n",
              "      <th>BuildingArea</th>\n",
              "      <th>YearBuilt</th>\n",
              "      <th>Price</th>\n",
              "    </tr>\n",
              "  </thead>\n",
              "  <tbody>\n",
              "    <tr>\n",
              "      <th>0</th>\n",
              "      <td>0.0</td>\n",
              "      <td>1970.0</td>\n",
              "      <td>1480000.0</td>\n",
              "    </tr>\n",
              "    <tr>\n",
              "      <th>3</th>\n",
              "      <td>0.0</td>\n",
              "      <td>1970.0</td>\n",
              "      <td>850000.0</td>\n",
              "    </tr>\n",
              "    <tr>\n",
              "      <th>5</th>\n",
              "      <td>0.0</td>\n",
              "      <td>1970.0</td>\n",
              "      <td>941000.0</td>\n",
              "    </tr>\n",
              "    <tr>\n",
              "      <th>8</th>\n",
              "      <td>0.0</td>\n",
              "      <td>1970.0</td>\n",
              "      <td>300000.0</td>\n",
              "    </tr>\n",
              "    <tr>\n",
              "      <th>10</th>\n",
              "      <td>0.0</td>\n",
              "      <td>1970.0</td>\n",
              "      <td>700000.0</td>\n",
              "    </tr>\n",
              "    <tr>\n",
              "      <th>...</th>\n",
              "      <td>...</td>\n",
              "      <td>...</td>\n",
              "      <td>...</td>\n",
              "    </tr>\n",
              "    <tr>\n",
              "      <th>13569</th>\n",
              "      <td>0.0</td>\n",
              "      <td>1970.0</td>\n",
              "      <td>1323000.0</td>\n",
              "    </tr>\n",
              "    <tr>\n",
              "      <th>13570</th>\n",
              "      <td>0.0</td>\n",
              "      <td>1970.0</td>\n",
              "      <td>970000.0</td>\n",
              "    </tr>\n",
              "    <tr>\n",
              "      <th>13574</th>\n",
              "      <td>0.0</td>\n",
              "      <td>1970.0</td>\n",
              "      <td>582000.0</td>\n",
              "    </tr>\n",
              "    <tr>\n",
              "      <th>13575</th>\n",
              "      <td>0.0</td>\n",
              "      <td>1981.0</td>\n",
              "      <td>1245000.0</td>\n",
              "    </tr>\n",
              "    <tr>\n",
              "      <th>13577</th>\n",
              "      <td>0.0</td>\n",
              "      <td>1997.0</td>\n",
              "      <td>1170000.0</td>\n",
              "    </tr>\n",
              "  </tbody>\n",
              "</table>\n",
              "<p>6467 rows × 3 columns</p>\n",
              "</div>\n",
              "      <button class=\"colab-df-convert\" onclick=\"convertToInteractive('df-05326dc2-5867-4704-8104-7da3eb6920f0')\"\n",
              "              title=\"Convert this dataframe to an interactive table.\"\n",
              "              style=\"display:none;\">\n",
              "        \n",
              "  <svg xmlns=\"http://www.w3.org/2000/svg\" height=\"24px\"viewBox=\"0 0 24 24\"\n",
              "       width=\"24px\">\n",
              "    <path d=\"M0 0h24v24H0V0z\" fill=\"none\"/>\n",
              "    <path d=\"M18.56 5.44l.94 2.06.94-2.06 2.06-.94-2.06-.94-.94-2.06-.94 2.06-2.06.94zm-11 1L8.5 8.5l.94-2.06 2.06-.94-2.06-.94L8.5 2.5l-.94 2.06-2.06.94zm10 10l.94 2.06.94-2.06 2.06-.94-2.06-.94-.94-2.06-.94 2.06-2.06.94z\"/><path d=\"M17.41 7.96l-1.37-1.37c-.4-.4-.92-.59-1.43-.59-.52 0-1.04.2-1.43.59L10.3 9.45l-7.72 7.72c-.78.78-.78 2.05 0 2.83L4 21.41c.39.39.9.59 1.41.59.51 0 1.02-.2 1.41-.59l7.78-7.78 2.81-2.81c.8-.78.8-2.07 0-2.86zM5.41 20L4 18.59l7.72-7.72 1.47 1.35L5.41 20z\"/>\n",
              "  </svg>\n",
              "      </button>\n",
              "      \n",
              "  <style>\n",
              "    .colab-df-container {\n",
              "      display:flex;\n",
              "      flex-wrap:wrap;\n",
              "      gap: 12px;\n",
              "    }\n",
              "\n",
              "    .colab-df-convert {\n",
              "      background-color: #E8F0FE;\n",
              "      border: none;\n",
              "      border-radius: 50%;\n",
              "      cursor: pointer;\n",
              "      display: none;\n",
              "      fill: #1967D2;\n",
              "      height: 32px;\n",
              "      padding: 0 0 0 0;\n",
              "      width: 32px;\n",
              "    }\n",
              "\n",
              "    .colab-df-convert:hover {\n",
              "      background-color: #E2EBFA;\n",
              "      box-shadow: 0px 1px 2px rgba(60, 64, 67, 0.3), 0px 1px 3px 1px rgba(60, 64, 67, 0.15);\n",
              "      fill: #174EA6;\n",
              "    }\n",
              "\n",
              "    [theme=dark] .colab-df-convert {\n",
              "      background-color: #3B4455;\n",
              "      fill: #D2E3FC;\n",
              "    }\n",
              "\n",
              "    [theme=dark] .colab-df-convert:hover {\n",
              "      background-color: #434B5C;\n",
              "      box-shadow: 0px 1px 3px 1px rgba(0, 0, 0, 0.15);\n",
              "      filter: drop-shadow(0px 1px 2px rgba(0, 0, 0, 0.3));\n",
              "      fill: #FFFFFF;\n",
              "    }\n",
              "  </style>\n",
              "\n",
              "      <script>\n",
              "        const buttonEl =\n",
              "          document.querySelector('#df-05326dc2-5867-4704-8104-7da3eb6920f0 button.colab-df-convert');\n",
              "        buttonEl.style.display =\n",
              "          google.colab.kernel.accessAllowed ? 'block' : 'none';\n",
              "\n",
              "        async function convertToInteractive(key) {\n",
              "          const element = document.querySelector('#df-05326dc2-5867-4704-8104-7da3eb6920f0');\n",
              "          const dataTable =\n",
              "            await google.colab.kernel.invokeFunction('convertToInteractive',\n",
              "                                                     [key], {});\n",
              "          if (!dataTable) return;\n",
              "\n",
              "          const docLinkHtml = 'Like what you see? Visit the ' +\n",
              "            '<a target=\"_blank\" href=https://colab.research.google.com/notebooks/data_table.ipynb>data table notebook</a>'\n",
              "            + ' to learn more about interactive tables.';\n",
              "          element.innerHTML = '';\n",
              "          dataTable['output_type'] = 'display_data';\n",
              "          await google.colab.output.renderOutput(dataTable, element);\n",
              "          const docLink = document.createElement('div');\n",
              "          docLink.innerHTML = docLinkHtml;\n",
              "          element.appendChild(docLink);\n",
              "        }\n",
              "      </script>\n",
              "    </div>\n",
              "  </div>\n",
              "  "
            ]
          },
          "metadata": {},
          "execution_count": 14
        }
      ]
    },
    {
      "cell_type": "code",
      "source": [
        "# Llenamos los valores faltantes con 0 gracias a la función fillna()\n",
        "melb_data_yb = melb_data_ba\n",
        "melb_data_yb['YearBuilt'] = melb_data_yb['YearBuilt'].fillna(0) \n",
        "melb_data_yb['YearBuilt'][0:10]"
      ],
      "metadata": {
        "colab": {
          "base_uri": "https://localhost:8080/"
        },
        "id": "BGvK-MOvLMjW",
        "outputId": "694dc8ed-112f-4a55-9b68-05507e1445a9"
      },
      "execution_count": 15,
      "outputs": [
        {
          "output_type": "execute_result",
          "data": {
            "text/plain": [
              "0    1970.0\n",
              "1    1900.0\n",
              "2    1900.0\n",
              "3    1970.0\n",
              "4    2014.0\n",
              "5    1970.0\n",
              "6    1910.0\n",
              "7    1890.0\n",
              "8    1970.0\n",
              "9    1900.0\n",
              "Name: YearBuilt, dtype: float64"
            ]
          },
          "metadata": {},
          "execution_count": 15
        }
      ]
    },
    {
      "cell_type": "code",
      "source": [
        "# ['CoouncilArea']\n",
        "# Para la variable 'CouncilArea' (Gobierno del Area) que está relacionada con el \n",
        "# suburbio y la región. Para este caso hemos escogido la columna 'Regionname'\n",
        "# para agrupar los gobiernos más comunes por región.\n",
        "#\n",
        "melb_data_yb[['Suburb','CouncilArea','Regionname']][13565:13579]"
      ],
      "metadata": {
        "colab": {
          "base_uri": "https://localhost:8080/",
          "height": 488
        },
        "id": "yhGKDoGxOgbM",
        "outputId": "ac26fbea-cb71-4aff-f18c-6c439d0b3553"
      },
      "execution_count": 16,
      "outputs": [
        {
          "output_type": "execute_result",
          "data": {
            "text/plain": [
              "               Suburb CouncilArea                  Regionname\n",
              "13565         Vermont         NaN        Eastern Metropolitan\n",
              "13566   Vermont South         NaN        Eastern Metropolitan\n",
              "13567        Viewbank         NaN        Eastern Metropolitan\n",
              "13568        Wantirna         NaN        Eastern Metropolitan\n",
              "13569  Wantirna South         NaN        Eastern Metropolitan\n",
              "13570  Wantirna South         NaN        Eastern Metropolitan\n",
              "13571  Wantirna South         NaN        Eastern Metropolitan\n",
              "13572        Watsonia         NaN       Northern Metropolitan\n",
              "13573        Werribee         NaN        Western Metropolitan\n",
              "13574     Westmeadows         NaN       Northern Metropolitan\n",
              "13575   Wheelers Hill         NaN  South-Eastern Metropolitan\n",
              "13576    Williamstown         NaN        Western Metropolitan\n",
              "13577    Williamstown         NaN        Western Metropolitan\n",
              "13578    Williamstown         NaN        Western Metropolitan"
            ],
            "text/html": [
              "\n",
              "  <div id=\"df-852dfec1-3d2c-4fd8-a7be-42685b083322\">\n",
              "    <div class=\"colab-df-container\">\n",
              "      <div>\n",
              "<style scoped>\n",
              "    .dataframe tbody tr th:only-of-type {\n",
              "        vertical-align: middle;\n",
              "    }\n",
              "\n",
              "    .dataframe tbody tr th {\n",
              "        vertical-align: top;\n",
              "    }\n",
              "\n",
              "    .dataframe thead th {\n",
              "        text-align: right;\n",
              "    }\n",
              "</style>\n",
              "<table border=\"1\" class=\"dataframe\">\n",
              "  <thead>\n",
              "    <tr style=\"text-align: right;\">\n",
              "      <th></th>\n",
              "      <th>Suburb</th>\n",
              "      <th>CouncilArea</th>\n",
              "      <th>Regionname</th>\n",
              "    </tr>\n",
              "  </thead>\n",
              "  <tbody>\n",
              "    <tr>\n",
              "      <th>13565</th>\n",
              "      <td>Vermont</td>\n",
              "      <td>NaN</td>\n",
              "      <td>Eastern Metropolitan</td>\n",
              "    </tr>\n",
              "    <tr>\n",
              "      <th>13566</th>\n",
              "      <td>Vermont South</td>\n",
              "      <td>NaN</td>\n",
              "      <td>Eastern Metropolitan</td>\n",
              "    </tr>\n",
              "    <tr>\n",
              "      <th>13567</th>\n",
              "      <td>Viewbank</td>\n",
              "      <td>NaN</td>\n",
              "      <td>Eastern Metropolitan</td>\n",
              "    </tr>\n",
              "    <tr>\n",
              "      <th>13568</th>\n",
              "      <td>Wantirna</td>\n",
              "      <td>NaN</td>\n",
              "      <td>Eastern Metropolitan</td>\n",
              "    </tr>\n",
              "    <tr>\n",
              "      <th>13569</th>\n",
              "      <td>Wantirna South</td>\n",
              "      <td>NaN</td>\n",
              "      <td>Eastern Metropolitan</td>\n",
              "    </tr>\n",
              "    <tr>\n",
              "      <th>13570</th>\n",
              "      <td>Wantirna South</td>\n",
              "      <td>NaN</td>\n",
              "      <td>Eastern Metropolitan</td>\n",
              "    </tr>\n",
              "    <tr>\n",
              "      <th>13571</th>\n",
              "      <td>Wantirna South</td>\n",
              "      <td>NaN</td>\n",
              "      <td>Eastern Metropolitan</td>\n",
              "    </tr>\n",
              "    <tr>\n",
              "      <th>13572</th>\n",
              "      <td>Watsonia</td>\n",
              "      <td>NaN</td>\n",
              "      <td>Northern Metropolitan</td>\n",
              "    </tr>\n",
              "    <tr>\n",
              "      <th>13573</th>\n",
              "      <td>Werribee</td>\n",
              "      <td>NaN</td>\n",
              "      <td>Western Metropolitan</td>\n",
              "    </tr>\n",
              "    <tr>\n",
              "      <th>13574</th>\n",
              "      <td>Westmeadows</td>\n",
              "      <td>NaN</td>\n",
              "      <td>Northern Metropolitan</td>\n",
              "    </tr>\n",
              "    <tr>\n",
              "      <th>13575</th>\n",
              "      <td>Wheelers Hill</td>\n",
              "      <td>NaN</td>\n",
              "      <td>South-Eastern Metropolitan</td>\n",
              "    </tr>\n",
              "    <tr>\n",
              "      <th>13576</th>\n",
              "      <td>Williamstown</td>\n",
              "      <td>NaN</td>\n",
              "      <td>Western Metropolitan</td>\n",
              "    </tr>\n",
              "    <tr>\n",
              "      <th>13577</th>\n",
              "      <td>Williamstown</td>\n",
              "      <td>NaN</td>\n",
              "      <td>Western Metropolitan</td>\n",
              "    </tr>\n",
              "    <tr>\n",
              "      <th>13578</th>\n",
              "      <td>Williamstown</td>\n",
              "      <td>NaN</td>\n",
              "      <td>Western Metropolitan</td>\n",
              "    </tr>\n",
              "  </tbody>\n",
              "</table>\n",
              "</div>\n",
              "      <button class=\"colab-df-convert\" onclick=\"convertToInteractive('df-852dfec1-3d2c-4fd8-a7be-42685b083322')\"\n",
              "              title=\"Convert this dataframe to an interactive table.\"\n",
              "              style=\"display:none;\">\n",
              "        \n",
              "  <svg xmlns=\"http://www.w3.org/2000/svg\" height=\"24px\"viewBox=\"0 0 24 24\"\n",
              "       width=\"24px\">\n",
              "    <path d=\"M0 0h24v24H0V0z\" fill=\"none\"/>\n",
              "    <path d=\"M18.56 5.44l.94 2.06.94-2.06 2.06-.94-2.06-.94-.94-2.06-.94 2.06-2.06.94zm-11 1L8.5 8.5l.94-2.06 2.06-.94-2.06-.94L8.5 2.5l-.94 2.06-2.06.94zm10 10l.94 2.06.94-2.06 2.06-.94-2.06-.94-.94-2.06-.94 2.06-2.06.94z\"/><path d=\"M17.41 7.96l-1.37-1.37c-.4-.4-.92-.59-1.43-.59-.52 0-1.04.2-1.43.59L10.3 9.45l-7.72 7.72c-.78.78-.78 2.05 0 2.83L4 21.41c.39.39.9.59 1.41.59.51 0 1.02-.2 1.41-.59l7.78-7.78 2.81-2.81c.8-.78.8-2.07 0-2.86zM5.41 20L4 18.59l7.72-7.72 1.47 1.35L5.41 20z\"/>\n",
              "  </svg>\n",
              "      </button>\n",
              "      \n",
              "  <style>\n",
              "    .colab-df-container {\n",
              "      display:flex;\n",
              "      flex-wrap:wrap;\n",
              "      gap: 12px;\n",
              "    }\n",
              "\n",
              "    .colab-df-convert {\n",
              "      background-color: #E8F0FE;\n",
              "      border: none;\n",
              "      border-radius: 50%;\n",
              "      cursor: pointer;\n",
              "      display: none;\n",
              "      fill: #1967D2;\n",
              "      height: 32px;\n",
              "      padding: 0 0 0 0;\n",
              "      width: 32px;\n",
              "    }\n",
              "\n",
              "    .colab-df-convert:hover {\n",
              "      background-color: #E2EBFA;\n",
              "      box-shadow: 0px 1px 2px rgba(60, 64, 67, 0.3), 0px 1px 3px 1px rgba(60, 64, 67, 0.15);\n",
              "      fill: #174EA6;\n",
              "    }\n",
              "\n",
              "    [theme=dark] .colab-df-convert {\n",
              "      background-color: #3B4455;\n",
              "      fill: #D2E3FC;\n",
              "    }\n",
              "\n",
              "    [theme=dark] .colab-df-convert:hover {\n",
              "      background-color: #434B5C;\n",
              "      box-shadow: 0px 1px 3px 1px rgba(0, 0, 0, 0.15);\n",
              "      filter: drop-shadow(0px 1px 2px rgba(0, 0, 0, 0.3));\n",
              "      fill: #FFFFFF;\n",
              "    }\n",
              "  </style>\n",
              "\n",
              "      <script>\n",
              "        const buttonEl =\n",
              "          document.querySelector('#df-852dfec1-3d2c-4fd8-a7be-42685b083322 button.colab-df-convert');\n",
              "        buttonEl.style.display =\n",
              "          google.colab.kernel.accessAllowed ? 'block' : 'none';\n",
              "\n",
              "        async function convertToInteractive(key) {\n",
              "          const element = document.querySelector('#df-852dfec1-3d2c-4fd8-a7be-42685b083322');\n",
              "          const dataTable =\n",
              "            await google.colab.kernel.invokeFunction('convertToInteractive',\n",
              "                                                     [key], {});\n",
              "          if (!dataTable) return;\n",
              "\n",
              "          const docLinkHtml = 'Like what you see? Visit the ' +\n",
              "            '<a target=\"_blank\" href=https://colab.research.google.com/notebooks/data_table.ipynb>data table notebook</a>'\n",
              "            + ' to learn more about interactive tables.';\n",
              "          element.innerHTML = '';\n",
              "          dataTable['output_type'] = 'display_data';\n",
              "          await google.colab.output.renderOutput(dataTable, element);\n",
              "          const docLink = document.createElement('div');\n",
              "          docLink.innerHTML = docLinkHtml;\n",
              "          element.appendChild(docLink);\n",
              "        }\n",
              "      </script>\n",
              "    </div>\n",
              "  </div>\n",
              "  "
            ]
          },
          "metadata": {},
          "execution_count": 16
        }
      ]
    },
    {
      "cell_type": "code",
      "source": [
        "# Empezamos creando un dataframe nuevo para crear un diccionario\n",
        "#\n",
        "use_cols = ['Regionname', 'CouncilArea', 'Address']\n",
        "council = pd.read_csv('/content/sample_data/melb_data.csv',usecols=use_cols)\n",
        "\n",
        "council['CouncilArea'].isnull().sum(), council['CouncilArea'].unique().size"
      ],
      "metadata": {
        "colab": {
          "base_uri": "https://localhost:8080/"
        },
        "id": "T_otqxk6Ox-Q",
        "outputId": "6abdd563-3935-45e3-d81c-ecdacaa18cfa"
      },
      "execution_count": 17,
      "outputs": [
        {
          "output_type": "execute_result",
          "data": {
            "text/plain": [
              "(1369, 34)"
            ]
          },
          "metadata": {},
          "execution_count": 17
        }
      ]
    },
    {
      "cell_type": "code",
      "source": [
        "# Agrupamos los datos por la columna 'RegionName' y seccionamos los CouncilArea\n",
        "# mas frecuentes por recgión\n",
        "#\n",
        "df_council = council.groupby(['Regionname','CouncilArea'])['Address'].count()\n",
        "df_council_01 = df_council.reset_index()\n",
        "df_council_02 = df_council_01.sort_values(['Regionname','Address'],ascending=False)\n",
        "\n",
        "df_council_03 = df_council_02.drop_duplicates(subset = \"CouncilArea\")\n",
        "df_council_03 = df_council_03.sort_values(['Address'],ascending=False)\n",
        "df_council_03['CouncilArea'].unique().size"
      ],
      "metadata": {
        "colab": {
          "base_uri": "https://localhost:8080/"
        },
        "id": "r5sOZDd6Pz-w",
        "outputId": "94cb3828-c009-44f6-b926-69a136024f1d"
      },
      "execution_count": 18,
      "outputs": [
        {
          "output_type": "execute_result",
          "data": {
            "text/plain": [
              "33"
            ]
          },
          "metadata": {},
          "execution_count": 18
        }
      ]
    },
    {
      "cell_type": "code",
      "source": [
        "# Creamos el diccionario\n",
        "df_council_03.drop(['Address'],axis=1, inplace= True)\n",
        "\n",
        "dict_council = dict(zip(df_council_03.Regionname, df_council_03.CouncilArea))\n",
        "dict_council"
      ],
      "metadata": {
        "colab": {
          "base_uri": "https://localhost:8080/"
        },
        "id": "jZeaFoFuKltu",
        "outputId": "1c1db26f-e064-4f5a-c06e-25544eba2483"
      },
      "execution_count": 19,
      "outputs": [
        {
          "output_type": "execute_result",
          "data": {
            "text/plain": [
              "{'Southern Metropolitan': 'Unavailable',\n",
              " 'Western Metropolitan': 'Moreland',\n",
              " 'Northern Metropolitan': 'Banyule',\n",
              " 'Eastern Metropolitan': 'Maroondah',\n",
              " 'South-Eastern Metropolitan': 'Knox',\n",
              " 'Western Victoria': 'Moorabool',\n",
              " 'Eastern Victoria': 'Manningham',\n",
              " 'Northern Victoria': 'Yarra Ranges'}"
            ]
          },
          "metadata": {},
          "execution_count": 19
        }
      ]
    },
    {
      "cell_type": "code",
      "source": [
        "# Con el diccionario creado mapeamos y llenamos los valores nulos.\n",
        "melb_data_co = melb_data_yb.copy()\n",
        "melb_data_co.CouncilArea = melb_data_co.CouncilArea.fillna(melb_data_co.Regionname.map(dict_council))\n",
        "melb_data_co['CouncilArea'].isnull().sum()"
      ],
      "metadata": {
        "colab": {
          "base_uri": "https://localhost:8080/"
        },
        "id": "a2ydLCl0Kycv",
        "outputId": "7f977712-a683-4828-b733-466e1f8e3ae0"
      },
      "execution_count": 20,
      "outputs": [
        {
          "output_type": "execute_result",
          "data": {
            "text/plain": [
              "0"
            ]
          },
          "metadata": {},
          "execution_count": 20
        }
      ]
    },
    {
      "cell_type": "code",
      "source": [
        "# Mostramos la diferencia entre la data original con la data imputada para\n",
        "# CouncilArea\n",
        "# Data original:\n",
        "#\n",
        "melb_data_yb['CouncilArea'].value_counts().sort_values(ascending=False).plot.bar()\n",
        "plt.xlabel('CouncilArea')\n",
        "plt.ylabel('Number of houses')"
      ],
      "metadata": {
        "colab": {
          "base_uri": "https://localhost:8080/",
          "height": 387
        },
        "id": "KLYEYFssK0cO",
        "outputId": "10943f0d-8435-4db2-bc86-8ab07f7c1a54"
      },
      "execution_count": 21,
      "outputs": [
        {
          "output_type": "execute_result",
          "data": {
            "text/plain": [
              "Text(0, 0.5, 'Number of houses')"
            ]
          },
          "metadata": {},
          "execution_count": 21
        },
        {
          "output_type": "display_data",
          "data": {
            "text/plain": [
              "<Figure size 432x288 with 1 Axes>"
            ],
            "image/png": "[encoded data removed]"
          },
          "metadata": {
            "needs_background": "light"
          }
        }
      ]
    },
    {
      "cell_type": "code",
      "source": [
        "# Data imputada:\n",
        "#\n",
        "melb_data_co['CouncilArea'].value_counts().sort_values(ascending=False).plot.bar()\n",
        "plt.xlabel('CouncilArea')\n",
        "plt.ylabel('Number of houses')"
      ],
      "metadata": {
        "colab": {
          "base_uri": "https://localhost:8080/",
          "height": 386
        },
        "id": "WLSNDKzURcIB",
        "outputId": "34aa15ac-65e9-4687-c4fb-48da22fe6b92"
      },
      "execution_count": 22,
      "outputs": [
        {
          "output_type": "execute_result",
          "data": {
            "text/plain": [
              "Text(0, 0.5, 'Number of houses')"
            ]
          },
          "metadata": {},
          "execution_count": 22
        },
        {
          "output_type": "display_data",
          "data": {
            "text/plain": [
              "<Figure size 432x288 with 1 Axes>"
            ],
            "image/png": "[encoded data removed]"
          },
          "metadata": {
            "needs_background": "light"
          }
        }
      ]
    },
    {
      "cell_type": "code",
      "source": [
        "# Se muestra las columnas sin nulos\n",
        "melb_data_co.isnull().sum()"
      ],
      "metadata": {
        "colab": {
          "base_uri": "https://localhost:8080/"
        },
        "id": "h8C2Vl0ZeB22",
        "outputId": "16daf394-dece-4558-afbd-55dbed3a1ad4"
      },
      "execution_count": 23,
      "outputs": [
        {
          "output_type": "execute_result",
          "data": {
            "text/plain": [
              "Suburb           0\n",
              "Address          0\n",
              "Rooms            0\n",
              "Type             0\n",
              "Price            0\n",
              "Method           0\n",
              "SellerG          0\n",
              "Date             0\n",
              "Distance         0\n",
              "Postcode         0\n",
              "Bedroom2         0\n",
              "Bathroom         0\n",
              "Car              0\n",
              "Landsize         0\n",
              "BuildingArea     0\n",
              "YearBuilt        0\n",
              "CouncilArea      0\n",
              "Lattitude        0\n",
              "Longtitude       0\n",
              "Regionname       0\n",
              "Propertycount    0\n",
              "dtype: int64"
            ]
          },
          "metadata": {},
          "execution_count": 23
        }
      ]
    },
    {
      "cell_type": "markdown",
      "source": [
        "# Eliminamos las columnas que no aportarán al modelo"
      ],
      "metadata": {
        "id": "OsT14yWnVfrR"
      }
    },
    {
      "cell_type": "code",
      "source": [
        "# Elimanos las columnas: SellerG, Postcode, Lattitude, Longtitude\n",
        "melb_data_co.drop(['SellerG'],axis='columns', inplace= True)\n",
        "melb_data_co.drop(['Postcode'],axis='columns', inplace= True)\n",
        "melb_data_co.drop(['Lattitude'],axis='columns', inplace= True)\n",
        "melb_data_co.drop(['Longtitude'],axis='columns', inplace= True)\n",
        "melb_data_co.drop(['Address'],axis='columns', inplace= True)\n",
        "\n"
      ],
      "metadata": {
        "id": "Z93bVyWkVidT"
      },
      "execution_count": 24,
      "outputs": []
    },
    {
      "cell_type": "code",
      "source": [
        "# La variable 'Date' la convertimos a variable de tipo Fecha\n",
        "melb_data_co['Date'] = pd.to_datetime(melb_data_co['Date'], infer_datetime_format=True)\n",
        "\n",
        "# Eliminamos Date y convertimos en un sola columna Year\n",
        "melb_data_co['year'] = melb_data_co['Date'].dt.year\n",
        "melb_data_co.drop(['Date'],axis=1, inplace= True)\n",
        "melb_data_co.head()"
      ],
      "metadata": {
        "id": "CYTUqUFVZTZm",
        "colab": {
          "base_uri": "https://localhost:8080/",
          "height": 357
        },
        "outputId": "c7fe7b71-7ee6-4772-81c5-c1f881384b4f"
      },
      "execution_count": 25,
      "outputs": [
        {
          "output_type": "execute_result",
          "data": {
            "text/plain": [
              "       Suburb  Rooms Type      Price Method  Distance  Bedroom2  Bathroom  \\\n",
              "0  Abbotsford      2    h  1480000.0      S       2.5       2.0       1.0   \n",
              "1  Abbotsford      2    h  1035000.0      S       2.5       2.0       1.0   \n",
              "2  Abbotsford      3    h  1465000.0     SP       2.5       3.0       2.0   \n",
              "3  Abbotsford      3    h   850000.0     PI       2.5       3.0       2.0   \n",
              "4  Abbotsford      4    h  1600000.0     VB       2.5       3.0       1.0   \n",
              "\n",
              "   Car  Landsize  BuildingArea  YearBuilt CouncilArea             Regionname  \\\n",
              "0  1.0     202.0           0.0     1970.0       Yarra  Northern Metropolitan   \n",
              "1  0.0     156.0          79.0     1900.0       Yarra  Northern Metropolitan   \n",
              "2  0.0     134.0         150.0     1900.0       Yarra  Northern Metropolitan   \n",
              "3  1.0      94.0           0.0     1970.0       Yarra  Northern Metropolitan   \n",
              "4  2.0     120.0         142.0     2014.0       Yarra  Northern Metropolitan   \n",
              "\n",
              "   Propertycount  year  \n",
              "0         4019.0  2016  \n",
              "1         4019.0  2016  \n",
              "2         4019.0  2017  \n",
              "3         4019.0  2017  \n",
              "4         4019.0  2016  "
            ],
            "text/html": [
              "\n",
              "  <div id=\"df-8dcafd00-08ae-4ec8-b013-f1a04a9f041e\">\n",
              "    <div class=\"colab-df-container\">\n",
              "      <div>\n",
              "<style scoped>\n",
              "    .dataframe tbody tr th:only-of-type {\n",
              "        vertical-align: middle;\n",
              "    }\n",
              "\n",
              "    .dataframe tbody tr th {\n",
              "        vertical-align: top;\n",
              "    }\n",
              "\n",
              "    .dataframe thead th {\n",
              "        text-align: right;\n",
              "    }\n",
              "</style>\n",
              "<table border=\"1\" class=\"dataframe\">\n",
              "  <thead>\n",
              "    <tr style=\"text-align: right;\">\n",
              "      <th></th>\n",
              "      <th>Suburb</th>\n",
              "      <th>Rooms</th>\n",
              "      <th>Type</th>\n",
              "      <th>Price</th>\n",
              "      <th>Method</th>\n",
              "      <th>Distance</th>\n",
              "      <th>Bedroom2</th>\n",
              "      <th>Bathroom</th>\n",
              "      <th>Car</th>\n",
              "      <th>Landsize</th>\n",
              "      <th>BuildingArea</th>\n",
              "      <th>YearBuilt</th>\n",
              "      <th>CouncilArea</th>\n",
              "      <th>Regionname</th>\n",
              "      <th>Propertycount</th>\n",
              "      <th>year</th>\n",
              "    </tr>\n",
              "  </thead>\n",
              "  <tbody>\n",
              "    <tr>\n",
              "      <th>0</th>\n",
              "      <td>Abbotsford</td>\n",
              "      <td>2</td>\n",
              "      <td>h</td>\n",
              "      <td>1480000.0</td>\n",
              "      <td>S</td>\n",
              "      <td>2.5</td>\n",
              "      <td>2.0</td>\n",
              "      <td>1.0</td>\n",
              "      <td>1.0</td>\n",
              "      <td>202.0</td>\n",
              "      <td>0.0</td>\n",
              "      <td>1970.0</td>\n",
              "      <td>Yarra</td>\n",
              "      <td>Northern Metropolitan</td>\n",
              "      <td>4019.0</td>\n",
              "      <td>2016</td>\n",
              "    </tr>\n",
              "    <tr>\n",
              "      <th>1</th>\n",
              "      <td>Abbotsford</td>\n",
              "      <td>2</td>\n",
              "      <td>h</td>\n",
              "      <td>1035000.0</td>\n",
              "      <td>S</td>\n",
              "      <td>2.5</td>\n",
              "      <td>2.0</td>\n",
              "      <td>1.0</td>\n",
              "      <td>0.0</td>\n",
              "      <td>156.0</td>\n",
              "      <td>79.0</td>\n",
              "      <td>1900.0</td>\n",
              "      <td>Yarra</td>\n",
              "      <td>Northern Metropolitan</td>\n",
              "      <td>4019.0</td>\n",
              "      <td>2016</td>\n",
              "    </tr>\n",
              "    <tr>\n",
              "      <th>2</th>\n",
              "      <td>Abbotsford</td>\n",
              "      <td>3</td>\n",
              "      <td>h</td>\n",
              "      <td>1465000.0</td>\n",
              "      <td>SP</td>\n",
              "      <td>2.5</td>\n",
              "      <td>3.0</td>\n",
              "      <td>2.0</td>\n",
              "      <td>0.0</td>\n",
              "      <td>134.0</td>\n",
              "      <td>150.0</td>\n",
              "      <td>1900.0</td>\n",
              "      <td>Yarra</td>\n",
              "      <td>Northern Metropolitan</td>\n",
              "      <td>4019.0</td>\n",
              "      <td>2017</td>\n",
              "    </tr>\n",
              "    <tr>\n",
              "      <th>3</th>\n",
              "      <td>Abbotsford</td>\n",
              "      <td>3</td>\n",
              "      <td>h</td>\n",
              "      <td>850000.0</td>\n",
              "      <td>PI</td>\n",
              "      <td>2.5</td>\n",
              "      <td>3.0</td>\n",
              "      <td>2.0</td>\n",
              "      <td>1.0</td>\n",
              "      <td>94.0</td>\n",
              "      <td>0.0</td>\n",
              "      <td>1970.0</td>\n",
              "      <td>Yarra</td>\n",
              "      <td>Northern Metropolitan</td>\n",
              "      <td>4019.0</td>\n",
              "      <td>2017</td>\n",
              "    </tr>\n",
              "    <tr>\n",
              "      <th>4</th>\n",
              "      <td>Abbotsford</td>\n",
              "      <td>4</td>\n",
              "      <td>h</td>\n",
              "      <td>1600000.0</td>\n",
              "      <td>VB</td>\n",
              "      <td>2.5</td>\n",
              "      <td>3.0</td>\n",
              "      <td>1.0</td>\n",
              "      <td>2.0</td>\n",
              "      <td>120.0</td>\n",
              "      <td>142.0</td>\n",
              "      <td>2014.0</td>\n",
              "      <td>Yarra</td>\n",
              "      <td>Northern Metropolitan</td>\n",
              "      <td>4019.0</td>\n",
              "      <td>2016</td>\n",
              "    </tr>\n",
              "  </tbody>\n",
              "</table>\n",
              "</div>\n",
              "      <button class=\"colab-df-convert\" onclick=\"convertToInteractive('df-8dcafd00-08ae-4ec8-b013-f1a04a9f041e')\"\n",
              "              title=\"Convert this dataframe to an interactive table.\"\n",
              "              style=\"display:none;\">\n",
              "        \n",
              "  <svg xmlns=\"http://www.w3.org/2000/svg\" height=\"24px\"viewBox=\"0 0 24 24\"\n",
              "       width=\"24px\">\n",
              "    <path d=\"M0 0h24v24H0V0z\" fill=\"none\"/>\n",
              "    <path d=\"M18.56 5.44l.94 2.06.94-2.06 2.06-.94-2.06-.94-.94-2.06-.94 2.06-2.06.94zm-11 1L8.5 8.5l.94-2.06 2.06-.94-2.06-.94L8.5 2.5l-.94 2.06-2.06.94zm10 10l.94 2.06.94-2.06 2.06-.94-2.06-.94-.94-2.06-.94 2.06-2.06.94z\"/><path d=\"M17.41 7.96l-1.37-1.37c-.4-.4-.92-.59-1.43-.59-.52 0-1.04.2-1.43.59L10.3 9.45l-7.72 7.72c-.78.78-.78 2.05 0 2.83L4 21.41c.39.39.9.59 1.41.59.51 0 1.02-.2 1.41-.59l7.78-7.78 2.81-2.81c.8-.78.8-2.07 0-2.86zM5.41 20L4 18.59l7.72-7.72 1.47 1.35L5.41 20z\"/>\n",
              "  </svg>\n",
              "      </button>\n",
              "      \n",
              "  <style>\n",
              "    .colab-df-container {\n",
              "      display:flex;\n",
              "      flex-wrap:wrap;\n",
              "      gap: 12px;\n",
              "    }\n",
              "\n",
              "    .colab-df-convert {\n",
              "      background-color: #E8F0FE;\n",
              "      border: none;\n",
              "      border-radius: 50%;\n",
              "      cursor: pointer;\n",
              "      display: none;\n",
              "      fill: #1967D2;\n",
              "      height: 32px;\n",
              "      padding: 0 0 0 0;\n",
              "      width: 32px;\n",
              "    }\n",
              "\n",
              "    .colab-df-convert:hover {\n",
              "      background-color: #E2EBFA;\n",
              "      box-shadow: 0px 1px 2px rgba(60, 64, 67, 0.3), 0px 1px 3px 1px rgba(60, 64, 67, 0.15);\n",
              "      fill: #174EA6;\n",
              "    }\n",
              "\n",
              "    [theme=dark] .colab-df-convert {\n",
              "      background-color: #3B4455;\n",
              "      fill: #D2E3FC;\n",
              "    }\n",
              "\n",
              "    [theme=dark] .colab-df-convert:hover {\n",
              "      background-color: #434B5C;\n",
              "      box-shadow: 0px 1px 3px 1px rgba(0, 0, 0, 0.15);\n",
              "      filter: drop-shadow(0px 1px 2px rgba(0, 0, 0, 0.3));\n",
              "      fill: #FFFFFF;\n",
              "    }\n",
              "  </style>\n",
              "\n",
              "      <script>\n",
              "        const buttonEl =\n",
              "          document.querySelector('#df-8dcafd00-08ae-4ec8-b013-f1a04a9f041e button.colab-df-convert');\n",
              "        buttonEl.style.display =\n",
              "          google.colab.kernel.accessAllowed ? 'block' : 'none';\n",
              "\n",
              "        async function convertToInteractive(key) {\n",
              "          const element = document.querySelector('#df-8dcafd00-08ae-4ec8-b013-f1a04a9f041e');\n",
              "          const dataTable =\n",
              "            await google.colab.kernel.invokeFunction('convertToInteractive',\n",
              "                                                     [key], {});\n",
              "          if (!dataTable) return;\n",
              "\n",
              "          const docLinkHtml = 'Like what you see? Visit the ' +\n",
              "            '<a target=\"_blank\" href=https://colab.research.google.com/notebooks/data_table.ipynb>data table notebook</a>'\n",
              "            + ' to learn more about interactive tables.';\n",
              "          element.innerHTML = '';\n",
              "          dataTable['output_type'] = 'display_data';\n",
              "          await google.colab.output.renderOutput(dataTable, element);\n",
              "          const docLink = document.createElement('div');\n",
              "          docLink.innerHTML = docLinkHtml;\n",
              "          element.appendChild(docLink);\n",
              "        }\n",
              "      </script>\n",
              "    </div>\n",
              "  </div>\n",
              "  "
            ]
          },
          "metadata": {},
          "execution_count": 25
        }
      ]
    },
    {
      "cell_type": "code",
      "source": [
        "melb_data_co.info()"
      ],
      "metadata": {
        "colab": {
          "base_uri": "https://localhost:8080/"
        },
        "id": "84XSXdCNZldz",
        "outputId": "bf2f1a44-721d-45e8-b0d5-80737ab56ad1"
      },
      "execution_count": 26,
      "outputs": [
        {
          "output_type": "stream",
          "name": "stdout",
          "text": [
            "<class 'pandas.core.frame.DataFrame'>\n",
            "RangeIndex: 13580 entries, 0 to 13579\n",
            "Data columns (total 16 columns):\n",
            " #   Column         Non-Null Count  Dtype  \n",
            "---  ------         --------------  -----  \n",
            " 0   Suburb         13580 non-null  object \n",
            " 1   Rooms          13580 non-null  int64  \n",
            " 2   Type           13580 non-null  object \n",
            " 3   Price          13580 non-null  float64\n",
            " 4   Method         13580 non-null  object \n",
            " 5   Distance       13580 non-null  float64\n",
            " 6   Bedroom2       13580 non-null  float64\n",
            " 7   Bathroom       13580 non-null  float64\n",
            " 8   Car            13580 non-null  float64\n",
            " 9   Landsize       13580 non-null  float64\n",
            " 10  BuildingArea   13580 non-null  float64\n",
            " 11  YearBuilt      13580 non-null  float64\n",
            " 12  CouncilArea    13580 non-null  object \n",
            " 13  Regionname     13580 non-null  object \n",
            " 14  Propertycount  13580 non-null  float64\n",
            " 15  year           13580 non-null  int64  \n",
            "dtypes: float64(9), int64(2), object(5)\n",
            "memory usage: 1.7+ MB\n"
          ]
        }
      ]
    },
    {
      "cell_type": "code",
      "source": [
        "plt.figure(figsize=(14,7))\n",
        "MatrizInf = np.triu(melb_data_co.corr())\n",
        "sns.heatmap(melb_data_co.corr(), cmap='RdBu_r', annot=True, mask=MatrizInf)\n",
        "plt.show()"
      ],
      "metadata": {
        "colab": {
          "base_uri": "https://localhost:8080/",
          "height": 489
        },
        "id": "FJ5J15CzgLIu",
        "outputId": "ef6fd6f3-e787-4a94-ddb9-6a0b288dccce"
      },
      "execution_count": 27,
      "outputs": [
        {
          "output_type": "display_data",
          "data": {
            "text/plain": [
              "<Figure size 1008x504 with 2 Axes>"
            ],
            "image/png": "[encoded data removed]"
          },
          "metadata": {
            "needs_background": "light"
          }
        }
      ]
    },
    {
      "cell_type": "markdown",
      "source": [
        "# Transformación de datos categóricos"
      ],
      "metadata": {
        "id": "hh4UEW2HSoWx"
      }
    },
    {
      "cell_type": "markdown",
      "source": [
        "## *ONE HOT ENCODING para las columnas 'Regionname', 'Type', 'Method' y 'CouncilArea'*"
      ],
      "metadata": {
        "id": "3aBxQfEXiOht"
      }
    },
    {
      "cell_type": "code",
      "source": [
        "# Tambien con sklearn\n",
        "# ONE HOT ENCODIGN to Regionname\n",
        "#\n",
        "from sklearn.preprocessing import OneHotEncoder\n",
        "oe_style = OneHotEncoder(handle_unknown='ignore',sparse=False)\n",
        "\n",
        "oe_results_reg = oe_style.fit_transform(melb_data_co[['Regionname']])\n",
        "oe_style.get_feature_names_out()\n",
        "oe_reg = pd.DataFrame(oe_results_reg, columns=oe_style.categories_[0])"
      ],
      "metadata": {
        "id": "7o2uUWb0CGnN"
      },
      "execution_count": 28,
      "outputs": []
    },
    {
      "cell_type": "code",
      "source": [
        "# ONE HOT ENCODIGN to Type\n",
        "#\n",
        "oe_results_type = oe_style.fit_transform(melb_data_co[['Type']])\n",
        "oe_style.get_feature_names_out()\n",
        "oe_type = pd.DataFrame(oe_results_type, columns=oe_style.categories_[0])"
      ],
      "metadata": {
        "id": "S9M3-xjFyTlS"
      },
      "execution_count": 29,
      "outputs": []
    },
    {
      "cell_type": "code",
      "source": [
        "# ONE HOT ENCODIGN to Method\n",
        "#\n",
        "oe_results_method = oe_style.fit_transform(melb_data_co[['Method']])\n",
        "oe_style.get_feature_names_out()\n",
        "oe_method = pd.DataFrame(oe_results_method, columns=oe_style.categories_[0])"
      ],
      "metadata": {
        "id": "zJDhmCqCyYd2"
      },
      "execution_count": 30,
      "outputs": []
    },
    {
      "cell_type": "code",
      "source": [
        "# ONE HOT ENCODIGN to CouncilArea\n",
        "#\n",
        "oe_results_coun = oe_style.fit_transform(melb_data_co[['CouncilArea']])\n",
        "oe_style.get_feature_names_out()\n",
        "oe_coun = pd.DataFrame(oe_results_coun, columns=oe_style.categories_[0])"
      ],
      "metadata": {
        "id": "TSKOdiCtyd2u"
      },
      "execution_count": 31,
      "outputs": []
    },
    {
      "cell_type": "code",
      "source": [
        "oe_melb_data = pd.concat([melb_data_co,oe_reg,oe_type,oe_method,oe_coun], axis = 1)\n",
        "oe_melb_data.drop(['Regionname'],axis=1, inplace= True)\n",
        "oe_melb_data.drop(['Type'],axis=1, inplace= True)\n",
        "oe_melb_data.drop(['Method'],axis=1, inplace= True)\n",
        "oe_melb_data.drop(['CouncilArea'],axis=1, inplace= True)\n",
        "oe_melb_data.columns"
      ],
      "metadata": {
        "colab": {
          "base_uri": "https://localhost:8080/"
        },
        "id": "RVtJHl0BTIPm",
        "outputId": "ea8d312b-5dee-4856-b380-1bdb2a637b16"
      },
      "execution_count": 32,
      "outputs": [
        {
          "output_type": "execute_result",
          "data": {
            "text/plain": [
              "Index(['Suburb', 'Rooms', 'Price', 'Distance', 'Bedroom2', 'Bathroom', 'Car',\n",
              "       'Landsize', 'BuildingArea', 'YearBuilt', 'Propertycount', 'year',\n",
              "       'Eastern Metropolitan', 'Eastern Victoria', 'Northern Metropolitan',\n",
              "       'Northern Victoria', 'South-Eastern Metropolitan',\n",
              "       'Southern Metropolitan', 'Western Metropolitan', 'Western Victoria',\n",
              "       'h', 't', 'u', 'PI', 'S', 'SA', 'SP', 'VB', 'Banyule', 'Bayside',\n",
              "       'Boroondara', 'Brimbank', 'Cardinia', 'Casey', 'Darebin', 'Frankston',\n",
              "       'Glen Eira', 'Greater Dandenong', 'Hobsons Bay', 'Hume', 'Kingston',\n",
              "       'Knox', 'Macedon Ranges', 'Manningham', 'Maribyrnong', 'Maroondah',\n",
              "       'Melbourne', 'Melton', 'Monash', 'Moonee Valley', 'Moorabool',\n",
              "       'Moreland', 'Nillumbik', 'Port Phillip', 'Stonnington', 'Unavailable',\n",
              "       'Whitehorse', 'Whittlesea', 'Wyndham', 'Yarra', 'Yarra Ranges'],\n",
              "      dtype='object')"
            ]
          },
          "metadata": {},
          "execution_count": 32
        }
      ]
    },
    {
      "cell_type": "code",
      "source": [
        "oe_melb_data.head()"
      ],
      "metadata": {
        "colab": {
          "base_uri": "https://localhost:8080/",
          "height": 317
        },
        "id": "cd0ttePFTFu2",
        "outputId": "d5ce0c9d-29fe-477b-e2a9-ebdb452e7d7c"
      },
      "execution_count": 33,
      "outputs": [
        {
          "output_type": "execute_result",
          "data": {
            "text/plain": [
              "       Suburb  Rooms      Price  Distance  Bedroom2  Bathroom  Car  Landsize  \\\n",
              "0  Abbotsford      2  1480000.0       2.5       2.0       1.0  1.0     202.0   \n",
              "1  Abbotsford      2  1035000.0       2.5       2.0       1.0  0.0     156.0   \n",
              "2  Abbotsford      3  1465000.0       2.5       3.0       2.0  0.0     134.0   \n",
              "3  Abbotsford      3   850000.0       2.5       3.0       2.0  1.0      94.0   \n",
              "4  Abbotsford      4  1600000.0       2.5       3.0       1.0  2.0     120.0   \n",
              "\n",
              "   BuildingArea  YearBuilt  ...  Moreland  Nillumbik  Port Phillip  \\\n",
              "0           0.0     1970.0  ...       0.0        0.0           0.0   \n",
              "1          79.0     1900.0  ...       0.0        0.0           0.0   \n",
              "2         150.0     1900.0  ...       0.0        0.0           0.0   \n",
              "3           0.0     1970.0  ...       0.0        0.0           0.0   \n",
              "4         142.0     2014.0  ...       0.0        0.0           0.0   \n",
              "\n",
              "   Stonnington  Unavailable  Whitehorse  Whittlesea  Wyndham  Yarra  \\\n",
              "0          0.0          0.0         0.0         0.0      0.0    1.0   \n",
              "1          0.0          0.0         0.0         0.0      0.0    1.0   \n",
              "2          0.0          0.0         0.0         0.0      0.0    1.0   \n",
              "3          0.0          0.0         0.0         0.0      0.0    1.0   \n",
              "4          0.0          0.0         0.0         0.0      0.0    1.0   \n",
              "\n",
              "   Yarra Ranges  \n",
              "0           0.0  \n",
              "1           0.0  \n",
              "2           0.0  \n",
              "3           0.0  \n",
              "4           0.0  \n",
              "\n",
              "[5 rows x 61 columns]"
            ],
            "text/html": [
              "\n",
              "  <div id=\"df-2adfe78f-9b94-40e0-8213-bd8df85f1148\">\n",
              "    <div class=\"colab-df-container\">\n",
              "      <div>\n",
              "<style scoped>\n",
              "    .dataframe tbody tr th:only-of-type {\n",
              "        vertical-align: middle;\n",
              "    }\n",
              "\n",
              "    .dataframe tbody tr th {\n",
              "        vertical-align: top;\n",
              "    }\n",
              "\n",
              "    .dataframe thead th {\n",
              "        text-align: right;\n",
              "    }\n",
              "</style>\n",
              "<table border=\"1\" class=\"dataframe\">\n",
              "  <thead>\n",
              "    <tr style=\"text-align: right;\">\n",
              "      <th></th>\n",
              "      <th>Suburb</th>\n",
              "      <th>Rooms</th>\n",
              "      <th>Price</th>\n",
              "      <th>Distance</th>\n",
              "      <th>Bedroom2</th>\n",
              "      <th>Bathroom</th>\n",
              "      <th>Car</th>\n",
              "      <th>Landsize</th>\n",
              "      <th>BuildingArea</th>\n",
              "      <th>YearBuilt</th>\n",
              "      <th>...</th>\n",
              "      <th>Moreland</th>\n",
              "      <th>Nillumbik</th>\n",
              "      <th>Port Phillip</th>\n",
              "      <th>Stonnington</th>\n",
              "      <th>Unavailable</th>\n",
              "      <th>Whitehorse</th>\n",
              "      <th>Whittlesea</th>\n",
              "      <th>Wyndham</th>\n",
              "      <th>Yarra</th>\n",
              "      <th>Yarra Ranges</th>\n",
              "    </tr>\n",
              "  </thead>\n",
              "  <tbody>\n",
              "    <tr>\n",
              "      <th>0</th>\n",
              "      <td>Abbotsford</td>\n",
              "      <td>2</td>\n",
              "      <td>1480000.0</td>\n",
              "      <td>2.5</td>\n",
              "      <td>2.0</td>\n",
              "      <td>1.0</td>\n",
              "      <td>1.0</td>\n",
              "      <td>202.0</td>\n",
              "      <td>0.0</td>\n",
              "      <td>1970.0</td>\n",
              "      <td>...</td>\n",
              "      <td>0.0</td>\n",
              "      <td>0.0</td>\n",
              "      <td>0.0</td>\n",
              "      <td>0.0</td>\n",
              "      <td>0.0</td>\n",
              "      <td>0.0</td>\n",
              "      <td>0.0</td>\n",
              "      <td>0.0</td>\n",
              "      <td>1.0</td>\n",
              "      <td>0.0</td>\n",
              "    </tr>\n",
              "    <tr>\n",
              "      <th>1</th>\n",
              "      <td>Abbotsford</td>\n",
              "      <td>2</td>\n",
              "      <td>1035000.0</td>\n",
              "      <td>2.5</td>\n",
              "      <td>2.0</td>\n",
              "      <td>1.0</td>\n",
              "      <td>0.0</td>\n",
              "      <td>156.0</td>\n",
              "      <td>79.0</td>\n",
              "      <td>1900.0</td>\n",
              "      <td>...</td>\n",
              "      <td>0.0</td>\n",
              "      <td>0.0</td>\n",
              "      <td>0.0</td>\n",
              "      <td>0.0</td>\n",
              "      <td>0.0</td>\n",
              "      <td>0.0</td>\n",
              "      <td>0.0</td>\n",
              "      <td>0.0</td>\n",
              "      <td>1.0</td>\n",
              "      <td>0.0</td>\n",
              "    </tr>\n",
              "    <tr>\n",
              "      <th>2</th>\n",
              "      <td>Abbotsford</td>\n",
              "      <td>3</td>\n",
              "      <td>1465000.0</td>\n",
              "      <td>2.5</td>\n",
              "      <td>3.0</td>\n",
              "      <td>2.0</td>\n",
              "      <td>0.0</td>\n",
              "      <td>134.0</td>\n",
              "      <td>150.0</td>\n",
              "      <td>1900.0</td>\n",
              "      <td>...</td>\n",
              "      <td>0.0</td>\n",
              "      <td>0.0</td>\n",
              "      <td>0.0</td>\n",
              "      <td>0.0</td>\n",
              "      <td>0.0</td>\n",
              "      <td>0.0</td>\n",
              "      <td>0.0</td>\n",
              "      <td>0.0</td>\n",
              "      <td>1.0</td>\n",
              "      <td>0.0</td>\n",
              "    </tr>\n",
              "    <tr>\n",
              "      <th>3</th>\n",
              "      <td>Abbotsford</td>\n",
              "      <td>3</td>\n",
              "      <td>850000.0</td>\n",
              "      <td>2.5</td>\n",
              "      <td>3.0</td>\n",
              "      <td>2.0</td>\n",
              "      <td>1.0</td>\n",
              "      <td>94.0</td>\n",
              "      <td>0.0</td>\n",
              "      <td>1970.0</td>\n",
              "      <td>...</td>\n",
              "      <td>0.0</td>\n",
              "      <td>0.0</td>\n",
              "      <td>0.0</td>\n",
              "      <td>0.0</td>\n",
              "      <td>0.0</td>\n",
              "      <td>0.0</td>\n",
              "      <td>0.0</td>\n",
              "      <td>0.0</td>\n",
              "      <td>1.0</td>\n",
              "      <td>0.0</td>\n",
              "    </tr>\n",
              "    <tr>\n",
              "      <th>4</th>\n",
              "      <td>Abbotsford</td>\n",
              "      <td>4</td>\n",
              "      <td>1600000.0</td>\n",
              "      <td>2.5</td>\n",
              "      <td>3.0</td>\n",
              "      <td>1.0</td>\n",
              "      <td>2.0</td>\n",
              "      <td>120.0</td>\n",
              "      <td>142.0</td>\n",
              "      <td>2014.0</td>\n",
              "      <td>...</td>\n",
              "      <td>0.0</td>\n",
              "      <td>0.0</td>\n",
              "      <td>0.0</td>\n",
              "      <td>0.0</td>\n",
              "      <td>0.0</td>\n",
              "      <td>0.0</td>\n",
              "      <td>0.0</td>\n",
              "      <td>0.0</td>\n",
              "      <td>1.0</td>\n",
              "      <td>0.0</td>\n",
              "    </tr>\n",
              "  </tbody>\n",
              "</table>\n",
              "<p>5 rows × 61 columns</p>\n",
              "</div>\n",
              "      <button class=\"colab-df-convert\" onclick=\"convertToInteractive('df-2adfe78f-9b94-40e0-8213-bd8df85f1148')\"\n",
              "              title=\"Convert this dataframe to an interactive table.\"\n",
              "              style=\"display:none;\">\n",
              "        \n",
              "  <svg xmlns=\"http://www.w3.org/2000/svg\" height=\"24px\"viewBox=\"0 0 24 24\"\n",
              "       width=\"24px\">\n",
              "    <path d=\"M0 0h24v24H0V0z\" fill=\"none\"/>\n",
              "    <path d=\"M18.56 5.44l.94 2.06.94-2.06 2.06-.94-2.06-.94-.94-2.06-.94 2.06-2.06.94zm-11 1L8.5 8.5l.94-2.06 2.06-.94-2.06-.94L8.5 2.5l-.94 2.06-2.06.94zm10 10l.94 2.06.94-2.06 2.06-.94-2.06-.94-.94-2.06-.94 2.06-2.06.94z\"/><path d=\"M17.41 7.96l-1.37-1.37c-.4-.4-.92-.59-1.43-.59-.52 0-1.04.2-1.43.59L10.3 9.45l-7.72 7.72c-.78.78-.78 2.05 0 2.83L4 21.41c.39.39.9.59 1.41.59.51 0 1.02-.2 1.41-.59l7.78-7.78 2.81-2.81c.8-.78.8-2.07 0-2.86zM5.41 20L4 18.59l7.72-7.72 1.47 1.35L5.41 20z\"/>\n",
              "  </svg>\n",
              "      </button>\n",
              "      \n",
              "  <style>\n",
              "    .colab-df-container {\n",
              "      display:flex;\n",
              "      flex-wrap:wrap;\n",
              "      gap: 12px;\n",
              "    }\n",
              "\n",
              "    .colab-df-convert {\n",
              "      background-color: #E8F0FE;\n",
              "      border: none;\n",
              "      border-radius: 50%;\n",
              "      cursor: pointer;\n",
              "      display: none;\n",
              "      fill: #1967D2;\n",
              "      height: 32px;\n",
              "      padding: 0 0 0 0;\n",
              "      width: 32px;\n",
              "    }\n",
              "\n",
              "    .colab-df-convert:hover {\n",
              "      background-color: #E2EBFA;\n",
              "      box-shadow: 0px 1px 2px rgba(60, 64, 67, 0.3), 0px 1px 3px 1px rgba(60, 64, 67, 0.15);\n",
              "      fill: #174EA6;\n",
              "    }\n",
              "\n",
              "    [theme=dark] .colab-df-convert {\n",
              "      background-color: #3B4455;\n",
              "      fill: #D2E3FC;\n",
              "    }\n",
              "\n",
              "    [theme=dark] .colab-df-convert:hover {\n",
              "      background-color: #434B5C;\n",
              "      box-shadow: 0px 1px 3px 1px rgba(0, 0, 0, 0.15);\n",
              "      filter: drop-shadow(0px 1px 2px rgba(0, 0, 0, 0.3));\n",
              "      fill: #FFFFFF;\n",
              "    }\n",
              "  </style>\n",
              "\n",
              "      <script>\n",
              "        const buttonEl =\n",
              "          document.querySelector('#df-2adfe78f-9b94-40e0-8213-bd8df85f1148 button.colab-df-convert');\n",
              "        buttonEl.style.display =\n",
              "          google.colab.kernel.accessAllowed ? 'block' : 'none';\n",
              "\n",
              "        async function convertToInteractive(key) {\n",
              "          const element = document.querySelector('#df-2adfe78f-9b94-40e0-8213-bd8df85f1148');\n",
              "          const dataTable =\n",
              "            await google.colab.kernel.invokeFunction('convertToInteractive',\n",
              "                                                     [key], {});\n",
              "          if (!dataTable) return;\n",
              "\n",
              "          const docLinkHtml = 'Like what you see? Visit the ' +\n",
              "            '<a target=\"_blank\" href=https://colab.research.google.com/notebooks/data_table.ipynb>data table notebook</a>'\n",
              "            + ' to learn more about interactive tables.';\n",
              "          element.innerHTML = '';\n",
              "          dataTable['output_type'] = 'display_data';\n",
              "          await google.colab.output.renderOutput(dataTable, element);\n",
              "          const docLink = document.createElement('div');\n",
              "          docLink.innerHTML = docLinkHtml;\n",
              "          element.appendChild(docLink);\n",
              "        }\n",
              "      </script>\n",
              "    </div>\n",
              "  </div>\n",
              "  "
            ]
          },
          "metadata": {},
          "execution_count": 33
        }
      ]
    },
    {
      "cell_type": "markdown",
      "source": [
        "## *LABEL ENCODER para la columna 'Suburb'*"
      ],
      "metadata": {
        "id": "xMG8RmQ5iS6v"
      }
    },
    {
      "cell_type": "code",
      "source": [
        "# LabelEncoder ['Suburb']\n",
        "#\n",
        "oe_melb_data.groupby(['Suburb'])['Price'].mean().sort_values()"
      ],
      "metadata": {
        "colab": {
          "base_uri": "https://localhost:8080/"
        },
        "id": "hOhObqOYcMKv",
        "outputId": "0d2da23c-25d5-411e-ab1a-b6267749ee6a"
      },
      "execution_count": 34,
      "outputs": [
        {
          "output_type": "execute_result",
          "data": {
            "text/plain": [
              "Suburb\n",
              "Bacchus Marsh    2.850000e+05\n",
              "Rockbank         3.400000e+05\n",
              "Kurunjang        3.530000e+05\n",
              "Wallan           3.660000e+05\n",
              "Melton South     3.807361e+05\n",
              "                     ...     \n",
              "Brighton         1.930158e+06\n",
              "Albert Park      1.941355e+06\n",
              "Middle Park      2.082529e+06\n",
              "Canterbury       2.180241e+06\n",
              "Kooyong          2.185000e+06\n",
              "Name: Price, Length: 314, dtype: float64"
            ]
          },
          "metadata": {},
          "execution_count": 34
        }
      ]
    },
    {
      "cell_type": "code",
      "source": [
        "ordered_labels = oe_melb_data.groupby(['Suburb'\n",
        "                                  ])['Price'].mean().sort_values().index\n",
        "\n",
        "ordered_labels"
      ],
      "metadata": {
        "colab": {
          "base_uri": "https://localhost:8080/"
        },
        "id": "QlrOTwC-ckwR",
        "outputId": "da7154cf-b844-45cb-a48b-49083f340b11"
      },
      "execution_count": 35,
      "outputs": [
        {
          "output_type": "execute_result",
          "data": {
            "text/plain": [
              "Index(['Bacchus Marsh', 'Rockbank', 'Kurunjang', 'Wallan', 'Melton South',\n",
              "       'Dallas', 'Melton', 'Melton West', 'Brookfield', 'Truganina',\n",
              "       ...\n",
              "       'Kew', 'Malvern', 'Balwyn North', 'Eaglemont', 'Balwyn', 'Brighton',\n",
              "       'Albert Park', 'Middle Park', 'Canterbury', 'Kooyong'],\n",
              "      dtype='object', name='Suburb', length=314)"
            ]
          },
          "metadata": {},
          "execution_count": 35
        }
      ]
    },
    {
      "cell_type": "code",
      "source": [
        "# a continuación, creemos un diccionario con las asignaciones de categorías a números\n",
        "\n",
        "ordinal_mapping = {k: i for i, k in enumerate(ordered_labels, 0)}\n",
        "ordinal_mapping"
      ],
      "metadata": {
        "colab": {
          "base_uri": "https://localhost:8080/"
        },
        "id": "SFDB5X3tcyjg",
        "outputId": "6ed88a2c-38df-4724-ce35-4f2ebae38635"
      },
      "execution_count": 36,
      "outputs": [
        {
          "output_type": "execute_result",
          "data": {
            "text/plain": [
              "{'Bacchus Marsh': 0,\n",
              " 'Rockbank': 1,\n",
              " 'Kurunjang': 2,\n",
              " 'Wallan': 3,\n",
              " 'Melton South': 4,\n",
              " 'Dallas': 5,\n",
              " 'Melton': 6,\n",
              " 'Melton West': 7,\n",
              " 'Brookfield': 8,\n",
              " 'Truganina': 9,\n",
              " 'Coolaroo': 10,\n",
              " 'Campbellfield': 11,\n",
              " 'Wyndham Vale': 12,\n",
              " 'Roxburgh Park': 13,\n",
              " 'Tarneit': 14,\n",
              " 'Meadow Heights': 15,\n",
              " 'Doreen': 16,\n",
              " 'Pakenham': 17,\n",
              " 'Doveton': 18,\n",
              " 'Wollert': 19,\n",
              " 'Werribee': 20,\n",
              " 'Diggers Rest': 21,\n",
              " 'Jacana': 22,\n",
              " 'Sunbury': 23,\n",
              " 'Frankston North': 24,\n",
              " 'Williams Landing': 25,\n",
              " 'Bullengarook': 26,\n",
              " 'Albanvale': 27,\n",
              " 'Kings Park': 28,\n",
              " 'Delahey': 29,\n",
              " 'Carrum Downs': 30,\n",
              " 'Hampton Park': 31,\n",
              " 'Craigieburn': 32,\n",
              " 'Officer': 33,\n",
              " 'Hoppers Crossing': 34,\n",
              " 'Mount Evelyn': 35,\n",
              " 'Epping': 36,\n",
              " 'Upwey': 37,\n",
              " 'Seabrook': 38,\n",
              " 'Kealba': 39,\n",
              " 'The Basin': 40,\n",
              " 'Cranbourne North': 41,\n",
              " 'Albion': 42,\n",
              " 'Sunshine West': 43,\n",
              " 'Burnside Heights': 44,\n",
              " 'Skye': 45,\n",
              " 'Whittlesea': 46,\n",
              " 'Mernda': 47,\n",
              " 'Beaconsfield': 48,\n",
              " 'St Albans': 49,\n",
              " 'Deer Park': 50,\n",
              " 'Taylors Hill': 51,\n",
              " 'Tullamarine': 52,\n",
              " 'Broadmeadows': 53,\n",
              " 'Dandenong': 54,\n",
              " 'Sydenham': 55,\n",
              " 'Cranbourne': 56,\n",
              " 'Melbourne': 57,\n",
              " 'Burnside': 58,\n",
              " 'Yarra Glen': 59,\n",
              " 'Westmeadows': 60,\n",
              " 'Plumpton': 61,\n",
              " 'Southbank': 62,\n",
              " 'Frankston': 63,\n",
              " 'Lalor': 64,\n",
              " 'Point Cook': 65,\n",
              " 'Attwood': 66,\n",
              " 'South Morang': 67,\n",
              " 'Caroline Springs': 68,\n",
              " 'Heidelberg West': 69,\n",
              " 'Sandhurst': 70,\n",
              " 'Dandenong North': 71,\n",
              " 'Gisborne': 72,\n",
              " 'Brooklyn': 73,\n",
              " 'Fawkner': 74,\n",
              " 'Healesville': 75,\n",
              " 'Thomastown': 76,\n",
              " 'Narre Warren': 77,\n",
              " 'Gladstone Park': 78,\n",
              " 'Langwarrin': 79,\n",
              " 'Emerald': 80,\n",
              " 'Mill Park': 81,\n",
              " 'Sunshine North': 82,\n",
              " 'Keilor Lodge': 83,\n",
              " 'Hillside': 84,\n",
              " 'Ardeer': 85,\n",
              " 'Altona Meadows': 86,\n",
              " 'Keilor Park': 87,\n",
              " 'Keilor Downs': 88,\n",
              " 'Glenroy': 89,\n",
              " 'Beaconsfield Upper': 90,\n",
              " 'Noble Park': 91,\n",
              " 'Cairnlea': 92,\n",
              " 'Braybrook': 93,\n",
              " 'Hadfield': 94,\n",
              " 'Reservoir': 95,\n",
              " 'Gowanbrae': 96,\n",
              " 'Hurstbridge': 97,\n",
              " 'Footscray': 98,\n",
              " 'Endeavour Hills': 99,\n",
              " 'Bayswater North': 100,\n",
              " 'Derrimut': 101,\n",
              " 'Maidstone': 102,\n",
              " 'Sunshine': 103,\n",
              " 'Carrum': 104,\n",
              " 'Monbulk': 105,\n",
              " 'Chelsea': 106,\n",
              " 'Kingsbury': 107,\n",
              " 'South Kingsville': 108,\n",
              " 'Taylors Lakes': 109,\n",
              " 'Seaford': 110,\n",
              " 'Briar Hill': 111,\n",
              " 'Montrose': 112,\n",
              " 'Mooroolbark': 113,\n",
              " 'Watsonia': 114,\n",
              " 'Balaclava': 115,\n",
              " 'Chelsea Heights': 116,\n",
              " 'Greenvale': 117,\n",
              " 'Heidelberg Heights': 118,\n",
              " 'Airport West': 119,\n",
              " 'Berwick': 120,\n",
              " 'Bayswater': 121,\n",
              " 'Watsonia North': 122,\n",
              " 'Springvale South': 123,\n",
              " 'Ripponlea': 124,\n",
              " 'Lower Plenty': 125,\n",
              " 'Chirnside Park': 126,\n",
              " 'Kilsyth': 127,\n",
              " 'Glen Huntly': 128,\n",
              " 'Pascoe Vale': 129,\n",
              " 'Hallam': 130,\n",
              " 'West Footscray': 131,\n",
              " 'Caulfield': 132,\n",
              " 'Croydon South': 133,\n",
              " 'Altona North': 134,\n",
              " 'Coburg North': 135,\n",
              " 'Avondale Heights': 136,\n",
              " 'Keysborough': 137,\n",
              " 'Keilor East': 138,\n",
              " 'Riddells Creek': 139,\n",
              " 'Bellfield': 140,\n",
              " 'Kingsville': 141,\n",
              " 'Greensborough': 142,\n",
              " 'Maribyrnong': 143,\n",
              " 'Kensington': 144,\n",
              " 'Keilor': 145,\n",
              " 'Ferntree Gully': 146,\n",
              " 'Altona': 147,\n",
              " 'Bundoora': 148,\n",
              " 'Oak Park': 149,\n",
              " 'Springvale': 150,\n",
              " 'Diamond Creek': 151,\n",
              " 'Yallambie': 152,\n",
              " 'Brunswick West': 153,\n",
              " 'Docklands': 154,\n",
              " 'Croydon': 155,\n",
              " 'Croydon North': 156,\n",
              " 'St Kilda': 157,\n",
              " 'Boronia': 158,\n",
              " 'Eltham': 159,\n",
              " 'Clayton South': 160,\n",
              " 'Williamstown North': 161,\n",
              " 'Flemington': 162,\n",
              " 'Essendon North': 163,\n",
              " 'North Melbourne': 164,\n",
              " 'Aspendale Gardens': 165,\n",
              " 'Rowville': 166,\n",
              " 'Dingley Village': 167,\n",
              " 'Wonga Park': 168,\n",
              " 'Montmorency': 169,\n",
              " 'Preston': 170,\n",
              " 'Ringwood East': 171,\n",
              " 'Eltham North': 172,\n",
              " 'Croydon Hills': 173,\n",
              " 'Coburg': 174,\n",
              " 'Collingwood': 175,\n",
              " 'Elwood': 176,\n",
              " 'Heidelberg': 177,\n",
              " 'Brunswick East': 178,\n",
              " 'Ringwood North': 179,\n",
              " 'Viewbank': 180,\n",
              " 'Spotswood': 181,\n",
              " 'Carnegie': 182,\n",
              " 'Heathmont': 183,\n",
              " 'Strathmore Heights': 184,\n",
              " 'Mentone': 185,\n",
              " 'Thornbury': 186,\n",
              " 'Scoresby': 187,\n",
              " 'Cremorne': 188,\n",
              " 'Mitcham': 189,\n",
              " 'Chadstone': 190,\n",
              " 'Ringwood': 191,\n",
              " 'Murrumbeena': 192,\n",
              " 'Seddon': 193,\n",
              " 'Niddrie': 194,\n",
              " 'Windsor': 195,\n",
              " 'Clarinda': 196,\n",
              " 'Forest Hill': 197,\n",
              " 'Moorabbin': 198,\n",
              " 'Yarraville': 199,\n",
              " 'Edithvale': 200,\n",
              " 'Wantirna': 201,\n",
              " 'West Melbourne': 202,\n",
              " 'Rosanna': 203,\n",
              " 'Oakleigh South': 204,\n",
              " 'Frankston South': 205,\n",
              " 'Travancore': 206,\n",
              " 'Brunswick': 207,\n",
              " 'Caulfield North': 208,\n",
              " 'South Yarra': 209,\n",
              " 'Nunawading': 210,\n",
              " 'St Helena': 211,\n",
              " 'Cheltenham': 212,\n",
              " 'Notting Hill': 213,\n",
              " 'Hampton East': 214,\n",
              " 'Ascot Vale': 215,\n",
              " 'Abbotsford': 216,\n",
              " 'Newport': 217,\n",
              " 'Huntingdale': 218,\n",
              " 'Essendon': 219,\n",
              " 'Carlton': 220,\n",
              " 'Fairfield': 221,\n",
              " 'Silvan': 222,\n",
              " 'Blackburn South': 223,\n",
              " 'Richmond': 224,\n",
              " 'Vermont': 225,\n",
              " 'Knoxfield': 226,\n",
              " 'Bentleigh East': 227,\n",
              " 'Burwood East': 228,\n",
              " 'Essendon West': 229,\n",
              " 'Caulfield East': 230,\n",
              " 'Hughesdale': 231,\n",
              " 'Prahran': 232,\n",
              " 'Ormond': 233,\n",
              " 'Wantirna South': 234,\n",
              " 'Oakleigh': 235,\n",
              " 'Mordialloc': 236,\n",
              " 'Moonee Ponds': 237,\n",
              " 'Aspendale': 238,\n",
              " 'Gardenvale': 239,\n",
              " 'Bonbeach': 240,\n",
              " 'Caulfield South': 241,\n",
              " 'Clifton Hill': 242,\n",
              " 'Ashwood': 243,\n",
              " 'Bulleen': 244,\n",
              " 'Oakleigh East': 245,\n",
              " 'Templestowe Lower': 246,\n",
              " 'Strathmore': 247,\n",
              " 'Deepdene': 248,\n",
              " 'Ivanhoe': 249,\n",
              " 'Blackburn North': 250,\n",
              " 'Donvale': 251,\n",
              " 'Warrandyte': 252,\n",
              " 'North Warrandyte': 253,\n",
              " 'Seaholme': 254,\n",
              " 'Vermont South': 255,\n",
              " 'Mulgrave': 256,\n",
              " 'Port Melbourne': 257,\n",
              " 'Burnley': 258,\n",
              " 'Waterways': 259,\n",
              " 'Burwood': 260,\n",
              " 'Wheelers Hill': 261,\n",
              " 'Doncaster': 262,\n",
              " 'Fitzroy': 263,\n",
              " 'Clayton': 264,\n",
              " 'Highett': 265,\n",
              " 'Parkdale': 266,\n",
              " 'Northcote': 267,\n",
              " 'Elsternwick': 268,\n",
              " 'Blackburn': 269,\n",
              " 'Fitzroy North': 270,\n",
              " 'Hawthorn': 271,\n",
              " 'Aberfeldie': 272,\n",
              " 'Bentleigh': 273,\n",
              " 'Parkville': 274,\n",
              " 'Box Hill': 275,\n",
              " 'Williamstown': 276,\n",
              " 'South Melbourne': 277,\n",
              " 'Black Rock': 278,\n",
              " 'New Gisborne': 279,\n",
              " 'Mount Waverley': 280,\n",
              " 'Doncaster East': 281,\n",
              " 'Glen Waverley': 282,\n",
              " 'Alphington': 283,\n",
              " 'East Melbourne': 284,\n",
              " 'Armadale': 285,\n",
              " 'McKinnon': 286,\n",
              " 'Toorak': 287,\n",
              " 'Carlton North': 288,\n",
              " 'Hawthorn East': 289,\n",
              " 'Malvern East': 290,\n",
              " 'Brighton East': 291,\n",
              " 'Surrey Hills': 292,\n",
              " 'Templestowe': 293,\n",
              " 'Glen Iris': 294,\n",
              " 'Mont Albert': 295,\n",
              " 'Hampton': 296,\n",
              " 'Sandringham': 297,\n",
              " 'Kew East': 298,\n",
              " 'Ivanhoe East': 299,\n",
              " 'Beaumaris': 300,\n",
              " 'Ashburton': 301,\n",
              " 'Princes Hill': 302,\n",
              " 'Camberwell': 303,\n",
              " 'Kew': 304,\n",
              " 'Malvern': 305,\n",
              " 'Balwyn North': 306,\n",
              " 'Eaglemont': 307,\n",
              " 'Balwyn': 308,\n",
              " 'Brighton': 309,\n",
              " 'Albert Park': 310,\n",
              " 'Middle Park': 311,\n",
              " 'Canterbury': 312,\n",
              " 'Kooyong': 313}"
            ]
          },
          "metadata": {},
          "execution_count": 36
        }
      ]
    },
    {
      "cell_type": "code",
      "source": [
        "# ahora, reemplazamos las etiquetas con los números enteros\n",
        "oe_melb_data['Suburb'] = oe_melb_data['Suburb'].map(ordinal_mapping)"
      ],
      "metadata": {
        "id": "fx5lzfzqc2k1"
      },
      "execution_count": 37,
      "outputs": []
    },
    {
      "cell_type": "code",
      "source": [
        "# exploramos los resultados\n",
        "oe_melb_data.head(10)"
      ],
      "metadata": {
        "colab": {
          "base_uri": "https://localhost:8080/",
          "height": 473
        },
        "id": "6CZJn6w6c2Zl",
        "outputId": "6a9a0d5b-444f-4bcb-b7a9-dca049f8be26"
      },
      "execution_count": 38,
      "outputs": [
        {
          "output_type": "execute_result",
          "data": {
            "text/plain": [
              "   Suburb  Rooms      Price  Distance  Bedroom2  Bathroom  Car  Landsize  \\\n",
              "0     216      2  1480000.0       2.5       2.0       1.0  1.0     202.0   \n",
              "1     216      2  1035000.0       2.5       2.0       1.0  0.0     156.0   \n",
              "2     216      3  1465000.0       2.5       3.0       2.0  0.0     134.0   \n",
              "3     216      3   850000.0       2.5       3.0       2.0  1.0      94.0   \n",
              "4     216      4  1600000.0       2.5       3.0       1.0  2.0     120.0   \n",
              "5     216      2   941000.0       2.5       2.0       1.0  0.0     181.0   \n",
              "6     216      3  1876000.0       2.5       4.0       2.0  0.0     245.0   \n",
              "7     216      2  1636000.0       2.5       2.0       1.0  2.0     256.0   \n",
              "8     216      1   300000.0       2.5       1.0       1.0  1.0       0.0   \n",
              "9     216      2  1097000.0       2.5       3.0       1.0  2.0     220.0   \n",
              "\n",
              "   BuildingArea  YearBuilt  ...  Moreland  Nillumbik  Port Phillip  \\\n",
              "0           0.0     1970.0  ...       0.0        0.0           0.0   \n",
              "1          79.0     1900.0  ...       0.0        0.0           0.0   \n",
              "2         150.0     1900.0  ...       0.0        0.0           0.0   \n",
              "3           0.0     1970.0  ...       0.0        0.0           0.0   \n",
              "4         142.0     2014.0  ...       0.0        0.0           0.0   \n",
              "5           0.0     1970.0  ...       0.0        0.0           0.0   \n",
              "6         210.0     1910.0  ...       0.0        0.0           0.0   \n",
              "7         107.0     1890.0  ...       0.0        0.0           0.0   \n",
              "8           0.0     1970.0  ...       0.0        0.0           0.0   \n",
              "9          75.0     1900.0  ...       0.0        0.0           0.0   \n",
              "\n",
              "   Stonnington  Unavailable  Whitehorse  Whittlesea  Wyndham  Yarra  \\\n",
              "0          0.0          0.0         0.0         0.0      0.0    1.0   \n",
              "1          0.0          0.0         0.0         0.0      0.0    1.0   \n",
              "2          0.0          0.0         0.0         0.0      0.0    1.0   \n",
              "3          0.0          0.0         0.0         0.0      0.0    1.0   \n",
              "4          0.0          0.0         0.0         0.0      0.0    1.0   \n",
              "5          0.0          0.0         0.0         0.0      0.0    1.0   \n",
              "6          0.0          0.0         0.0         0.0      0.0    1.0   \n",
              "7          0.0          0.0         0.0         0.0      0.0    1.0   \n",
              "8          0.0          0.0         0.0         0.0      0.0    1.0   \n",
              "9          0.0          0.0         0.0         0.0      0.0    1.0   \n",
              "\n",
              "   Yarra Ranges  \n",
              "0           0.0  \n",
              "1           0.0  \n",
              "2           0.0  \n",
              "3           0.0  \n",
              "4           0.0  \n",
              "5           0.0  \n",
              "6           0.0  \n",
              "7           0.0  \n",
              "8           0.0  \n",
              "9           0.0  \n",
              "\n",
              "[10 rows x 61 columns]"
            ],
            "text/html": [
              "\n",
              "  <div id=\"df-10d8cc11-d4dd-4765-a2a4-172e14f42bf4\">\n",
              "    <div class=\"colab-df-container\">\n",
              "      <div>\n",
              "<style scoped>\n",
              "    .dataframe tbody tr th:only-of-type {\n",
              "        vertical-align: middle;\n",
              "    }\n",
              "\n",
              "    .dataframe tbody tr th {\n",
              "        vertical-align: top;\n",
              "    }\n",
              "\n",
              "    .dataframe thead th {\n",
              "        text-align: right;\n",
              "    }\n",
              "</style>\n",
              "<table border=\"1\" class=\"dataframe\">\n",
              "  <thead>\n",
              "    <tr style=\"text-align: right;\">\n",
              "      <th></th>\n",
              "      <th>Suburb</th>\n",
              "      <th>Rooms</th>\n",
              "      <th>Price</th>\n",
              "      <th>Distance</th>\n",
              "      <th>Bedroom2</th>\n",
              "      <th>Bathroom</th>\n",
              "      <th>Car</th>\n",
              "      <th>Landsize</th>\n",
              "      <th>BuildingArea</th>\n",
              "      <th>YearBuilt</th>\n",
              "      <th>...</th>\n",
              "      <th>Moreland</th>\n",
              "      <th>Nillumbik</th>\n",
              "      <th>Port Phillip</th>\n",
              "      <th>Stonnington</th>\n",
              "      <th>Unavailable</th>\n",
              "      <th>Whitehorse</th>\n",
              "      <th>Whittlesea</th>\n",
              "      <th>Wyndham</th>\n",
              "      <th>Yarra</th>\n",
              "      <th>Yarra Ranges</th>\n",
              "    </tr>\n",
              "  </thead>\n",
              "  <tbody>\n",
              "    <tr>\n",
              "      <th>0</th>\n",
              "      <td>216</td>\n",
              "      <td>2</td>\n",
              "      <td>1480000.0</td>\n",
              "      <td>2.5</td>\n",
              "      <td>2.0</td>\n",
              "      <td>1.0</td>\n",
              "      <td>1.0</td>\n",
              "      <td>202.0</td>\n",
              "      <td>0.0</td>\n",
              "      <td>1970.0</td>\n",
              "      <td>...</td>\n",
              "      <td>0.0</td>\n",
              "      <td>0.0</td>\n",
              "      <td>0.0</td>\n",
              "      <td>0.0</td>\n",
              "      <td>0.0</td>\n",
              "      <td>0.0</td>\n",
              "      <td>0.0</td>\n",
              "      <td>0.0</td>\n",
              "      <td>1.0</td>\n",
              "      <td>0.0</td>\n",
              "    </tr>\n",
              "    <tr>\n",
              "      <th>1</th>\n",
              "      <td>216</td>\n",
              "      <td>2</td>\n",
              "      <td>1035000.0</td>\n",
              "      <td>2.5</td>\n",
              "      <td>2.0</td>\n",
              "      <td>1.0</td>\n",
              "      <td>0.0</td>\n",
              "      <td>156.0</td>\n",
              "      <td>79.0</td>\n",
              "      <td>1900.0</td>\n",
              "      <td>...</td>\n",
              "      <td>0.0</td>\n",
              "      <td>0.0</td>\n",
              "      <td>0.0</td>\n",
              "      <td>0.0</td>\n",
              "      <td>0.0</td>\n",
              "      <td>0.0</td>\n",
              "      <td>0.0</td>\n",
              "      <td>0.0</td>\n",
              "      <td>1.0</td>\n",
              "      <td>0.0</td>\n",
              "    </tr>\n",
              "    <tr>\n",
              "      <th>2</th>\n",
              "      <td>216</td>\n",
              "      <td>3</td>\n",
              "      <td>1465000.0</td>\n",
              "      <td>2.5</td>\n",
              "      <td>3.0</td>\n",
              "      <td>2.0</td>\n",
              "      <td>0.0</td>\n",
              "      <td>134.0</td>\n",
              "      <td>150.0</td>\n",
              "      <td>1900.0</td>\n",
              "      <td>...</td>\n",
              "      <td>0.0</td>\n",
              "      <td>0.0</td>\n",
              "      <td>0.0</td>\n",
              "      <td>0.0</td>\n",
              "      <td>0.0</td>\n",
              "      <td>0.0</td>\n",
              "      <td>0.0</td>\n",
              "      <td>0.0</td>\n",
              "      <td>1.0</td>\n",
              "      <td>0.0</td>\n",
              "    </tr>\n",
              "    <tr>\n",
              "      <th>3</th>\n",
              "      <td>216</td>\n",
              "      <td>3</td>\n",
              "      <td>850000.0</td>\n",
              "      <td>2.5</td>\n",
              "      <td>3.0</td>\n",
              "      <td>2.0</td>\n",
              "      <td>1.0</td>\n",
              "      <td>94.0</td>\n",
              "      <td>0.0</td>\n",
              "      <td>1970.0</td>\n",
              "      <td>...</td>\n",
              "      <td>0.0</td>\n",
              "      <td>0.0</td>\n",
              "      <td>0.0</td>\n",
              "      <td>0.0</td>\n",
              "      <td>0.0</td>\n",
              "      <td>0.0</td>\n",
              "      <td>0.0</td>\n",
              "      <td>0.0</td>\n",
              "      <td>1.0</td>\n",
              "      <td>0.0</td>\n",
              "    </tr>\n",
              "    <tr>\n",
              "      <th>4</th>\n",
              "      <td>216</td>\n",
              "      <td>4</td>\n",
              "      <td>1600000.0</td>\n",
              "      <td>2.5</td>\n",
              "      <td>3.0</td>\n",
              "      <td>1.0</td>\n",
              "      <td>2.0</td>\n",
              "      <td>120.0</td>\n",
              "      <td>142.0</td>\n",
              "      <td>2014.0</td>\n",
              "      <td>...</td>\n",
              "      <td>0.0</td>\n",
              "      <td>0.0</td>\n",
              "      <td>0.0</td>\n",
              "      <td>0.0</td>\n",
              "      <td>0.0</td>\n",
              "      <td>0.0</td>\n",
              "      <td>0.0</td>\n",
              "      <td>0.0</td>\n",
              "      <td>1.0</td>\n",
              "      <td>0.0</td>\n",
              "    </tr>\n",
              "    <tr>\n",
              "      <th>5</th>\n",
              "      <td>216</td>\n",
              "      <td>2</td>\n",
              "      <td>941000.0</td>\n",
              "      <td>2.5</td>\n",
              "      <td>2.0</td>\n",
              "      <td>1.0</td>\n",
              "      <td>0.0</td>\n",
              "      <td>181.0</td>\n",
              "      <td>0.0</td>\n",
              "      <td>1970.0</td>\n",
              "      <td>...</td>\n",
              "      <td>0.0</td>\n",
              "      <td>0.0</td>\n",
              "      <td>0.0</td>\n",
              "      <td>0.0</td>\n",
              "      <td>0.0</td>\n",
              "      <td>0.0</td>\n",
              "      <td>0.0</td>\n",
              "      <td>0.0</td>\n",
              "      <td>1.0</td>\n",
              "      <td>0.0</td>\n",
              "    </tr>\n",
              "    <tr>\n",
              "      <th>6</th>\n",
              "      <td>216</td>\n",
              "      <td>3</td>\n",
              "      <td>1876000.0</td>\n",
              "      <td>2.5</td>\n",
              "      <td>4.0</td>\n",
              "      <td>2.0</td>\n",
              "      <td>0.0</td>\n",
              "      <td>245.0</td>\n",
              "      <td>210.0</td>\n",
              "      <td>1910.0</td>\n",
              "      <td>...</td>\n",
              "      <td>0.0</td>\n",
              "      <td>0.0</td>\n",
              "      <td>0.0</td>\n",
              "      <td>0.0</td>\n",
              "      <td>0.0</td>\n",
              "      <td>0.0</td>\n",
              "      <td>0.0</td>\n",
              "      <td>0.0</td>\n",
              "      <td>1.0</td>\n",
              "      <td>0.0</td>\n",
              "    </tr>\n",
              "    <tr>\n",
              "      <th>7</th>\n",
              "      <td>216</td>\n",
              "      <td>2</td>\n",
              "      <td>1636000.0</td>\n",
              "      <td>2.5</td>\n",
              "      <td>2.0</td>\n",
              "      <td>1.0</td>\n",
              "      <td>2.0</td>\n",
              "      <td>256.0</td>\n",
              "      <td>107.0</td>\n",
              "      <td>1890.0</td>\n",
              "      <td>...</td>\n",
              "      <td>0.0</td>\n",
              "      <td>0.0</td>\n",
              "      <td>0.0</td>\n",
              "      <td>0.0</td>\n",
              "      <td>0.0</td>\n",
              "      <td>0.0</td>\n",
              "      <td>0.0</td>\n",
              "      <td>0.0</td>\n",
              "      <td>1.0</td>\n",
              "      <td>0.0</td>\n",
              "    </tr>\n",
              "    <tr>\n",
              "      <th>8</th>\n",
              "      <td>216</td>\n",
              "      <td>1</td>\n",
              "      <td>300000.0</td>\n",
              "      <td>2.5</td>\n",
              "      <td>1.0</td>\n",
              "      <td>1.0</td>\n",
              "      <td>1.0</td>\n",
              "      <td>0.0</td>\n",
              "      <td>0.0</td>\n",
              "      <td>1970.0</td>\n",
              "      <td>...</td>\n",
              "      <td>0.0</td>\n",
              "      <td>0.0</td>\n",
              "      <td>0.0</td>\n",
              "      <td>0.0</td>\n",
              "      <td>0.0</td>\n",
              "      <td>0.0</td>\n",
              "      <td>0.0</td>\n",
              "      <td>0.0</td>\n",
              "      <td>1.0</td>\n",
              "      <td>0.0</td>\n",
              "    </tr>\n",
              "    <tr>\n",
              "      <th>9</th>\n",
              "      <td>216</td>\n",
              "      <td>2</td>\n",
              "      <td>1097000.0</td>\n",
              "      <td>2.5</td>\n",
              "      <td>3.0</td>\n",
              "      <td>1.0</td>\n",
              "      <td>2.0</td>\n",
              "      <td>220.0</td>\n",
              "      <td>75.0</td>\n",
              "      <td>1900.0</td>\n",
              "      <td>...</td>\n",
              "      <td>0.0</td>\n",
              "      <td>0.0</td>\n",
              "      <td>0.0</td>\n",
              "      <td>0.0</td>\n",
              "      <td>0.0</td>\n",
              "      <td>0.0</td>\n",
              "      <td>0.0</td>\n",
              "      <td>0.0</td>\n",
              "      <td>1.0</td>\n",
              "      <td>0.0</td>\n",
              "    </tr>\n",
              "  </tbody>\n",
              "</table>\n",
              "<p>10 rows × 61 columns</p>\n",
              "</div>\n",
              "      <button class=\"colab-df-convert\" onclick=\"convertToInteractive('df-10d8cc11-d4dd-4765-a2a4-172e14f42bf4')\"\n",
              "              title=\"Convert this dataframe to an interactive table.\"\n",
              "              style=\"display:none;\">\n",
              "        \n",
              "  <svg xmlns=\"http://www.w3.org/2000/svg\" height=\"24px\"viewBox=\"0 0 24 24\"\n",
              "       width=\"24px\">\n",
              "    <path d=\"M0 0h24v24H0V0z\" fill=\"none\"/>\n",
              "    <path d=\"M18.56 5.44l.94 2.06.94-2.06 2.06-.94-2.06-.94-.94-2.06-.94 2.06-2.06.94zm-11 1L8.5 8.5l.94-2.06 2.06-.94-2.06-.94L8.5 2.5l-.94 2.06-2.06.94zm10 10l.94 2.06.94-2.06 2.06-.94-2.06-.94-.94-2.06-.94 2.06-2.06.94z\"/><path d=\"M17.41 7.96l-1.37-1.37c-.4-.4-.92-.59-1.43-.59-.52 0-1.04.2-1.43.59L10.3 9.45l-7.72 7.72c-.78.78-.78 2.05 0 2.83L4 21.41c.39.39.9.59 1.41.59.51 0 1.02-.2 1.41-.59l7.78-7.78 2.81-2.81c.8-.78.8-2.07 0-2.86zM5.41 20L4 18.59l7.72-7.72 1.47 1.35L5.41 20z\"/>\n",
              "  </svg>\n",
              "      </button>\n",
              "      \n",
              "  <style>\n",
              "    .colab-df-container {\n",
              "      display:flex;\n",
              "      flex-wrap:wrap;\n",
              "      gap: 12px;\n",
              "    }\n",
              "\n",
              "    .colab-df-convert {\n",
              "      background-color: #E8F0FE;\n",
              "      border: none;\n",
              "      border-radius: 50%;\n",
              "      cursor: pointer;\n",
              "      display: none;\n",
              "      fill: #1967D2;\n",
              "      height: 32px;\n",
              "      padding: 0 0 0 0;\n",
              "      width: 32px;\n",
              "    }\n",
              "\n",
              "    .colab-df-convert:hover {\n",
              "      background-color: #E2EBFA;\n",
              "      box-shadow: 0px 1px 2px rgba(60, 64, 67, 0.3), 0px 1px 3px 1px rgba(60, 64, 67, 0.15);\n",
              "      fill: #174EA6;\n",
              "    }\n",
              "\n",
              "    [theme=dark] .colab-df-convert {\n",
              "      background-color: #3B4455;\n",
              "      fill: #D2E3FC;\n",
              "    }\n",
              "\n",
              "    [theme=dark] .colab-df-convert:hover {\n",
              "      background-color: #434B5C;\n",
              "      box-shadow: 0px 1px 3px 1px rgba(0, 0, 0, 0.15);\n",
              "      filter: drop-shadow(0px 1px 2px rgba(0, 0, 0, 0.3));\n",
              "      fill: #FFFFFF;\n",
              "    }\n",
              "  </style>\n",
              "\n",
              "      <script>\n",
              "        const buttonEl =\n",
              "          document.querySelector('#df-10d8cc11-d4dd-4765-a2a4-172e14f42bf4 button.colab-df-convert');\n",
              "        buttonEl.style.display =\n",
              "          google.colab.kernel.accessAllowed ? 'block' : 'none';\n",
              "\n",
              "        async function convertToInteractive(key) {\n",
              "          const element = document.querySelector('#df-10d8cc11-d4dd-4765-a2a4-172e14f42bf4');\n",
              "          const dataTable =\n",
              "            await google.colab.kernel.invokeFunction('convertToInteractive',\n",
              "                                                     [key], {});\n",
              "          if (!dataTable) return;\n",
              "\n",
              "          const docLinkHtml = 'Like what you see? Visit the ' +\n",
              "            '<a target=\"_blank\" href=https://colab.research.google.com/notebooks/data_table.ipynb>data table notebook</a>'\n",
              "            + ' to learn more about interactive tables.';\n",
              "          element.innerHTML = '';\n",
              "          dataTable['output_type'] = 'display_data';\n",
              "          await google.colab.output.renderOutput(dataTable, element);\n",
              "          const docLink = document.createElement('div');\n",
              "          docLink.innerHTML = docLinkHtml;\n",
              "          element.appendChild(docLink);\n",
              "        }\n",
              "      </script>\n",
              "    </div>\n",
              "  </div>\n",
              "  "
            ]
          },
          "metadata": {},
          "execution_count": 38
        }
      ]
    },
    {
      "cell_type": "code",
      "source": [
        "for var in ['Suburb']:\n",
        "    \n",
        "    fig = plt.figure()\n",
        "    fig = oe_melb_data.groupby([var])['Price'].mean().plot()\n",
        "    fig.set_title('Relacion monotona entre {} and Price'.format(var))\n",
        "    fig.set_ylabel('Mean Price')\n",
        "    plt.show()\n"
      ],
      "metadata": {
        "id": "FQOpS9gwc2Us",
        "colab": {
          "base_uri": "https://localhost:8080/",
          "height": 295
        },
        "outputId": "091f72b0-9d9c-4734-b936-d1b389f9b112"
      },
      "execution_count": 40,
      "outputs": [
        {
          "output_type": "display_data",
          "data": {
            "text/plain": [
              "<Figure size 432x288 with 1 Axes>"
            ],
            "image/png": "[encoded data removed]"
          },
          "metadata": {
            "needs_background": "light"
          }
        }
      ]
    },
    {
      "cell_type": "markdown",
      "source": [
        "# Eliminar Outliers"
      ],
      "metadata": {
        "id": "O5iut3DdPO8L"
      }
    },
    {
      "cell_type": "markdown",
      "source": [
        "Un outlier es un punto de datos que es significativamente diferente de los datos restantes. “Un valor atípico es una observación que se desvía tanto de las otras observaciones como para despertar sospechas de que fue generada por un mecanismo diferente”  [D. Hawkins. Identification of Outliers, Chapman and Hall , 1980].\n",
        "\n",
        "Medidas estadísticas como la media y la varianza son muy susceptibles a valores atípicos. Además, algunos modelos de Machine Learning son sensibles a valores atípicos que pueden disminuir su rendimiento. Por lo tanto, según el algoritmo que deseemos entrenar, a menudo eliminamos los valores atípicos de nuestras variables."
      ],
      "metadata": {
        "id": "ZUDnZL0miigM"
      }
    },
    {
      "cell_type": "markdown",
      "source": [
        "TRIMMING o TRUNCAMIENTO\n",
        "\n",
        "Trimming, también conocido como truncamiento, consiste en eliminar los valores atípicos del conjunto de datos. Solo necesitamos decidir una métrica para determinar los valores atípicos. Como vimos en la sección 3, esta puede ser la aproximación gaussiana para variables distribuidas normalmente o la regla de proximidad del rango entre cuantiles para variables sesgadas.\n",
        "\n",
        "Ventajas\n",
        "*   rápido\n",
        "\n",
        "Limitaciones\n",
        "*   los valores atípicos para una variable podrían contener información útil en las otras variables\n",
        "*   si hay valores atípicos en muchas variables, podríamos eliminar una gran parte del conjunto de datos\n",
        "\n",
        "\n",
        "\n"
      ],
      "metadata": {
        "id": "IghI9BoRiysA"
      }
    },
    {
      "cell_type": "code",
      "source": [
        "import seaborn as sns\n",
        "\n",
        "# para Q-Q plots\n",
        "import scipy.stats as stats"
      ],
      "metadata": {
        "id": "XuLS89XYPa42"
      },
      "execution_count": 41,
      "outputs": []
    },
    {
      "cell_type": "code",
      "source": [
        "# función para crear histograma, gráfico Q-Q y\n",
        "# diagrama de caja.\n",
        "\n",
        "def diagnostic_plots(df, variable):\n",
        "    # La función toma un marco de datos (df) y\n",
        "    # la variable de interés como argumentos\n",
        "\n",
        "    # define el tamaño de la figura\n",
        "    plt.figure(figsize=(16, 4))\n",
        "\n",
        "    # histograma\n",
        "    plt.subplot(1, 3, 1)\n",
        "    sns.histplot(df[variable], bins=30)\n",
        "    plt.title('Histogram')\n",
        "\n",
        "    # Q-Q plot\n",
        "    plt.subplot(1, 3, 2)\n",
        "    stats.probplot(df[variable], dist=\"norm\", plot=plt)\n",
        "    plt.ylabel('Variable quantiles')\n",
        "\n",
        "    # boxplot\n",
        "    plt.subplot(1, 3, 3)\n",
        "    sns.boxplot(y=df[variable])\n",
        "    plt.title('Boxplot')\n",
        "\n",
        "    plt.show()"
      ],
      "metadata": {
        "id": "PZwvWwkJPdNP"
      },
      "execution_count": 42,
      "outputs": []
    },
    {
      "cell_type": "code",
      "source": [
        "# encontremos valores atípicos en Landsize\n",
        "diagnostic_plots(oe_melb_data, 'Landsize')"
      ],
      "metadata": {
        "colab": {
          "base_uri": "https://localhost:8080/",
          "height": 265
        },
        "id": "EpX01lOaPfBz",
        "outputId": "97b947e7-5937-4643-acf6-6cd2f80c74d2"
      },
      "execution_count": 43,
      "outputs": [
        {
          "output_type": "display_data",
          "data": {
            "text/plain": [
              "<Figure size 1152x288 with 3 Axes>"
            ],
            "image/png": "[encoded data removed]"
          },
          "metadata": {
            "needs_background": "light"
          }
        }
      ]
    },
    {
      "cell_type": "code",
      "source": [
        "# encontremos valores atípicos en BuildingArea\n",
        "diagnostic_plots(oe_melb_data, 'BuildingArea')"
      ],
      "metadata": {
        "colab": {
          "base_uri": "https://localhost:8080/",
          "height": 265
        },
        "id": "k5QWzOqBPg2u",
        "outputId": "3418f0a8-6c28-40e7-ca83-a905a63776be"
      },
      "execution_count": 44,
      "outputs": [
        {
          "output_type": "display_data",
          "data": {
            "text/plain": [
              "<Figure size 1152x288 with 3 Axes>"
            ],
            "image/png": "[encoded data removed]"
          },
          "metadata": {
            "needs_background": "light"
          }
        }
      ]
    },
    {
      "cell_type": "code",
      "source": [
        "# encontremos valores atípicos en YearBuilt\n",
        "diagnostic_plots(oe_melb_data, 'YearBuilt')"
      ],
      "metadata": {
        "colab": {
          "base_uri": "https://localhost:8080/",
          "height": 267
        },
        "id": "oeLjmH-TPiQJ",
        "outputId": "547a1823-2710-4772-ace2-57335dc240f8"
      },
      "execution_count": 45,
      "outputs": [
        {
          "output_type": "display_data",
          "data": {
            "text/plain": [
              "<Figure size 1152x288 with 3 Axes>"
            ],
            "image/png": "[encoded data removed]"
          },
          "metadata": {
            "needs_background": "light"
          }
        }
      ]
    },
    {
      "cell_type": "code",
      "source": [
        "def find_skewed_boundaries(df, variable, distance):\n",
        "\n",
        "    # Calculemos los límites fuera de los cuales se encuentran los valores atípicos\n",
        "    # para distribuciones sesgadas\n",
        "\n",
        "    # distancia pasada como argumento, nos da la opción de\n",
        "    # estimar 1,5 veces o 3 veces el IQR para calcular\n",
        "    # las fronteras\n",
        "\n",
        "    IQR = df[variable].quantile(0.75) - df[variable].quantile(0.25)\n",
        "\n",
        "    lower_boundary = df[variable].quantile(0.25) - (IQR * distance)\n",
        "    upper_boundary = df[variable].quantile(0.75) + (IQR * distance)\n",
        "\n",
        "    return upper_boundary, lower_boundary"
      ],
      "metadata": {
        "id": "kOtow5VvPki7"
      },
      "execution_count": 46,
      "outputs": []
    },
    {
      "cell_type": "code",
      "source": [
        "# encontrar limites para Landsize\n",
        "LS_upper_limit, LS_lower_limit = find_skewed_boundaries(oe_melb_data, 'Landsize', 1.5)\n",
        "LS_upper_limit, LS_lower_limit"
      ],
      "metadata": {
        "colab": {
          "base_uri": "https://localhost:8080/"
        },
        "id": "jAIj2dr4PmL_",
        "outputId": "f0ba15e3-87da-43d7-b58d-02b1f8d1fbe4"
      },
      "execution_count": 47,
      "outputs": [
        {
          "output_type": "execute_result",
          "data": {
            "text/plain": [
              "(1362.0, -534.0)"
            ]
          },
          "metadata": {},
          "execution_count": 47
        }
      ]
    },
    {
      "cell_type": "code",
      "source": [
        "# encontrar limites para  BuildingArea\n",
        "BA_upper_limit, BA_lower_limit = find_skewed_boundaries(oe_melb_data, 'BuildingArea', 1.5)\n",
        "BA_upper_limit, BA_lower_limit"
      ],
      "metadata": {
        "colab": {
          "base_uri": "https://localhost:8080/"
        },
        "id": "zBMbpOt3PolS",
        "outputId": "3d834482-5d77-44b0-eea4-917843e59221"
      },
      "execution_count": 48,
      "outputs": [
        {
          "output_type": "execute_result",
          "data": {
            "text/plain": [
              "(324.85, -194.91)"
            ]
          },
          "metadata": {},
          "execution_count": 48
        }
      ]
    },
    {
      "cell_type": "code",
      "source": [
        "# encontrar limites para  YearBuilt\n",
        "YB_upper_limit, YB_lower_limit = find_skewed_boundaries(oe_melb_data, 'YearBuilt', 2)\n",
        "YB_upper_limit, YB_lower_limit"
      ],
      "metadata": {
        "colab": {
          "base_uri": "https://localhost:8080/"
        },
        "id": "wLxH4Nc4PpfK",
        "outputId": "f0f9b86a-db9d-42c0-c480-f2efd9b87cdb"
      },
      "execution_count": 49,
      "outputs": [
        {
          "output_type": "execute_result",
          "data": {
            "text/plain": [
              "(2005.0, 1930.0)"
            ]
          },
          "metadata": {},
          "execution_count": 49
        }
      ]
    },
    {
      "cell_type": "code",
      "source": [
        "# marquemos los valores atípicos en el conjunto de datos Landsize\n",
        "outliers_LS = np.where(oe_melb_data['Landsize'] > LS_upper_limit, True,\n",
        "                       np.where(oe_melb_data['Landsize']< LS_lower_limit, True, False))"
      ],
      "metadata": {
        "id": "CT_F8xGUPrRU"
      },
      "execution_count": 50,
      "outputs": []
    },
    {
      "cell_type": "code",
      "source": [
        "# marquemos los valores atípicos en el conjunto de datos BuildingArea\n",
        "outliers_BA = np.where(oe_melb_data['BuildingArea'] > BA_upper_limit, True,\n",
        "                       np.where(oe_melb_data['BuildingArea'] < BA_lower_limit, True, False))"
      ],
      "metadata": {
        "id": "eUjM4mHZPtih"
      },
      "execution_count": 51,
      "outputs": []
    },
    {
      "cell_type": "code",
      "source": [
        "# marquemos los valores atípicos en el conjunto de datos YearBuilt\n",
        "outliers_YB = np.where(oe_melb_data['YearBuilt'] > YB_upper_limit, True,\n",
        "                       np.where(oe_melb_data['YearBuilt'] < YB_lower_limit, True, False))"
      ],
      "metadata": {
        "id": "JpREUvIzPvJT"
      },
      "execution_count": 52,
      "outputs": []
    },
    {
      "cell_type": "code",
      "source": [
        "# vamos a recortar el conjunto de datos\n",
        "melb_trimmed = oe_melb_data.loc[~(outliers_LS + outliers_BA + outliers_YB), ]\n",
        "oe_melb_data.shape, melb_trimmed.shape"
      ],
      "metadata": {
        "colab": {
          "base_uri": "https://localhost:8080/"
        },
        "id": "DTYSFJV7PwZy",
        "outputId": "b4ed02b0-6a2d-4684-d477-01dc1edd4ab3"
      },
      "execution_count": 53,
      "outputs": [
        {
          "output_type": "execute_result",
          "data": {
            "text/plain": [
              "((13580, 61), (10399, 61))"
            ]
          },
          "metadata": {},
          "execution_count": 53
        }
      ]
    },
    {
      "cell_type": "code",
      "source": [
        "# Exploremos valores atípicos en el conjunto de datos recortado\n",
        "# para YearBuilt vemos muchos menos valores atípicos que en el conjunto de datos original\n",
        "diagnostic_plots(melb_trimmed, 'YearBuilt')\n"
      ],
      "metadata": {
        "colab": {
          "base_uri": "https://localhost:8080/",
          "height": 267
        },
        "id": "og5J_dC3PyD4",
        "outputId": "09146865-a791-4d2d-ccfe-89cb2bb69cdd"
      },
      "execution_count": 54,
      "outputs": [
        {
          "output_type": "display_data",
          "data": {
            "text/plain": [
              "<Figure size 1152x288 with 3 Axes>"
            ],
            "image/png": "[encoded data removed]"
          },
          "metadata": {
            "needs_background": "light"
          }
        }
      ]
    },
    {
      "cell_type": "code",
      "source": [
        "# Exploremos valores atípicos en el conjunto de datos recortado\n",
        "# para Landsize vemos muchos menos valores atípicos que en el conjunto de datos original\n",
        "diagnostic_plots(melb_trimmed, 'Landsize')"
      ],
      "metadata": {
        "colab": {
          "base_uri": "https://localhost:8080/",
          "height": 267
        },
        "id": "MqyRjpc6PzXh",
        "outputId": "97396e7b-1de2-4a6c-f5ef-f3911aa563cf"
      },
      "execution_count": 55,
      "outputs": [
        {
          "output_type": "display_data",
          "data": {
            "text/plain": [
              "<Figure size 1152x288 with 3 Axes>"
            ],
            "image/png": "[encoded data removed]"
          },
          "metadata": {
            "needs_background": "light"
          }
        }
      ]
    },
    {
      "cell_type": "code",
      "source": [
        "# Exploremos valores atípicos en el conjunto de datos recortado\n",
        "# para BuildingArea vemos muchos menos valores atípicos que en el conjunto de datos original\n",
        "diagnostic_plots(melb_trimmed, 'BuildingArea')"
      ],
      "metadata": {
        "colab": {
          "base_uri": "https://localhost:8080/",
          "height": 267
        },
        "id": "7zueGzKYP0wR",
        "outputId": "d7f7a301-b0c0-413a-a300-01f1635c28d9"
      },
      "execution_count": 56,
      "outputs": [
        {
          "output_type": "display_data",
          "data": {
            "text/plain": [
              "<Figure size 1152x288 with 3 Axes>"
            ],
            "image/png": "[encoded data removed]"
          },
          "metadata": {
            "needs_background": "light"
          }
        }
      ]
    },
    {
      "cell_type": "code",
      "source": [
        "melb_trimmed.isnull().sum()"
      ],
      "metadata": {
        "colab": {
          "base_uri": "https://localhost:8080/"
        },
        "id": "IDbmlbzDP3HW",
        "outputId": "1d6ce985-03ca-4473-bc77-a8ecc08c8f14"
      },
      "execution_count": 57,
      "outputs": [
        {
          "output_type": "execute_result",
          "data": {
            "text/plain": [
              "Suburb          0\n",
              "Rooms           0\n",
              "Price           0\n",
              "Distance        0\n",
              "Bedroom2        0\n",
              "               ..\n",
              "Whitehorse      0\n",
              "Whittlesea      0\n",
              "Wyndham         0\n",
              "Yarra           0\n",
              "Yarra Ranges    0\n",
              "Length: 61, dtype: int64"
            ]
          },
          "metadata": {},
          "execution_count": 57
        }
      ]
    },
    {
      "cell_type": "code",
      "source": [
        "melb_trimmed.info()"
      ],
      "metadata": {
        "colab": {
          "base_uri": "https://localhost:8080/"
        },
        "id": "Ll5SSQJGP4Vi",
        "outputId": "e396cc24-f2ec-4d86-8491-4d283bca9d2c"
      },
      "execution_count": 58,
      "outputs": [
        {
          "output_type": "stream",
          "name": "stdout",
          "text": [
            "<class 'pandas.core.frame.DataFrame'>\n",
            "Int64Index: 10399 entries, 0 to 13577\n",
            "Data columns (total 61 columns):\n",
            " #   Column                      Non-Null Count  Dtype  \n",
            "---  ------                      --------------  -----  \n",
            " 0   Suburb                      10399 non-null  int64  \n",
            " 1   Rooms                       10399 non-null  int64  \n",
            " 2   Price                       10399 non-null  float64\n",
            " 3   Distance                    10399 non-null  float64\n",
            " 4   Bedroom2                    10399 non-null  float64\n",
            " 5   Bathroom                    10399 non-null  float64\n",
            " 6   Car                         10399 non-null  float64\n",
            " 7   Landsize                    10399 non-null  float64\n",
            " 8   BuildingArea                10399 non-null  float64\n",
            " 9   YearBuilt                   10399 non-null  float64\n",
            " 10  Propertycount               10399 non-null  float64\n",
            " 11  year                        10399 non-null  int64  \n",
            " 12  Eastern Metropolitan        10399 non-null  float64\n",
            " 13  Eastern Victoria            10399 non-null  float64\n",
            " 14  Northern Metropolitan       10399 non-null  float64\n",
            " 15  Northern Victoria           10399 non-null  float64\n",
            " 16  South-Eastern Metropolitan  10399 non-null  float64\n",
            " 17  Southern Metropolitan       10399 non-null  float64\n",
            " 18  Western Metropolitan        10399 non-null  float64\n",
            " 19  Western Victoria            10399 non-null  float64\n",
            " 20  h                           10399 non-null  float64\n",
            " 21  t                           10399 non-null  float64\n",
            " 22  u                           10399 non-null  float64\n",
            " 23  PI                          10399 non-null  float64\n",
            " 24  S                           10399 non-null  float64\n",
            " 25  SA                          10399 non-null  float64\n",
            " 26  SP                          10399 non-null  float64\n",
            " 27  VB                          10399 non-null  float64\n",
            " 28  Banyule                     10399 non-null  float64\n",
            " 29  Bayside                     10399 non-null  float64\n",
            " 30  Boroondara                  10399 non-null  float64\n",
            " 31  Brimbank                    10399 non-null  float64\n",
            " 32  Cardinia                    10399 non-null  float64\n",
            " 33  Casey                       10399 non-null  float64\n",
            " 34  Darebin                     10399 non-null  float64\n",
            " 35  Frankston                   10399 non-null  float64\n",
            " 36  Glen Eira                   10399 non-null  float64\n",
            " 37  Greater Dandenong           10399 non-null  float64\n",
            " 38  Hobsons Bay                 10399 non-null  float64\n",
            " 39  Hume                        10399 non-null  float64\n",
            " 40  Kingston                    10399 non-null  float64\n",
            " 41  Knox                        10399 non-null  float64\n",
            " 42  Macedon Ranges              10399 non-null  float64\n",
            " 43  Manningham                  10399 non-null  float64\n",
            " 44  Maribyrnong                 10399 non-null  float64\n",
            " 45  Maroondah                   10399 non-null  float64\n",
            " 46  Melbourne                   10399 non-null  float64\n",
            " 47  Melton                      10399 non-null  float64\n",
            " 48  Monash                      10399 non-null  float64\n",
            " 49  Moonee Valley               10399 non-null  float64\n",
            " 50  Moorabool                   10399 non-null  float64\n",
            " 51  Moreland                    10399 non-null  float64\n",
            " 52  Nillumbik                   10399 non-null  float64\n",
            " 53  Port Phillip                10399 non-null  float64\n",
            " 54  Stonnington                 10399 non-null  float64\n",
            " 55  Unavailable                 10399 non-null  float64\n",
            " 56  Whitehorse                  10399 non-null  float64\n",
            " 57  Whittlesea                  10399 non-null  float64\n",
            " 58  Wyndham                     10399 non-null  float64\n",
            " 59  Yarra                       10399 non-null  float64\n",
            " 60  Yarra Ranges                10399 non-null  float64\n",
            "dtypes: float64(58), int64(3)\n",
            "memory usage: 4.9 MB\n"
          ]
        }
      ]
    },
    {
      "cell_type": "markdown",
      "source": [
        "#Standardisation"
      ],
      "metadata": {
        "id": "jtrumC9BDt_v"
      }
    },
    {
      "cell_type": "code",
      "source": [
        "from sklearn.model_selection import train_test_split\n",
        "\n",
        "# the scaler - for standardisation\n",
        "from sklearn.preprocessing import StandardScaler"
      ],
      "metadata": {
        "id": "bl2LT1BhEN-Y"
      },
      "execution_count": 59,
      "outputs": []
    },
    {
      "cell_type": "code",
      "source": [
        "# separemos los datos en conjuntos de entrenamiento y prueba\n",
        "X_train, X_test, y_train, y_test = train_test_split(melb_trimmed.drop('Price', axis=1),\n",
        "                                                    melb_trimmed['Price'],\n",
        "                                                    test_size=0.3,\n",
        "                                                    random_state=0)\n",
        "\n",
        "X_train.shape, X_test.shape"
      ],
      "metadata": {
        "colab": {
          "base_uri": "https://localhost:8080/"
        },
        "id": "SLaKqW2_D7gx",
        "outputId": "259ba99d-cf2f-42c9-8aa4-539b9ab4b2ed"
      },
      "execution_count": 60,
      "outputs": [
        {
          "output_type": "execute_result",
          "data": {
            "text/plain": [
              "((7279, 60), (3120, 60))"
            ]
          },
          "metadata": {},
          "execution_count": 60
        }
      ]
    },
    {
      "cell_type": "code",
      "source": [
        "# estandarización: con StandardScaler de sklearn\n",
        "\n",
        "# configurar el escalador\n",
        "scaler = StandardScaler()\n",
        "\n",
        "# ajuste el escalador al juego de trenes, aprenderá los parámetros\n",
        "scaler.fit(X_train)\n",
        "\n",
        "# transformar trenes y conjuntos de prueba\n",
        "X_train_scaled = scaler.transform(X_train)\n",
        "X_test_scaled = scaler.transform(X_test)"
      ],
      "metadata": {
        "id": "ybqQgmJ7EYk4"
      },
      "execution_count": 61,
      "outputs": []
    },
    {
      "cell_type": "code",
      "source": [
        "# el escalador almacena la media de las características, aprendidas del conjunto de trenes\n",
        "scaler.mean_"
      ],
      "metadata": {
        "colab": {
          "base_uri": "https://localhost:8080/"
        },
        "id": "knqaxudwEb6N",
        "outputId": "75a2c2f1-e208-460a-a19a-ee1c8383073f"
      },
      "execution_count": 62,
      "outputs": [
        {
          "output_type": "execute_result",
          "data": {
            "text/plain": [
              "array([1.92874571e+02, 2.91743371e+00, 1.06939827e+01, 2.89600220e+00,\n",
              "       1.47506526e+00, 1.65118835e+00, 4.33338645e+02, 5.62813860e+01,\n",
              "       1.96984490e+03, 7.37111197e+03, 2.01654486e+03, 1.23231213e-01,\n",
              "       3.29715620e-03, 2.72427531e-01, 2.88501168e-03, 3.94284929e-02,\n",
              "       3.39881852e-01, 2.15963731e-01, 2.88501168e-03, 7.04767138e-01,\n",
              "       6.70421761e-02, 2.28190686e-01, 1.04959472e-01, 6.83885149e-01,\n",
              "       7.28121995e-03, 1.20208820e-01, 8.36653386e-02, 7.43233961e-02,\n",
              "       3.80546778e-02, 8.57260613e-02, 3.61313367e-02, 5.49526034e-04,\n",
              "       3.29715620e-03, 6.69047946e-02, 4.80835280e-03, 6.56683610e-02,\n",
              "       4.39620827e-03, 3.39332326e-02, 1.30512433e-02, 1.77222146e-02,\n",
              "       1.73100701e-02, 2.74763017e-04, 2.66520126e-02, 4.49237533e-02,\n",
              "       2.78884462e-02, 2.89874983e-02, 5.49526034e-03, 2.74763017e-02,\n",
              "       6.84159912e-02, 8.24289051e-04, 1.10317351e-01, 3.29715620e-03,\n",
              "       3.95658744e-02, 4.93199615e-02, 2.32174749e-02, 2.50034345e-02,\n",
              "       1.36007693e-02, 5.90740486e-03, 3.50322847e-02, 1.92334112e-03])"
            ]
          },
          "metadata": {},
          "execution_count": 62
        }
      ]
    },
    {
      "cell_type": "code",
      "source": [
        "# el escalador almacena la desviación estándar de las características,\n",
        "# aprendido del train set\n",
        "scaler.scale_"
      ],
      "metadata": {
        "colab": {
          "base_uri": "https://localhost:8080/"
        },
        "id": "z1fR3XlwEb00",
        "outputId": "55a3b166-57ca-4a91-b8c1-ce0bd094e6cc"
      },
      "execution_count": 63,
      "outputs": [
        {
          "output_type": "execute_result",
          "data": {
            "text/plain": [
              "array([8.11697778e+01, 9.40120805e-01, 5.82943859e+00, 9.59709971e-01,\n",
              "       6.51039764e-01, 9.52316012e-01, 2.92434231e+02, 7.57609824e+01,\n",
              "       1.45790119e+01, 4.38520128e+03, 4.97983959e-01, 3.28702420e-01,\n",
              "       5.73261281e-02, 4.45208683e-01, 5.36347684e-02, 1.94612145e-01,\n",
              "       4.73668849e-01, 4.11489244e-01, 5.36347684e-02, 4.56147366e-01,\n",
              "       2.50095027e-01, 4.19666173e-01, 3.06501193e-01, 4.64958334e-01,\n",
              "       8.50188437e-02, 3.25205565e-01, 2.76885265e-01, 2.62296452e-01,\n",
              "       1.91328302e-01, 2.79959111e-01, 1.86616889e-01, 2.34355298e-02,\n",
              "       5.73261281e-02, 2.49857045e-01, 6.91753752e-02, 2.47701488e-01,\n",
              "       6.61580050e-02, 1.81057362e-01, 1.13494089e-01, 1.31939902e-01,\n",
              "       1.30424045e-01, 1.65736997e-02, 1.61064220e-01, 2.07136693e-01,\n",
              "       1.64653214e-01, 1.67771342e-01, 7.39260607e-02, 1.63466677e-01,\n",
              "       2.52458399e-01, 2.86985992e-02, 3.13284908e-01, 5.73261281e-02,\n",
              "       1.94936954e-01, 2.16535223e-01, 1.50593572e-01, 1.56135399e-01,\n",
              "       1.15826544e-01, 7.66322871e-02, 1.83861425e-01, 4.38137179e-02])"
            ]
          },
          "metadata": {},
          "execution_count": 63
        }
      ]
    },
    {
      "cell_type": "code",
      "source": [
        "# transformemos las matrices NumPy devueltas en dataframes\n",
        "X_train_scaled = pd.DataFrame(X_train_scaled, columns=X_train.columns)\n",
        "X_test_scaled = pd.DataFrame(X_test_scaled, columns=X_test.columns)"
      ],
      "metadata": {
        "id": "Lvdt75WMEYRt"
      },
      "execution_count": 64,
      "outputs": []
    },
    {
      "cell_type": "code",
      "source": [
        "# echemos un vistazo al conjunto de datos de entrenamiento original: media y desviación estándar\n",
        "# Uso np.round para reducir el número de decimales a 1.\n",
        "np.round(X_train.describe(), 1)"
      ],
      "metadata": {
        "colab": {
          "base_uri": "https://localhost:8080/",
          "height": 411
        },
        "id": "8-vxb2GGEoMU",
        "outputId": "2479cfbb-ceeb-4ca2-c654-996e16603422"
      },
      "execution_count": 65,
      "outputs": [
        {
          "output_type": "execute_result",
          "data": {
            "text/plain": [
              "       Suburb   Rooms  Distance  Bedroom2  Bathroom     Car  Landsize  \\\n",
              "count  7279.0  7279.0    7279.0    7279.0    7279.0  7279.0    7279.0   \n",
              "mean    192.9     2.9      10.7       2.9       1.5     1.7     433.3   \n",
              "std      81.2     0.9       5.8       1.0       0.7     1.0     292.5   \n",
              "min       0.0     1.0       0.0       0.0       0.0     0.0       0.0   \n",
              "25%     131.0     2.0       6.9       2.0       1.0     1.0     180.0   \n",
              "50%     203.0     3.0      10.3       3.0       1.0     2.0     480.0   \n",
              "75%     267.0     3.0      13.5       3.0       2.0     2.0     653.0   \n",
              "max     313.0     8.0      47.3      20.0       8.0    10.0    1357.0   \n",
              "\n",
              "       BuildingArea  YearBuilt  Propertycount  ...  Moreland  Nillumbik  \\\n",
              "count        7279.0     7279.0         7279.0  ...    7279.0     7279.0   \n",
              "mean           56.3     1969.8         7371.1  ...       0.1        0.0   \n",
              "std            75.8       14.6         4385.5  ...       0.3        0.1   \n",
              "min             0.0     1930.0          389.0  ...       0.0        0.0   \n",
              "25%             0.0     1970.0         4217.0  ...       0.0        0.0   \n",
              "50%             0.0     1970.0         6543.0  ...       0.0        0.0   \n",
              "75%           112.0     1970.0        10167.5  ...       0.0        0.0   \n",
              "max           324.0     2005.0        21650.0  ...       1.0        1.0   \n",
              "\n",
              "       Port Phillip  Stonnington  Unavailable  Whitehorse  Whittlesea  \\\n",
              "count        7279.0       7279.0       7279.0      7279.0      7279.0   \n",
              "mean            0.0          0.0          0.0         0.0         0.0   \n",
              "std             0.2          0.2          0.2         0.2         0.1   \n",
              "min             0.0          0.0          0.0         0.0         0.0   \n",
              "25%             0.0          0.0          0.0         0.0         0.0   \n",
              "50%             0.0          0.0          0.0         0.0         0.0   \n",
              "75%             0.0          0.0          0.0         0.0         0.0   \n",
              "max             1.0          1.0          1.0         1.0         1.0   \n",
              "\n",
              "       Wyndham   Yarra  Yarra Ranges  \n",
              "count   7279.0  7279.0        7279.0  \n",
              "mean       0.0     0.0           0.0  \n",
              "std        0.1     0.2           0.0  \n",
              "min        0.0     0.0           0.0  \n",
              "25%        0.0     0.0           0.0  \n",
              "50%        0.0     0.0           0.0  \n",
              "75%        0.0     0.0           0.0  \n",
              "max        1.0     1.0           1.0  \n",
              "\n",
              "[8 rows x 60 columns]"
            ],
            "text/html": [
              "\n",
              "  <div id=\"df-71bf678e-6e86-4124-b165-b8633cbcc45b\">\n",
              "    <div class=\"colab-df-container\">\n",
              "      <div>\n",
              "<style scoped>\n",
              "    .dataframe tbody tr th:only-of-type {\n",
              "        vertical-align: middle;\n",
              "    }\n",
              "\n",
              "    .dataframe tbody tr th {\n",
              "        vertical-align: top;\n",
              "    }\n",
              "\n",
              "    .dataframe thead th {\n",
              "        text-align: right;\n",
              "    }\n",
              "</style>\n",
              "<table border=\"1\" class=\"dataframe\">\n",
              "  <thead>\n",
              "    <tr style=\"text-align: right;\">\n",
              "      <th></th>\n",
              "      <th>Suburb</th>\n",
              "      <th>Rooms</th>\n",
              "      <th>Distance</th>\n",
              "      <th>Bedroom2</th>\n",
              "      <th>Bathroom</th>\n",
              "      <th>Car</th>\n",
              "      <th>Landsize</th>\n",
              "      <th>BuildingArea</th>\n",
              "      <th>YearBuilt</th>\n",
              "      <th>Propertycount</th>\n",
              "      <th>...</th>\n",
              "      <th>Moreland</th>\n",
              "      <th>Nillumbik</th>\n",
              "      <th>Port Phillip</th>\n",
              "      <th>Stonnington</th>\n",
              "      <th>Unavailable</th>\n",
              "      <th>Whitehorse</th>\n",
              "      <th>Whittlesea</th>\n",
              "      <th>Wyndham</th>\n",
              "      <th>Yarra</th>\n",
              "      <th>Yarra Ranges</th>\n",
              "    </tr>\n",
              "  </thead>\n",
              "  <tbody>\n",
              "    <tr>\n",
              "      <th>count</th>\n",
              "      <td>7279.0</td>\n",
              "      <td>7279.0</td>\n",
              "      <td>7279.0</td>\n",
              "      <td>7279.0</td>\n",
              "      <td>7279.0</td>\n",
              "      <td>7279.0</td>\n",
              "      <td>7279.0</td>\n",
              "      <td>7279.0</td>\n",
              "      <td>7279.0</td>\n",
              "      <td>7279.0</td>\n",
              "      <td>...</td>\n",
              "      <td>7279.0</td>\n",
              "      <td>7279.0</td>\n",
              "      <td>7279.0</td>\n",
              "      <td>7279.0</td>\n",
              "      <td>7279.0</td>\n",
              "      <td>7279.0</td>\n",
              "      <td>7279.0</td>\n",
              "      <td>7279.0</td>\n",
              "      <td>7279.0</td>\n",
              "      <td>7279.0</td>\n",
              "    </tr>\n",
              "    <tr>\n",
              "      <th>mean</th>\n",
              "      <td>192.9</td>\n",
              "      <td>2.9</td>\n",
              "      <td>10.7</td>\n",
              "      <td>2.9</td>\n",
              "      <td>1.5</td>\n",
              "      <td>1.7</td>\n",
              "      <td>433.3</td>\n",
              "      <td>56.3</td>\n",
              "      <td>1969.8</td>\n",
              "      <td>7371.1</td>\n",
              "      <td>...</td>\n",
              "      <td>0.1</td>\n",
              "      <td>0.0</td>\n",
              "      <td>0.0</td>\n",
              "      <td>0.0</td>\n",
              "      <td>0.0</td>\n",
              "      <td>0.0</td>\n",
              "      <td>0.0</td>\n",
              "      <td>0.0</td>\n",
              "      <td>0.0</td>\n",
              "      <td>0.0</td>\n",
              "    </tr>\n",
              "    <tr>\n",
              "      <th>std</th>\n",
              "      <td>81.2</td>\n",
              "      <td>0.9</td>\n",
              "      <td>5.8</td>\n",
              "      <td>1.0</td>\n",
              "      <td>0.7</td>\n",
              "      <td>1.0</td>\n",
              "      <td>292.5</td>\n",
              "      <td>75.8</td>\n",
              "      <td>14.6</td>\n",
              "      <td>4385.5</td>\n",
              "      <td>...</td>\n",
              "      <td>0.3</td>\n",
              "      <td>0.1</td>\n",
              "      <td>0.2</td>\n",
              "      <td>0.2</td>\n",
              "      <td>0.2</td>\n",
              "      <td>0.2</td>\n",
              "      <td>0.1</td>\n",
              "      <td>0.1</td>\n",
              "      <td>0.2</td>\n",
              "      <td>0.0</td>\n",
              "    </tr>\n",
              "    <tr>\n",
              "      <th>min</th>\n",
              "      <td>0.0</td>\n",
              "      <td>1.0</td>\n",
              "      <td>0.0</td>\n",
              "      <td>0.0</td>\n",
              "      <td>0.0</td>\n",
              "      <td>0.0</td>\n",
              "      <td>0.0</td>\n",
              "      <td>0.0</td>\n",
              "      <td>1930.0</td>\n",
              "      <td>389.0</td>\n",
              "      <td>...</td>\n",
              "      <td>0.0</td>\n",
              "      <td>0.0</td>\n",
              "      <td>0.0</td>\n",
              "      <td>0.0</td>\n",
              "      <td>0.0</td>\n",
              "      <td>0.0</td>\n",
              "      <td>0.0</td>\n",
              "      <td>0.0</td>\n",
              "      <td>0.0</td>\n",
              "      <td>0.0</td>\n",
              "    </tr>\n",
              "    <tr>\n",
              "      <th>25%</th>\n",
              "      <td>131.0</td>\n",
              "      <td>2.0</td>\n",
              "      <td>6.9</td>\n",
              "      <td>2.0</td>\n",
              "      <td>1.0</td>\n",
              "      <td>1.0</td>\n",
              "      <td>180.0</td>\n",
              "      <td>0.0</td>\n",
              "      <td>1970.0</td>\n",
              "      <td>4217.0</td>\n",
              "      <td>...</td>\n",
              "      <td>0.0</td>\n",
              "      <td>0.0</td>\n",
              "      <td>0.0</td>\n",
              "      <td>0.0</td>\n",
              "      <td>0.0</td>\n",
              "      <td>0.0</td>\n",
              "      <td>0.0</td>\n",
              "      <td>0.0</td>\n",
              "      <td>0.0</td>\n",
              "      <td>0.0</td>\n",
              "    </tr>\n",
              "    <tr>\n",
              "      <th>50%</th>\n",
              "      <td>203.0</td>\n",
              "      <td>3.0</td>\n",
              "      <td>10.3</td>\n",
              "      <td>3.0</td>\n",
              "      <td>1.0</td>\n",
              "      <td>2.0</td>\n",
              "      <td>480.0</td>\n",
              "      <td>0.0</td>\n",
              "      <td>1970.0</td>\n",
              "      <td>6543.0</td>\n",
              "      <td>...</td>\n",
              "      <td>0.0</td>\n",
              "      <td>0.0</td>\n",
              "      <td>0.0</td>\n",
              "      <td>0.0</td>\n",
              "      <td>0.0</td>\n",
              "      <td>0.0</td>\n",
              "      <td>0.0</td>\n",
              "      <td>0.0</td>\n",
              "      <td>0.0</td>\n",
              "      <td>0.0</td>\n",
              "    </tr>\n",
              "    <tr>\n",
              "      <th>75%</th>\n",
              "      <td>267.0</td>\n",
              "      <td>3.0</td>\n",
              "      <td>13.5</td>\n",
              "      <td>3.0</td>\n",
              "      <td>2.0</td>\n",
              "      <td>2.0</td>\n",
              "      <td>653.0</td>\n",
              "      <td>112.0</td>\n",
              "      <td>1970.0</td>\n",
              "      <td>10167.5</td>\n",
              "      <td>...</td>\n",
              "      <td>0.0</td>\n",
              "      <td>0.0</td>\n",
              "      <td>0.0</td>\n",
              "      <td>0.0</td>\n",
              "      <td>0.0</td>\n",
              "      <td>0.0</td>\n",
              "      <td>0.0</td>\n",
              "      <td>0.0</td>\n",
              "      <td>0.0</td>\n",
              "      <td>0.0</td>\n",
              "    </tr>\n",
              "    <tr>\n",
              "      <th>max</th>\n",
              "      <td>313.0</td>\n",
              "      <td>8.0</td>\n",
              "      <td>47.3</td>\n",
              "      <td>20.0</td>\n",
              "      <td>8.0</td>\n",
              "      <td>10.0</td>\n",
              "      <td>1357.0</td>\n",
              "      <td>324.0</td>\n",
              "      <td>2005.0</td>\n",
              "      <td>21650.0</td>\n",
              "      <td>...</td>\n",
              "      <td>1.0</td>\n",
              "      <td>1.0</td>\n",
              "      <td>1.0</td>\n",
              "      <td>1.0</td>\n",
              "      <td>1.0</td>\n",
              "      <td>1.0</td>\n",
              "      <td>1.0</td>\n",
              "      <td>1.0</td>\n",
              "      <td>1.0</td>\n",
              "      <td>1.0</td>\n",
              "    </tr>\n",
              "  </tbody>\n",
              "</table>\n",
              "<p>8 rows × 60 columns</p>\n",
              "</div>\n",
              "      <button class=\"colab-df-convert\" onclick=\"convertToInteractive('df-71bf678e-6e86-4124-b165-b8633cbcc45b')\"\n",
              "              title=\"Convert this dataframe to an interactive table.\"\n",
              "              style=\"display:none;\">\n",
              "        \n",
              "  <svg xmlns=\"http://www.w3.org/2000/svg\" height=\"24px\"viewBox=\"0 0 24 24\"\n",
              "       width=\"24px\">\n",
              "    <path d=\"M0 0h24v24H0V0z\" fill=\"none\"/>\n",
              "    <path d=\"M18.56 5.44l.94 2.06.94-2.06 2.06-.94-2.06-.94-.94-2.06-.94 2.06-2.06.94zm-11 1L8.5 8.5l.94-2.06 2.06-.94-2.06-.94L8.5 2.5l-.94 2.06-2.06.94zm10 10l.94 2.06.94-2.06 2.06-.94-2.06-.94-.94-2.06-.94 2.06-2.06.94z\"/><path d=\"M17.41 7.96l-1.37-1.37c-.4-.4-.92-.59-1.43-.59-.52 0-1.04.2-1.43.59L10.3 9.45l-7.72 7.72c-.78.78-.78 2.05 0 2.83L4 21.41c.39.39.9.59 1.41.59.51 0 1.02-.2 1.41-.59l7.78-7.78 2.81-2.81c.8-.78.8-2.07 0-2.86zM5.41 20L4 18.59l7.72-7.72 1.47 1.35L5.41 20z\"/>\n",
              "  </svg>\n",
              "      </button>\n",
              "      \n",
              "  <style>\n",
              "    .colab-df-container {\n",
              "      display:flex;\n",
              "      flex-wrap:wrap;\n",
              "      gap: 12px;\n",
              "    }\n",
              "\n",
              "    .colab-df-convert {\n",
              "      background-color: #E8F0FE;\n",
              "      border: none;\n",
              "      border-radius: 50%;\n",
              "      cursor: pointer;\n",
              "      display: none;\n",
              "      fill: #1967D2;\n",
              "      height: 32px;\n",
              "      padding: 0 0 0 0;\n",
              "      width: 32px;\n",
              "    }\n",
              "\n",
              "    .colab-df-convert:hover {\n",
              "      background-color: #E2EBFA;\n",
              "      box-shadow: 0px 1px 2px rgba(60, 64, 67, 0.3), 0px 1px 3px 1px rgba(60, 64, 67, 0.15);\n",
              "      fill: #174EA6;\n",
              "    }\n",
              "\n",
              "    [theme=dark] .colab-df-convert {\n",
              "      background-color: #3B4455;\n",
              "      fill: #D2E3FC;\n",
              "    }\n",
              "\n",
              "    [theme=dark] .colab-df-convert:hover {\n",
              "      background-color: #434B5C;\n",
              "      box-shadow: 0px 1px 3px 1px rgba(0, 0, 0, 0.15);\n",
              "      filter: drop-shadow(0px 1px 2px rgba(0, 0, 0, 0.3));\n",
              "      fill: #FFFFFF;\n",
              "    }\n",
              "  </style>\n",
              "\n",
              "      <script>\n",
              "        const buttonEl =\n",
              "          document.querySelector('#df-71bf678e-6e86-4124-b165-b8633cbcc45b button.colab-df-convert');\n",
              "        buttonEl.style.display =\n",
              "          google.colab.kernel.accessAllowed ? 'block' : 'none';\n",
              "\n",
              "        async function convertToInteractive(key) {\n",
              "          const element = document.querySelector('#df-71bf678e-6e86-4124-b165-b8633cbcc45b');\n",
              "          const dataTable =\n",
              "            await google.colab.kernel.invokeFunction('convertToInteractive',\n",
              "                                                     [key], {});\n",
              "          if (!dataTable) return;\n",
              "\n",
              "          const docLinkHtml = 'Like what you see? Visit the ' +\n",
              "            '<a target=\"_blank\" href=https://colab.research.google.com/notebooks/data_table.ipynb>data table notebook</a>'\n",
              "            + ' to learn more about interactive tables.';\n",
              "          element.innerHTML = '';\n",
              "          dataTable['output_type'] = 'display_data';\n",
              "          await google.colab.output.renderOutput(dataTable, element);\n",
              "          const docLink = document.createElement('div');\n",
              "          docLink.innerHTML = docLinkHtml;\n",
              "          element.appendChild(docLink);\n",
              "        }\n",
              "      </script>\n",
              "    </div>\n",
              "  </div>\n",
              "  "
            ]
          },
          "metadata": {},
          "execution_count": 65
        }
      ]
    },
    {
      "cell_type": "code",
      "source": [
        "# echemos un vistazo al conjunto de datos de entrenamiento escalado: media y desviación estándar\n",
        "# Uso np.round para reducir el número de decimales a 1.\n",
        "np.round(X_train_scaled.describe(), 1)"
      ],
      "metadata": {
        "colab": {
          "base_uri": "https://localhost:8080/",
          "height": 411
        },
        "id": "v49eAziiEoeL",
        "outputId": "cb65a987-9cfa-40ff-e88d-4a7a2c2db7e6"
      },
      "execution_count": 66,
      "outputs": [
        {
          "output_type": "execute_result",
          "data": {
            "text/plain": [
              "       Suburb   Rooms  Distance  Bedroom2  Bathroom     Car  Landsize  \\\n",
              "count  7279.0  7279.0    7279.0    7279.0    7279.0  7279.0    7279.0   \n",
              "mean     -0.0     0.0      -0.0       0.0       0.0     0.0       0.0   \n",
              "std       1.0     1.0       1.0       1.0       1.0     1.0       1.0   \n",
              "min      -2.4    -2.0      -1.8      -3.0      -2.3    -1.7      -1.5   \n",
              "25%      -0.8    -1.0      -0.7      -0.9      -0.7    -0.7      -0.9   \n",
              "50%       0.1     0.1      -0.1       0.1      -0.7     0.4       0.2   \n",
              "75%       0.9     0.1       0.5       0.1       0.8     0.4       0.8   \n",
              "max       1.5     5.4       6.3      17.8      10.0     8.8       3.2   \n",
              "\n",
              "       BuildingArea  YearBuilt  Propertycount  ...  Moreland  Nillumbik  \\\n",
              "count        7279.0     7279.0         7279.0  ...    7279.0     7279.0   \n",
              "mean           -0.0       -0.0           -0.0  ...       0.0       -0.0   \n",
              "std             1.0        1.0            1.0  ...       1.0        1.0   \n",
              "min            -0.7       -2.7           -1.6  ...      -0.4       -0.1   \n",
              "25%            -0.7        0.0           -0.7  ...      -0.4       -0.1   \n",
              "50%            -0.7        0.0           -0.2  ...      -0.4       -0.1   \n",
              "75%             0.7        0.0            0.6  ...      -0.4       -0.1   \n",
              "max             3.5        2.4            3.3  ...       2.8       17.4   \n",
              "\n",
              "       Port Phillip  Stonnington  Unavailable  Whitehorse  Whittlesea  \\\n",
              "count        7279.0       7279.0       7279.0      7279.0      7279.0   \n",
              "mean            0.0         -0.0          0.0        -0.0         0.0   \n",
              "std             1.0          1.0          1.0         1.0         1.0   \n",
              "min            -0.2         -0.2         -0.2        -0.2        -0.1   \n",
              "25%            -0.2         -0.2         -0.2        -0.2        -0.1   \n",
              "50%            -0.2         -0.2         -0.2        -0.2        -0.1   \n",
              "75%            -0.2         -0.2         -0.2        -0.2        -0.1   \n",
              "max             4.9          4.4          6.5         6.2         8.5   \n",
              "\n",
              "       Wyndham   Yarra  Yarra Ranges  \n",
              "count   7279.0  7279.0        7279.0  \n",
              "mean       0.0     0.0           0.0  \n",
              "std        1.0     1.0           1.0  \n",
              "min       -0.1    -0.2          -0.0  \n",
              "25%       -0.1    -0.2          -0.0  \n",
              "50%       -0.1    -0.2          -0.0  \n",
              "75%       -0.1    -0.2          -0.0  \n",
              "max       13.0     5.2          22.8  \n",
              "\n",
              "[8 rows x 60 columns]"
            ],
            "text/html": [
              "\n",
              "  <div id=\"df-9e95d935-f354-4ab6-bfe4-08ba4ce66564\">\n",
              "    <div class=\"colab-df-container\">\n",
              "      <div>\n",
              "<style scoped>\n",
              "    .dataframe tbody tr th:only-of-type {\n",
              "        vertical-align: middle;\n",
              "    }\n",
              "\n",
              "    .dataframe tbody tr th {\n",
              "        vertical-align: top;\n",
              "    }\n",
              "\n",
              "    .dataframe thead th {\n",
              "        text-align: right;\n",
              "    }\n",
              "</style>\n",
              "<table border=\"1\" class=\"dataframe\">\n",
              "  <thead>\n",
              "    <tr style=\"text-align: right;\">\n",
              "      <th></th>\n",
              "      <th>Suburb</th>\n",
              "      <th>Rooms</th>\n",
              "      <th>Distance</th>\n",
              "      <th>Bedroom2</th>\n",
              "      <th>Bathroom</th>\n",
              "      <th>Car</th>\n",
              "      <th>Landsize</th>\n",
              "      <th>BuildingArea</th>\n",
              "      <th>YearBuilt</th>\n",
              "      <th>Propertycount</th>\n",
              "      <th>...</th>\n",
              "      <th>Moreland</th>\n",
              "      <th>Nillumbik</th>\n",
              "      <th>Port Phillip</th>\n",
              "      <th>Stonnington</th>\n",
              "      <th>Unavailable</th>\n",
              "      <th>Whitehorse</th>\n",
              "      <th>Whittlesea</th>\n",
              "      <th>Wyndham</th>\n",
              "      <th>Yarra</th>\n",
              "      <th>Yarra Ranges</th>\n",
              "    </tr>\n",
              "  </thead>\n",
              "  <tbody>\n",
              "    <tr>\n",
              "      <th>count</th>\n",
              "      <td>7279.0</td>\n",
              "      <td>7279.0</td>\n",
              "      <td>7279.0</td>\n",
              "      <td>7279.0</td>\n",
              "      <td>7279.0</td>\n",
              "      <td>7279.0</td>\n",
              "      <td>7279.0</td>\n",
              "      <td>7279.0</td>\n",
              "      <td>7279.0</td>\n",
              "      <td>7279.0</td>\n",
              "      <td>...</td>\n",
              "      <td>7279.0</td>\n",
              "      <td>7279.0</td>\n",
              "      <td>7279.0</td>\n",
              "      <td>7279.0</td>\n",
              "      <td>7279.0</td>\n",
              "      <td>7279.0</td>\n",
              "      <td>7279.0</td>\n",
              "      <td>7279.0</td>\n",
              "      <td>7279.0</td>\n",
              "      <td>7279.0</td>\n",
              "    </tr>\n",
              "    <tr>\n",
              "      <th>mean</th>\n",
              "      <td>-0.0</td>\n",
              "      <td>0.0</td>\n",
              "      <td>-0.0</td>\n",
              "      <td>0.0</td>\n",
              "      <td>0.0</td>\n",
              "      <td>0.0</td>\n",
              "      <td>0.0</td>\n",
              "      <td>-0.0</td>\n",
              "      <td>-0.0</td>\n",
              "      <td>-0.0</td>\n",
              "      <td>...</td>\n",
              "      <td>0.0</td>\n",
              "      <td>-0.0</td>\n",
              "      <td>0.0</td>\n",
              "      <td>-0.0</td>\n",
              "      <td>0.0</td>\n",
              "      <td>-0.0</td>\n",
              "      <td>0.0</td>\n",
              "      <td>0.0</td>\n",
              "      <td>0.0</td>\n",
              "      <td>0.0</td>\n",
              "    </tr>\n",
              "    <tr>\n",
              "      <th>std</th>\n",
              "      <td>1.0</td>\n",
              "      <td>1.0</td>\n",
              "      <td>1.0</td>\n",
              "      <td>1.0</td>\n",
              "      <td>1.0</td>\n",
              "      <td>1.0</td>\n",
              "      <td>1.0</td>\n",
              "      <td>1.0</td>\n",
              "      <td>1.0</td>\n",
              "      <td>1.0</td>\n",
              "      <td>...</td>\n",
              "      <td>1.0</td>\n",
              "      <td>1.0</td>\n",
              "      <td>1.0</td>\n",
              "      <td>1.0</td>\n",
              "      <td>1.0</td>\n",
              "      <td>1.0</td>\n",
              "      <td>1.0</td>\n",
              "      <td>1.0</td>\n",
              "      <td>1.0</td>\n",
              "      <td>1.0</td>\n",
              "    </tr>\n",
              "    <tr>\n",
              "      <th>min</th>\n",
              "      <td>-2.4</td>\n",
              "      <td>-2.0</td>\n",
              "      <td>-1.8</td>\n",
              "      <td>-3.0</td>\n",
              "      <td>-2.3</td>\n",
              "      <td>-1.7</td>\n",
              "      <td>-1.5</td>\n",
              "      <td>-0.7</td>\n",
              "      <td>-2.7</td>\n",
              "      <td>-1.6</td>\n",
              "      <td>...</td>\n",
              "      <td>-0.4</td>\n",
              "      <td>-0.1</td>\n",
              "      <td>-0.2</td>\n",
              "      <td>-0.2</td>\n",
              "      <td>-0.2</td>\n",
              "      <td>-0.2</td>\n",
              "      <td>-0.1</td>\n",
              "      <td>-0.1</td>\n",
              "      <td>-0.2</td>\n",
              "      <td>-0.0</td>\n",
              "    </tr>\n",
              "    <tr>\n",
              "      <th>25%</th>\n",
              "      <td>-0.8</td>\n",
              "      <td>-1.0</td>\n",
              "      <td>-0.7</td>\n",
              "      <td>-0.9</td>\n",
              "      <td>-0.7</td>\n",
              "      <td>-0.7</td>\n",
              "      <td>-0.9</td>\n",
              "      <td>-0.7</td>\n",
              "      <td>0.0</td>\n",
              "      <td>-0.7</td>\n",
              "      <td>...</td>\n",
              "      <td>-0.4</td>\n",
              "      <td>-0.1</td>\n",
              "      <td>-0.2</td>\n",
              "      <td>-0.2</td>\n",
              "      <td>-0.2</td>\n",
              "      <td>-0.2</td>\n",
              "      <td>-0.1</td>\n",
              "      <td>-0.1</td>\n",
              "      <td>-0.2</td>\n",
              "      <td>-0.0</td>\n",
              "    </tr>\n",
              "    <tr>\n",
              "      <th>50%</th>\n",
              "      <td>0.1</td>\n",
              "      <td>0.1</td>\n",
              "      <td>-0.1</td>\n",
              "      <td>0.1</td>\n",
              "      <td>-0.7</td>\n",
              "      <td>0.4</td>\n",
              "      <td>0.2</td>\n",
              "      <td>-0.7</td>\n",
              "      <td>0.0</td>\n",
              "      <td>-0.2</td>\n",
              "      <td>...</td>\n",
              "      <td>-0.4</td>\n",
              "      <td>-0.1</td>\n",
              "      <td>-0.2</td>\n",
              "      <td>-0.2</td>\n",
              "      <td>-0.2</td>\n",
              "      <td>-0.2</td>\n",
              "      <td>-0.1</td>\n",
              "      <td>-0.1</td>\n",
              "      <td>-0.2</td>\n",
              "      <td>-0.0</td>\n",
              "    </tr>\n",
              "    <tr>\n",
              "      <th>75%</th>\n",
              "      <td>0.9</td>\n",
              "      <td>0.1</td>\n",
              "      <td>0.5</td>\n",
              "      <td>0.1</td>\n",
              "      <td>0.8</td>\n",
              "      <td>0.4</td>\n",
              "      <td>0.8</td>\n",
              "      <td>0.7</td>\n",
              "      <td>0.0</td>\n",
              "      <td>0.6</td>\n",
              "      <td>...</td>\n",
              "      <td>-0.4</td>\n",
              "      <td>-0.1</td>\n",
              "      <td>-0.2</td>\n",
              "      <td>-0.2</td>\n",
              "      <td>-0.2</td>\n",
              "      <td>-0.2</td>\n",
              "      <td>-0.1</td>\n",
              "      <td>-0.1</td>\n",
              "      <td>-0.2</td>\n",
              "      <td>-0.0</td>\n",
              "    </tr>\n",
              "    <tr>\n",
              "      <th>max</th>\n",
              "      <td>1.5</td>\n",
              "      <td>5.4</td>\n",
              "      <td>6.3</td>\n",
              "      <td>17.8</td>\n",
              "      <td>10.0</td>\n",
              "      <td>8.8</td>\n",
              "      <td>3.2</td>\n",
              "      <td>3.5</td>\n",
              "      <td>2.4</td>\n",
              "      <td>3.3</td>\n",
              "      <td>...</td>\n",
              "      <td>2.8</td>\n",
              "      <td>17.4</td>\n",
              "      <td>4.9</td>\n",
              "      <td>4.4</td>\n",
              "      <td>6.5</td>\n",
              "      <td>6.2</td>\n",
              "      <td>8.5</td>\n",
              "      <td>13.0</td>\n",
              "      <td>5.2</td>\n",
              "      <td>22.8</td>\n",
              "    </tr>\n",
              "  </tbody>\n",
              "</table>\n",
              "<p>8 rows × 60 columns</p>\n",
              "</div>\n",
              "      <button class=\"colab-df-convert\" onclick=\"convertToInteractive('df-9e95d935-f354-4ab6-bfe4-08ba4ce66564')\"\n",
              "              title=\"Convert this dataframe to an interactive table.\"\n",
              "              style=\"display:none;\">\n",
              "        \n",
              "  <svg xmlns=\"http://www.w3.org/2000/svg\" height=\"24px\"viewBox=\"0 0 24 24\"\n",
              "       width=\"24px\">\n",
              "    <path d=\"M0 0h24v24H0V0z\" fill=\"none\"/>\n",
              "    <path d=\"M18.56 5.44l.94 2.06.94-2.06 2.06-.94-2.06-.94-.94-2.06-.94 2.06-2.06.94zm-11 1L8.5 8.5l.94-2.06 2.06-.94-2.06-.94L8.5 2.5l-.94 2.06-2.06.94zm10 10l.94 2.06.94-2.06 2.06-.94-2.06-.94-.94-2.06-.94 2.06-2.06.94z\"/><path d=\"M17.41 7.96l-1.37-1.37c-.4-.4-.92-.59-1.43-.59-.52 0-1.04.2-1.43.59L10.3 9.45l-7.72 7.72c-.78.78-.78 2.05 0 2.83L4 21.41c.39.39.9.59 1.41.59.51 0 1.02-.2 1.41-.59l7.78-7.78 2.81-2.81c.8-.78.8-2.07 0-2.86zM5.41 20L4 18.59l7.72-7.72 1.47 1.35L5.41 20z\"/>\n",
              "  </svg>\n",
              "      </button>\n",
              "      \n",
              "  <style>\n",
              "    .colab-df-container {\n",
              "      display:flex;\n",
              "      flex-wrap:wrap;\n",
              "      gap: 12px;\n",
              "    }\n",
              "\n",
              "    .colab-df-convert {\n",
              "      background-color: #E8F0FE;\n",
              "      border: none;\n",
              "      border-radius: 50%;\n",
              "      cursor: pointer;\n",
              "      display: none;\n",
              "      fill: #1967D2;\n",
              "      height: 32px;\n",
              "      padding: 0 0 0 0;\n",
              "      width: 32px;\n",
              "    }\n",
              "\n",
              "    .colab-df-convert:hover {\n",
              "      background-color: #E2EBFA;\n",
              "      box-shadow: 0px 1px 2px rgba(60, 64, 67, 0.3), 0px 1px 3px 1px rgba(60, 64, 67, 0.15);\n",
              "      fill: #174EA6;\n",
              "    }\n",
              "\n",
              "    [theme=dark] .colab-df-convert {\n",
              "      background-color: #3B4455;\n",
              "      fill: #D2E3FC;\n",
              "    }\n",
              "\n",
              "    [theme=dark] .colab-df-convert:hover {\n",
              "      background-color: #434B5C;\n",
              "      box-shadow: 0px 1px 3px 1px rgba(0, 0, 0, 0.15);\n",
              "      filter: drop-shadow(0px 1px 2px rgba(0, 0, 0, 0.3));\n",
              "      fill: #FFFFFF;\n",
              "    }\n",
              "  </style>\n",
              "\n",
              "      <script>\n",
              "        const buttonEl =\n",
              "          document.querySelector('#df-9e95d935-f354-4ab6-bfe4-08ba4ce66564 button.colab-df-convert');\n",
              "        buttonEl.style.display =\n",
              "          google.colab.kernel.accessAllowed ? 'block' : 'none';\n",
              "\n",
              "        async function convertToInteractive(key) {\n",
              "          const element = document.querySelector('#df-9e95d935-f354-4ab6-bfe4-08ba4ce66564');\n",
              "          const dataTable =\n",
              "            await google.colab.kernel.invokeFunction('convertToInteractive',\n",
              "                                                     [key], {});\n",
              "          if (!dataTable) return;\n",
              "\n",
              "          const docLinkHtml = 'Like what you see? Visit the ' +\n",
              "            '<a target=\"_blank\" href=https://colab.research.google.com/notebooks/data_table.ipynb>data table notebook</a>'\n",
              "            + ' to learn more about interactive tables.';\n",
              "          element.innerHTML = '';\n",
              "          dataTable['output_type'] = 'display_data';\n",
              "          await google.colab.output.renderOutput(dataTable, element);\n",
              "          const docLink = document.createElement('div');\n",
              "          docLink.innerHTML = docLinkHtml;\n",
              "          element.appendChild(docLink);\n",
              "        }\n",
              "      </script>\n",
              "    </div>\n",
              "  </div>\n",
              "  "
            ]
          },
          "metadata": {},
          "execution_count": 66
        }
      ]
    },
    {
      "cell_type": "code",
      "source": [
        "# comparemos las distribuciones de variables antes y después de escalar\n",
        "fig, (ax1, ax2) = plt.subplots(ncols=2, figsize=(12, 5))\n",
        "\n",
        "# antes del escalado\n",
        "ax1.set_title('Before Scaling')\n",
        "sns.kdeplot(X_train['Car'], ax=ax1)\n",
        "sns.kdeplot(X_train['Landsize'], ax=ax1)\n",
        "sns.kdeplot(X_train['BuildingArea'], ax=ax1)\n",
        "\n",
        "# despues del escalado\n",
        "ax2.set_title('After Standard Scaling')\n",
        "sns.kdeplot(X_train_scaled['Car'], ax=ax2)\n",
        "sns.kdeplot(X_train_scaled['Landsize'], ax=ax2)\n",
        "sns.kdeplot(X_train_scaled['BuildingArea'], ax=ax2)\n",
        "plt.show()"
      ],
      "metadata": {
        "colab": {
          "base_uri": "https://localhost:8080/",
          "height": 350
        },
        "id": "74qbicpiE9aF",
        "outputId": "080a1d4d-474c-4788-8c34-cf5132820178"
      },
      "execution_count": 67,
      "outputs": [
        {
          "output_type": "display_data",
          "data": {
            "text/plain": [
              "<Figure size 864x360 with 2 Axes>"
            ],
            "image/png": "[encoded data removed]"
          },
          "metadata": {
            "needs_background": "light"
          }
        }
      ]
    },
    {
      "cell_type": "code",
      "source": [
        "# comparemos las distribuciones de variables antes y después de escalar\n",
        "\n",
        "fig, (ax1, ax2) = plt.subplots(ncols=2, figsize=(12, 5))\n",
        "\n",
        "# antes del escalado\n",
        "ax1.set_title('Before Scaling')\n",
        "sns.kdeplot(X_train['BuildingArea'], ax=ax1)\n",
        "#sns.kdeplot(X_train['Landsize'], ax=ax1)\n",
        "sns.kdeplot(X_train['YearBuilt'], ax=ax1)\n",
        "\n",
        "# despues del escalado\n",
        "ax2.set_title('After Standard Scaling')\n",
        "sns.kdeplot(X_train_scaled['BuildingArea'], ax=ax2)\n",
        "sns.kdeplot(X_train_scaled['Landsize'], ax=ax2)\n",
        "sns.kdeplot(X_train_scaled['YearBuilt'], ax=ax2)\n",
        "plt.show()"
      ],
      "metadata": {
        "colab": {
          "base_uri": "https://localhost:8080/",
          "height": 350
        },
        "id": "eDdI2pMPE9HN",
        "outputId": "0db062f2-da35-4edf-bf22-3fb25a568297"
      },
      "execution_count": 68,
      "outputs": [
        {
          "output_type": "display_data",
          "data": {
            "text/plain": [
              "<Figure size 864x360 with 2 Axes>"
            ],
            "image/png": "[encoded data removed]"
          },
          "metadata": {
            "needs_background": "light"
          }
        }
      ]
    },
    {
      "cell_type": "markdown",
      "source": [
        "# Modelos de Machine Learning"
      ],
      "metadata": {
        "id": "2xueD7PKqJM6"
      }
    },
    {
      "cell_type": "markdown",
      "source": [
        "## Random Forest"
      ],
      "metadata": {
        "id": "54smZefaqOMv"
      }
    },
    {
      "cell_type": "code",
      "source": [
        "from sklearn.ensemble import RandomForestClassifier\n",
        "from sklearn.datasets import make_classification\n",
        "\n",
        "rf = RandomForestClassifier(n_estimators=100, max_depth=10, random_state=42)\n",
        "rf.fit(X_train_scaled, y_train)"
      ],
      "metadata": {
        "id": "0bXvIZWXWVxY",
        "colab": {
          "base_uri": "https://localhost:8080/"
        },
        "outputId": "b83ebe6b-3952-470d-c225-632b125dc47e"
      },
      "execution_count": 69,
      "outputs": [
        {
          "output_type": "execute_result",
          "data": {
            "text/plain": [
              "RandomForestClassifier(max_depth=10, random_state=42)"
            ]
          },
          "metadata": {},
          "execution_count": 69
        }
      ]
    },
    {
      "cell_type": "code",
      "source": [
        "# prediction on test set\n",
        "y_predict = rf.predict(X_test_scaled)"
      ],
      "metadata": {
        "id": "zqdTFaAVqG7s"
      },
      "execution_count": 70,
      "outputs": []
    },
    {
      "cell_type": "code",
      "source": [
        "#Import scikit-learn metrics module for accuracy calculation\n",
        "from sklearn.metrics import accuracy_score\n",
        "from sklearn.metrics import mean_squared_error\n",
        "from sklearn import metrics\n",
        "\n",
        "print('Mean Square Error=', mean_squared_error(y_test, y_predict))\n",
        "print('R^2 =',metrics.explained_variance_score(y_test,y_predict))"
      ],
      "metadata": {
        "colab": {
          "base_uri": "https://localhost:8080/"
        },
        "id": "eUwCkEL7kFgR",
        "outputId": "8be67b7e-119b-4252-c4c1-985693857814"
      },
      "execution_count": 72,
      "outputs": [
        {
          "output_type": "stream",
          "name": "stdout",
          "text": [
            "Mean Square Error= 133436346221.06282\n",
            "R^2 = 0.5708289175270127\n"
          ]
        }
      ]
    },
    {
      "cell_type": "markdown",
      "source": [
        "## AdaBoost"
      ],
      "metadata": {
        "id": "b4xsgNKPTLuh"
      }
    },
    {
      "cell_type": "code",
      "source": [
        "from sklearn.ensemble import AdaBoostRegressor\n",
        "from sklearn.ensemble import AdaBoostClassifier\n",
        "from sklearn.datasets import make_classification\n",
        "\n",
        "adb = AdaBoostRegressor(random_state=42, n_estimators=100)\n",
        "adb.fit(X_train_scaled, y_train)"
      ],
      "metadata": {
        "colab": {
          "base_uri": "https://localhost:8080/"
        },
        "id": "SOf0-6JjTN0h",
        "outputId": "9496e0fb-b72b-4642-f3fa-312f3ba55da7"
      },
      "execution_count": 73,
      "outputs": [
        {
          "output_type": "execute_result",
          "data": {
            "text/plain": [
              "AdaBoostRegressor(n_estimators=100, random_state=42)"
            ]
          },
          "metadata": {},
          "execution_count": 73
        }
      ]
    },
    {
      "cell_type": "code",
      "source": [
        "# prediction on test set\n",
        "y_predict = adb.predict(X_test_scaled)"
      ],
      "metadata": {
        "id": "H41Tu5m-TxJx"
      },
      "execution_count": 74,
      "outputs": []
    },
    {
      "cell_type": "code",
      "source": [
        "#Import scikit-learn metrics module for accuracy calculation\n",
        "from sklearn.metrics import mean_squared_error\n",
        "from sklearn import metrics\n",
        "\n",
        "print('Mean Square Error =',mean_squared_error(y_test, y_predict))\n",
        "print('R^2 =',metrics.explained_variance_score(y_test,y_predict))"
      ],
      "metadata": {
        "id": "GOHZ0caoTuM9",
        "colab": {
          "base_uri": "https://localhost:8080/"
        },
        "outputId": "70432a70-7b0b-459e-c406-64bb3221d502"
      },
      "execution_count": 75,
      "outputs": [
        {
          "output_type": "stream",
          "name": "stdout",
          "text": [
            "Mean Square Error = 276245770353.63104\n",
            "R^2 = 0.6236013213198051\n"
          ]
        }
      ]
    }
  ]
}