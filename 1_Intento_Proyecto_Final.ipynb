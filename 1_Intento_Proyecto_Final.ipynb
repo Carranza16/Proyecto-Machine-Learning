{
  "nbformat": 4,
  "nbformat_minor": 0,
  "metadata": {
    "colab": {
      "provenance": [],
      "include_colab_link": true
    },
    "kernelspec": {
      "name": "python3",
      "display_name": "Python 3"
    },
    "language_info": {
      "name": "python"
    }
  },
  "cells": [
    {
      "cell_type": "markdown",
      "metadata": {
        "id": "view-in-github",
        "colab_type": "text"
      },
      "source": [
        "<a href=\"https://colab.research.google.com/github/Carranza16/Proyecto-Machine-Learning/blob/main/1_Intento_Proyecto_Final.ipynb\" target=\"_parent\"><img src=\"https://colab.research.google.com/assets/colab-badge.svg\" alt=\"Open In Colab\"/></a>"
      ]
    },
    {
      "cell_type": "markdown",
      "source": [
        "#Melbourne Dataset\n",
        "Extraido desde: https://www.kaggle.com/datasets/dansbecker/melbourne-housing-snapshot\n",
        "\n",
        "#Descripción de Variables:\n",
        "**Rooms:** Número de habitaciones\n",
        "\n",
        "**Price:** Precio en dolares\n",
        "\n",
        "**Method:** S - propiedad vendida; SP - propiedad vendida ante; PI - propiedad traspasada; PN - vendido antes no divulgado; SN - vendido no divulgado; NB - sin oferta; VB - oferta del proveedor; W - retirado antes de la subasta; SA - vendido después de la subasta; SS - vendido después del precio de la subasta no revelado. N/A - precio u oferta más alta no disponible.\n",
        "\n",
        "**Type:** br - bedroom(s); h - casa, cabaña, villa, semi, terraza; u - unidad, duplex; t - casa adosada; dev site - sitio en desarrollo; o res - otras residenciales.\n",
        "\n",
        "**SellerG:** Agente de bienes raíces\n",
        "\n",
        "**Date:** Fecha de venta\n",
        "\n",
        "**Distance:** Distancia desde CBD\n",
        "\n",
        "**Regionname:** Región General (West, North West, North, North east …etc)\n",
        "\n",
        "**Propertycount:** Número de propiedades que existen en el suburbio.\n",
        "\n",
        "**Bedroom2:** Numero de dormitorios (from different source)\n",
        "\n",
        "**Bathroom:** Numero de baños\n",
        "\n",
        "**Car:** Numero de sitios para aparcar\n",
        "\n",
        "**Landsize:** Tamaño del terreno\n",
        "\n",
        "**BuildingArea:** Tamaño del edificio\n",
        "\n",
        "**CouncilArea:** Consejo de gobierno de la zona"
      ],
      "metadata": {
        "id": "2OjQRuAwUOmB"
      }
    },
    {
      "cell_type": "markdown",
      "source": [
        "# Problema: \n",
        "Predecir el precio de la vivienda en Melbourne en función a nuestras columnas X.\n",
        "\n",
        "#Solución tecnológica: \n",
        "\n",
        "Utilizar un modelo de machine learning para analizar el conjunto de datos Melbourne Housing Snapshot y entrenar un modelo que pueda predecir el precio de la vivienda en función a todos los X. Se utilizará los modelos de RandomForest y AdaBoost. Luego, se podría evaluar el rendimiento del modelo utilizando las métricas nesarias."
      ],
      "metadata": {
        "id": "ELfTDLAqSiga"
      }
    },
    {
      "cell_type": "markdown",
      "source": [
        "![intento_1.PNG](data:image/png;base64,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)"
      ],
      "metadata": {
        "id": "2xHWzFyITnwz"
      }
    },
    {
      "cell_type": "markdown",
      "source": [
        "#Limpiar los datos: realiza el proceso EDA"
      ],
      "metadata": {
        "id": "r6D9ayPbTS3V"
      }
    },
    {
      "cell_type": "code",
      "execution_count": null,
      "metadata": {
        "id": "mMPNK317Su4H"
      },
      "outputs": [],
      "source": [
        "import pandas as pd               \n",
        "import numpy as np                \n",
        "import matplotlib.pyplot as plt  \n",
        "import seaborn as sns             \n",
        "%matplotlib inline               "
      ]
    },
    {
      "cell_type": "code",
      "source": [
        "# Leemos la data\n",
        "melb_data = pd.read_csv(\"/content/sample_data/melb_data.csv\")"
      ],
      "metadata": {
        "id": "bhFL4bvNGPH9"
      },
      "execution_count": null,
      "outputs": []
    },
    {
      "cell_type": "code",
      "source": [
        "# Visualizamos la data\n",
        "melb_data.head()"
      ],
      "metadata": {
        "id": "hSjyxWXdmhAE",
        "colab": {
          "base_uri": "https://localhost:8080/",
          "height": 421
        },
        "outputId": "789cf19e-137a-40d2-fb53-68e210de0363"
      },
      "execution_count": null,
      "outputs": [
        {
          "output_type": "execute_result",
          "data": {
            "text/plain": [
              "       Suburb           Address  Rooms Type      Price Method SellerG  \\\n",
              "0  Abbotsford      85 Turner St      2    h  1480000.0      S  Biggin   \n",
              "1  Abbotsford   25 Bloomburg St      2    h  1035000.0      S  Biggin   \n",
              "2  Abbotsford      5 Charles St      3    h  1465000.0     SP  Biggin   \n",
              "3  Abbotsford  40 Federation La      3    h   850000.0     PI  Biggin   \n",
              "4  Abbotsford       55a Park St      4    h  1600000.0     VB  Nelson   \n",
              "\n",
              "        Date  Distance  Postcode  ...  Bathroom  Car  Landsize  BuildingArea  \\\n",
              "0  3/12/2016       2.5    3067.0  ...       1.0  1.0     202.0           NaN   \n",
              "1  4/02/2016       2.5    3067.0  ...       1.0  0.0     156.0          79.0   \n",
              "2  4/03/2017       2.5    3067.0  ...       2.0  0.0     134.0         150.0   \n",
              "3  4/03/2017       2.5    3067.0  ...       2.0  1.0      94.0           NaN   \n",
              "4  4/06/2016       2.5    3067.0  ...       1.0  2.0     120.0         142.0   \n",
              "\n",
              "   YearBuilt  CouncilArea Lattitude  Longtitude             Regionname  \\\n",
              "0        NaN        Yarra  -37.7996    144.9984  Northern Metropolitan   \n",
              "1     1900.0        Yarra  -37.8079    144.9934  Northern Metropolitan   \n",
              "2     1900.0        Yarra  -37.8093    144.9944  Northern Metropolitan   \n",
              "3        NaN        Yarra  -37.7969    144.9969  Northern Metropolitan   \n",
              "4     2014.0        Yarra  -37.8072    144.9941  Northern Metropolitan   \n",
              "\n",
              "  Propertycount  \n",
              "0        4019.0  \n",
              "1        4019.0  \n",
              "2        4019.0  \n",
              "3        4019.0  \n",
              "4        4019.0  \n",
              "\n",
              "[5 rows x 21 columns]"
            ],
            "text/html": [
              "\n",
              "  <div id=\"df-750d0b81-f563-444d-9e61-3ca8aaac0249\">\n",
              "    <div class=\"colab-df-container\">\n",
              "      <div>\n",
              "<style scoped>\n",
              "    .dataframe tbody tr th:only-of-type {\n",
              "        vertical-align: middle;\n",
              "    }\n",
              "\n",
              "    .dataframe tbody tr th {\n",
              "        vertical-align: top;\n",
              "    }\n",
              "\n",
              "    .dataframe thead th {\n",
              "        text-align: right;\n",
              "    }\n",
              "</style>\n",
              "<table border=\"1\" class=\"dataframe\">\n",
              "  <thead>\n",
              "    <tr style=\"text-align: right;\">\n",
              "      <th></th>\n",
              "      <th>Suburb</th>\n",
              "      <th>Address</th>\n",
              "      <th>Rooms</th>\n",
              "      <th>Type</th>\n",
              "      <th>Price</th>\n",
              "      <th>Method</th>\n",
              "      <th>SellerG</th>\n",
              "      <th>Date</th>\n",
              "      <th>Distance</th>\n",
              "      <th>Postcode</th>\n",
              "      <th>...</th>\n",
              "      <th>Bathroom</th>\n",
              "      <th>Car</th>\n",
              "      <th>Landsize</th>\n",
              "      <th>BuildingArea</th>\n",
              "      <th>YearBuilt</th>\n",
              "      <th>CouncilArea</th>\n",
              "      <th>Lattitude</th>\n",
              "      <th>Longtitude</th>\n",
              "      <th>Regionname</th>\n",
              "      <th>Propertycount</th>\n",
              "    </tr>\n",
              "  </thead>\n",
              "  <tbody>\n",
              "    <tr>\n",
              "      <th>0</th>\n",
              "      <td>Abbotsford</td>\n",
              "      <td>85 Turner St</td>\n",
              "      <td>2</td>\n",
              "      <td>h</td>\n",
              "      <td>1480000.0</td>\n",
              "      <td>S</td>\n",
              "      <td>Biggin</td>\n",
              "      <td>3/12/2016</td>\n",
              "      <td>2.5</td>\n",
              "      <td>3067.0</td>\n",
              "      <td>...</td>\n",
              "      <td>1.0</td>\n",
              "      <td>1.0</td>\n",
              "      <td>202.0</td>\n",
              "      <td>NaN</td>\n",
              "      <td>NaN</td>\n",
              "      <td>Yarra</td>\n",
              "      <td>-37.7996</td>\n",
              "      <td>144.9984</td>\n",
              "      <td>Northern Metropolitan</td>\n",
              "      <td>4019.0</td>\n",
              "    </tr>\n",
              "    <tr>\n",
              "      <th>1</th>\n",
              "      <td>Abbotsford</td>\n",
              "      <td>25 Bloomburg St</td>\n",
              "      <td>2</td>\n",
              "      <td>h</td>\n",
              "      <td>1035000.0</td>\n",
              "      <td>S</td>\n",
              "      <td>Biggin</td>\n",
              "      <td>4/02/2016</td>\n",
              "      <td>2.5</td>\n",
              "      <td>3067.0</td>\n",
              "      <td>...</td>\n",
              "      <td>1.0</td>\n",
              "      <td>0.0</td>\n",
              "      <td>156.0</td>\n",
              "      <td>79.0</td>\n",
              "      <td>1900.0</td>\n",
              "      <td>Yarra</td>\n",
              "      <td>-37.8079</td>\n",
              "      <td>144.9934</td>\n",
              "      <td>Northern Metropolitan</td>\n",
              "      <td>4019.0</td>\n",
              "    </tr>\n",
              "    <tr>\n",
              "      <th>2</th>\n",
              "      <td>Abbotsford</td>\n",
              "      <td>5 Charles St</td>\n",
              "      <td>3</td>\n",
              "      <td>h</td>\n",
              "      <td>1465000.0</td>\n",
              "      <td>SP</td>\n",
              "      <td>Biggin</td>\n",
              "      <td>4/03/2017</td>\n",
              "      <td>2.5</td>\n",
              "      <td>3067.0</td>\n",
              "      <td>...</td>\n",
              "      <td>2.0</td>\n",
              "      <td>0.0</td>\n",
              "      <td>134.0</td>\n",
              "      <td>150.0</td>\n",
              "      <td>1900.0</td>\n",
              "      <td>Yarra</td>\n",
              "      <td>-37.8093</td>\n",
              "      <td>144.9944</td>\n",
              "      <td>Northern Metropolitan</td>\n",
              "      <td>4019.0</td>\n",
              "    </tr>\n",
              "    <tr>\n",
              "      <th>3</th>\n",
              "      <td>Abbotsford</td>\n",
              "      <td>40 Federation La</td>\n",
              "      <td>3</td>\n",
              "      <td>h</td>\n",
              "      <td>850000.0</td>\n",
              "      <td>PI</td>\n",
              "      <td>Biggin</td>\n",
              "      <td>4/03/2017</td>\n",
              "      <td>2.5</td>\n",
              "      <td>3067.0</td>\n",
              "      <td>...</td>\n",
              "      <td>2.0</td>\n",
              "      <td>1.0</td>\n",
              "      <td>94.0</td>\n",
              "      <td>NaN</td>\n",
              "      <td>NaN</td>\n",
              "      <td>Yarra</td>\n",
              "      <td>-37.7969</td>\n",
              "      <td>144.9969</td>\n",
              "      <td>Northern Metropolitan</td>\n",
              "      <td>4019.0</td>\n",
              "    </tr>\n",
              "    <tr>\n",
              "      <th>4</th>\n",
              "      <td>Abbotsford</td>\n",
              "      <td>55a Park St</td>\n",
              "      <td>4</td>\n",
              "      <td>h</td>\n",
              "      <td>1600000.0</td>\n",
              "      <td>VB</td>\n",
              "      <td>Nelson</td>\n",
              "      <td>4/06/2016</td>\n",
              "      <td>2.5</td>\n",
              "      <td>3067.0</td>\n",
              "      <td>...</td>\n",
              "      <td>1.0</td>\n",
              "      <td>2.0</td>\n",
              "      <td>120.0</td>\n",
              "      <td>142.0</td>\n",
              "      <td>2014.0</td>\n",
              "      <td>Yarra</td>\n",
              "      <td>-37.8072</td>\n",
              "      <td>144.9941</td>\n",
              "      <td>Northern Metropolitan</td>\n",
              "      <td>4019.0</td>\n",
              "    </tr>\n",
              "  </tbody>\n",
              "</table>\n",
              "<p>5 rows × 21 columns</p>\n",
              "</div>\n",
              "      <button class=\"colab-df-convert\" onclick=\"convertToInteractive('df-750d0b81-f563-444d-9e61-3ca8aaac0249')\"\n",
              "              title=\"Convert this dataframe to an interactive table.\"\n",
              "              style=\"display:none;\">\n",
              "        \n",
              "  <svg xmlns=\"http://www.w3.org/2000/svg\" height=\"24px\"viewBox=\"0 0 24 24\"\n",
              "       width=\"24px\">\n",
              "    <path d=\"M0 0h24v24H0V0z\" fill=\"none\"/>\n",
              "    <path d=\"M18.56 5.44l.94 2.06.94-2.06 2.06-.94-2.06-.94-.94-2.06-.94 2.06-2.06.94zm-11 1L8.5 8.5l.94-2.06 2.06-.94-2.06-.94L8.5 2.5l-.94 2.06-2.06.94zm10 10l.94 2.06.94-2.06 2.06-.94-2.06-.94-.94-2.06-.94 2.06-2.06.94z\"/><path d=\"M17.41 7.96l-1.37-1.37c-.4-.4-.92-.59-1.43-.59-.52 0-1.04.2-1.43.59L10.3 9.45l-7.72 7.72c-.78.78-.78 2.05 0 2.83L4 21.41c.39.39.9.59 1.41.59.51 0 1.02-.2 1.41-.59l7.78-7.78 2.81-2.81c.8-.78.8-2.07 0-2.86zM5.41 20L4 18.59l7.72-7.72 1.47 1.35L5.41 20z\"/>\n",
              "  </svg>\n",
              "      </button>\n",
              "      \n",
              "  <style>\n",
              "    .colab-df-container {\n",
              "      display:flex;\n",
              "      flex-wrap:wrap;\n",
              "      gap: 12px;\n",
              "    }\n",
              "\n",
              "    .colab-df-convert {\n",
              "      background-color: #E8F0FE;\n",
              "      border: none;\n",
              "      border-radius: 50%;\n",
              "      cursor: pointer;\n",
              "      display: none;\n",
              "      fill: #1967D2;\n",
              "      height: 32px;\n",
              "      padding: 0 0 0 0;\n",
              "      width: 32px;\n",
              "    }\n",
              "\n",
              "    .colab-df-convert:hover {\n",
              "      background-color: #E2EBFA;\n",
              "      box-shadow: 0px 1px 2px rgba(60, 64, 67, 0.3), 0px 1px 3px 1px rgba(60, 64, 67, 0.15);\n",
              "      fill: #174EA6;\n",
              "    }\n",
              "\n",
              "    [theme=dark] .colab-df-convert {\n",
              "      background-color: #3B4455;\n",
              "      fill: #D2E3FC;\n",
              "    }\n",
              "\n",
              "    [theme=dark] .colab-df-convert:hover {\n",
              "      background-color: #434B5C;\n",
              "      box-shadow: 0px 1px 3px 1px rgba(0, 0, 0, 0.15);\n",
              "      filter: drop-shadow(0px 1px 2px rgba(0, 0, 0, 0.3));\n",
              "      fill: #FFFFFF;\n",
              "    }\n",
              "  </style>\n",
              "\n",
              "      <script>\n",
              "        const buttonEl =\n",
              "          document.querySelector('#df-750d0b81-f563-444d-9e61-3ca8aaac0249 button.colab-df-convert');\n",
              "        buttonEl.style.display =\n",
              "          google.colab.kernel.accessAllowed ? 'block' : 'none';\n",
              "\n",
              "        async function convertToInteractive(key) {\n",
              "          const element = document.querySelector('#df-750d0b81-f563-444d-9e61-3ca8aaac0249');\n",
              "          const dataTable =\n",
              "            await google.colab.kernel.invokeFunction('convertToInteractive',\n",
              "                                                     [key], {});\n",
              "          if (!dataTable) return;\n",
              "\n",
              "          const docLinkHtml = 'Like what you see? Visit the ' +\n",
              "            '<a target=\"_blank\" href=https://colab.research.google.com/notebooks/data_table.ipynb>data table notebook</a>'\n",
              "            + ' to learn more about interactive tables.';\n",
              "          element.innerHTML = '';\n",
              "          dataTable['output_type'] = 'display_data';\n",
              "          await google.colab.output.renderOutput(dataTable, element);\n",
              "          const docLink = document.createElement('div');\n",
              "          docLink.innerHTML = docLinkHtml;\n",
              "          element.appendChild(docLink);\n",
              "        }\n",
              "      </script>\n",
              "    </div>\n",
              "  </div>\n",
              "  "
            ]
          },
          "metadata": {},
          "execution_count": 3
        }
      ]
    },
    {
      "cell_type": "code",
      "source": [
        "# Visualizamos las columnas de la data\n",
        "melb_data.columns"
      ],
      "metadata": {
        "colab": {
          "base_uri": "https://localhost:8080/"
        },
        "id": "ai2hCguHdklm",
        "outputId": "37dafe6a-bbce-4af3-920f-1c1276114f9c"
      },
      "execution_count": null,
      "outputs": [
        {
          "output_type": "execute_result",
          "data": {
            "text/plain": [
              "Index(['Suburb', 'Address', 'Rooms', 'Type', 'Price', 'Method', 'SellerG',\n",
              "       'Date', 'Distance', 'Postcode', 'Bedroom2', 'Bathroom', 'Car',\n",
              "       'Landsize', 'BuildingArea', 'YearBuilt', 'CouncilArea', 'Lattitude',\n",
              "       'Longtitude', 'Regionname', 'Propertycount'],\n",
              "      dtype='object')"
            ]
          },
          "metadata": {},
          "execution_count": 4
        }
      ]
    },
    {
      "cell_type": "code",
      "source": [
        "# Observamos el tipo de dato de cada columna\n",
        "melb_data.info()"
      ],
      "metadata": {
        "colab": {
          "base_uri": "https://localhost:8080/"
        },
        "id": "FgeUl9M29n2Q",
        "outputId": "f8b580c3-febc-4504-c3c7-b1265b677b75"
      },
      "execution_count": null,
      "outputs": [
        {
          "output_type": "stream",
          "name": "stdout",
          "text": [
            "<class 'pandas.core.frame.DataFrame'>\n",
            "RangeIndex: 13580 entries, 0 to 13579\n",
            "Data columns (total 21 columns):\n",
            " #   Column         Non-Null Count  Dtype  \n",
            "---  ------         --------------  -----  \n",
            " 0   Suburb         13580 non-null  object \n",
            " 1   Address        13580 non-null  object \n",
            " 2   Rooms          13580 non-null  int64  \n",
            " 3   Type           13580 non-null  object \n",
            " 4   Price          13580 non-null  float64\n",
            " 5   Method         13580 non-null  object \n",
            " 6   SellerG        13580 non-null  object \n",
            " 7   Date           13580 non-null  object \n",
            " 8   Distance       13580 non-null  float64\n",
            " 9   Postcode       13580 non-null  float64\n",
            " 10  Bedroom2       13580 non-null  float64\n",
            " 11  Bathroom       13580 non-null  float64\n",
            " 12  Car            13518 non-null  float64\n",
            " 13  Landsize       13580 non-null  float64\n",
            " 14  BuildingArea   7130 non-null   float64\n",
            " 15  YearBuilt      8205 non-null   float64\n",
            " 16  CouncilArea    12211 non-null  object \n",
            " 17  Lattitude      13580 non-null  float64\n",
            " 18  Longtitude     13580 non-null  float64\n",
            " 19  Regionname     13580 non-null  object \n",
            " 20  Propertycount  13580 non-null  float64\n",
            "dtypes: float64(12), int64(1), object(8)\n",
            "memory usage: 2.2+ MB\n"
          ]
        }
      ]
    },
    {
      "cell_type": "code",
      "source": [
        "# Nulos en cada columna (variable)\n",
        "melb_data.isnull().sum()"
      ],
      "metadata": {
        "colab": {
          "base_uri": "https://localhost:8080/"
        },
        "id": "ui9tnehf93lX",
        "outputId": "b4358ef8-f985-494f-9b71-6f5143a8ed36"
      },
      "execution_count": null,
      "outputs": [
        {
          "output_type": "execute_result",
          "data": {
            "text/plain": [
              "Suburb              0\n",
              "Address             0\n",
              "Rooms               0\n",
              "Type                0\n",
              "Price               0\n",
              "Method              0\n",
              "SellerG             0\n",
              "Date                0\n",
              "Distance            0\n",
              "Postcode            0\n",
              "Bedroom2            0\n",
              "Bathroom            0\n",
              "Car                62\n",
              "Landsize            0\n",
              "BuildingArea     6450\n",
              "YearBuilt        5375\n",
              "CouncilArea      1369\n",
              "Lattitude           0\n",
              "Longtitude          0\n",
              "Regionname          0\n",
              "Propertycount       0\n",
              "dtype: int64"
            ]
          },
          "metadata": {},
          "execution_count": 6
        }
      ]
    },
    {
      "cell_type": "code",
      "source": [
        "# Función para hallar el porcentaje de nulos en cada columna\n",
        "def porcentaje(columna):\n",
        "  total_null = columna.isnull().sum()\n",
        "  return ((total_null)/len(columna))*100\n",
        "porcentaje(melb_data) "
      ],
      "metadata": {
        "colab": {
          "base_uri": "https://localhost:8080/"
        },
        "id": "noMGC7G2-DSz",
        "outputId": "cf59b9cb-fa1b-4bdb-bd92-85111855ab0e"
      },
      "execution_count": null,
      "outputs": [
        {
          "output_type": "execute_result",
          "data": {
            "text/plain": [
              "Suburb            0.000000\n",
              "Address           0.000000\n",
              "Rooms             0.000000\n",
              "Type              0.000000\n",
              "Price             0.000000\n",
              "Method            0.000000\n",
              "SellerG           0.000000\n",
              "Date              0.000000\n",
              "Distance          0.000000\n",
              "Postcode          0.000000\n",
              "Bedroom2          0.000000\n",
              "Bathroom          0.000000\n",
              "Car               0.456554\n",
              "Landsize          0.000000\n",
              "BuildingArea     47.496318\n",
              "YearBuilt        39.580265\n",
              "CouncilArea      10.081001\n",
              "Lattitude         0.000000\n",
              "Longtitude        0.000000\n",
              "Regionname        0.000000\n",
              "Propertycount     0.000000\n",
              "dtype: float64"
            ]
          },
          "metadata": {},
          "execution_count": 7
        }
      ]
    },
    {
      "cell_type": "code",
      "source": [
        "# El porcentaje de datos en las variables es menor al 80% por lo tanto realizamos la \n",
        "# imputación para cada tipo de variable "
      ],
      "metadata": {
        "id": "vEJj-JZ1-PXW"
      },
      "execution_count": null,
      "outputs": []
    },
    {
      "cell_type": "markdown",
      "source": [
        "#Imputación de valores *nulos*"
      ],
      "metadata": {
        "id": "EAXNzR9U--oa"
      }
    },
    {
      "cell_type": "code",
      "source": [
        "# ['BuildingArea']\n",
        "# Empezaremos con la columna BuildingArea\n",
        "# 'BuildinArea' es el tamaño del edificio construido en metros\n",
        "# Este dato está relacionado con nuestra columna 'Landsize' que es el tamaño\n",
        "# del terreno en metros por lo tanto si el dato en 'Landsize' es 0 tambien lo\n",
        "# debe ser en 'BuildingArea'. Ya que no puede haber un edificio construido donde\n",
        "# no hay terreno. \n",
        "\n",
        "melb_data_relacion = melb_data[melb_data['Landsize'] == 0]\n",
        "melb_data_relacion[['Landsize','BuildingArea','Price']]"
      ],
      "metadata": {
        "id": "hRCX_EfG-5XI",
        "colab": {
          "base_uri": "https://localhost:8080/",
          "height": 423
        },
        "outputId": "fb6ca324-850b-4de8-da55-f2ecede6315d"
      },
      "execution_count": null,
      "outputs": [
        {
          "output_type": "execute_result",
          "data": {
            "text/plain": [
              "       Landsize  BuildingArea      Price\n",
              "8           0.0           NaN   300000.0\n",
              "10          0.0           NaN   700000.0\n",
              "12          0.0         94.00   750000.0\n",
              "14          0.0           NaN   441000.0\n",
              "21          0.0           NaN   900000.0\n",
              "...         ...           ...        ...\n",
              "12168       0.0         82.00   600000.0\n",
              "12176       0.0           NaN  1050000.0\n",
              "12188       0.0         66.32   300000.0\n",
              "12207       0.0         35.64   385000.0\n",
              "12209       0.0         61.60   560000.0\n",
              "\n",
              "[1939 rows x 3 columns]"
            ],
            "text/html": [
              "\n",
              "  <div id=\"df-f582e816-003b-448a-9ca7-93b2e0b9433e\">\n",
              "    <div class=\"colab-df-container\">\n",
              "      <div>\n",
              "<style scoped>\n",
              "    .dataframe tbody tr th:only-of-type {\n",
              "        vertical-align: middle;\n",
              "    }\n",
              "\n",
              "    .dataframe tbody tr th {\n",
              "        vertical-align: top;\n",
              "    }\n",
              "\n",
              "    .dataframe thead th {\n",
              "        text-align: right;\n",
              "    }\n",
              "</style>\n",
              "<table border=\"1\" class=\"dataframe\">\n",
              "  <thead>\n",
              "    <tr style=\"text-align: right;\">\n",
              "      <th></th>\n",
              "      <th>Landsize</th>\n",
              "      <th>BuildingArea</th>\n",
              "      <th>Price</th>\n",
              "    </tr>\n",
              "  </thead>\n",
              "  <tbody>\n",
              "    <tr>\n",
              "      <th>8</th>\n",
              "      <td>0.0</td>\n",
              "      <td>NaN</td>\n",
              "      <td>300000.0</td>\n",
              "    </tr>\n",
              "    <tr>\n",
              "      <th>10</th>\n",
              "      <td>0.0</td>\n",
              "      <td>NaN</td>\n",
              "      <td>700000.0</td>\n",
              "    </tr>\n",
              "    <tr>\n",
              "      <th>12</th>\n",
              "      <td>0.0</td>\n",
              "      <td>94.00</td>\n",
              "      <td>750000.0</td>\n",
              "    </tr>\n",
              "    <tr>\n",
              "      <th>14</th>\n",
              "      <td>0.0</td>\n",
              "      <td>NaN</td>\n",
              "      <td>441000.0</td>\n",
              "    </tr>\n",
              "    <tr>\n",
              "      <th>21</th>\n",
              "      <td>0.0</td>\n",
              "      <td>NaN</td>\n",
              "      <td>900000.0</td>\n",
              "    </tr>\n",
              "    <tr>\n",
              "      <th>...</th>\n",
              "      <td>...</td>\n",
              "      <td>...</td>\n",
              "      <td>...</td>\n",
              "    </tr>\n",
              "    <tr>\n",
              "      <th>12168</th>\n",
              "      <td>0.0</td>\n",
              "      <td>82.00</td>\n",
              "      <td>600000.0</td>\n",
              "    </tr>\n",
              "    <tr>\n",
              "      <th>12176</th>\n",
              "      <td>0.0</td>\n",
              "      <td>NaN</td>\n",
              "      <td>1050000.0</td>\n",
              "    </tr>\n",
              "    <tr>\n",
              "      <th>12188</th>\n",
              "      <td>0.0</td>\n",
              "      <td>66.32</td>\n",
              "      <td>300000.0</td>\n",
              "    </tr>\n",
              "    <tr>\n",
              "      <th>12207</th>\n",
              "      <td>0.0</td>\n",
              "      <td>35.64</td>\n",
              "      <td>385000.0</td>\n",
              "    </tr>\n",
              "    <tr>\n",
              "      <th>12209</th>\n",
              "      <td>0.0</td>\n",
              "      <td>61.60</td>\n",
              "      <td>560000.0</td>\n",
              "    </tr>\n",
              "  </tbody>\n",
              "</table>\n",
              "<p>1939 rows × 3 columns</p>\n",
              "</div>\n",
              "      <button class=\"colab-df-convert\" onclick=\"convertToInteractive('df-f582e816-003b-448a-9ca7-93b2e0b9433e')\"\n",
              "              title=\"Convert this dataframe to an interactive table.\"\n",
              "              style=\"display:none;\">\n",
              "        \n",
              "  <svg xmlns=\"http://www.w3.org/2000/svg\" height=\"24px\"viewBox=\"0 0 24 24\"\n",
              "       width=\"24px\">\n",
              "    <path d=\"M0 0h24v24H0V0z\" fill=\"none\"/>\n",
              "    <path d=\"M18.56 5.44l.94 2.06.94-2.06 2.06-.94-2.06-.94-.94-2.06-.94 2.06-2.06.94zm-11 1L8.5 8.5l.94-2.06 2.06-.94-2.06-.94L8.5 2.5l-.94 2.06-2.06.94zm10 10l.94 2.06.94-2.06 2.06-.94-2.06-.94-.94-2.06-.94 2.06-2.06.94z\"/><path d=\"M17.41 7.96l-1.37-1.37c-.4-.4-.92-.59-1.43-.59-.52 0-1.04.2-1.43.59L10.3 9.45l-7.72 7.72c-.78.78-.78 2.05 0 2.83L4 21.41c.39.39.9.59 1.41.59.51 0 1.02-.2 1.41-.59l7.78-7.78 2.81-2.81c.8-.78.8-2.07 0-2.86zM5.41 20L4 18.59l7.72-7.72 1.47 1.35L5.41 20z\"/>\n",
              "  </svg>\n",
              "      </button>\n",
              "      \n",
              "  <style>\n",
              "    .colab-df-container {\n",
              "      display:flex;\n",
              "      flex-wrap:wrap;\n",
              "      gap: 12px;\n",
              "    }\n",
              "\n",
              "    .colab-df-convert {\n",
              "      background-color: #E8F0FE;\n",
              "      border: none;\n",
              "      border-radius: 50%;\n",
              "      cursor: pointer;\n",
              "      display: none;\n",
              "      fill: #1967D2;\n",
              "      height: 32px;\n",
              "      padding: 0 0 0 0;\n",
              "      width: 32px;\n",
              "    }\n",
              "\n",
              "    .colab-df-convert:hover {\n",
              "      background-color: #E2EBFA;\n",
              "      box-shadow: 0px 1px 2px rgba(60, 64, 67, 0.3), 0px 1px 3px 1px rgba(60, 64, 67, 0.15);\n",
              "      fill: #174EA6;\n",
              "    }\n",
              "\n",
              "    [theme=dark] .colab-df-convert {\n",
              "      background-color: #3B4455;\n",
              "      fill: #D2E3FC;\n",
              "    }\n",
              "\n",
              "    [theme=dark] .colab-df-convert:hover {\n",
              "      background-color: #434B5C;\n",
              "      box-shadow: 0px 1px 3px 1px rgba(0, 0, 0, 0.15);\n",
              "      filter: drop-shadow(0px 1px 2px rgba(0, 0, 0, 0.3));\n",
              "      fill: #FFFFFF;\n",
              "    }\n",
              "  </style>\n",
              "\n",
              "      <script>\n",
              "        const buttonEl =\n",
              "          document.querySelector('#df-f582e816-003b-448a-9ca7-93b2e0b9433e button.colab-df-convert');\n",
              "        buttonEl.style.display =\n",
              "          google.colab.kernel.accessAllowed ? 'block' : 'none';\n",
              "\n",
              "        async function convertToInteractive(key) {\n",
              "          const element = document.querySelector('#df-f582e816-003b-448a-9ca7-93b2e0b9433e');\n",
              "          const dataTable =\n",
              "            await google.colab.kernel.invokeFunction('convertToInteractive',\n",
              "                                                     [key], {});\n",
              "          if (!dataTable) return;\n",
              "\n",
              "          const docLinkHtml = 'Like what you see? Visit the ' +\n",
              "            '<a target=\"_blank\" href=https://colab.research.google.com/notebooks/data_table.ipynb>data table notebook</a>'\n",
              "            + ' to learn more about interactive tables.';\n",
              "          element.innerHTML = '';\n",
              "          dataTable['output_type'] = 'display_data';\n",
              "          await google.colab.output.renderOutput(dataTable, element);\n",
              "          const docLink = document.createElement('div');\n",
              "          docLink.innerHTML = docLinkHtml;\n",
              "          element.appendChild(docLink);\n",
              "        }\n",
              "      </script>\n",
              "    </div>\n",
              "  </div>\n",
              "  "
            ]
          },
          "metadata": {},
          "execution_count": 9
        }
      ]
    },
    {
      "cell_type": "code",
      "source": [
        "# Llenamos los valores faltantes con 0 gracias a la función fillna()\n",
        "melb_data_ba = melb_data\n",
        "melb_data_ba['BuildingArea'] = melb_data_ba['BuildingArea'].fillna(0) \n",
        "melb_data_ba['BuildingArea'][8:22]"
      ],
      "metadata": {
        "colab": {
          "base_uri": "https://localhost:8080/"
        },
        "id": "OV19Nq3iAZH3",
        "outputId": "0a9398cc-e746-4fba-ea33-38e0200f1f2b"
      },
      "execution_count": null,
      "outputs": [
        {
          "output_type": "execute_result",
          "data": {
            "text/plain": [
              "8       0.0\n",
              "9      75.0\n",
              "10      0.0\n",
              "11    190.0\n",
              "12     94.0\n",
              "13      0.0\n",
              "14      0.0\n",
              "15     97.0\n",
              "16    110.0\n",
              "17    105.0\n",
              "18      0.0\n",
              "19     73.0\n",
              "20    135.0\n",
              "21      0.0\n",
              "Name: BuildingArea, dtype: float64"
            ]
          },
          "metadata": {},
          "execution_count": 10
        }
      ]
    },
    {
      "cell_type": "code",
      "source": [
        "# ['Car']\n",
        "# Nuestra columna 'Car' hace referencia a la cantidad de coches que se pueden\n",
        "# aparcar en el terreno, por lo tanto hemos relacionado la columna 'Car' con la\n",
        "# 'Suburb' que es la calle.\n",
        "# Imputaremos la mediana de 'Car' segun la calle 'Suburb' a la que pertenece\n",
        "# .\n",
        "# .\n",
        "# Agruparemos los datos por Suburbio \n",
        "# Creamos un diccionaro de numero de aparcamientos segun el suburbio\n",
        "\n",
        "use_cols = ['Suburb','Car']\n",
        "imp_car = pd.read_csv('/content/sample_data/melb_data.csv',usecols=use_cols)\n",
        "\n",
        "df_suburb_car = imp_car.groupby(['Suburb']).agg('median')\n",
        "df_suburb_car['Car_round'] = round(df_suburb_car['Car'])\n",
        "df_suburb_car.drop(['Car'],axis=1, inplace= True)\n",
        "df_suburb_car =df_suburb_car.rename(columns={'Car_round':'Car'})\n",
        "\n",
        "list_suburb_car = df_suburb_car.reset_index()\n",
        "dict_suburb_car = dict(zip(list_suburb_car.Suburb, list_suburb_car.Car))\n",
        "#dict_suburb_car"
      ],
      "metadata": {
        "id": "Xfeja56kERmz"
      },
      "execution_count": null,
      "outputs": []
    },
    {
      "cell_type": "code",
      "source": [
        "# Llenamos los datos nulos con el diccionario que creamos\n",
        "melb_data_ba.Car = melb_data_ba.Car.fillna(melb_data_ba.Suburb.map(dict_suburb_car))\n",
        "melb_data_ba['Car'].isnull().sum()"
      ],
      "metadata": {
        "colab": {
          "base_uri": "https://localhost:8080/"
        },
        "id": "S3b6g_ckIJiA",
        "outputId": "eb4c6ab5-ba40-4a40-df4c-e423051190b6"
      },
      "execution_count": null,
      "outputs": [
        {
          "output_type": "execute_result",
          "data": {
            "text/plain": [
              "0"
            ]
          },
          "metadata": {},
          "execution_count": 12
        }
      ]
    },
    {
      "cell_type": "code",
      "source": [
        "# Para la variable 'YearBuild' que es el año de construcción\n",
        "# Realizamos la imputación con el valor 0 debido a que los datos nulos\n",
        "# coinciden con el tamaño del edificio que realmente no existe\n",
        "# por ende no existe o no hay un año de construcción\n",
        "\n",
        "melb_data_yb = melb_data_ba\n",
        "melb_data_yb['YearBuilt'] = melb_data_yb['YearBuilt'].fillna(melb_data_yb['YearBuilt'].mode()[0])"
      ],
      "metadata": {
        "id": "3RgVpaKiOjn7"
      },
      "execution_count": null,
      "outputs": []
    },
    {
      "cell_type": "code",
      "source": [
        "# ['YearBuilt']\n",
        "# Para la variable 'YearBuild' que es el año de construcción\n",
        "# Realizamos la imputación con el valor 0 debido a que los datos nulos\n",
        "# coinciden con el tamaño del edificio que realmente no existe\n",
        "# por ende no existe o no hay un año de construcción\n",
        "\n",
        "melb_data_year_ba = melb_data_ba[melb_data['BuildingArea'] == 0]\n",
        "melb_data_year_ba[['BuildingArea','YearBuilt','Price']]"
      ],
      "metadata": {
        "id": "YavMkuTCI4SK",
        "colab": {
          "base_uri": "https://localhost:8080/",
          "height": 423
        },
        "outputId": "aba2bc4a-9a6b-42bf-e9e4-afc1896a71b4"
      },
      "execution_count": null,
      "outputs": [
        {
          "output_type": "execute_result",
          "data": {
            "text/plain": [
              "       BuildingArea  YearBuilt      Price\n",
              "0               0.0     1970.0  1480000.0\n",
              "3               0.0     1970.0   850000.0\n",
              "5               0.0     1970.0   941000.0\n",
              "8               0.0     1970.0   300000.0\n",
              "10              0.0     1970.0   700000.0\n",
              "...             ...        ...        ...\n",
              "13569           0.0     1970.0  1323000.0\n",
              "13570           0.0     1970.0   970000.0\n",
              "13574           0.0     1970.0   582000.0\n",
              "13575           0.0     1981.0  1245000.0\n",
              "13577           0.0     1997.0  1170000.0\n",
              "\n",
              "[6467 rows x 3 columns]"
            ],
            "text/html": [
              "\n",
              "  <div id=\"df-95f0242b-9489-4071-81d6-910cb4a699ae\">\n",
              "    <div class=\"colab-df-container\">\n",
              "      <div>\n",
              "<style scoped>\n",
              "    .dataframe tbody tr th:only-of-type {\n",
              "        vertical-align: middle;\n",
              "    }\n",
              "\n",
              "    .dataframe tbody tr th {\n",
              "        vertical-align: top;\n",
              "    }\n",
              "\n",
              "    .dataframe thead th {\n",
              "        text-align: right;\n",
              "    }\n",
              "</style>\n",
              "<table border=\"1\" class=\"dataframe\">\n",
              "  <thead>\n",
              "    <tr style=\"text-align: right;\">\n",
              "      <th></th>\n",
              "      <th>BuildingArea</th>\n",
              "      <th>YearBuilt</th>\n",
              "      <th>Price</th>\n",
              "    </tr>\n",
              "  </thead>\n",
              "  <tbody>\n",
              "    <tr>\n",
              "      <th>0</th>\n",
              "      <td>0.0</td>\n",
              "      <td>1970.0</td>\n",
              "      <td>1480000.0</td>\n",
              "    </tr>\n",
              "    <tr>\n",
              "      <th>3</th>\n",
              "      <td>0.0</td>\n",
              "      <td>1970.0</td>\n",
              "      <td>850000.0</td>\n",
              "    </tr>\n",
              "    <tr>\n",
              "      <th>5</th>\n",
              "      <td>0.0</td>\n",
              "      <td>1970.0</td>\n",
              "      <td>941000.0</td>\n",
              "    </tr>\n",
              "    <tr>\n",
              "      <th>8</th>\n",
              "      <td>0.0</td>\n",
              "      <td>1970.0</td>\n",
              "      <td>300000.0</td>\n",
              "    </tr>\n",
              "    <tr>\n",
              "      <th>10</th>\n",
              "      <td>0.0</td>\n",
              "      <td>1970.0</td>\n",
              "      <td>700000.0</td>\n",
              "    </tr>\n",
              "    <tr>\n",
              "      <th>...</th>\n",
              "      <td>...</td>\n",
              "      <td>...</td>\n",
              "      <td>...</td>\n",
              "    </tr>\n",
              "    <tr>\n",
              "      <th>13569</th>\n",
              "      <td>0.0</td>\n",
              "      <td>1970.0</td>\n",
              "      <td>1323000.0</td>\n",
              "    </tr>\n",
              "    <tr>\n",
              "      <th>13570</th>\n",
              "      <td>0.0</td>\n",
              "      <td>1970.0</td>\n",
              "      <td>970000.0</td>\n",
              "    </tr>\n",
              "    <tr>\n",
              "      <th>13574</th>\n",
              "      <td>0.0</td>\n",
              "      <td>1970.0</td>\n",
              "      <td>582000.0</td>\n",
              "    </tr>\n",
              "    <tr>\n",
              "      <th>13575</th>\n",
              "      <td>0.0</td>\n",
              "      <td>1981.0</td>\n",
              "      <td>1245000.0</td>\n",
              "    </tr>\n",
              "    <tr>\n",
              "      <th>13577</th>\n",
              "      <td>0.0</td>\n",
              "      <td>1997.0</td>\n",
              "      <td>1170000.0</td>\n",
              "    </tr>\n",
              "  </tbody>\n",
              "</table>\n",
              "<p>6467 rows × 3 columns</p>\n",
              "</div>\n",
              "      <button class=\"colab-df-convert\" onclick=\"convertToInteractive('df-95f0242b-9489-4071-81d6-910cb4a699ae')\"\n",
              "              title=\"Convert this dataframe to an interactive table.\"\n",
              "              style=\"display:none;\">\n",
              "        \n",
              "  <svg xmlns=\"http://www.w3.org/2000/svg\" height=\"24px\"viewBox=\"0 0 24 24\"\n",
              "       width=\"24px\">\n",
              "    <path d=\"M0 0h24v24H0V0z\" fill=\"none\"/>\n",
              "    <path d=\"M18.56 5.44l.94 2.06.94-2.06 2.06-.94-2.06-.94-.94-2.06-.94 2.06-2.06.94zm-11 1L8.5 8.5l.94-2.06 2.06-.94-2.06-.94L8.5 2.5l-.94 2.06-2.06.94zm10 10l.94 2.06.94-2.06 2.06-.94-2.06-.94-.94-2.06-.94 2.06-2.06.94z\"/><path d=\"M17.41 7.96l-1.37-1.37c-.4-.4-.92-.59-1.43-.59-.52 0-1.04.2-1.43.59L10.3 9.45l-7.72 7.72c-.78.78-.78 2.05 0 2.83L4 21.41c.39.39.9.59 1.41.59.51 0 1.02-.2 1.41-.59l7.78-7.78 2.81-2.81c.8-.78.8-2.07 0-2.86zM5.41 20L4 18.59l7.72-7.72 1.47 1.35L5.41 20z\"/>\n",
              "  </svg>\n",
              "      </button>\n",
              "      \n",
              "  <style>\n",
              "    .colab-df-container {\n",
              "      display:flex;\n",
              "      flex-wrap:wrap;\n",
              "      gap: 12px;\n",
              "    }\n",
              "\n",
              "    .colab-df-convert {\n",
              "      background-color: #E8F0FE;\n",
              "      border: none;\n",
              "      border-radius: 50%;\n",
              "      cursor: pointer;\n",
              "      display: none;\n",
              "      fill: #1967D2;\n",
              "      height: 32px;\n",
              "      padding: 0 0 0 0;\n",
              "      width: 32px;\n",
              "    }\n",
              "\n",
              "    .colab-df-convert:hover {\n",
              "      background-color: #E2EBFA;\n",
              "      box-shadow: 0px 1px 2px rgba(60, 64, 67, 0.3), 0px 1px 3px 1px rgba(60, 64, 67, 0.15);\n",
              "      fill: #174EA6;\n",
              "    }\n",
              "\n",
              "    [theme=dark] .colab-df-convert {\n",
              "      background-color: #3B4455;\n",
              "      fill: #D2E3FC;\n",
              "    }\n",
              "\n",
              "    [theme=dark] .colab-df-convert:hover {\n",
              "      background-color: #434B5C;\n",
              "      box-shadow: 0px 1px 3px 1px rgba(0, 0, 0, 0.15);\n",
              "      filter: drop-shadow(0px 1px 2px rgba(0, 0, 0, 0.3));\n",
              "      fill: #FFFFFF;\n",
              "    }\n",
              "  </style>\n",
              "\n",
              "      <script>\n",
              "        const buttonEl =\n",
              "          document.querySelector('#df-95f0242b-9489-4071-81d6-910cb4a699ae button.colab-df-convert');\n",
              "        buttonEl.style.display =\n",
              "          google.colab.kernel.accessAllowed ? 'block' : 'none';\n",
              "\n",
              "        async function convertToInteractive(key) {\n",
              "          const element = document.querySelector('#df-95f0242b-9489-4071-81d6-910cb4a699ae');\n",
              "          const dataTable =\n",
              "            await google.colab.kernel.invokeFunction('convertToInteractive',\n",
              "                                                     [key], {});\n",
              "          if (!dataTable) return;\n",
              "\n",
              "          const docLinkHtml = 'Like what you see? Visit the ' +\n",
              "            '<a target=\"_blank\" href=https://colab.research.google.com/notebooks/data_table.ipynb>data table notebook</a>'\n",
              "            + ' to learn more about interactive tables.';\n",
              "          element.innerHTML = '';\n",
              "          dataTable['output_type'] = 'display_data';\n",
              "          await google.colab.output.renderOutput(dataTable, element);\n",
              "          const docLink = document.createElement('div');\n",
              "          docLink.innerHTML = docLinkHtml;\n",
              "          element.appendChild(docLink);\n",
              "        }\n",
              "      </script>\n",
              "    </div>\n",
              "  </div>\n",
              "  "
            ]
          },
          "metadata": {},
          "execution_count": 14
        }
      ]
    },
    {
      "cell_type": "code",
      "source": [
        "# Llenamos los valores faltantes con 0 gracias a la función fillna()\n",
        "melb_data_yb = melb_data_ba\n",
        "melb_data_yb['YearBuilt'] = melb_data_yb['YearBuilt'].fillna(0) \n",
        "melb_data_yb['YearBuilt'][0:10]"
      ],
      "metadata": {
        "colab": {
          "base_uri": "https://localhost:8080/"
        },
        "id": "BGvK-MOvLMjW",
        "outputId": "30bbc882-4e69-4828-86d3-fe027db77833"
      },
      "execution_count": null,
      "outputs": [
        {
          "output_type": "execute_result",
          "data": {
            "text/plain": [
              "0    1970.0\n",
              "1    1900.0\n",
              "2    1900.0\n",
              "3    1970.0\n",
              "4    2014.0\n",
              "5    1970.0\n",
              "6    1910.0\n",
              "7    1890.0\n",
              "8    1970.0\n",
              "9    1900.0\n",
              "Name: YearBuilt, dtype: float64"
            ]
          },
          "metadata": {},
          "execution_count": 15
        }
      ]
    },
    {
      "cell_type": "code",
      "source": [
        "# ['CoouncilArea']\n",
        "# Para la variable 'CouncilArea' (Gobierno del Area) que está relacionada con el \n",
        "# suburbio y la región. Para este caso hemos escogido la columna 'Regionname'\n",
        "# para agrupar los gobiernos más comunes por región.\n",
        "#\n",
        "melb_data_yb[['Suburb','CouncilArea','Regionname']][13565:13579]"
      ],
      "metadata": {
        "colab": {
          "base_uri": "https://localhost:8080/",
          "height": 488
        },
        "id": "yhGKDoGxOgbM",
        "outputId": "73e7cf66-ee93-48df-8507-550f40f29cac"
      },
      "execution_count": null,
      "outputs": [
        {
          "output_type": "execute_result",
          "data": {
            "text/plain": [
              "               Suburb CouncilArea                  Regionname\n",
              "13565         Vermont         NaN        Eastern Metropolitan\n",
              "13566   Vermont South         NaN        Eastern Metropolitan\n",
              "13567        Viewbank         NaN        Eastern Metropolitan\n",
              "13568        Wantirna         NaN        Eastern Metropolitan\n",
              "13569  Wantirna South         NaN        Eastern Metropolitan\n",
              "13570  Wantirna South         NaN        Eastern Metropolitan\n",
              "13571  Wantirna South         NaN        Eastern Metropolitan\n",
              "13572        Watsonia         NaN       Northern Metropolitan\n",
              "13573        Werribee         NaN        Western Metropolitan\n",
              "13574     Westmeadows         NaN       Northern Metropolitan\n",
              "13575   Wheelers Hill         NaN  South-Eastern Metropolitan\n",
              "13576    Williamstown         NaN        Western Metropolitan\n",
              "13577    Williamstown         NaN        Western Metropolitan\n",
              "13578    Williamstown         NaN        Western Metropolitan"
            ],
            "text/html": [
              "\n",
              "  <div id=\"df-9e8ae417-4bdd-4f5a-87bf-5d9be6212d3f\">\n",
              "    <div class=\"colab-df-container\">\n",
              "      <div>\n",
              "<style scoped>\n",
              "    .dataframe tbody tr th:only-of-type {\n",
              "        vertical-align: middle;\n",
              "    }\n",
              "\n",
              "    .dataframe tbody tr th {\n",
              "        vertical-align: top;\n",
              "    }\n",
              "\n",
              "    .dataframe thead th {\n",
              "        text-align: right;\n",
              "    }\n",
              "</style>\n",
              "<table border=\"1\" class=\"dataframe\">\n",
              "  <thead>\n",
              "    <tr style=\"text-align: right;\">\n",
              "      <th></th>\n",
              "      <th>Suburb</th>\n",
              "      <th>CouncilArea</th>\n",
              "      <th>Regionname</th>\n",
              "    </tr>\n",
              "  </thead>\n",
              "  <tbody>\n",
              "    <tr>\n",
              "      <th>13565</th>\n",
              "      <td>Vermont</td>\n",
              "      <td>NaN</td>\n",
              "      <td>Eastern Metropolitan</td>\n",
              "    </tr>\n",
              "    <tr>\n",
              "      <th>13566</th>\n",
              "      <td>Vermont South</td>\n",
              "      <td>NaN</td>\n",
              "      <td>Eastern Metropolitan</td>\n",
              "    </tr>\n",
              "    <tr>\n",
              "      <th>13567</th>\n",
              "      <td>Viewbank</td>\n",
              "      <td>NaN</td>\n",
              "      <td>Eastern Metropolitan</td>\n",
              "    </tr>\n",
              "    <tr>\n",
              "      <th>13568</th>\n",
              "      <td>Wantirna</td>\n",
              "      <td>NaN</td>\n",
              "      <td>Eastern Metropolitan</td>\n",
              "    </tr>\n",
              "    <tr>\n",
              "      <th>13569</th>\n",
              "      <td>Wantirna South</td>\n",
              "      <td>NaN</td>\n",
              "      <td>Eastern Metropolitan</td>\n",
              "    </tr>\n",
              "    <tr>\n",
              "      <th>13570</th>\n",
              "      <td>Wantirna South</td>\n",
              "      <td>NaN</td>\n",
              "      <td>Eastern Metropolitan</td>\n",
              "    </tr>\n",
              "    <tr>\n",
              "      <th>13571</th>\n",
              "      <td>Wantirna South</td>\n",
              "      <td>NaN</td>\n",
              "      <td>Eastern Metropolitan</td>\n",
              "    </tr>\n",
              "    <tr>\n",
              "      <th>13572</th>\n",
              "      <td>Watsonia</td>\n",
              "      <td>NaN</td>\n",
              "      <td>Northern Metropolitan</td>\n",
              "    </tr>\n",
              "    <tr>\n",
              "      <th>13573</th>\n",
              "      <td>Werribee</td>\n",
              "      <td>NaN</td>\n",
              "      <td>Western Metropolitan</td>\n",
              "    </tr>\n",
              "    <tr>\n",
              "      <th>13574</th>\n",
              "      <td>Westmeadows</td>\n",
              "      <td>NaN</td>\n",
              "      <td>Northern Metropolitan</td>\n",
              "    </tr>\n",
              "    <tr>\n",
              "      <th>13575</th>\n",
              "      <td>Wheelers Hill</td>\n",
              "      <td>NaN</td>\n",
              "      <td>South-Eastern Metropolitan</td>\n",
              "    </tr>\n",
              "    <tr>\n",
              "      <th>13576</th>\n",
              "      <td>Williamstown</td>\n",
              "      <td>NaN</td>\n",
              "      <td>Western Metropolitan</td>\n",
              "    </tr>\n",
              "    <tr>\n",
              "      <th>13577</th>\n",
              "      <td>Williamstown</td>\n",
              "      <td>NaN</td>\n",
              "      <td>Western Metropolitan</td>\n",
              "    </tr>\n",
              "    <tr>\n",
              "      <th>13578</th>\n",
              "      <td>Williamstown</td>\n",
              "      <td>NaN</td>\n",
              "      <td>Western Metropolitan</td>\n",
              "    </tr>\n",
              "  </tbody>\n",
              "</table>\n",
              "</div>\n",
              "      <button class=\"colab-df-convert\" onclick=\"convertToInteractive('df-9e8ae417-4bdd-4f5a-87bf-5d9be6212d3f')\"\n",
              "              title=\"Convert this dataframe to an interactive table.\"\n",
              "              style=\"display:none;\">\n",
              "        \n",
              "  <svg xmlns=\"http://www.w3.org/2000/svg\" height=\"24px\"viewBox=\"0 0 24 24\"\n",
              "       width=\"24px\">\n",
              "    <path d=\"M0 0h24v24H0V0z\" fill=\"none\"/>\n",
              "    <path d=\"M18.56 5.44l.94 2.06.94-2.06 2.06-.94-2.06-.94-.94-2.06-.94 2.06-2.06.94zm-11 1L8.5 8.5l.94-2.06 2.06-.94-2.06-.94L8.5 2.5l-.94 2.06-2.06.94zm10 10l.94 2.06.94-2.06 2.06-.94-2.06-.94-.94-2.06-.94 2.06-2.06.94z\"/><path d=\"M17.41 7.96l-1.37-1.37c-.4-.4-.92-.59-1.43-.59-.52 0-1.04.2-1.43.59L10.3 9.45l-7.72 7.72c-.78.78-.78 2.05 0 2.83L4 21.41c.39.39.9.59 1.41.59.51 0 1.02-.2 1.41-.59l7.78-7.78 2.81-2.81c.8-.78.8-2.07 0-2.86zM5.41 20L4 18.59l7.72-7.72 1.47 1.35L5.41 20z\"/>\n",
              "  </svg>\n",
              "      </button>\n",
              "      \n",
              "  <style>\n",
              "    .colab-df-container {\n",
              "      display:flex;\n",
              "      flex-wrap:wrap;\n",
              "      gap: 12px;\n",
              "    }\n",
              "\n",
              "    .colab-df-convert {\n",
              "      background-color: #E8F0FE;\n",
              "      border: none;\n",
              "      border-radius: 50%;\n",
              "      cursor: pointer;\n",
              "      display: none;\n",
              "      fill: #1967D2;\n",
              "      height: 32px;\n",
              "      padding: 0 0 0 0;\n",
              "      width: 32px;\n",
              "    }\n",
              "\n",
              "    .colab-df-convert:hover {\n",
              "      background-color: #E2EBFA;\n",
              "      box-shadow: 0px 1px 2px rgba(60, 64, 67, 0.3), 0px 1px 3px 1px rgba(60, 64, 67, 0.15);\n",
              "      fill: #174EA6;\n",
              "    }\n",
              "\n",
              "    [theme=dark] .colab-df-convert {\n",
              "      background-color: #3B4455;\n",
              "      fill: #D2E3FC;\n",
              "    }\n",
              "\n",
              "    [theme=dark] .colab-df-convert:hover {\n",
              "      background-color: #434B5C;\n",
              "      box-shadow: 0px 1px 3px 1px rgba(0, 0, 0, 0.15);\n",
              "      filter: drop-shadow(0px 1px 2px rgba(0, 0, 0, 0.3));\n",
              "      fill: #FFFFFF;\n",
              "    }\n",
              "  </style>\n",
              "\n",
              "      <script>\n",
              "        const buttonEl =\n",
              "          document.querySelector('#df-9e8ae417-4bdd-4f5a-87bf-5d9be6212d3f button.colab-df-convert');\n",
              "        buttonEl.style.display =\n",
              "          google.colab.kernel.accessAllowed ? 'block' : 'none';\n",
              "\n",
              "        async function convertToInteractive(key) {\n",
              "          const element = document.querySelector('#df-9e8ae417-4bdd-4f5a-87bf-5d9be6212d3f');\n",
              "          const dataTable =\n",
              "            await google.colab.kernel.invokeFunction('convertToInteractive',\n",
              "                                                     [key], {});\n",
              "          if (!dataTable) return;\n",
              "\n",
              "          const docLinkHtml = 'Like what you see? Visit the ' +\n",
              "            '<a target=\"_blank\" href=https://colab.research.google.com/notebooks/data_table.ipynb>data table notebook</a>'\n",
              "            + ' to learn more about interactive tables.';\n",
              "          element.innerHTML = '';\n",
              "          dataTable['output_type'] = 'display_data';\n",
              "          await google.colab.output.renderOutput(dataTable, element);\n",
              "          const docLink = document.createElement('div');\n",
              "          docLink.innerHTML = docLinkHtml;\n",
              "          element.appendChild(docLink);\n",
              "        }\n",
              "      </script>\n",
              "    </div>\n",
              "  </div>\n",
              "  "
            ]
          },
          "metadata": {},
          "execution_count": 16
        }
      ]
    },
    {
      "cell_type": "code",
      "source": [
        "# Empezamos creando un dataframe nuevo para crear un diccionario\n",
        "#\n",
        "use_cols = ['Regionname', 'CouncilArea', 'Address']\n",
        "council = pd.read_csv('/content/sample_data/melb_data.csv',usecols=use_cols)\n",
        "\n",
        "council['CouncilArea'].isnull().sum(), council['CouncilArea'].unique().size"
      ],
      "metadata": {
        "colab": {
          "base_uri": "https://localhost:8080/"
        },
        "id": "T_otqxk6Ox-Q",
        "outputId": "45076ee4-5fd6-4436-8860-8cda6d3f5269"
      },
      "execution_count": null,
      "outputs": [
        {
          "output_type": "execute_result",
          "data": {
            "text/plain": [
              "(1369, 34)"
            ]
          },
          "metadata": {},
          "execution_count": 17
        }
      ]
    },
    {
      "cell_type": "code",
      "source": [
        "# Agrupamos los datos por la columna 'RegionName' y seccionamos los CouncilArea\n",
        "# mas frecuentes por recgión\n",
        "#\n",
        "df_council = council.groupby(['Regionname','CouncilArea'])['Address'].count()\n",
        "df_council_01 = df_council.reset_index()\n",
        "df_council_02 = df_council_01.sort_values(['Regionname','Address'],ascending=False)\n",
        "\n",
        "df_council_03 = df_council_02.drop_duplicates(subset = \"CouncilArea\")\n",
        "df_council_03 = df_council_03.sort_values(['Address'],ascending=False)\n",
        "df_council_03['CouncilArea'].unique().size"
      ],
      "metadata": {
        "colab": {
          "base_uri": "https://localhost:8080/"
        },
        "id": "r5sOZDd6Pz-w",
        "outputId": "8d62345f-0311-48a5-a086-bfd81aa09724"
      },
      "execution_count": null,
      "outputs": [
        {
          "output_type": "execute_result",
          "data": {
            "text/plain": [
              "33"
            ]
          },
          "metadata": {},
          "execution_count": 18
        }
      ]
    },
    {
      "cell_type": "code",
      "source": [
        "# Creamos el diccionario\n",
        "df_council_03.drop(['Address'],axis=1, inplace= True)\n",
        "\n",
        "dict_council = dict(zip(df_council_03.Regionname, df_council_03.CouncilArea))\n",
        "dict_council"
      ],
      "metadata": {
        "colab": {
          "base_uri": "https://localhost:8080/"
        },
        "id": "jZeaFoFuKltu",
        "outputId": "8ccb7029-f71f-47cd-df9d-f196415167fe"
      },
      "execution_count": null,
      "outputs": [
        {
          "output_type": "execute_result",
          "data": {
            "text/plain": [
              "{'Southern Metropolitan': 'Unavailable',\n",
              " 'Western Metropolitan': 'Moreland',\n",
              " 'Northern Metropolitan': 'Banyule',\n",
              " 'Eastern Metropolitan': 'Maroondah',\n",
              " 'South-Eastern Metropolitan': 'Knox',\n",
              " 'Western Victoria': 'Moorabool',\n",
              " 'Eastern Victoria': 'Manningham',\n",
              " 'Northern Victoria': 'Yarra Ranges'}"
            ]
          },
          "metadata": {},
          "execution_count": 19
        }
      ]
    },
    {
      "cell_type": "code",
      "source": [
        "# Con el diccionario creado mapeamos y llenamos los valores nulos.\n",
        "melb_data_co = melb_data_yb.copy()\n",
        "melb_data_co.CouncilArea = melb_data_co.CouncilArea.fillna(melb_data_co.Regionname.map(dict_council))\n",
        "melb_data_co['CouncilArea'].isnull().sum()\n"
      ],
      "metadata": {
        "colab": {
          "base_uri": "https://localhost:8080/"
        },
        "id": "a2ydLCl0Kycv",
        "outputId": "e2a6a6ed-98ad-4a61-8c3c-e03ad952ba5b"
      },
      "execution_count": null,
      "outputs": [
        {
          "output_type": "execute_result",
          "data": {
            "text/plain": [
              "0"
            ]
          },
          "metadata": {},
          "execution_count": 20
        }
      ]
    },
    {
      "cell_type": "code",
      "source": [
        "# Mostramos la diferencia entre la data original con la data imputada para\n",
        "# CouncilArea\n",
        "# Data original:\n",
        "#\n",
        "melb_data_yb['CouncilArea'].value_counts().sort_values(ascending=False).plot.bar()\n",
        "plt.xlabel('CouncilArea')\n",
        "plt.ylabel('Number of houses')"
      ],
      "metadata": {
        "colab": {
          "base_uri": "https://localhost:8080/",
          "height": 387
        },
        "id": "KLYEYFssK0cO",
        "outputId": "e3b79e5d-b12c-4f89-e4cb-f247f8260b37"
      },
      "execution_count": null,
      "outputs": [
        {
          "output_type": "execute_result",
          "data": {
            "text/plain": [
              "Text(0, 0.5, 'Number of houses')"
            ]
          },
          "metadata": {},
          "execution_count": 21
        },
        {
          "output_type": "display_data",
          "data": {
            "text/plain": [
              "<Figure size 432x288 with 1 Axes>"
            ],
            "image/png": "[encoded data removed]"
          },
          "metadata": {
            "needs_background": "light"
          }
        }
      ]
    },
    {
      "cell_type": "code",
      "source": [
        "# Data imputada:\n",
        "#\n",
        "melb_data_co['CouncilArea'].value_counts().sort_values(ascending=False).plot.bar()\n",
        "plt.xlabel('CouncilArea')\n",
        "plt.ylabel('Number of houses')"
      ],
      "metadata": {
        "colab": {
          "base_uri": "https://localhost:8080/",
          "height": 386
        },
        "id": "WLSNDKzURcIB",
        "outputId": "4d166a50-3f0d-4e9c-912a-1dc598494cc7"
      },
      "execution_count": null,
      "outputs": [
        {
          "output_type": "execute_result",
          "data": {
            "text/plain": [
              "Text(0, 0.5, 'Number of houses')"
            ]
          },
          "metadata": {},
          "execution_count": 22
        },
        {
          "output_type": "display_data",
          "data": {
            "text/plain": [
              "<Figure size 432x288 with 1 Axes>"
            ],
            "image/png": "[encoded data removed]"
          },
          "metadata": {
            "needs_background": "light"
          }
        }
      ]
    },
    {
      "cell_type": "code",
      "source": [
        "# Se muestra las columnas sin nulos\n",
        "melb_data_co.isnull().sum()"
      ],
      "metadata": {
        "colab": {
          "base_uri": "https://localhost:8080/"
        },
        "id": "h8C2Vl0ZeB22",
        "outputId": "d0cd4d90-2760-40c6-d294-505a84c8d658"
      },
      "execution_count": null,
      "outputs": [
        {
          "output_type": "execute_result",
          "data": {
            "text/plain": [
              "Suburb           0\n",
              "Address          0\n",
              "Rooms            0\n",
              "Type             0\n",
              "Price            0\n",
              "Method           0\n",
              "SellerG          0\n",
              "Date             0\n",
              "Distance         0\n",
              "Postcode         0\n",
              "Bedroom2         0\n",
              "Bathroom         0\n",
              "Car              0\n",
              "Landsize         0\n",
              "BuildingArea     0\n",
              "YearBuilt        0\n",
              "CouncilArea      0\n",
              "Lattitude        0\n",
              "Longtitude       0\n",
              "Regionname       0\n",
              "Propertycount    0\n",
              "dtype: int64"
            ]
          },
          "metadata": {},
          "execution_count": 23
        }
      ]
    },
    {
      "cell_type": "markdown",
      "source": [
        "# Eliminamos las columnas que no aportarán al modelo"
      ],
      "metadata": {
        "id": "OsT14yWnVfrR"
      }
    },
    {
      "cell_type": "code",
      "source": [
        "# Elimanos las columnas: SellerG, Postcode, Lattitude, Longtitude\n",
        "melb_data_co.drop(['SellerG'],axis='columns', inplace= True)\n",
        "melb_data_co.drop(['Postcode'],axis='columns', inplace= True)\n",
        "melb_data_co.drop(['Lattitude'],axis='columns', inplace= True)\n",
        "melb_data_co.drop(['Longtitude'],axis='columns', inplace= True)\n",
        "melb_data_co.drop(['Address'],axis='columns', inplace= True)"
      ],
      "metadata": {
        "id": "Z93bVyWkVidT"
      },
      "execution_count": null,
      "outputs": []
    },
    {
      "cell_type": "code",
      "source": [
        "# La variable 'Date' la convertimos a variable de tipo Fecha\n",
        "melb_data_co['Date'] = pd.to_datetime(melb_data_co['Date'], infer_datetime_format=True)\n",
        "\n",
        "# Eliminamos Date y convertimos en un sola columna Year\n",
        "melb_data_co['year'] = melb_data_co['Date'].dt.year\n",
        "melb_data_co.drop(['Date'],axis=1, inplace= True)\n",
        "melb_data_co.head()"
      ],
      "metadata": {
        "id": "CYTUqUFVZTZm",
        "colab": {
          "base_uri": "https://localhost:8080/",
          "height": 357
        },
        "outputId": "925b9e16-d40d-4138-8108-c3fc058d784c"
      },
      "execution_count": null,
      "outputs": [
        {
          "output_type": "execute_result",
          "data": {
            "text/plain": [
              "       Suburb  Rooms Type      Price Method  Distance  Bedroom2  Bathroom  \\\n",
              "0  Abbotsford      2    h  1480000.0      S       2.5       2.0       1.0   \n",
              "1  Abbotsford      2    h  1035000.0      S       2.5       2.0       1.0   \n",
              "2  Abbotsford      3    h  1465000.0     SP       2.5       3.0       2.0   \n",
              "3  Abbotsford      3    h   850000.0     PI       2.5       3.0       2.0   \n",
              "4  Abbotsford      4    h  1600000.0     VB       2.5       3.0       1.0   \n",
              "\n",
              "   Car  Landsize  BuildingArea  YearBuilt CouncilArea             Regionname  \\\n",
              "0  1.0     202.0           0.0     1970.0       Yarra  Northern Metropolitan   \n",
              "1  0.0     156.0          79.0     1900.0       Yarra  Northern Metropolitan   \n",
              "2  0.0     134.0         150.0     1900.0       Yarra  Northern Metropolitan   \n",
              "3  1.0      94.0           0.0     1970.0       Yarra  Northern Metropolitan   \n",
              "4  2.0     120.0         142.0     2014.0       Yarra  Northern Metropolitan   \n",
              "\n",
              "   Propertycount  year  \n",
              "0         4019.0  2016  \n",
              "1         4019.0  2016  \n",
              "2         4019.0  2017  \n",
              "3         4019.0  2017  \n",
              "4         4019.0  2016  "
            ],
            "text/html": [
              "\n",
              "  <div id=\"df-fbaf4d30-c7db-4097-9622-ced18f33575d\">\n",
              "    <div class=\"colab-df-container\">\n",
              "      <div>\n",
              "<style scoped>\n",
              "    .dataframe tbody tr th:only-of-type {\n",
              "        vertical-align: middle;\n",
              "    }\n",
              "\n",
              "    .dataframe tbody tr th {\n",
              "        vertical-align: top;\n",
              "    }\n",
              "\n",
              "    .dataframe thead th {\n",
              "        text-align: right;\n",
              "    }\n",
              "</style>\n",
              "<table border=\"1\" class=\"dataframe\">\n",
              "  <thead>\n",
              "    <tr style=\"text-align: right;\">\n",
              "      <th></th>\n",
              "      <th>Suburb</th>\n",
              "      <th>Rooms</th>\n",
              "      <th>Type</th>\n",
              "      <th>Price</th>\n",
              "      <th>Method</th>\n",
              "      <th>Distance</th>\n",
              "      <th>Bedroom2</th>\n",
              "      <th>Bathroom</th>\n",
              "      <th>Car</th>\n",
              "      <th>Landsize</th>\n",
              "      <th>BuildingArea</th>\n",
              "      <th>YearBuilt</th>\n",
              "      <th>CouncilArea</th>\n",
              "      <th>Regionname</th>\n",
              "      <th>Propertycount</th>\n",
              "      <th>year</th>\n",
              "    </tr>\n",
              "  </thead>\n",
              "  <tbody>\n",
              "    <tr>\n",
              "      <th>0</th>\n",
              "      <td>Abbotsford</td>\n",
              "      <td>2</td>\n",
              "      <td>h</td>\n",
              "      <td>1480000.0</td>\n",
              "      <td>S</td>\n",
              "      <td>2.5</td>\n",
              "      <td>2.0</td>\n",
              "      <td>1.0</td>\n",
              "      <td>1.0</td>\n",
              "      <td>202.0</td>\n",
              "      <td>0.0</td>\n",
              "      <td>1970.0</td>\n",
              "      <td>Yarra</td>\n",
              "      <td>Northern Metropolitan</td>\n",
              "      <td>4019.0</td>\n",
              "      <td>2016</td>\n",
              "    </tr>\n",
              "    <tr>\n",
              "      <th>1</th>\n",
              "      <td>Abbotsford</td>\n",
              "      <td>2</td>\n",
              "      <td>h</td>\n",
              "      <td>1035000.0</td>\n",
              "      <td>S</td>\n",
              "      <td>2.5</td>\n",
              "      <td>2.0</td>\n",
              "      <td>1.0</td>\n",
              "      <td>0.0</td>\n",
              "      <td>156.0</td>\n",
              "      <td>79.0</td>\n",
              "      <td>1900.0</td>\n",
              "      <td>Yarra</td>\n",
              "      <td>Northern Metropolitan</td>\n",
              "      <td>4019.0</td>\n",
              "      <td>2016</td>\n",
              "    </tr>\n",
              "    <tr>\n",
              "      <th>2</th>\n",
              "      <td>Abbotsford</td>\n",
              "      <td>3</td>\n",
              "      <td>h</td>\n",
              "      <td>1465000.0</td>\n",
              "      <td>SP</td>\n",
              "      <td>2.5</td>\n",
              "      <td>3.0</td>\n",
              "      <td>2.0</td>\n",
              "      <td>0.0</td>\n",
              "      <td>134.0</td>\n",
              "      <td>150.0</td>\n",
              "      <td>1900.0</td>\n",
              "      <td>Yarra</td>\n",
              "      <td>Northern Metropolitan</td>\n",
              "      <td>4019.0</td>\n",
              "      <td>2017</td>\n",
              "    </tr>\n",
              "    <tr>\n",
              "      <th>3</th>\n",
              "      <td>Abbotsford</td>\n",
              "      <td>3</td>\n",
              "      <td>h</td>\n",
              "      <td>850000.0</td>\n",
              "      <td>PI</td>\n",
              "      <td>2.5</td>\n",
              "      <td>3.0</td>\n",
              "      <td>2.0</td>\n",
              "      <td>1.0</td>\n",
              "      <td>94.0</td>\n",
              "      <td>0.0</td>\n",
              "      <td>1970.0</td>\n",
              "      <td>Yarra</td>\n",
              "      <td>Northern Metropolitan</td>\n",
              "      <td>4019.0</td>\n",
              "      <td>2017</td>\n",
              "    </tr>\n",
              "    <tr>\n",
              "      <th>4</th>\n",
              "      <td>Abbotsford</td>\n",
              "      <td>4</td>\n",
              "      <td>h</td>\n",
              "      <td>1600000.0</td>\n",
              "      <td>VB</td>\n",
              "      <td>2.5</td>\n",
              "      <td>3.0</td>\n",
              "      <td>1.0</td>\n",
              "      <td>2.0</td>\n",
              "      <td>120.0</td>\n",
              "      <td>142.0</td>\n",
              "      <td>2014.0</td>\n",
              "      <td>Yarra</td>\n",
              "      <td>Northern Metropolitan</td>\n",
              "      <td>4019.0</td>\n",
              "      <td>2016</td>\n",
              "    </tr>\n",
              "  </tbody>\n",
              "</table>\n",
              "</div>\n",
              "      <button class=\"colab-df-convert\" onclick=\"convertToInteractive('df-fbaf4d30-c7db-4097-9622-ced18f33575d')\"\n",
              "              title=\"Convert this dataframe to an interactive table.\"\n",
              "              style=\"display:none;\">\n",
              "        \n",
              "  <svg xmlns=\"http://www.w3.org/2000/svg\" height=\"24px\"viewBox=\"0 0 24 24\"\n",
              "       width=\"24px\">\n",
              "    <path d=\"M0 0h24v24H0V0z\" fill=\"none\"/>\n",
              "    <path d=\"M18.56 5.44l.94 2.06.94-2.06 2.06-.94-2.06-.94-.94-2.06-.94 2.06-2.06.94zm-11 1L8.5 8.5l.94-2.06 2.06-.94-2.06-.94L8.5 2.5l-.94 2.06-2.06.94zm10 10l.94 2.06.94-2.06 2.06-.94-2.06-.94-.94-2.06-.94 2.06-2.06.94z\"/><path d=\"M17.41 7.96l-1.37-1.37c-.4-.4-.92-.59-1.43-.59-.52 0-1.04.2-1.43.59L10.3 9.45l-7.72 7.72c-.78.78-.78 2.05 0 2.83L4 21.41c.39.39.9.59 1.41.59.51 0 1.02-.2 1.41-.59l7.78-7.78 2.81-2.81c.8-.78.8-2.07 0-2.86zM5.41 20L4 18.59l7.72-7.72 1.47 1.35L5.41 20z\"/>\n",
              "  </svg>\n",
              "      </button>\n",
              "      \n",
              "  <style>\n",
              "    .colab-df-container {\n",
              "      display:flex;\n",
              "      flex-wrap:wrap;\n",
              "      gap: 12px;\n",
              "    }\n",
              "\n",
              "    .colab-df-convert {\n",
              "      background-color: #E8F0FE;\n",
              "      border: none;\n",
              "      border-radius: 50%;\n",
              "      cursor: pointer;\n",
              "      display: none;\n",
              "      fill: #1967D2;\n",
              "      height: 32px;\n",
              "      padding: 0 0 0 0;\n",
              "      width: 32px;\n",
              "    }\n",
              "\n",
              "    .colab-df-convert:hover {\n",
              "      background-color: #E2EBFA;\n",
              "      box-shadow: 0px 1px 2px rgba(60, 64, 67, 0.3), 0px 1px 3px 1px rgba(60, 64, 67, 0.15);\n",
              "      fill: #174EA6;\n",
              "    }\n",
              "\n",
              "    [theme=dark] .colab-df-convert {\n",
              "      background-color: #3B4455;\n",
              "      fill: #D2E3FC;\n",
              "    }\n",
              "\n",
              "    [theme=dark] .colab-df-convert:hover {\n",
              "      background-color: #434B5C;\n",
              "      box-shadow: 0px 1px 3px 1px rgba(0, 0, 0, 0.15);\n",
              "      filter: drop-shadow(0px 1px 2px rgba(0, 0, 0, 0.3));\n",
              "      fill: #FFFFFF;\n",
              "    }\n",
              "  </style>\n",
              "\n",
              "      <script>\n",
              "        const buttonEl =\n",
              "          document.querySelector('#df-fbaf4d30-c7db-4097-9622-ced18f33575d button.colab-df-convert');\n",
              "        buttonEl.style.display =\n",
              "          google.colab.kernel.accessAllowed ? 'block' : 'none';\n",
              "\n",
              "        async function convertToInteractive(key) {\n",
              "          const element = document.querySelector('#df-fbaf4d30-c7db-4097-9622-ced18f33575d');\n",
              "          const dataTable =\n",
              "            await google.colab.kernel.invokeFunction('convertToInteractive',\n",
              "                                                     [key], {});\n",
              "          if (!dataTable) return;\n",
              "\n",
              "          const docLinkHtml = 'Like what you see? Visit the ' +\n",
              "            '<a target=\"_blank\" href=https://colab.research.google.com/notebooks/data_table.ipynb>data table notebook</a>'\n",
              "            + ' to learn more about interactive tables.';\n",
              "          element.innerHTML = '';\n",
              "          dataTable['output_type'] = 'display_data';\n",
              "          await google.colab.output.renderOutput(dataTable, element);\n",
              "          const docLink = document.createElement('div');\n",
              "          docLink.innerHTML = docLinkHtml;\n",
              "          element.appendChild(docLink);\n",
              "        }\n",
              "      </script>\n",
              "    </div>\n",
              "  </div>\n",
              "  "
            ]
          },
          "metadata": {},
          "execution_count": 25
        }
      ]
    },
    {
      "cell_type": "code",
      "source": [
        "melb_data_co.info()"
      ],
      "metadata": {
        "colab": {
          "base_uri": "https://localhost:8080/"
        },
        "id": "84XSXdCNZldz",
        "outputId": "0ce093fe-28af-4407-8c18-9eca1affc838"
      },
      "execution_count": null,
      "outputs": [
        {
          "output_type": "stream",
          "name": "stdout",
          "text": [
            "<class 'pandas.core.frame.DataFrame'>\n",
            "RangeIndex: 13580 entries, 0 to 13579\n",
            "Data columns (total 16 columns):\n",
            " #   Column         Non-Null Count  Dtype  \n",
            "---  ------         --------------  -----  \n",
            " 0   Suburb         13580 non-null  object \n",
            " 1   Rooms          13580 non-null  int64  \n",
            " 2   Type           13580 non-null  object \n",
            " 3   Price          13580 non-null  float64\n",
            " 4   Method         13580 non-null  object \n",
            " 5   Distance       13580 non-null  float64\n",
            " 6   Bedroom2       13580 non-null  float64\n",
            " 7   Bathroom       13580 non-null  float64\n",
            " 8   Car            13580 non-null  float64\n",
            " 9   Landsize       13580 non-null  float64\n",
            " 10  BuildingArea   13580 non-null  float64\n",
            " 11  YearBuilt      13580 non-null  float64\n",
            " 12  CouncilArea    13580 non-null  object \n",
            " 13  Regionname     13580 non-null  object \n",
            " 14  Propertycount  13580 non-null  float64\n",
            " 15  year           13580 non-null  int64  \n",
            "dtypes: float64(9), int64(2), object(5)\n",
            "memory usage: 1.7+ MB\n"
          ]
        }
      ]
    },
    {
      "cell_type": "code",
      "source": [
        "# Mostramos la correlación de las variables\n",
        "plt.figure(figsize=(14,7))\n",
        "MatrizInf = np.triu(melb_data_co.corr())\n",
        "sns.heatmap(melb_data_co.corr(), cmap='RdBu_r', annot=True, mask=MatrizInf)\n",
        "plt.show()"
      ],
      "metadata": {
        "colab": {
          "base_uri": "https://localhost:8080/",
          "height": 489
        },
        "id": "FJ5J15CzgLIu",
        "outputId": "3b2bc7ae-65a2-4db8-a3bf-d461123e5c28"
      },
      "execution_count": null,
      "outputs": [
        {
          "output_type": "display_data",
          "data": {
            "text/plain": [
              "<Figure size 1008x504 with 2 Axes>"
            ],
            "image/png": "[encoded data removed]"
          },
          "metadata": {
            "needs_background": "light"
          }
        }
      ]
    },
    {
      "cell_type": "markdown",
      "source": [
        "# Transformación de datos categóricos"
      ],
      "metadata": {
        "id": "hh4UEW2HSoWx"
      }
    },
    {
      "cell_type": "markdown",
      "source": [
        "## *ONE HOT ENCODING para las columnas 'Regionname', 'Type', 'Method' y 'CouncilArea'*"
      ],
      "metadata": {
        "id": "MO1dSXzbJVZb"
      }
    },
    {
      "cell_type": "code",
      "source": [
        "# Tambien con sklearn\n",
        "# ONE HOT ENCODIGN to Regionname\n",
        "#\n",
        "from sklearn.preprocessing import OneHotEncoder\n",
        "oe_style = OneHotEncoder(handle_unknown='ignore',sparse=False)\n",
        "\n",
        "oe_results_reg = oe_style.fit_transform(melb_data_co[['Regionname']])\n",
        "oe_style.get_feature_names_out()\n",
        "oe_reg = pd.DataFrame(oe_results_reg, columns=oe_style.categories_[0])"
      ],
      "metadata": {
        "id": "7o2uUWb0CGnN"
      },
      "execution_count": null,
      "outputs": []
    },
    {
      "cell_type": "code",
      "source": [
        "# ONE HOT ENCODIGN to Type\n",
        "#\n",
        "oe_results_type = oe_style.fit_transform(melb_data_co[['Type']])\n",
        "oe_style.get_feature_names_out()\n",
        "oe_type = pd.DataFrame(oe_results_type, columns=oe_style.categories_[0])"
      ],
      "metadata": {
        "id": "S9M3-xjFyTlS"
      },
      "execution_count": null,
      "outputs": []
    },
    {
      "cell_type": "code",
      "source": [
        "# ONE HOT ENCODIGN to Method\n",
        "#\n",
        "oe_results_method = oe_style.fit_transform(melb_data_co[['Method']])\n",
        "oe_style.get_feature_names_out()\n",
        "oe_method = pd.DataFrame(oe_results_method, columns=oe_style.categories_[0])"
      ],
      "metadata": {
        "id": "zJDhmCqCyYd2"
      },
      "execution_count": null,
      "outputs": []
    },
    {
      "cell_type": "code",
      "source": [
        "# ONE HOT ENCODIGN to CouncilArea\n",
        "#\n",
        "oe_results_coun = oe_style.fit_transform(melb_data_co[['CouncilArea']])\n",
        "oe_style.get_feature_names_out()\n",
        "oe_coun = pd.DataFrame(oe_results_coun, columns=oe_style.categories_[0])"
      ],
      "metadata": {
        "id": "TSKOdiCtyd2u"
      },
      "execution_count": null,
      "outputs": []
    },
    {
      "cell_type": "code",
      "source": [
        "# concatenar los dataframes con los dummys al dataframe original\n",
        "oe_melb_data = pd.concat([melb_data_co,oe_reg,oe_type,oe_method,oe_coun], axis = 1)\n",
        "oe_melb_data.drop(['Regionname'],axis=1, inplace= True)\n",
        "oe_melb_data.drop(['Type'],axis=1, inplace= True)\n",
        "oe_melb_data.drop(['Method'],axis=1, inplace= True)\n",
        "oe_melb_data.drop(['CouncilArea'],axis=1, inplace= True)\n",
        "oe_melb_data.columns"
      ],
      "metadata": {
        "colab": {
          "base_uri": "https://localhost:8080/"
        },
        "id": "RVtJHl0BTIPm",
        "outputId": "0f48aaf4-4f47-4b79-d181-cd9c66364bba"
      },
      "execution_count": null,
      "outputs": [
        {
          "output_type": "execute_result",
          "data": {
            "text/plain": [
              "Index(['Suburb', 'Rooms', 'Price', 'Distance', 'Bedroom2', 'Bathroom', 'Car',\n",
              "       'Landsize', 'BuildingArea', 'YearBuilt', 'Propertycount', 'year',\n",
              "       'Eastern Metropolitan', 'Eastern Victoria', 'Northern Metropolitan',\n",
              "       'Northern Victoria', 'South-Eastern Metropolitan',\n",
              "       'Southern Metropolitan', 'Western Metropolitan', 'Western Victoria',\n",
              "       'h', 't', 'u', 'PI', 'S', 'SA', 'SP', 'VB', 'Banyule', 'Bayside',\n",
              "       'Boroondara', 'Brimbank', 'Cardinia', 'Casey', 'Darebin', 'Frankston',\n",
              "       'Glen Eira', 'Greater Dandenong', 'Hobsons Bay', 'Hume', 'Kingston',\n",
              "       'Knox', 'Macedon Ranges', 'Manningham', 'Maribyrnong', 'Maroondah',\n",
              "       'Melbourne', 'Melton', 'Monash', 'Moonee Valley', 'Moorabool',\n",
              "       'Moreland', 'Nillumbik', 'Port Phillip', 'Stonnington', 'Unavailable',\n",
              "       'Whitehorse', 'Whittlesea', 'Wyndham', 'Yarra', 'Yarra Ranges'],\n",
              "      dtype='object')"
            ]
          },
          "metadata": {},
          "execution_count": 32
        }
      ]
    },
    {
      "cell_type": "code",
      "source": [
        "oe_melb_data.head()"
      ],
      "metadata": {
        "colab": {
          "base_uri": "https://localhost:8080/",
          "height": 317
        },
        "id": "cd0ttePFTFu2",
        "outputId": "e88e9a2b-d450-4382-fdb1-48ac659a1d52"
      },
      "execution_count": null,
      "outputs": [
        {
          "output_type": "execute_result",
          "data": {
            "text/plain": [
              "       Suburb  Rooms      Price  Distance  Bedroom2  Bathroom  Car  Landsize  \\\n",
              "0  Abbotsford      2  1480000.0       2.5       2.0       1.0  1.0     202.0   \n",
              "1  Abbotsford      2  1035000.0       2.5       2.0       1.0  0.0     156.0   \n",
              "2  Abbotsford      3  1465000.0       2.5       3.0       2.0  0.0     134.0   \n",
              "3  Abbotsford      3   850000.0       2.5       3.0       2.0  1.0      94.0   \n",
              "4  Abbotsford      4  1600000.0       2.5       3.0       1.0  2.0     120.0   \n",
              "\n",
              "   BuildingArea  YearBuilt  ...  Moreland  Nillumbik  Port Phillip  \\\n",
              "0           0.0     1970.0  ...       0.0        0.0           0.0   \n",
              "1          79.0     1900.0  ...       0.0        0.0           0.0   \n",
              "2         150.0     1900.0  ...       0.0        0.0           0.0   \n",
              "3           0.0     1970.0  ...       0.0        0.0           0.0   \n",
              "4         142.0     2014.0  ...       0.0        0.0           0.0   \n",
              "\n",
              "   Stonnington  Unavailable  Whitehorse  Whittlesea  Wyndham  Yarra  \\\n",
              "0          0.0          0.0         0.0         0.0      0.0    1.0   \n",
              "1          0.0          0.0         0.0         0.0      0.0    1.0   \n",
              "2          0.0          0.0         0.0         0.0      0.0    1.0   \n",
              "3          0.0          0.0         0.0         0.0      0.0    1.0   \n",
              "4          0.0          0.0         0.0         0.0      0.0    1.0   \n",
              "\n",
              "   Yarra Ranges  \n",
              "0           0.0  \n",
              "1           0.0  \n",
              "2           0.0  \n",
              "3           0.0  \n",
              "4           0.0  \n",
              "\n",
              "[5 rows x 61 columns]"
            ],
            "text/html": [
              "\n",
              "  <div id=\"df-cc32b33c-d250-4dbb-a1c6-94adf428f27c\">\n",
              "    <div class=\"colab-df-container\">\n",
              "      <div>\n",
              "<style scoped>\n",
              "    .dataframe tbody tr th:only-of-type {\n",
              "        vertical-align: middle;\n",
              "    }\n",
              "\n",
              "    .dataframe tbody tr th {\n",
              "        vertical-align: top;\n",
              "    }\n",
              "\n",
              "    .dataframe thead th {\n",
              "        text-align: right;\n",
              "    }\n",
              "</style>\n",
              "<table border=\"1\" class=\"dataframe\">\n",
              "  <thead>\n",
              "    <tr style=\"text-align: right;\">\n",
              "      <th></th>\n",
              "      <th>Suburb</th>\n",
              "      <th>Rooms</th>\n",
              "      <th>Price</th>\n",
              "      <th>Distance</th>\n",
              "      <th>Bedroom2</th>\n",
              "      <th>Bathroom</th>\n",
              "      <th>Car</th>\n",
              "      <th>Landsize</th>\n",
              "      <th>BuildingArea</th>\n",
              "      <th>YearBuilt</th>\n",
              "      <th>...</th>\n",
              "      <th>Moreland</th>\n",
              "      <th>Nillumbik</th>\n",
              "      <th>Port Phillip</th>\n",
              "      <th>Stonnington</th>\n",
              "      <th>Unavailable</th>\n",
              "      <th>Whitehorse</th>\n",
              "      <th>Whittlesea</th>\n",
              "      <th>Wyndham</th>\n",
              "      <th>Yarra</th>\n",
              "      <th>Yarra Ranges</th>\n",
              "    </tr>\n",
              "  </thead>\n",
              "  <tbody>\n",
              "    <tr>\n",
              "      <th>0</th>\n",
              "      <td>Abbotsford</td>\n",
              "      <td>2</td>\n",
              "      <td>1480000.0</td>\n",
              "      <td>2.5</td>\n",
              "      <td>2.0</td>\n",
              "      <td>1.0</td>\n",
              "      <td>1.0</td>\n",
              "      <td>202.0</td>\n",
              "      <td>0.0</td>\n",
              "      <td>1970.0</td>\n",
              "      <td>...</td>\n",
              "      <td>0.0</td>\n",
              "      <td>0.0</td>\n",
              "      <td>0.0</td>\n",
              "      <td>0.0</td>\n",
              "      <td>0.0</td>\n",
              "      <td>0.0</td>\n",
              "      <td>0.0</td>\n",
              "      <td>0.0</td>\n",
              "      <td>1.0</td>\n",
              "      <td>0.0</td>\n",
              "    </tr>\n",
              "    <tr>\n",
              "      <th>1</th>\n",
              "      <td>Abbotsford</td>\n",
              "      <td>2</td>\n",
              "      <td>1035000.0</td>\n",
              "      <td>2.5</td>\n",
              "      <td>2.0</td>\n",
              "      <td>1.0</td>\n",
              "      <td>0.0</td>\n",
              "      <td>156.0</td>\n",
              "      <td>79.0</td>\n",
              "      <td>1900.0</td>\n",
              "      <td>...</td>\n",
              "      <td>0.0</td>\n",
              "      <td>0.0</td>\n",
              "      <td>0.0</td>\n",
              "      <td>0.0</td>\n",
              "      <td>0.0</td>\n",
              "      <td>0.0</td>\n",
              "      <td>0.0</td>\n",
              "      <td>0.0</td>\n",
              "      <td>1.0</td>\n",
              "      <td>0.0</td>\n",
              "    </tr>\n",
              "    <tr>\n",
              "      <th>2</th>\n",
              "      <td>Abbotsford</td>\n",
              "      <td>3</td>\n",
              "      <td>1465000.0</td>\n",
              "      <td>2.5</td>\n",
              "      <td>3.0</td>\n",
              "      <td>2.0</td>\n",
              "      <td>0.0</td>\n",
              "      <td>134.0</td>\n",
              "      <td>150.0</td>\n",
              "      <td>1900.0</td>\n",
              "      <td>...</td>\n",
              "      <td>0.0</td>\n",
              "      <td>0.0</td>\n",
              "      <td>0.0</td>\n",
              "      <td>0.0</td>\n",
              "      <td>0.0</td>\n",
              "      <td>0.0</td>\n",
              "      <td>0.0</td>\n",
              "      <td>0.0</td>\n",
              "      <td>1.0</td>\n",
              "      <td>0.0</td>\n",
              "    </tr>\n",
              "    <tr>\n",
              "      <th>3</th>\n",
              "      <td>Abbotsford</td>\n",
              "      <td>3</td>\n",
              "      <td>850000.0</td>\n",
              "      <td>2.5</td>\n",
              "      <td>3.0</td>\n",
              "      <td>2.0</td>\n",
              "      <td>1.0</td>\n",
              "      <td>94.0</td>\n",
              "      <td>0.0</td>\n",
              "      <td>1970.0</td>\n",
              "      <td>...</td>\n",
              "      <td>0.0</td>\n",
              "      <td>0.0</td>\n",
              "      <td>0.0</td>\n",
              "      <td>0.0</td>\n",
              "      <td>0.0</td>\n",
              "      <td>0.0</td>\n",
              "      <td>0.0</td>\n",
              "      <td>0.0</td>\n",
              "      <td>1.0</td>\n",
              "      <td>0.0</td>\n",
              "    </tr>\n",
              "    <tr>\n",
              "      <th>4</th>\n",
              "      <td>Abbotsford</td>\n",
              "      <td>4</td>\n",
              "      <td>1600000.0</td>\n",
              "      <td>2.5</td>\n",
              "      <td>3.0</td>\n",
              "      <td>1.0</td>\n",
              "      <td>2.0</td>\n",
              "      <td>120.0</td>\n",
              "      <td>142.0</td>\n",
              "      <td>2014.0</td>\n",
              "      <td>...</td>\n",
              "      <td>0.0</td>\n",
              "      <td>0.0</td>\n",
              "      <td>0.0</td>\n",
              "      <td>0.0</td>\n",
              "      <td>0.0</td>\n",
              "      <td>0.0</td>\n",
              "      <td>0.0</td>\n",
              "      <td>0.0</td>\n",
              "      <td>1.0</td>\n",
              "      <td>0.0</td>\n",
              "    </tr>\n",
              "  </tbody>\n",
              "</table>\n",
              "<p>5 rows × 61 columns</p>\n",
              "</div>\n",
              "      <button class=\"colab-df-convert\" onclick=\"convertToInteractive('df-cc32b33c-d250-4dbb-a1c6-94adf428f27c')\"\n",
              "              title=\"Convert this dataframe to an interactive table.\"\n",
              "              style=\"display:none;\">\n",
              "        \n",
              "  <svg xmlns=\"http://www.w3.org/2000/svg\" height=\"24px\"viewBox=\"0 0 24 24\"\n",
              "       width=\"24px\">\n",
              "    <path d=\"M0 0h24v24H0V0z\" fill=\"none\"/>\n",
              "    <path d=\"M18.56 5.44l.94 2.06.94-2.06 2.06-.94-2.06-.94-.94-2.06-.94 2.06-2.06.94zm-11 1L8.5 8.5l.94-2.06 2.06-.94-2.06-.94L8.5 2.5l-.94 2.06-2.06.94zm10 10l.94 2.06.94-2.06 2.06-.94-2.06-.94-.94-2.06-.94 2.06-2.06.94z\"/><path d=\"M17.41 7.96l-1.37-1.37c-.4-.4-.92-.59-1.43-.59-.52 0-1.04.2-1.43.59L10.3 9.45l-7.72 7.72c-.78.78-.78 2.05 0 2.83L4 21.41c.39.39.9.59 1.41.59.51 0 1.02-.2 1.41-.59l7.78-7.78 2.81-2.81c.8-.78.8-2.07 0-2.86zM5.41 20L4 18.59l7.72-7.72 1.47 1.35L5.41 20z\"/>\n",
              "  </svg>\n",
              "      </button>\n",
              "      \n",
              "  <style>\n",
              "    .colab-df-container {\n",
              "      display:flex;\n",
              "      flex-wrap:wrap;\n",
              "      gap: 12px;\n",
              "    }\n",
              "\n",
              "    .colab-df-convert {\n",
              "      background-color: #E8F0FE;\n",
              "      border: none;\n",
              "      border-radius: 50%;\n",
              "      cursor: pointer;\n",
              "      display: none;\n",
              "      fill: #1967D2;\n",
              "      height: 32px;\n",
              "      padding: 0 0 0 0;\n",
              "      width: 32px;\n",
              "    }\n",
              "\n",
              "    .colab-df-convert:hover {\n",
              "      background-color: #E2EBFA;\n",
              "      box-shadow: 0px 1px 2px rgba(60, 64, 67, 0.3), 0px 1px 3px 1px rgba(60, 64, 67, 0.15);\n",
              "      fill: #174EA6;\n",
              "    }\n",
              "\n",
              "    [theme=dark] .colab-df-convert {\n",
              "      background-color: #3B4455;\n",
              "      fill: #D2E3FC;\n",
              "    }\n",
              "\n",
              "    [theme=dark] .colab-df-convert:hover {\n",
              "      background-color: #434B5C;\n",
              "      box-shadow: 0px 1px 3px 1px rgba(0, 0, 0, 0.15);\n",
              "      filter: drop-shadow(0px 1px 2px rgba(0, 0, 0, 0.3));\n",
              "      fill: #FFFFFF;\n",
              "    }\n",
              "  </style>\n",
              "\n",
              "      <script>\n",
              "        const buttonEl =\n",
              "          document.querySelector('#df-cc32b33c-d250-4dbb-a1c6-94adf428f27c button.colab-df-convert');\n",
              "        buttonEl.style.display =\n",
              "          google.colab.kernel.accessAllowed ? 'block' : 'none';\n",
              "\n",
              "        async function convertToInteractive(key) {\n",
              "          const element = document.querySelector('#df-cc32b33c-d250-4dbb-a1c6-94adf428f27c');\n",
              "          const dataTable =\n",
              "            await google.colab.kernel.invokeFunction('convertToInteractive',\n",
              "                                                     [key], {});\n",
              "          if (!dataTable) return;\n",
              "\n",
              "          const docLinkHtml = 'Like what you see? Visit the ' +\n",
              "            '<a target=\"_blank\" href=https://colab.research.google.com/notebooks/data_table.ipynb>data table notebook</a>'\n",
              "            + ' to learn more about interactive tables.';\n",
              "          element.innerHTML = '';\n",
              "          dataTable['output_type'] = 'display_data';\n",
              "          await google.colab.output.renderOutput(dataTable, element);\n",
              "          const docLink = document.createElement('div');\n",
              "          docLink.innerHTML = docLinkHtml;\n",
              "          element.appendChild(docLink);\n",
              "        }\n",
              "      </script>\n",
              "    </div>\n",
              "  </div>\n",
              "  "
            ]
          },
          "metadata": {},
          "execution_count": 33
        }
      ]
    },
    {
      "cell_type": "markdown",
      "source": [
        "## *LABEL ENCODER para la columna 'Suburb'*"
      ],
      "metadata": {
        "id": "EPdC_OhPJn2q"
      }
    },
    {
      "cell_type": "code",
      "source": [
        "# LabelEncoder ['Suburb']\n",
        "#\n",
        "oe_melb_data.groupby(['Suburb'])['Price'].mean().sort_values()"
      ],
      "metadata": {
        "colab": {
          "base_uri": "https://localhost:8080/"
        },
        "id": "hOhObqOYcMKv",
        "outputId": "13e6d27c-742a-4dbb-e05a-fd798d886b71"
      },
      "execution_count": null,
      "outputs": [
        {
          "output_type": "execute_result",
          "data": {
            "text/plain": [
              "Suburb\n",
              "Bacchus Marsh    2.850000e+05\n",
              "Rockbank         3.400000e+05\n",
              "Kurunjang        3.530000e+05\n",
              "Wallan           3.660000e+05\n",
              "Melton South     3.807361e+05\n",
              "                     ...     \n",
              "Brighton         1.930158e+06\n",
              "Albert Park      1.941355e+06\n",
              "Middle Park      2.082529e+06\n",
              "Canterbury       2.180241e+06\n",
              "Kooyong          2.185000e+06\n",
              "Name: Price, Length: 314, dtype: float64"
            ]
          },
          "metadata": {},
          "execution_count": 34
        }
      ]
    },
    {
      "cell_type": "code",
      "source": [
        "ordered_labels = oe_melb_data.groupby(['Suburb'\n",
        "                                  ])['Price'].mean().sort_values().index\n",
        "\n",
        "ordered_labels"
      ],
      "metadata": {
        "colab": {
          "base_uri": "https://localhost:8080/"
        },
        "id": "QlrOTwC-ckwR",
        "outputId": "89b78bd6-6d66-4573-a593-1feb99420549"
      },
      "execution_count": null,
      "outputs": [
        {
          "output_type": "execute_result",
          "data": {
            "text/plain": [
              "Index(['Bacchus Marsh', 'Rockbank', 'Kurunjang', 'Wallan', 'Melton South',\n",
              "       'Dallas', 'Melton', 'Melton West', 'Brookfield', 'Truganina',\n",
              "       ...\n",
              "       'Kew', 'Malvern', 'Balwyn North', 'Eaglemont', 'Balwyn', 'Brighton',\n",
              "       'Albert Park', 'Middle Park', 'Canterbury', 'Kooyong'],\n",
              "      dtype='object', name='Suburb', length=314)"
            ]
          },
          "metadata": {},
          "execution_count": 35
        }
      ]
    },
    {
      "cell_type": "code",
      "source": [
        "# a continuación, creemos un diccionario con las asignaciones de categorías a números\n",
        "ordinal_mapping = {k: i for i, k in enumerate(ordered_labels, 0)}\n",
        "ordinal_mapping"
      ],
      "metadata": {
        "colab": {
          "base_uri": "https://localhost:8080/"
        },
        "id": "SFDB5X3tcyjg",
        "outputId": "050f0fbf-8ee5-4a78-91ee-5c1f1c59bf0a"
      },
      "execution_count": 36,
      "outputs": [
        {
          "output_type": "execute_result",
          "data": {
            "text/plain": [
              "{'Bacchus Marsh': 0,\n",
              " 'Rockbank': 1,\n",
              " 'Kurunjang': 2,\n",
              " 'Wallan': 3,\n",
              " 'Melton South': 4,\n",
              " 'Dallas': 5,\n",
              " 'Melton': 6,\n",
              " 'Melton West': 7,\n",
              " 'Brookfield': 8,\n",
              " 'Truganina': 9,\n",
              " 'Coolaroo': 10,\n",
              " 'Campbellfield': 11,\n",
              " 'Wyndham Vale': 12,\n",
              " 'Roxburgh Park': 13,\n",
              " 'Tarneit': 14,\n",
              " 'Meadow Heights': 15,\n",
              " 'Doreen': 16,\n",
              " 'Pakenham': 17,\n",
              " 'Doveton': 18,\n",
              " 'Wollert': 19,\n",
              " 'Werribee': 20,\n",
              " 'Diggers Rest': 21,\n",
              " 'Jacana': 22,\n",
              " 'Sunbury': 23,\n",
              " 'Frankston North': 24,\n",
              " 'Williams Landing': 25,\n",
              " 'Bullengarook': 26,\n",
              " 'Albanvale': 27,\n",
              " 'Kings Park': 28,\n",
              " 'Delahey': 29,\n",
              " 'Carrum Downs': 30,\n",
              " 'Hampton Park': 31,\n",
              " 'Craigieburn': 32,\n",
              " 'Officer': 33,\n",
              " 'Hoppers Crossing': 34,\n",
              " 'Mount Evelyn': 35,\n",
              " 'Epping': 36,\n",
              " 'Upwey': 37,\n",
              " 'Seabrook': 38,\n",
              " 'Kealba': 39,\n",
              " 'The Basin': 40,\n",
              " 'Cranbourne North': 41,\n",
              " 'Albion': 42,\n",
              " 'Sunshine West': 43,\n",
              " 'Burnside Heights': 44,\n",
              " 'Skye': 45,\n",
              " 'Whittlesea': 46,\n",
              " 'Mernda': 47,\n",
              " 'Beaconsfield': 48,\n",
              " 'St Albans': 49,\n",
              " 'Deer Park': 50,\n",
              " 'Taylors Hill': 51,\n",
              " 'Tullamarine': 52,\n",
              " 'Broadmeadows': 53,\n",
              " 'Dandenong': 54,\n",
              " 'Sydenham': 55,\n",
              " 'Cranbourne': 56,\n",
              " 'Melbourne': 57,\n",
              " 'Burnside': 58,\n",
              " 'Yarra Glen': 59,\n",
              " 'Westmeadows': 60,\n",
              " 'Plumpton': 61,\n",
              " 'Southbank': 62,\n",
              " 'Frankston': 63,\n",
              " 'Lalor': 64,\n",
              " 'Point Cook': 65,\n",
              " 'Attwood': 66,\n",
              " 'South Morang': 67,\n",
              " 'Caroline Springs': 68,\n",
              " 'Heidelberg West': 69,\n",
              " 'Sandhurst': 70,\n",
              " 'Dandenong North': 71,\n",
              " 'Gisborne': 72,\n",
              " 'Brooklyn': 73,\n",
              " 'Fawkner': 74,\n",
              " 'Healesville': 75,\n",
              " 'Thomastown': 76,\n",
              " 'Narre Warren': 77,\n",
              " 'Gladstone Park': 78,\n",
              " 'Langwarrin': 79,\n",
              " 'Emerald': 80,\n",
              " 'Mill Park': 81,\n",
              " 'Sunshine North': 82,\n",
              " 'Keilor Lodge': 83,\n",
              " 'Hillside': 84,\n",
              " 'Ardeer': 85,\n",
              " 'Altona Meadows': 86,\n",
              " 'Keilor Park': 87,\n",
              " 'Keilor Downs': 88,\n",
              " 'Glenroy': 89,\n",
              " 'Beaconsfield Upper': 90,\n",
              " 'Noble Park': 91,\n",
              " 'Cairnlea': 92,\n",
              " 'Braybrook': 93,\n",
              " 'Hadfield': 94,\n",
              " 'Reservoir': 95,\n",
              " 'Gowanbrae': 96,\n",
              " 'Hurstbridge': 97,\n",
              " 'Footscray': 98,\n",
              " 'Endeavour Hills': 99,\n",
              " 'Bayswater North': 100,\n",
              " 'Derrimut': 101,\n",
              " 'Maidstone': 102,\n",
              " 'Sunshine': 103,\n",
              " 'Carrum': 104,\n",
              " 'Monbulk': 105,\n",
              " 'Chelsea': 106,\n",
              " 'Kingsbury': 107,\n",
              " 'South Kingsville': 108,\n",
              " 'Taylors Lakes': 109,\n",
              " 'Seaford': 110,\n",
              " 'Briar Hill': 111,\n",
              " 'Montrose': 112,\n",
              " 'Mooroolbark': 113,\n",
              " 'Watsonia': 114,\n",
              " 'Balaclava': 115,\n",
              " 'Chelsea Heights': 116,\n",
              " 'Greenvale': 117,\n",
              " 'Heidelberg Heights': 118,\n",
              " 'Airport West': 119,\n",
              " 'Berwick': 120,\n",
              " 'Bayswater': 121,\n",
              " 'Watsonia North': 122,\n",
              " 'Springvale South': 123,\n",
              " 'Ripponlea': 124,\n",
              " 'Lower Plenty': 125,\n",
              " 'Chirnside Park': 126,\n",
              " 'Kilsyth': 127,\n",
              " 'Glen Huntly': 128,\n",
              " 'Pascoe Vale': 129,\n",
              " 'Hallam': 130,\n",
              " 'West Footscray': 131,\n",
              " 'Caulfield': 132,\n",
              " 'Croydon South': 133,\n",
              " 'Altona North': 134,\n",
              " 'Coburg North': 135,\n",
              " 'Avondale Heights': 136,\n",
              " 'Keysborough': 137,\n",
              " 'Keilor East': 138,\n",
              " 'Riddells Creek': 139,\n",
              " 'Bellfield': 140,\n",
              " 'Kingsville': 141,\n",
              " 'Greensborough': 142,\n",
              " 'Maribyrnong': 143,\n",
              " 'Kensington': 144,\n",
              " 'Keilor': 145,\n",
              " 'Ferntree Gully': 146,\n",
              " 'Altona': 147,\n",
              " 'Bundoora': 148,\n",
              " 'Oak Park': 149,\n",
              " 'Springvale': 150,\n",
              " 'Diamond Creek': 151,\n",
              " 'Yallambie': 152,\n",
              " 'Brunswick West': 153,\n",
              " 'Docklands': 154,\n",
              " 'Croydon': 155,\n",
              " 'Croydon North': 156,\n",
              " 'St Kilda': 157,\n",
              " 'Boronia': 158,\n",
              " 'Eltham': 159,\n",
              " 'Clayton South': 160,\n",
              " 'Williamstown North': 161,\n",
              " 'Flemington': 162,\n",
              " 'Essendon North': 163,\n",
              " 'North Melbourne': 164,\n",
              " 'Aspendale Gardens': 165,\n",
              " 'Rowville': 166,\n",
              " 'Dingley Village': 167,\n",
              " 'Wonga Park': 168,\n",
              " 'Montmorency': 169,\n",
              " 'Preston': 170,\n",
              " 'Ringwood East': 171,\n",
              " 'Eltham North': 172,\n",
              " 'Croydon Hills': 173,\n",
              " 'Coburg': 174,\n",
              " 'Collingwood': 175,\n",
              " 'Elwood': 176,\n",
              " 'Heidelberg': 177,\n",
              " 'Brunswick East': 178,\n",
              " 'Ringwood North': 179,\n",
              " 'Viewbank': 180,\n",
              " 'Spotswood': 181,\n",
              " 'Carnegie': 182,\n",
              " 'Heathmont': 183,\n",
              " 'Strathmore Heights': 184,\n",
              " 'Mentone': 185,\n",
              " 'Thornbury': 186,\n",
              " 'Scoresby': 187,\n",
              " 'Cremorne': 188,\n",
              " 'Mitcham': 189,\n",
              " 'Chadstone': 190,\n",
              " 'Ringwood': 191,\n",
              " 'Murrumbeena': 192,\n",
              " 'Seddon': 193,\n",
              " 'Niddrie': 194,\n",
              " 'Windsor': 195,\n",
              " 'Clarinda': 196,\n",
              " 'Forest Hill': 197,\n",
              " 'Moorabbin': 198,\n",
              " 'Yarraville': 199,\n",
              " 'Edithvale': 200,\n",
              " 'Wantirna': 201,\n",
              " 'West Melbourne': 202,\n",
              " 'Rosanna': 203,\n",
              " 'Oakleigh South': 204,\n",
              " 'Frankston South': 205,\n",
              " 'Travancore': 206,\n",
              " 'Brunswick': 207,\n",
              " 'Caulfield North': 208,\n",
              " 'South Yarra': 209,\n",
              " 'Nunawading': 210,\n",
              " 'St Helena': 211,\n",
              " 'Cheltenham': 212,\n",
              " 'Notting Hill': 213,\n",
              " 'Hampton East': 214,\n",
              " 'Ascot Vale': 215,\n",
              " 'Abbotsford': 216,\n",
              " 'Newport': 217,\n",
              " 'Huntingdale': 218,\n",
              " 'Essendon': 219,\n",
              " 'Carlton': 220,\n",
              " 'Fairfield': 221,\n",
              " 'Silvan': 222,\n",
              " 'Blackburn South': 223,\n",
              " 'Richmond': 224,\n",
              " 'Vermont': 225,\n",
              " 'Knoxfield': 226,\n",
              " 'Bentleigh East': 227,\n",
              " 'Burwood East': 228,\n",
              " 'Essendon West': 229,\n",
              " 'Caulfield East': 230,\n",
              " 'Hughesdale': 231,\n",
              " 'Prahran': 232,\n",
              " 'Ormond': 233,\n",
              " 'Wantirna South': 234,\n",
              " 'Oakleigh': 235,\n",
              " 'Mordialloc': 236,\n",
              " 'Moonee Ponds': 237,\n",
              " 'Aspendale': 238,\n",
              " 'Gardenvale': 239,\n",
              " 'Bonbeach': 240,\n",
              " 'Caulfield South': 241,\n",
              " 'Clifton Hill': 242,\n",
              " 'Ashwood': 243,\n",
              " 'Bulleen': 244,\n",
              " 'Oakleigh East': 245,\n",
              " 'Templestowe Lower': 246,\n",
              " 'Strathmore': 247,\n",
              " 'Deepdene': 248,\n",
              " 'Ivanhoe': 249,\n",
              " 'Blackburn North': 250,\n",
              " 'Donvale': 251,\n",
              " 'Warrandyte': 252,\n",
              " 'North Warrandyte': 253,\n",
              " 'Seaholme': 254,\n",
              " 'Vermont South': 255,\n",
              " 'Mulgrave': 256,\n",
              " 'Port Melbourne': 257,\n",
              " 'Burnley': 258,\n",
              " 'Waterways': 259,\n",
              " 'Burwood': 260,\n",
              " 'Wheelers Hill': 261,\n",
              " 'Doncaster': 262,\n",
              " 'Fitzroy': 263,\n",
              " 'Clayton': 264,\n",
              " 'Highett': 265,\n",
              " 'Parkdale': 266,\n",
              " 'Northcote': 267,\n",
              " 'Elsternwick': 268,\n",
              " 'Blackburn': 269,\n",
              " 'Fitzroy North': 270,\n",
              " 'Hawthorn': 271,\n",
              " 'Aberfeldie': 272,\n",
              " 'Bentleigh': 273,\n",
              " 'Parkville': 274,\n",
              " 'Box Hill': 275,\n",
              " 'Williamstown': 276,\n",
              " 'South Melbourne': 277,\n",
              " 'Black Rock': 278,\n",
              " 'New Gisborne': 279,\n",
              " 'Mount Waverley': 280,\n",
              " 'Doncaster East': 281,\n",
              " 'Glen Waverley': 282,\n",
              " 'Alphington': 283,\n",
              " 'East Melbourne': 284,\n",
              " 'Armadale': 285,\n",
              " 'McKinnon': 286,\n",
              " 'Toorak': 287,\n",
              " 'Carlton North': 288,\n",
              " 'Hawthorn East': 289,\n",
              " 'Malvern East': 290,\n",
              " 'Brighton East': 291,\n",
              " 'Surrey Hills': 292,\n",
              " 'Templestowe': 293,\n",
              " 'Glen Iris': 294,\n",
              " 'Mont Albert': 295,\n",
              " 'Hampton': 296,\n",
              " 'Sandringham': 297,\n",
              " 'Kew East': 298,\n",
              " 'Ivanhoe East': 299,\n",
              " 'Beaumaris': 300,\n",
              " 'Ashburton': 301,\n",
              " 'Princes Hill': 302,\n",
              " 'Camberwell': 303,\n",
              " 'Kew': 304,\n",
              " 'Malvern': 305,\n",
              " 'Balwyn North': 306,\n",
              " 'Eaglemont': 307,\n",
              " 'Balwyn': 308,\n",
              " 'Brighton': 309,\n",
              " 'Albert Park': 310,\n",
              " 'Middle Park': 311,\n",
              " 'Canterbury': 312,\n",
              " 'Kooyong': 313}"
            ]
          },
          "metadata": {},
          "execution_count": 36
        }
      ]
    },
    {
      "cell_type": "code",
      "source": [
        "# ahora, reemplazamos las etiquetas con los números enteros\n",
        "oe_melb_data['Suburb'] = oe_melb_data['Suburb'].map(ordinal_mapping)"
      ],
      "metadata": {
        "id": "fx5lzfzqc2k1"
      },
      "execution_count": 37,
      "outputs": []
    },
    {
      "cell_type": "code",
      "source": [
        "# exploramos los resultados\n",
        "oe_melb_data.head(10)"
      ],
      "metadata": {
        "colab": {
          "base_uri": "https://localhost:8080/",
          "height": 473
        },
        "id": "6CZJn6w6c2Zl",
        "outputId": "3f75e66f-ad1e-4bac-89fe-491b173b9420"
      },
      "execution_count": 38,
      "outputs": [
        {
          "output_type": "execute_result",
          "data": {
            "text/plain": [
              "   Suburb  Rooms      Price  Distance  Bedroom2  Bathroom  Car  Landsize  \\\n",
              "0     216      2  1480000.0       2.5       2.0       1.0  1.0     202.0   \n",
              "1     216      2  1035000.0       2.5       2.0       1.0  0.0     156.0   \n",
              "2     216      3  1465000.0       2.5       3.0       2.0  0.0     134.0   \n",
              "3     216      3   850000.0       2.5       3.0       2.0  1.0      94.0   \n",
              "4     216      4  1600000.0       2.5       3.0       1.0  2.0     120.0   \n",
              "5     216      2   941000.0       2.5       2.0       1.0  0.0     181.0   \n",
              "6     216      3  1876000.0       2.5       4.0       2.0  0.0     245.0   \n",
              "7     216      2  1636000.0       2.5       2.0       1.0  2.0     256.0   \n",
              "8     216      1   300000.0       2.5       1.0       1.0  1.0       0.0   \n",
              "9     216      2  1097000.0       2.5       3.0       1.0  2.0     220.0   \n",
              "\n",
              "   BuildingArea  YearBuilt  ...  Moreland  Nillumbik  Port Phillip  \\\n",
              "0           0.0     1970.0  ...       0.0        0.0           0.0   \n",
              "1          79.0     1900.0  ...       0.0        0.0           0.0   \n",
              "2         150.0     1900.0  ...       0.0        0.0           0.0   \n",
              "3           0.0     1970.0  ...       0.0        0.0           0.0   \n",
              "4         142.0     2014.0  ...       0.0        0.0           0.0   \n",
              "5           0.0     1970.0  ...       0.0        0.0           0.0   \n",
              "6         210.0     1910.0  ...       0.0        0.0           0.0   \n",
              "7         107.0     1890.0  ...       0.0        0.0           0.0   \n",
              "8           0.0     1970.0  ...       0.0        0.0           0.0   \n",
              "9          75.0     1900.0  ...       0.0        0.0           0.0   \n",
              "\n",
              "   Stonnington  Unavailable  Whitehorse  Whittlesea  Wyndham  Yarra  \\\n",
              "0          0.0          0.0         0.0         0.0      0.0    1.0   \n",
              "1          0.0          0.0         0.0         0.0      0.0    1.0   \n",
              "2          0.0          0.0         0.0         0.0      0.0    1.0   \n",
              "3          0.0          0.0         0.0         0.0      0.0    1.0   \n",
              "4          0.0          0.0         0.0         0.0      0.0    1.0   \n",
              "5          0.0          0.0         0.0         0.0      0.0    1.0   \n",
              "6          0.0          0.0         0.0         0.0      0.0    1.0   \n",
              "7          0.0          0.0         0.0         0.0      0.0    1.0   \n",
              "8          0.0          0.0         0.0         0.0      0.0    1.0   \n",
              "9          0.0          0.0         0.0         0.0      0.0    1.0   \n",
              "\n",
              "   Yarra Ranges  \n",
              "0           0.0  \n",
              "1           0.0  \n",
              "2           0.0  \n",
              "3           0.0  \n",
              "4           0.0  \n",
              "5           0.0  \n",
              "6           0.0  \n",
              "7           0.0  \n",
              "8           0.0  \n",
              "9           0.0  \n",
              "\n",
              "[10 rows x 61 columns]"
            ],
            "text/html": [
              "\n",
              "  <div id=\"df-f9b965e1-86db-4fd8-ab63-d1b5e3f45e25\">\n",
              "    <div class=\"colab-df-container\">\n",
              "      <div>\n",
              "<style scoped>\n",
              "    .dataframe tbody tr th:only-of-type {\n",
              "        vertical-align: middle;\n",
              "    }\n",
              "\n",
              "    .dataframe tbody tr th {\n",
              "        vertical-align: top;\n",
              "    }\n",
              "\n",
              "    .dataframe thead th {\n",
              "        text-align: right;\n",
              "    }\n",
              "</style>\n",
              "<table border=\"1\" class=\"dataframe\">\n",
              "  <thead>\n",
              "    <tr style=\"text-align: right;\">\n",
              "      <th></th>\n",
              "      <th>Suburb</th>\n",
              "      <th>Rooms</th>\n",
              "      <th>Price</th>\n",
              "      <th>Distance</th>\n",
              "      <th>Bedroom2</th>\n",
              "      <th>Bathroom</th>\n",
              "      <th>Car</th>\n",
              "      <th>Landsize</th>\n",
              "      <th>BuildingArea</th>\n",
              "      <th>YearBuilt</th>\n",
              "      <th>...</th>\n",
              "      <th>Moreland</th>\n",
              "      <th>Nillumbik</th>\n",
              "      <th>Port Phillip</th>\n",
              "      <th>Stonnington</th>\n",
              "      <th>Unavailable</th>\n",
              "      <th>Whitehorse</th>\n",
              "      <th>Whittlesea</th>\n",
              "      <th>Wyndham</th>\n",
              "      <th>Yarra</th>\n",
              "      <th>Yarra Ranges</th>\n",
              "    </tr>\n",
              "  </thead>\n",
              "  <tbody>\n",
              "    <tr>\n",
              "      <th>0</th>\n",
              "      <td>216</td>\n",
              "      <td>2</td>\n",
              "      <td>1480000.0</td>\n",
              "      <td>2.5</td>\n",
              "      <td>2.0</td>\n",
              "      <td>1.0</td>\n",
              "      <td>1.0</td>\n",
              "      <td>202.0</td>\n",
              "      <td>0.0</td>\n",
              "      <td>1970.0</td>\n",
              "      <td>...</td>\n",
              "      <td>0.0</td>\n",
              "      <td>0.0</td>\n",
              "      <td>0.0</td>\n",
              "      <td>0.0</td>\n",
              "      <td>0.0</td>\n",
              "      <td>0.0</td>\n",
              "      <td>0.0</td>\n",
              "      <td>0.0</td>\n",
              "      <td>1.0</td>\n",
              "      <td>0.0</td>\n",
              "    </tr>\n",
              "    <tr>\n",
              "      <th>1</th>\n",
              "      <td>216</td>\n",
              "      <td>2</td>\n",
              "      <td>1035000.0</td>\n",
              "      <td>2.5</td>\n",
              "      <td>2.0</td>\n",
              "      <td>1.0</td>\n",
              "      <td>0.0</td>\n",
              "      <td>156.0</td>\n",
              "      <td>79.0</td>\n",
              "      <td>1900.0</td>\n",
              "      <td>...</td>\n",
              "      <td>0.0</td>\n",
              "      <td>0.0</td>\n",
              "      <td>0.0</td>\n",
              "      <td>0.0</td>\n",
              "      <td>0.0</td>\n",
              "      <td>0.0</td>\n",
              "      <td>0.0</td>\n",
              "      <td>0.0</td>\n",
              "      <td>1.0</td>\n",
              "      <td>0.0</td>\n",
              "    </tr>\n",
              "    <tr>\n",
              "      <th>2</th>\n",
              "      <td>216</td>\n",
              "      <td>3</td>\n",
              "      <td>1465000.0</td>\n",
              "      <td>2.5</td>\n",
              "      <td>3.0</td>\n",
              "      <td>2.0</td>\n",
              "      <td>0.0</td>\n",
              "      <td>134.0</td>\n",
              "      <td>150.0</td>\n",
              "      <td>1900.0</td>\n",
              "      <td>...</td>\n",
              "      <td>0.0</td>\n",
              "      <td>0.0</td>\n",
              "      <td>0.0</td>\n",
              "      <td>0.0</td>\n",
              "      <td>0.0</td>\n",
              "      <td>0.0</td>\n",
              "      <td>0.0</td>\n",
              "      <td>0.0</td>\n",
              "      <td>1.0</td>\n",
              "      <td>0.0</td>\n",
              "    </tr>\n",
              "    <tr>\n",
              "      <th>3</th>\n",
              "      <td>216</td>\n",
              "      <td>3</td>\n",
              "      <td>850000.0</td>\n",
              "      <td>2.5</td>\n",
              "      <td>3.0</td>\n",
              "      <td>2.0</td>\n",
              "      <td>1.0</td>\n",
              "      <td>94.0</td>\n",
              "      <td>0.0</td>\n",
              "      <td>1970.0</td>\n",
              "      <td>...</td>\n",
              "      <td>0.0</td>\n",
              "      <td>0.0</td>\n",
              "      <td>0.0</td>\n",
              "      <td>0.0</td>\n",
              "      <td>0.0</td>\n",
              "      <td>0.0</td>\n",
              "      <td>0.0</td>\n",
              "      <td>0.0</td>\n",
              "      <td>1.0</td>\n",
              "      <td>0.0</td>\n",
              "    </tr>\n",
              "    <tr>\n",
              "      <th>4</th>\n",
              "      <td>216</td>\n",
              "      <td>4</td>\n",
              "      <td>1600000.0</td>\n",
              "      <td>2.5</td>\n",
              "      <td>3.0</td>\n",
              "      <td>1.0</td>\n",
              "      <td>2.0</td>\n",
              "      <td>120.0</td>\n",
              "      <td>142.0</td>\n",
              "      <td>2014.0</td>\n",
              "      <td>...</td>\n",
              "      <td>0.0</td>\n",
              "      <td>0.0</td>\n",
              "      <td>0.0</td>\n",
              "      <td>0.0</td>\n",
              "      <td>0.0</td>\n",
              "      <td>0.0</td>\n",
              "      <td>0.0</td>\n",
              "      <td>0.0</td>\n",
              "      <td>1.0</td>\n",
              "      <td>0.0</td>\n",
              "    </tr>\n",
              "    <tr>\n",
              "      <th>5</th>\n",
              "      <td>216</td>\n",
              "      <td>2</td>\n",
              "      <td>941000.0</td>\n",
              "      <td>2.5</td>\n",
              "      <td>2.0</td>\n",
              "      <td>1.0</td>\n",
              "      <td>0.0</td>\n",
              "      <td>181.0</td>\n",
              "      <td>0.0</td>\n",
              "      <td>1970.0</td>\n",
              "      <td>...</td>\n",
              "      <td>0.0</td>\n",
              "      <td>0.0</td>\n",
              "      <td>0.0</td>\n",
              "      <td>0.0</td>\n",
              "      <td>0.0</td>\n",
              "      <td>0.0</td>\n",
              "      <td>0.0</td>\n",
              "      <td>0.0</td>\n",
              "      <td>1.0</td>\n",
              "      <td>0.0</td>\n",
              "    </tr>\n",
              "    <tr>\n",
              "      <th>6</th>\n",
              "      <td>216</td>\n",
              "      <td>3</td>\n",
              "      <td>1876000.0</td>\n",
              "      <td>2.5</td>\n",
              "      <td>4.0</td>\n",
              "      <td>2.0</td>\n",
              "      <td>0.0</td>\n",
              "      <td>245.0</td>\n",
              "      <td>210.0</td>\n",
              "      <td>1910.0</td>\n",
              "      <td>...</td>\n",
              "      <td>0.0</td>\n",
              "      <td>0.0</td>\n",
              "      <td>0.0</td>\n",
              "      <td>0.0</td>\n",
              "      <td>0.0</td>\n",
              "      <td>0.0</td>\n",
              "      <td>0.0</td>\n",
              "      <td>0.0</td>\n",
              "      <td>1.0</td>\n",
              "      <td>0.0</td>\n",
              "    </tr>\n",
              "    <tr>\n",
              "      <th>7</th>\n",
              "      <td>216</td>\n",
              "      <td>2</td>\n",
              "      <td>1636000.0</td>\n",
              "      <td>2.5</td>\n",
              "      <td>2.0</td>\n",
              "      <td>1.0</td>\n",
              "      <td>2.0</td>\n",
              "      <td>256.0</td>\n",
              "      <td>107.0</td>\n",
              "      <td>1890.0</td>\n",
              "      <td>...</td>\n",
              "      <td>0.0</td>\n",
              "      <td>0.0</td>\n",
              "      <td>0.0</td>\n",
              "      <td>0.0</td>\n",
              "      <td>0.0</td>\n",
              "      <td>0.0</td>\n",
              "      <td>0.0</td>\n",
              "      <td>0.0</td>\n",
              "      <td>1.0</td>\n",
              "      <td>0.0</td>\n",
              "    </tr>\n",
              "    <tr>\n",
              "      <th>8</th>\n",
              "      <td>216</td>\n",
              "      <td>1</td>\n",
              "      <td>300000.0</td>\n",
              "      <td>2.5</td>\n",
              "      <td>1.0</td>\n",
              "      <td>1.0</td>\n",
              "      <td>1.0</td>\n",
              "      <td>0.0</td>\n",
              "      <td>0.0</td>\n",
              "      <td>1970.0</td>\n",
              "      <td>...</td>\n",
              "      <td>0.0</td>\n",
              "      <td>0.0</td>\n",
              "      <td>0.0</td>\n",
              "      <td>0.0</td>\n",
              "      <td>0.0</td>\n",
              "      <td>0.0</td>\n",
              "      <td>0.0</td>\n",
              "      <td>0.0</td>\n",
              "      <td>1.0</td>\n",
              "      <td>0.0</td>\n",
              "    </tr>\n",
              "    <tr>\n",
              "      <th>9</th>\n",
              "      <td>216</td>\n",
              "      <td>2</td>\n",
              "      <td>1097000.0</td>\n",
              "      <td>2.5</td>\n",
              "      <td>3.0</td>\n",
              "      <td>1.0</td>\n",
              "      <td>2.0</td>\n",
              "      <td>220.0</td>\n",
              "      <td>75.0</td>\n",
              "      <td>1900.0</td>\n",
              "      <td>...</td>\n",
              "      <td>0.0</td>\n",
              "      <td>0.0</td>\n",
              "      <td>0.0</td>\n",
              "      <td>0.0</td>\n",
              "      <td>0.0</td>\n",
              "      <td>0.0</td>\n",
              "      <td>0.0</td>\n",
              "      <td>0.0</td>\n",
              "      <td>1.0</td>\n",
              "      <td>0.0</td>\n",
              "    </tr>\n",
              "  </tbody>\n",
              "</table>\n",
              "<p>10 rows × 61 columns</p>\n",
              "</div>\n",
              "      <button class=\"colab-df-convert\" onclick=\"convertToInteractive('df-f9b965e1-86db-4fd8-ab63-d1b5e3f45e25')\"\n",
              "              title=\"Convert this dataframe to an interactive table.\"\n",
              "              style=\"display:none;\">\n",
              "        \n",
              "  <svg xmlns=\"http://www.w3.org/2000/svg\" height=\"24px\"viewBox=\"0 0 24 24\"\n",
              "       width=\"24px\">\n",
              "    <path d=\"M0 0h24v24H0V0z\" fill=\"none\"/>\n",
              "    <path d=\"M18.56 5.44l.94 2.06.94-2.06 2.06-.94-2.06-.94-.94-2.06-.94 2.06-2.06.94zm-11 1L8.5 8.5l.94-2.06 2.06-.94-2.06-.94L8.5 2.5l-.94 2.06-2.06.94zm10 10l.94 2.06.94-2.06 2.06-.94-2.06-.94-.94-2.06-.94 2.06-2.06.94z\"/><path d=\"M17.41 7.96l-1.37-1.37c-.4-.4-.92-.59-1.43-.59-.52 0-1.04.2-1.43.59L10.3 9.45l-7.72 7.72c-.78.78-.78 2.05 0 2.83L4 21.41c.39.39.9.59 1.41.59.51 0 1.02-.2 1.41-.59l7.78-7.78 2.81-2.81c.8-.78.8-2.07 0-2.86zM5.41 20L4 18.59l7.72-7.72 1.47 1.35L5.41 20z\"/>\n",
              "  </svg>\n",
              "      </button>\n",
              "      \n",
              "  <style>\n",
              "    .colab-df-container {\n",
              "      display:flex;\n",
              "      flex-wrap:wrap;\n",
              "      gap: 12px;\n",
              "    }\n",
              "\n",
              "    .colab-df-convert {\n",
              "      background-color: #E8F0FE;\n",
              "      border: none;\n",
              "      border-radius: 50%;\n",
              "      cursor: pointer;\n",
              "      display: none;\n",
              "      fill: #1967D2;\n",
              "      height: 32px;\n",
              "      padding: 0 0 0 0;\n",
              "      width: 32px;\n",
              "    }\n",
              "\n",
              "    .colab-df-convert:hover {\n",
              "      background-color: #E2EBFA;\n",
              "      box-shadow: 0px 1px 2px rgba(60, 64, 67, 0.3), 0px 1px 3px 1px rgba(60, 64, 67, 0.15);\n",
              "      fill: #174EA6;\n",
              "    }\n",
              "\n",
              "    [theme=dark] .colab-df-convert {\n",
              "      background-color: #3B4455;\n",
              "      fill: #D2E3FC;\n",
              "    }\n",
              "\n",
              "    [theme=dark] .colab-df-convert:hover {\n",
              "      background-color: #434B5C;\n",
              "      box-shadow: 0px 1px 3px 1px rgba(0, 0, 0, 0.15);\n",
              "      filter: drop-shadow(0px 1px 2px rgba(0, 0, 0, 0.3));\n",
              "      fill: #FFFFFF;\n",
              "    }\n",
              "  </style>\n",
              "\n",
              "      <script>\n",
              "        const buttonEl =\n",
              "          document.querySelector('#df-f9b965e1-86db-4fd8-ab63-d1b5e3f45e25 button.colab-df-convert');\n",
              "        buttonEl.style.display =\n",
              "          google.colab.kernel.accessAllowed ? 'block' : 'none';\n",
              "\n",
              "        async function convertToInteractive(key) {\n",
              "          const element = document.querySelector('#df-f9b965e1-86db-4fd8-ab63-d1b5e3f45e25');\n",
              "          const dataTable =\n",
              "            await google.colab.kernel.invokeFunction('convertToInteractive',\n",
              "                                                     [key], {});\n",
              "          if (!dataTable) return;\n",
              "\n",
              "          const docLinkHtml = 'Like what you see? Visit the ' +\n",
              "            '<a target=\"_blank\" href=https://colab.research.google.com/notebooks/data_table.ipynb>data table notebook</a>'\n",
              "            + ' to learn more about interactive tables.';\n",
              "          element.innerHTML = '';\n",
              "          dataTable['output_type'] = 'display_data';\n",
              "          await google.colab.output.renderOutput(dataTable, element);\n",
              "          const docLink = document.createElement('div');\n",
              "          docLink.innerHTML = docLinkHtml;\n",
              "          element.appendChild(docLink);\n",
              "        }\n",
              "      </script>\n",
              "    </div>\n",
              "  </div>\n",
              "  "
            ]
          },
          "metadata": {},
          "execution_count": 38
        }
      ]
    },
    {
      "cell_type": "code",
      "source": [
        "for var in ['Suburb']:\n",
        "    \n",
        "    fig = plt.figure()\n",
        "    fig = oe_melb_data.groupby([var])['Price'].mean().plot()\n",
        "    fig.set_title('Monotonic relationship between {} and SalePrice'.format(var))\n",
        "    fig.set_ylabel('Mean SalePrice')\n",
        "    plt.show()\n"
      ],
      "metadata": {
        "id": "FQOpS9gwc2Us",
        "colab": {
          "base_uri": "https://localhost:8080/",
          "height": 295
        },
        "outputId": "27d36faa-bc55-44f9-fc98-92be5c03a7f9"
      },
      "execution_count": 39,
      "outputs": [
        {
          "output_type": "display_data",
          "data": {
            "text/plain": [
              "<Figure size 432x288 with 1 Axes>"
            ],
            "image/png": "[encoded data removed]"
          },
          "metadata": {
            "needs_background": "light"
          }
        }
      ]
    },
    {
      "cell_type": "code",
      "source": [
        "# Visualizamos las columnas del nuevo dataset\n",
        "oe_melb_data.columns"
      ],
      "metadata": {
        "colab": {
          "base_uri": "https://localhost:8080/"
        },
        "id": "bTpI9ZCeGUx4",
        "outputId": "4924cb3e-a7da-4e84-a11f-60c2fee7712c"
      },
      "execution_count": 40,
      "outputs": [
        {
          "output_type": "execute_result",
          "data": {
            "text/plain": [
              "Index(['Suburb', 'Rooms', 'Price', 'Distance', 'Bedroom2', 'Bathroom', 'Car',\n",
              "       'Landsize', 'BuildingArea', 'YearBuilt', 'Propertycount', 'year',\n",
              "       'Eastern Metropolitan', 'Eastern Victoria', 'Northern Metropolitan',\n",
              "       'Northern Victoria', 'South-Eastern Metropolitan',\n",
              "       'Southern Metropolitan', 'Western Metropolitan', 'Western Victoria',\n",
              "       'h', 't', 'u', 'PI', 'S', 'SA', 'SP', 'VB', 'Banyule', 'Bayside',\n",
              "       'Boroondara', 'Brimbank', 'Cardinia', 'Casey', 'Darebin', 'Frankston',\n",
              "       'Glen Eira', 'Greater Dandenong', 'Hobsons Bay', 'Hume', 'Kingston',\n",
              "       'Knox', 'Macedon Ranges', 'Manningham', 'Maribyrnong', 'Maroondah',\n",
              "       'Melbourne', 'Melton', 'Monash', 'Moonee Valley', 'Moorabool',\n",
              "       'Moreland', 'Nillumbik', 'Port Phillip', 'Stonnington', 'Unavailable',\n",
              "       'Whitehorse', 'Whittlesea', 'Wyndham', 'Yarra', 'Yarra Ranges'],\n",
              "      dtype='object')"
            ]
          },
          "metadata": {},
          "execution_count": 40
        }
      ]
    },
    {
      "cell_type": "markdown",
      "source": [
        "# RobustScaling"
      ],
      "metadata": {
        "id": "oEEjGo1CkpeE"
      }
    },
    {
      "cell_type": "markdown",
      "source": [
        "Este método de escalado robusto produce estimaciones más sólidas para el centro y el rango de la variable, y se recomienda si los datos muestran valores atípicos.\n",
        "\n",
        "En pocas palabras, RobustScaling:\n",
        "\n",
        "*   centra la mediana en 0\n",
        "*   la varianza varía según las variables puede no conservar la forma de la distribución original\n",
        "*   los valores mínimo y máximo varían.\n",
        "*   valores atípicos robustos"
      ],
      "metadata": {
        "id": "p7pSRXGGRxpF"
      }
    },
    {
      "cell_type": "code",
      "source": [
        "import seaborn as sns\n",
        "# para Q-Q plots\n",
        "import scipy.stats as stats"
      ],
      "metadata": {
        "id": "ExBXMzQdKLx7"
      },
      "execution_count": 41,
      "outputs": []
    },
    {
      "cell_type": "code",
      "source": [
        "# función para crear histograma, gráfico Q-Q y\n",
        "# diagrama de caja.\n",
        "\n",
        "def diagnostic_plots(df, variable):\n",
        "    # La función toma un marco de datos (df) y\n",
        "    # la variable de interés como argumentos\n",
        "\n",
        "    # define el tamaño de la figura\n",
        "    plt.figure(figsize=(16, 4))\n",
        "\n",
        "    # histograma\n",
        "    plt.subplot(1, 3, 1)\n",
        "    sns.histplot(df[variable], bins=30)\n",
        "    plt.title('Histogram')\n",
        "\n",
        "    # Q-Q plot\n",
        "    plt.subplot(1, 3, 2)\n",
        "    stats.probplot(df[variable], dist=\"norm\", plot=plt)\n",
        "    plt.ylabel('Variable quantiles')\n",
        "\n",
        "    # boxplot\n",
        "    plt.subplot(1, 3, 3)\n",
        "    sns.boxplot(y=df[variable])\n",
        "    plt.title('Boxplot')\n",
        "\n",
        "    plt.show()"
      ],
      "metadata": {
        "id": "on2wcZvAKVcr"
      },
      "execution_count": 42,
      "outputs": []
    },
    {
      "cell_type": "code",
      "source": [
        "# encontremos valores atípicos en Landsize\n",
        "diagnostic_plots(oe_melb_data, 'Landsize')"
      ],
      "metadata": {
        "colab": {
          "base_uri": "https://localhost:8080/",
          "height": 265
        },
        "id": "uWMqBpT4KbAR",
        "outputId": "a9686dbf-cb2e-463b-b41f-c89cf152f38b"
      },
      "execution_count": 43,
      "outputs": [
        {
          "output_type": "display_data",
          "data": {
            "text/plain": [
              "<Figure size 1152x288 with 3 Axes>"
            ],
            "image/png": "[encoded data removed]"
          },
          "metadata": {
            "needs_background": "light"
          }
        }
      ]
    },
    {
      "cell_type": "code",
      "source": [
        "# encontremos valores atípicos en BuildingArea\n",
        "diagnostic_plots(oe_melb_data, 'BuildingArea')"
      ],
      "metadata": {
        "colab": {
          "base_uri": "https://localhost:8080/",
          "height": 265
        },
        "id": "fACMbze8KeIK",
        "outputId": "1c37300a-5525-493e-97b5-304cbb82ca67"
      },
      "execution_count": 44,
      "outputs": [
        {
          "output_type": "display_data",
          "data": {
            "text/plain": [
              "<Figure size 1152x288 with 3 Axes>"
            ],
            "image/png": "[encoded data removed]"
          },
          "metadata": {
            "needs_background": "light"
          }
        }
      ]
    },
    {
      "cell_type": "code",
      "source": [
        "# encontremos valores atípicos en YearBuilt\n",
        "diagnostic_plots(oe_melb_data, 'YearBuilt')"
      ],
      "metadata": {
        "colab": {
          "base_uri": "https://localhost:8080/",
          "height": 267
        },
        "id": "SIVoKADJKfg3",
        "outputId": "63aa8a77-ba9b-42bf-acd0-22b4855390e7"
      },
      "execution_count": 45,
      "outputs": [
        {
          "output_type": "display_data",
          "data": {
            "text/plain": [
              "<Figure size 1152x288 with 3 Axes>"
            ],
            "image/png": "[encoded data removed]"
          },
          "metadata": {
            "needs_background": "light"
          }
        }
      ]
    },
    {
      "cell_type": "markdown",
      "source": [
        "MaxAbsScaler de scikit-learn vuelve a escalar las funciones a su valor máximo, de modo que el nuevo valor máximo sea 1."
      ],
      "metadata": {
        "id": "RhNwTM2tShRu"
      }
    },
    {
      "cell_type": "code",
      "source": [
        "from sklearn.model_selection import train_test_split\n",
        "\n",
        "# the scaler - for robust scaling\n",
        "from sklearn.preprocessing import RobustScaler"
      ],
      "metadata": {
        "id": "twfO1t0hkwwA"
      },
      "execution_count": 46,
      "outputs": []
    },
    {
      "cell_type": "code",
      "source": [
        "# separemos los datos en conjuntos de entrenamiento y prueba\n",
        "X_train, X_test, y_train, y_test = train_test_split(oe_melb_data.drop('Price', axis=1),\n",
        "                                                    oe_melb_data['Price'],\n",
        "                                                    test_size=0.3,\n",
        "                                                    random_state=0)\n",
        "\n",
        "X_train.shape, X_test.shape"
      ],
      "metadata": {
        "colab": {
          "base_uri": "https://localhost:8080/"
        },
        "id": "oTWfG_Nok2m0",
        "outputId": "cb238553-3d72-4ed4-a7ed-bc302602d79f"
      },
      "execution_count": 47,
      "outputs": [
        {
          "output_type": "execute_result",
          "data": {
            "text/plain": [
              "((9506, 60), (4074, 60))"
            ]
          },
          "metadata": {},
          "execution_count": 47
        }
      ]
    },
    {
      "cell_type": "code",
      "source": [
        "# configurar el escalador\n",
        "scaler = RobustScaler()\n",
        "\n",
        "# ajuste el escalador al juego de trenes, aprenderá los parámetros\n",
        "scaler.fit(X_train)\n",
        "\n",
        "# transformar a train and test sets\n",
        "X_train_scaled = scaler.transform(X_train)\n",
        "X_test_scaled = scaler.transform(X_test)"
      ],
      "metadata": {
        "id": "KFL4E1AMk7yx"
      },
      "execution_count": 48,
      "outputs": []
    },
    {
      "cell_type": "code",
      "source": [
        "# el escalador almacena los valores medianos de las características aprendidas \n",
        "# del conjunto de trenes\n",
        "scaler.center_"
      ],
      "metadata": {
        "colab": {
          "base_uri": "https://localhost:8080/"
        },
        "id": "OR2i-oU8k91W",
        "outputId": "31c692ea-3eec-492b-d124-60546dda6586"
      },
      "execution_count": 49,
      "outputs": [
        {
          "output_type": "execute_result",
          "data": {
            "text/plain": [
              "array([2.070e+02, 3.000e+00, 9.200e+00, 3.000e+00, 1.000e+00, 2.000e+00,\n",
              "       4.410e+02, 5.000e+01, 1.970e+03, 6.567e+03, 2.017e+03, 0.000e+00,\n",
              "       0.000e+00, 0.000e+00, 0.000e+00, 0.000e+00, 0.000e+00, 0.000e+00,\n",
              "       0.000e+00, 1.000e+00, 0.000e+00, 0.000e+00, 0.000e+00, 1.000e+00,\n",
              "       0.000e+00, 0.000e+00, 0.000e+00, 0.000e+00, 0.000e+00, 0.000e+00,\n",
              "       0.000e+00, 0.000e+00, 0.000e+00, 0.000e+00, 0.000e+00, 0.000e+00,\n",
              "       0.000e+00, 0.000e+00, 0.000e+00, 0.000e+00, 0.000e+00, 0.000e+00,\n",
              "       0.000e+00, 0.000e+00, 0.000e+00, 0.000e+00, 0.000e+00, 0.000e+00,\n",
              "       0.000e+00, 0.000e+00, 0.000e+00, 0.000e+00, 0.000e+00, 0.000e+00,\n",
              "       0.000e+00, 0.000e+00, 0.000e+00, 0.000e+00, 0.000e+00, 0.000e+00])"
            ]
          },
          "metadata": {},
          "execution_count": 49
        }
      ]
    },
    {
      "cell_type": "code",
      "source": [
        "# el escalador almacena los valores IQR de las características aprendidas del c\n",
        "# conjunto de datos\n",
        "scaler.scale_"
      ],
      "metadata": {
        "colab": {
          "base_uri": "https://localhost:8080/"
        },
        "id": "rOeRMQDTk_6_",
        "outputId": "774b5c67-d641-4557-e944-8c0b938d31f6"
      },
      "execution_count": 50,
      "outputs": [
        {
          "output_type": "execute_result",
          "data": {
            "text/plain": [
              "array([1.2700e+02, 2.0000e+00, 6.9000e+00, 1.0000e+00, 1.0000e+00,\n",
              "       1.0000e+00, 4.7375e+02, 1.2900e+02, 1.5000e+01, 5.9510e+03,\n",
              "       1.0000e+00, 1.0000e+00, 1.0000e+00, 1.0000e+00, 1.0000e+00,\n",
              "       1.0000e+00, 1.0000e+00, 1.0000e+00, 1.0000e+00, 1.0000e+00,\n",
              "       1.0000e+00, 1.0000e+00, 1.0000e+00, 1.0000e+00, 1.0000e+00,\n",
              "       1.0000e+00, 1.0000e+00, 1.0000e+00, 1.0000e+00, 1.0000e+00,\n",
              "       1.0000e+00, 1.0000e+00, 1.0000e+00, 1.0000e+00, 1.0000e+00,\n",
              "       1.0000e+00, 1.0000e+00, 1.0000e+00, 1.0000e+00, 1.0000e+00,\n",
              "       1.0000e+00, 1.0000e+00, 1.0000e+00, 1.0000e+00, 1.0000e+00,\n",
              "       1.0000e+00, 1.0000e+00, 1.0000e+00, 1.0000e+00, 1.0000e+00,\n",
              "       1.0000e+00, 1.0000e+00, 1.0000e+00, 1.0000e+00, 1.0000e+00,\n",
              "       1.0000e+00, 1.0000e+00, 1.0000e+00, 1.0000e+00, 1.0000e+00])"
            ]
          },
          "metadata": {},
          "execution_count": 50
        }
      ]
    },
    {
      "cell_type": "code",
      "source": [
        "# transformemos las matrices NumPy devueltas en dataframes\n",
        "X_train_scaled = pd.DataFrame(X_train_scaled, columns=X_train.columns)\n",
        "X_test_scaled = pd.DataFrame(X_test_scaled, columns=X_test.columns)\n"
      ],
      "metadata": {
        "id": "Xt4pVAM0lCjc"
      },
      "execution_count": 51,
      "outputs": []
    },
    {
      "cell_type": "code",
      "source": [
        "# echemos un vistazo al conjunto de datos de entrenamiento original: valores medios\n",
        "# Uso np.round para reducir el número de decimales a 1.\n",
        "np.round(X_train.median(), 1)"
      ],
      "metadata": {
        "colab": {
          "base_uri": "https://localhost:8080/"
        },
        "id": "Gu734o7plEXM",
        "outputId": "3c1476b7-23f3-4c03-ec30-3e407ff25275"
      },
      "execution_count": 52,
      "outputs": [
        {
          "output_type": "execute_result",
          "data": {
            "text/plain": [
              "Suburb                         207.0\n",
              "Rooms                            3.0\n",
              "Distance                         9.2\n",
              "Bedroom2                         3.0\n",
              "Bathroom                         1.0\n",
              "Car                              2.0\n",
              "Landsize                       441.0\n",
              "BuildingArea                    50.0\n",
              "YearBuilt                     1970.0\n",
              "Propertycount                 6567.0\n",
              "year                          2017.0\n",
              "Eastern Metropolitan             0.0\n",
              "Eastern Victoria                 0.0\n",
              "Northern Metropolitan            0.0\n",
              "Northern Victoria                0.0\n",
              "South-Eastern Metropolitan       0.0\n",
              "Southern Metropolitan            0.0\n",
              "Western Metropolitan             0.0\n",
              "Western Victoria                 0.0\n",
              "h                                1.0\n",
              "t                                0.0\n",
              "u                                0.0\n",
              "PI                               0.0\n",
              "S                                1.0\n",
              "SA                               0.0\n",
              "SP                               0.0\n",
              "VB                               0.0\n",
              "Banyule                          0.0\n",
              "Bayside                          0.0\n",
              "Boroondara                       0.0\n",
              "Brimbank                         0.0\n",
              "Cardinia                         0.0\n",
              "Casey                            0.0\n",
              "Darebin                          0.0\n",
              "Frankston                        0.0\n",
              "Glen Eira                        0.0\n",
              "Greater Dandenong                0.0\n",
              "Hobsons Bay                      0.0\n",
              "Hume                             0.0\n",
              "Kingston                         0.0\n",
              "Knox                             0.0\n",
              "Macedon Ranges                   0.0\n",
              "Manningham                       0.0\n",
              "Maribyrnong                      0.0\n",
              "Maroondah                        0.0\n",
              "Melbourne                        0.0\n",
              "Melton                           0.0\n",
              "Monash                           0.0\n",
              "Moonee Valley                    0.0\n",
              "Moorabool                        0.0\n",
              "Moreland                         0.0\n",
              "Nillumbik                        0.0\n",
              "Port Phillip                     0.0\n",
              "Stonnington                      0.0\n",
              "Unavailable                      0.0\n",
              "Whitehorse                       0.0\n",
              "Whittlesea                       0.0\n",
              "Wyndham                          0.0\n",
              "Yarra                            0.0\n",
              "Yarra Ranges                     0.0\n",
              "dtype: float64"
            ]
          },
          "metadata": {},
          "execution_count": 52
        }
      ]
    },
    {
      "cell_type": "code",
      "source": [
        "# echemos un vistazo al conjunto de datos de entrenamiento escalado: valores medios\n",
        "# Uso np.round para reducir el número de decimales a 1.\n",
        "np.round(X_train_scaled.median(), 1)"
      ],
      "metadata": {
        "colab": {
          "base_uri": "https://localhost:8080/"
        },
        "id": "O8M7aonE0Su0",
        "outputId": "7c8230b3-0fba-44ba-d6ec-5062c753c488"
      },
      "execution_count": 53,
      "outputs": [
        {
          "output_type": "execute_result",
          "data": {
            "text/plain": [
              "Suburb                        0.0\n",
              "Rooms                         0.0\n",
              "Distance                      0.0\n",
              "Bedroom2                      0.0\n",
              "Bathroom                      0.0\n",
              "Car                           0.0\n",
              "Landsize                      0.0\n",
              "BuildingArea                  0.0\n",
              "YearBuilt                     0.0\n",
              "Propertycount                 0.0\n",
              "year                          0.0\n",
              "Eastern Metropolitan          0.0\n",
              "Eastern Victoria              0.0\n",
              "Northern Metropolitan         0.0\n",
              "Northern Victoria             0.0\n",
              "South-Eastern Metropolitan    0.0\n",
              "Southern Metropolitan         0.0\n",
              "Western Metropolitan          0.0\n",
              "Western Victoria              0.0\n",
              "h                             0.0\n",
              "t                             0.0\n",
              "u                             0.0\n",
              "PI                            0.0\n",
              "S                             0.0\n",
              "SA                            0.0\n",
              "SP                            0.0\n",
              "VB                            0.0\n",
              "Banyule                       0.0\n",
              "Bayside                       0.0\n",
              "Boroondara                    0.0\n",
              "Brimbank                      0.0\n",
              "Cardinia                      0.0\n",
              "Casey                         0.0\n",
              "Darebin                       0.0\n",
              "Frankston                     0.0\n",
              "Glen Eira                     0.0\n",
              "Greater Dandenong             0.0\n",
              "Hobsons Bay                   0.0\n",
              "Hume                          0.0\n",
              "Kingston                      0.0\n",
              "Knox                          0.0\n",
              "Macedon Ranges                0.0\n",
              "Manningham                    0.0\n",
              "Maribyrnong                   0.0\n",
              "Maroondah                     0.0\n",
              "Melbourne                     0.0\n",
              "Melton                        0.0\n",
              "Monash                        0.0\n",
              "Moonee Valley                 0.0\n",
              "Moorabool                     0.0\n",
              "Moreland                      0.0\n",
              "Nillumbik                     0.0\n",
              "Port Phillip                  0.0\n",
              "Stonnington                   0.0\n",
              "Unavailable                   0.0\n",
              "Whitehorse                    0.0\n",
              "Whittlesea                    0.0\n",
              "Wyndham                       0.0\n",
              "Yarra                         0.0\n",
              "Yarra Ranges                  0.0\n",
              "dtype: float64"
            ]
          },
          "metadata": {},
          "execution_count": 53
        }
      ]
    },
    {
      "cell_type": "code",
      "source": [
        "# comparemos las distribuciones de variables antes y después de escalar\n",
        "fig, (ax1, ax2) = plt.subplots(ncols=2, figsize=(12, 5))\n",
        "\n",
        "# antes del escalado\n",
        "ax1.set_title('Before Scaling')\n",
        "sns.kdeplot(X_train['Car'], ax=ax1)\n",
        "sns.kdeplot(X_train['Landsize'], ax=ax1)\n",
        "sns.kdeplot(X_train['BuildingArea'], ax=ax1)\n",
        "\n",
        "# despues del escalado\n",
        "ax2.set_title('After Standard Scaling')\n",
        "sns.kdeplot(X_train_scaled['Car'], ax=ax2)\n",
        "sns.kdeplot(X_train_scaled['Landsize'], ax=ax2)\n",
        "sns.kdeplot(X_train_scaled['BuildingArea'], ax=ax2)\n",
        "plt.show()"
      ],
      "metadata": {
        "colab": {
          "base_uri": "https://localhost:8080/",
          "height": 350
        },
        "id": "auP8tfk5lSET",
        "outputId": "1e6818f2-4d7a-4e88-cb87-0d6c01c851b1"
      },
      "execution_count": 54,
      "outputs": [
        {
          "output_type": "display_data",
          "data": {
            "text/plain": [
              "<Figure size 864x360 with 2 Axes>"
            ],
            "image/png": "[encoded data removed]"
          },
          "metadata": {
            "needs_background": "light"
          }
        }
      ]
    },
    {
      "cell_type": "code",
      "source": [
        "# comparemos las distribuciones de variables antes y después de escalar\n",
        "\n",
        "fig, (ax1, ax2) = plt.subplots(ncols=2, figsize=(12, 5))\n",
        "\n",
        "# antes del escalado\n",
        "ax1.set_title('Before Scaling')\n",
        "sns.kdeplot(X_train['BuildingArea'], ax=ax1)\n",
        "sns.kdeplot(X_train['Landsize'], ax=ax1)\n",
        "sns.kdeplot(X_train['YearBuilt'], ax=ax1)\n",
        "\n",
        "# despues del escalado\n",
        "ax2.set_title('After Standard Scaling')\n",
        "sns.kdeplot(X_train_scaled['BuildingArea'], ax=ax2)\n",
        "sns.kdeplot(X_train_scaled['Landsize'], ax=ax2)\n",
        "sns.kdeplot(X_train_scaled['YearBuilt'], ax=ax2)\n",
        "plt.show()  "
      ],
      "metadata": {
        "colab": {
          "base_uri": "https://localhost:8080/",
          "height": 350
        },
        "id": "X0X77EgGllwD",
        "outputId": "12b8b882-7267-4252-db38-f7d25616fb03"
      },
      "execution_count": 55,
      "outputs": [
        {
          "output_type": "display_data",
          "data": {
            "text/plain": [
              "<Figure size 864x360 with 2 Axes>"
            ],
            "image/png": "[encoded data removed]"
          },
          "metadata": {
            "needs_background": "light"
          }
        }
      ]
    },
    {
      "cell_type": "markdown",
      "source": [
        "# Modelos de Machine Learning"
      ],
      "metadata": {
        "id": "2xueD7PKqJM6"
      }
    },
    {
      "cell_type": "markdown",
      "source": [
        "## Random Forest"
      ],
      "metadata": {
        "id": "54smZefaqOMv"
      }
    },
    {
      "cell_type": "code",
      "source": [
        "from sklearn.ensemble import RandomForestClassifier\n",
        "from sklearn.datasets import make_classification\n",
        "\n",
        "rf = RandomForestClassifier(n_estimators=100, max_depth=10, random_state=42)\n",
        "rf.fit(X_train_scaled, y_train)"
      ],
      "metadata": {
        "id": "0bXvIZWXWVxY",
        "colab": {
          "base_uri": "https://localhost:8080/"
        },
        "outputId": "8882977c-1381-449f-96be-2ea6a1688ceb"
      },
      "execution_count": 56,
      "outputs": [
        {
          "output_type": "execute_result",
          "data": {
            "text/plain": [
              "RandomForestClassifier(max_depth=10, random_state=42)"
            ]
          },
          "metadata": {},
          "execution_count": 56
        }
      ]
    },
    {
      "cell_type": "code",
      "source": [
        "# predicción en conjunto de prueba\n",
        "y_predict = rf.predict(X_test_scaled)"
      ],
      "metadata": {
        "id": "zqdTFaAVqG7s"
      },
      "execution_count": 57,
      "outputs": []
    },
    {
      "cell_type": "code",
      "source": [
        "# Importar scikit-learn módulo de métricas para el cálculo de precisión\n",
        "from sklearn.metrics import accuracy_score\n",
        "from sklearn.metrics import mean_squared_error\n",
        "from sklearn import metrics\n",
        "\n",
        "print('Error Cuadratico Medio =',mean_squared_error(y_test, y_predict))\n",
        "print('R^2 =',metrics.explained_variance_score(y_test,y_predict))"
      ],
      "metadata": {
        "colab": {
          "base_uri": "https://localhost:8080/"
        },
        "id": "eUwCkEL7kFgR",
        "outputId": "2c5443a3-c473-45fc-a4ea-d614db4b5700"
      },
      "execution_count": 60,
      "outputs": [
        {
          "output_type": "stream",
          "name": "stdout",
          "text": [
            "Error Cuadratico Medio = 180588095929.87335\n",
            "R^2 = 0.5677363624807051\n"
          ]
        }
      ]
    },
    {
      "cell_type": "markdown",
      "source": [
        "## AdaBoost"
      ],
      "metadata": {
        "id": "b4xsgNKPTLuh"
      }
    },
    {
      "cell_type": "code",
      "source": [
        "from sklearn.ensemble import AdaBoostRegressor\n",
        "from sklearn.ensemble import AdaBoostClassifier\n",
        "from sklearn.datasets import make_classification\n",
        "\n",
        "adb = AdaBoostRegressor(random_state=42, n_estimators=100)\n",
        "adb.fit(X_train_scaled, y_train)"
      ],
      "metadata": {
        "colab": {
          "base_uri": "https://localhost:8080/"
        },
        "id": "SOf0-6JjTN0h",
        "outputId": "821b4852-3b86-4a4a-f522-365a25aad7ab"
      },
      "execution_count": 61,
      "outputs": [
        {
          "output_type": "execute_result",
          "data": {
            "text/plain": [
              "AdaBoostRegressor(n_estimators=100, random_state=42)"
            ]
          },
          "metadata": {},
          "execution_count": 61
        }
      ]
    },
    {
      "cell_type": "code",
      "source": [
        "# predicción en conjunto de prueba\n",
        "y_predict = adb.predict(X_test_scaled)"
      ],
      "metadata": {
        "id": "H41Tu5m-TxJx"
      },
      "execution_count": 62,
      "outputs": []
    },
    {
      "cell_type": "code",
      "source": [
        "# Importar scikit-learn módulo de métricas para el cálculo de precisión\n",
        "from sklearn.metrics import mean_squared_error\n",
        "from sklearn import metrics\n",
        "\n",
        "print('Error Cuadratico Medio =',mean_squared_error(y_test, y_predict))\n",
        "print('R^2 =',metrics.explained_variance_score(y_test,y_predict))"
      ],
      "metadata": {
        "colab": {
          "base_uri": "https://localhost:8080/"
        },
        "id": "GOHZ0caoTuM9",
        "outputId": "4da308fb-4333-494c-af2f-47b01e1135de"
      },
      "execution_count": 63,
      "outputs": [
        {
          "output_type": "stream",
          "name": "stdout",
          "text": [
            "Error Cuadratico Medio = 375018219304.4979\n",
            "R^2 = 0.642771485566539\n"
          ]
        }
      ]
    }
  ]
}