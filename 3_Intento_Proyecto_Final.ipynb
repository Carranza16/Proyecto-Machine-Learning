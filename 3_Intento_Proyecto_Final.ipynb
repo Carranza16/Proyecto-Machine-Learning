{
  "nbformat": 4,
  "nbformat_minor": 0,
  "metadata": {
    "colab": {
      "provenance": [],
      "include_colab_link": true
    },
    "kernelspec": {
      "name": "python3",
      "display_name": "Python 3"
    },
    "language_info": {
      "name": "python"
    }
  },
  "cells": [
    {
      "cell_type": "markdown",
      "metadata": {
        "id": "view-in-github",
        "colab_type": "text"
      },
      "source": [
        "<a href=\"https://colab.research.google.com/github/Carranza16/Proyecto-Machine-Learning/blob/main/3_Intento_Proyecto_Final.ipynb\" target=\"_parent\"><img src=\"https://colab.research.google.com/assets/colab-badge.svg\" alt=\"Open In Colab\"/></a>"
      ]
    },
    {
      "cell_type": "markdown",
      "source": [
        "#Variable Description:\n",
        "Rooms: Number of rooms\n",
        "\n",
        "Price: Price in dollars\n",
        "\n",
        "Method: S - property sold; SP - property sold prior; PI - property passed in; PN - sold prior not disclosed; SN - sold not disclosed; NB - no bid; VB - vendor bid; W - withdrawn prior to auction; SA - sold after auction; SS - sold after auction price not disclosed. N/A - price or highest bid not available.\n",
        "\n",
        "Type: br - bedroom(s); h - house,cottage,villa, semi,terrace; u - unit, duplex; t - townhouse; dev site - development site; o res - other residential.\n",
        "\n",
        "SellerG: Real Estate Agent\n",
        "\n",
        "Date: Date sold\n",
        "\n",
        "Distance: Distance from CBD\n",
        "\n",
        "Regionname: General Region (West, North West, North, North east …etc)\n",
        "\n",
        "Propertycount: Number of properties that exist in the suburb.\n",
        "\n",
        "Bedroom2 : Scraped # of Bedrooms (from different source)\n",
        "\n",
        "Bathroom: Number of Bathrooms\n",
        "\n",
        "Car: Number of carspots\n",
        "\n",
        "Landsize: Land Size\n",
        "\n",
        "BuildingArea: Building Size\n",
        "\n",
        "CouncilArea: Governing council for the area"
      ],
      "metadata": {
        "id": "2OjQRuAwUOmB"
      }
    },
    {
      "cell_type": "markdown",
      "source": [
        "#Limpiar los datos: realiza el proceso EDA"
      ],
      "metadata": {
        "id": "r6D9ayPbTS3V"
      }
    },
    {
      "cell_type": "code",
      "execution_count": 1,
      "metadata": {
        "id": "mMPNK317Su4H"
      },
      "outputs": [],
      "source": [
        "import pandas as pd               \n",
        "import numpy as np                \n",
        "import matplotlib.pyplot as plt  \n",
        "import seaborn as sns             \n",
        "%matplotlib inline               "
      ]
    },
    {
      "cell_type": "code",
      "source": [
        "# Leemos la data\n",
        "melb_data = pd.read_csv(\"/content/sample_data/melb_data.csv\")"
      ],
      "metadata": {
        "id": "bhFL4bvNGPH9"
      },
      "execution_count": 2,
      "outputs": []
    },
    {
      "cell_type": "code",
      "source": [
        "# Visualizamos la data\n",
        "melb_data.head()"
      ],
      "metadata": {
        "id": "hSjyxWXdmhAE",
        "colab": {
          "base_uri": "https://localhost:8080/",
          "height": 421
        },
        "outputId": "bf49a9cf-8d98-421b-c206-a262b3f87f9c"
      },
      "execution_count": 3,
      "outputs": [
        {
          "output_type": "execute_result",
          "data": {
            "text/plain": [
              "       Suburb           Address  Rooms Type      Price Method SellerG  \\\n",
              "0  Abbotsford      85 Turner St      2    h  1480000.0      S  Biggin   \n",
              "1  Abbotsford   25 Bloomburg St      2    h  1035000.0      S  Biggin   \n",
              "2  Abbotsford      5 Charles St      3    h  1465000.0     SP  Biggin   \n",
              "3  Abbotsford  40 Federation La      3    h   850000.0     PI  Biggin   \n",
              "4  Abbotsford       55a Park St      4    h  1600000.0     VB  Nelson   \n",
              "\n",
              "        Date  Distance  Postcode  ...  Bathroom  Car  Landsize  BuildingArea  \\\n",
              "0  3/12/2016       2.5    3067.0  ...       1.0  1.0     202.0           NaN   \n",
              "1  4/02/2016       2.5    3067.0  ...       1.0  0.0     156.0          79.0   \n",
              "2  4/03/2017       2.5    3067.0  ...       2.0  0.0     134.0         150.0   \n",
              "3  4/03/2017       2.5    3067.0  ...       2.0  1.0      94.0           NaN   \n",
              "4  4/06/2016       2.5    3067.0  ...       1.0  2.0     120.0         142.0   \n",
              "\n",
              "   YearBuilt  CouncilArea Lattitude  Longtitude             Regionname  \\\n",
              "0        NaN        Yarra  -37.7996    144.9984  Northern Metropolitan   \n",
              "1     1900.0        Yarra  -37.8079    144.9934  Northern Metropolitan   \n",
              "2     1900.0        Yarra  -37.8093    144.9944  Northern Metropolitan   \n",
              "3        NaN        Yarra  -37.7969    144.9969  Northern Metropolitan   \n",
              "4     2014.0        Yarra  -37.8072    144.9941  Northern Metropolitan   \n",
              "\n",
              "  Propertycount  \n",
              "0        4019.0  \n",
              "1        4019.0  \n",
              "2        4019.0  \n",
              "3        4019.0  \n",
              "4        4019.0  \n",
              "\n",
              "[5 rows x 21 columns]"
            ],
            "text/html": [
              "\n",
              "  <div id=\"df-d0c71afc-727f-4650-b6d5-663df7046759\">\n",
              "    <div class=\"colab-df-container\">\n",
              "      <div>\n",
              "<style scoped>\n",
              "    .dataframe tbody tr th:only-of-type {\n",
              "        vertical-align: middle;\n",
              "    }\n",
              "\n",
              "    .dataframe tbody tr th {\n",
              "        vertical-align: top;\n",
              "    }\n",
              "\n",
              "    .dataframe thead th {\n",
              "        text-align: right;\n",
              "    }\n",
              "</style>\n",
              "<table border=\"1\" class=\"dataframe\">\n",
              "  <thead>\n",
              "    <tr style=\"text-align: right;\">\n",
              "      <th></th>\n",
              "      <th>Suburb</th>\n",
              "      <th>Address</th>\n",
              "      <th>Rooms</th>\n",
              "      <th>Type</th>\n",
              "      <th>Price</th>\n",
              "      <th>Method</th>\n",
              "      <th>SellerG</th>\n",
              "      <th>Date</th>\n",
              "      <th>Distance</th>\n",
              "      <th>Postcode</th>\n",
              "      <th>...</th>\n",
              "      <th>Bathroom</th>\n",
              "      <th>Car</th>\n",
              "      <th>Landsize</th>\n",
              "      <th>BuildingArea</th>\n",
              "      <th>YearBuilt</th>\n",
              "      <th>CouncilArea</th>\n",
              "      <th>Lattitude</th>\n",
              "      <th>Longtitude</th>\n",
              "      <th>Regionname</th>\n",
              "      <th>Propertycount</th>\n",
              "    </tr>\n",
              "  </thead>\n",
              "  <tbody>\n",
              "    <tr>\n",
              "      <th>0</th>\n",
              "      <td>Abbotsford</td>\n",
              "      <td>85 Turner St</td>\n",
              "      <td>2</td>\n",
              "      <td>h</td>\n",
              "      <td>1480000.0</td>\n",
              "      <td>S</td>\n",
              "      <td>Biggin</td>\n",
              "      <td>3/12/2016</td>\n",
              "      <td>2.5</td>\n",
              "      <td>3067.0</td>\n",
              "      <td>...</td>\n",
              "      <td>1.0</td>\n",
              "      <td>1.0</td>\n",
              "      <td>202.0</td>\n",
              "      <td>NaN</td>\n",
              "      <td>NaN</td>\n",
              "      <td>Yarra</td>\n",
              "      <td>-37.7996</td>\n",
              "      <td>144.9984</td>\n",
              "      <td>Northern Metropolitan</td>\n",
              "      <td>4019.0</td>\n",
              "    </tr>\n",
              "    <tr>\n",
              "      <th>1</th>\n",
              "      <td>Abbotsford</td>\n",
              "      <td>25 Bloomburg St</td>\n",
              "      <td>2</td>\n",
              "      <td>h</td>\n",
              "      <td>1035000.0</td>\n",
              "      <td>S</td>\n",
              "      <td>Biggin</td>\n",
              "      <td>4/02/2016</td>\n",
              "      <td>2.5</td>\n",
              "      <td>3067.0</td>\n",
              "      <td>...</td>\n",
              "      <td>1.0</td>\n",
              "      <td>0.0</td>\n",
              "      <td>156.0</td>\n",
              "      <td>79.0</td>\n",
              "      <td>1900.0</td>\n",
              "      <td>Yarra</td>\n",
              "      <td>-37.8079</td>\n",
              "      <td>144.9934</td>\n",
              "      <td>Northern Metropolitan</td>\n",
              "      <td>4019.0</td>\n",
              "    </tr>\n",
              "    <tr>\n",
              "      <th>2</th>\n",
              "      <td>Abbotsford</td>\n",
              "      <td>5 Charles St</td>\n",
              "      <td>3</td>\n",
              "      <td>h</td>\n",
              "      <td>1465000.0</td>\n",
              "      <td>SP</td>\n",
              "      <td>Biggin</td>\n",
              "      <td>4/03/2017</td>\n",
              "      <td>2.5</td>\n",
              "      <td>3067.0</td>\n",
              "      <td>...</td>\n",
              "      <td>2.0</td>\n",
              "      <td>0.0</td>\n",
              "      <td>134.0</td>\n",
              "      <td>150.0</td>\n",
              "      <td>1900.0</td>\n",
              "      <td>Yarra</td>\n",
              "      <td>-37.8093</td>\n",
              "      <td>144.9944</td>\n",
              "      <td>Northern Metropolitan</td>\n",
              "      <td>4019.0</td>\n",
              "    </tr>\n",
              "    <tr>\n",
              "      <th>3</th>\n",
              "      <td>Abbotsford</td>\n",
              "      <td>40 Federation La</td>\n",
              "      <td>3</td>\n",
              "      <td>h</td>\n",
              "      <td>850000.0</td>\n",
              "      <td>PI</td>\n",
              "      <td>Biggin</td>\n",
              "      <td>4/03/2017</td>\n",
              "      <td>2.5</td>\n",
              "      <td>3067.0</td>\n",
              "      <td>...</td>\n",
              "      <td>2.0</td>\n",
              "      <td>1.0</td>\n",
              "      <td>94.0</td>\n",
              "      <td>NaN</td>\n",
              "      <td>NaN</td>\n",
              "      <td>Yarra</td>\n",
              "      <td>-37.7969</td>\n",
              "      <td>144.9969</td>\n",
              "      <td>Northern Metropolitan</td>\n",
              "      <td>4019.0</td>\n",
              "    </tr>\n",
              "    <tr>\n",
              "      <th>4</th>\n",
              "      <td>Abbotsford</td>\n",
              "      <td>55a Park St</td>\n",
              "      <td>4</td>\n",
              "      <td>h</td>\n",
              "      <td>1600000.0</td>\n",
              "      <td>VB</td>\n",
              "      <td>Nelson</td>\n",
              "      <td>4/06/2016</td>\n",
              "      <td>2.5</td>\n",
              "      <td>3067.0</td>\n",
              "      <td>...</td>\n",
              "      <td>1.0</td>\n",
              "      <td>2.0</td>\n",
              "      <td>120.0</td>\n",
              "      <td>142.0</td>\n",
              "      <td>2014.0</td>\n",
              "      <td>Yarra</td>\n",
              "      <td>-37.8072</td>\n",
              "      <td>144.9941</td>\n",
              "      <td>Northern Metropolitan</td>\n",
              "      <td>4019.0</td>\n",
              "    </tr>\n",
              "  </tbody>\n",
              "</table>\n",
              "<p>5 rows × 21 columns</p>\n",
              "</div>\n",
              "      <button class=\"colab-df-convert\" onclick=\"convertToInteractive('df-d0c71afc-727f-4650-b6d5-663df7046759')\"\n",
              "              title=\"Convert this dataframe to an interactive table.\"\n",
              "              style=\"display:none;\">\n",
              "        \n",
              "  <svg xmlns=\"http://www.w3.org/2000/svg\" height=\"24px\"viewBox=\"0 0 24 24\"\n",
              "       width=\"24px\">\n",
              "    <path d=\"M0 0h24v24H0V0z\" fill=\"none\"/>\n",
              "    <path d=\"M18.56 5.44l.94 2.06.94-2.06 2.06-.94-2.06-.94-.94-2.06-.94 2.06-2.06.94zm-11 1L8.5 8.5l.94-2.06 2.06-.94-2.06-.94L8.5 2.5l-.94 2.06-2.06.94zm10 10l.94 2.06.94-2.06 2.06-.94-2.06-.94-.94-2.06-.94 2.06-2.06.94z\"/><path d=\"M17.41 7.96l-1.37-1.37c-.4-.4-.92-.59-1.43-.59-.52 0-1.04.2-1.43.59L10.3 9.45l-7.72 7.72c-.78.78-.78 2.05 0 2.83L4 21.41c.39.39.9.59 1.41.59.51 0 1.02-.2 1.41-.59l7.78-7.78 2.81-2.81c.8-.78.8-2.07 0-2.86zM5.41 20L4 18.59l7.72-7.72 1.47 1.35L5.41 20z\"/>\n",
              "  </svg>\n",
              "      </button>\n",
              "      \n",
              "  <style>\n",
              "    .colab-df-container {\n",
              "      display:flex;\n",
              "      flex-wrap:wrap;\n",
              "      gap: 12px;\n",
              "    }\n",
              "\n",
              "    .colab-df-convert {\n",
              "      background-color: #E8F0FE;\n",
              "      border: none;\n",
              "      border-radius: 50%;\n",
              "      cursor: pointer;\n",
              "      display: none;\n",
              "      fill: #1967D2;\n",
              "      height: 32px;\n",
              "      padding: 0 0 0 0;\n",
              "      width: 32px;\n",
              "    }\n",
              "\n",
              "    .colab-df-convert:hover {\n",
              "      background-color: #E2EBFA;\n",
              "      box-shadow: 0px 1px 2px rgba(60, 64, 67, 0.3), 0px 1px 3px 1px rgba(60, 64, 67, 0.15);\n",
              "      fill: #174EA6;\n",
              "    }\n",
              "\n",
              "    [theme=dark] .colab-df-convert {\n",
              "      background-color: #3B4455;\n",
              "      fill: #D2E3FC;\n",
              "    }\n",
              "\n",
              "    [theme=dark] .colab-df-convert:hover {\n",
              "      background-color: #434B5C;\n",
              "      box-shadow: 0px 1px 3px 1px rgba(0, 0, 0, 0.15);\n",
              "      filter: drop-shadow(0px 1px 2px rgba(0, 0, 0, 0.3));\n",
              "      fill: #FFFFFF;\n",
              "    }\n",
              "  </style>\n",
              "\n",
              "      <script>\n",
              "        const buttonEl =\n",
              "          document.querySelector('#df-d0c71afc-727f-4650-b6d5-663df7046759 button.colab-df-convert');\n",
              "        buttonEl.style.display =\n",
              "          google.colab.kernel.accessAllowed ? 'block' : 'none';\n",
              "\n",
              "        async function convertToInteractive(key) {\n",
              "          const element = document.querySelector('#df-d0c71afc-727f-4650-b6d5-663df7046759');\n",
              "          const dataTable =\n",
              "            await google.colab.kernel.invokeFunction('convertToInteractive',\n",
              "                                                     [key], {});\n",
              "          if (!dataTable) return;\n",
              "\n",
              "          const docLinkHtml = 'Like what you see? Visit the ' +\n",
              "            '<a target=\"_blank\" href=https://colab.research.google.com/notebooks/data_table.ipynb>data table notebook</a>'\n",
              "            + ' to learn more about interactive tables.';\n",
              "          element.innerHTML = '';\n",
              "          dataTable['output_type'] = 'display_data';\n",
              "          await google.colab.output.renderOutput(dataTable, element);\n",
              "          const docLink = document.createElement('div');\n",
              "          docLink.innerHTML = docLinkHtml;\n",
              "          element.appendChild(docLink);\n",
              "        }\n",
              "      </script>\n",
              "    </div>\n",
              "  </div>\n",
              "  "
            ]
          },
          "metadata": {},
          "execution_count": 3
        }
      ]
    },
    {
      "cell_type": "code",
      "source": [
        "# Visualizamos las columnas de la data\n",
        "melb_data.columns"
      ],
      "metadata": {
        "colab": {
          "base_uri": "https://localhost:8080/"
        },
        "id": "ai2hCguHdklm",
        "outputId": "2daab6ef-2160-4b0a-f7b7-0f5afadc45aa"
      },
      "execution_count": 4,
      "outputs": [
        {
          "output_type": "execute_result",
          "data": {
            "text/plain": [
              "Index(['Suburb', 'Address', 'Rooms', 'Type', 'Price', 'Method', 'SellerG',\n",
              "       'Date', 'Distance', 'Postcode', 'Bedroom2', 'Bathroom', 'Car',\n",
              "       'Landsize', 'BuildingArea', 'YearBuilt', 'CouncilArea', 'Lattitude',\n",
              "       'Longtitude', 'Regionname', 'Propertycount'],\n",
              "      dtype='object')"
            ]
          },
          "metadata": {},
          "execution_count": 4
        }
      ]
    },
    {
      "cell_type": "code",
      "source": [
        "# Observamos el tipo de dato de cada columna\n",
        "melb_data.info()"
      ],
      "metadata": {
        "colab": {
          "base_uri": "https://localhost:8080/"
        },
        "id": "FgeUl9M29n2Q",
        "outputId": "3b7cd8a9-03a4-4d94-971c-f8034b2dbf0c"
      },
      "execution_count": 5,
      "outputs": [
        {
          "output_type": "stream",
          "name": "stdout",
          "text": [
            "<class 'pandas.core.frame.DataFrame'>\n",
            "RangeIndex: 13580 entries, 0 to 13579\n",
            "Data columns (total 21 columns):\n",
            " #   Column         Non-Null Count  Dtype  \n",
            "---  ------         --------------  -----  \n",
            " 0   Suburb         13580 non-null  object \n",
            " 1   Address        13580 non-null  object \n",
            " 2   Rooms          13580 non-null  int64  \n",
            " 3   Type           13580 non-null  object \n",
            " 4   Price          13580 non-null  float64\n",
            " 5   Method         13580 non-null  object \n",
            " 6   SellerG        13580 non-null  object \n",
            " 7   Date           13580 non-null  object \n",
            " 8   Distance       13580 non-null  float64\n",
            " 9   Postcode       13580 non-null  float64\n",
            " 10  Bedroom2       13580 non-null  float64\n",
            " 11  Bathroom       13580 non-null  float64\n",
            " 12  Car            13518 non-null  float64\n",
            " 13  Landsize       13580 non-null  float64\n",
            " 14  BuildingArea   7130 non-null   float64\n",
            " 15  YearBuilt      8205 non-null   float64\n",
            " 16  CouncilArea    12211 non-null  object \n",
            " 17  Lattitude      13580 non-null  float64\n",
            " 18  Longtitude     13580 non-null  float64\n",
            " 19  Regionname     13580 non-null  object \n",
            " 20  Propertycount  13580 non-null  float64\n",
            "dtypes: float64(12), int64(1), object(8)\n",
            "memory usage: 2.2+ MB\n"
          ]
        }
      ]
    },
    {
      "cell_type": "code",
      "source": [
        "# Nulos en cada columna (variable)\n",
        "melb_data.isnull().sum()"
      ],
      "metadata": {
        "colab": {
          "base_uri": "https://localhost:8080/"
        },
        "id": "ui9tnehf93lX",
        "outputId": "8b488412-3b08-4264-8739-88cf060bfec2"
      },
      "execution_count": 6,
      "outputs": [
        {
          "output_type": "execute_result",
          "data": {
            "text/plain": [
              "Suburb              0\n",
              "Address             0\n",
              "Rooms               0\n",
              "Type                0\n",
              "Price               0\n",
              "Method              0\n",
              "SellerG             0\n",
              "Date                0\n",
              "Distance            0\n",
              "Postcode            0\n",
              "Bedroom2            0\n",
              "Bathroom            0\n",
              "Car                62\n",
              "Landsize            0\n",
              "BuildingArea     6450\n",
              "YearBuilt        5375\n",
              "CouncilArea      1369\n",
              "Lattitude           0\n",
              "Longtitude          0\n",
              "Regionname          0\n",
              "Propertycount       0\n",
              "dtype: int64"
            ]
          },
          "metadata": {},
          "execution_count": 6
        }
      ]
    },
    {
      "cell_type": "code",
      "source": [
        "# Función para hallar el porcentaje de nulos en cada columna\n",
        "def porcentaje(columna):\n",
        "  total_null = columna.isnull().sum()\n",
        "  return ((total_null)/len(columna))*100\n",
        "porcentaje(melb_data) "
      ],
      "metadata": {
        "colab": {
          "base_uri": "https://localhost:8080/"
        },
        "id": "noMGC7G2-DSz",
        "outputId": "f42218f2-f044-4e26-ed01-cd45ad2c5ccd"
      },
      "execution_count": 7,
      "outputs": [
        {
          "output_type": "execute_result",
          "data": {
            "text/plain": [
              "Suburb            0.000000\n",
              "Address           0.000000\n",
              "Rooms             0.000000\n",
              "Type              0.000000\n",
              "Price             0.000000\n",
              "Method            0.000000\n",
              "SellerG           0.000000\n",
              "Date              0.000000\n",
              "Distance          0.000000\n",
              "Postcode          0.000000\n",
              "Bedroom2          0.000000\n",
              "Bathroom          0.000000\n",
              "Car               0.456554\n",
              "Landsize          0.000000\n",
              "BuildingArea     47.496318\n",
              "YearBuilt        39.580265\n",
              "CouncilArea      10.081001\n",
              "Lattitude         0.000000\n",
              "Longtitude        0.000000\n",
              "Regionname        0.000000\n",
              "Propertycount     0.000000\n",
              "dtype: float64"
            ]
          },
          "metadata": {},
          "execution_count": 7
        }
      ]
    },
    {
      "cell_type": "code",
      "source": [
        "# El porcentaje de datos en las variables es menor al 80% por lo tanto realizamos la \n",
        "# imputación para cada tipo de variable "
      ],
      "metadata": {
        "id": "vEJj-JZ1-PXW"
      },
      "execution_count": null,
      "outputs": []
    },
    {
      "cell_type": "markdown",
      "source": [
        "#Imputación de valores *nulos*"
      ],
      "metadata": {
        "id": "EAXNzR9U--oa"
      }
    },
    {
      "cell_type": "code",
      "source": [
        "# ['BuildingArea']\n",
        "# Empezaremos con la columna BuildingArea\n",
        "# 'BuildinArea' es el tamaño del edificio construido en metros\n",
        "# Este dato está relacionado con nuestra columna 'Landsize' que es el tamaño\n",
        "# del terreno en metros por lo tanto si el dato en 'Landsize' es 0 tambien lo\n",
        "# debe ser en 'BuildingArea'. Ya que no puede haber un edificio construido donde\n",
        "# no hay terreno. \n",
        "\n",
        "melb_data_relacion = melb_data[melb_data['Landsize'] == 0]\n",
        "melb_data_relacion[['Landsize','BuildingArea','Price']]\n"
      ],
      "metadata": {
        "id": "hRCX_EfG-5XI",
        "colab": {
          "base_uri": "https://localhost:8080/",
          "height": 423
        },
        "outputId": "5bd1af00-0080-411e-ae99-9afe52da48af"
      },
      "execution_count": 8,
      "outputs": [
        {
          "output_type": "execute_result",
          "data": {
            "text/plain": [
              "       Landsize  BuildingArea      Price\n",
              "8           0.0           NaN   300000.0\n",
              "10          0.0           NaN   700000.0\n",
              "12          0.0         94.00   750000.0\n",
              "14          0.0           NaN   441000.0\n",
              "21          0.0           NaN   900000.0\n",
              "...         ...           ...        ...\n",
              "12168       0.0         82.00   600000.0\n",
              "12176       0.0           NaN  1050000.0\n",
              "12188       0.0         66.32   300000.0\n",
              "12207       0.0         35.64   385000.0\n",
              "12209       0.0         61.60   560000.0\n",
              "\n",
              "[1939 rows x 3 columns]"
            ],
            "text/html": [
              "\n",
              "  <div id=\"df-75952407-9317-402b-9618-24681853a98d\">\n",
              "    <div class=\"colab-df-container\">\n",
              "      <div>\n",
              "<style scoped>\n",
              "    .dataframe tbody tr th:only-of-type {\n",
              "        vertical-align: middle;\n",
              "    }\n",
              "\n",
              "    .dataframe tbody tr th {\n",
              "        vertical-align: top;\n",
              "    }\n",
              "\n",
              "    .dataframe thead th {\n",
              "        text-align: right;\n",
              "    }\n",
              "</style>\n",
              "<table border=\"1\" class=\"dataframe\">\n",
              "  <thead>\n",
              "    <tr style=\"text-align: right;\">\n",
              "      <th></th>\n",
              "      <th>Landsize</th>\n",
              "      <th>BuildingArea</th>\n",
              "      <th>Price</th>\n",
              "    </tr>\n",
              "  </thead>\n",
              "  <tbody>\n",
              "    <tr>\n",
              "      <th>8</th>\n",
              "      <td>0.0</td>\n",
              "      <td>NaN</td>\n",
              "      <td>300000.0</td>\n",
              "    </tr>\n",
              "    <tr>\n",
              "      <th>10</th>\n",
              "      <td>0.0</td>\n",
              "      <td>NaN</td>\n",
              "      <td>700000.0</td>\n",
              "    </tr>\n",
              "    <tr>\n",
              "      <th>12</th>\n",
              "      <td>0.0</td>\n",
              "      <td>94.00</td>\n",
              "      <td>750000.0</td>\n",
              "    </tr>\n",
              "    <tr>\n",
              "      <th>14</th>\n",
              "      <td>0.0</td>\n",
              "      <td>NaN</td>\n",
              "      <td>441000.0</td>\n",
              "    </tr>\n",
              "    <tr>\n",
              "      <th>21</th>\n",
              "      <td>0.0</td>\n",
              "      <td>NaN</td>\n",
              "      <td>900000.0</td>\n",
              "    </tr>\n",
              "    <tr>\n",
              "      <th>...</th>\n",
              "      <td>...</td>\n",
              "      <td>...</td>\n",
              "      <td>...</td>\n",
              "    </tr>\n",
              "    <tr>\n",
              "      <th>12168</th>\n",
              "      <td>0.0</td>\n",
              "      <td>82.00</td>\n",
              "      <td>600000.0</td>\n",
              "    </tr>\n",
              "    <tr>\n",
              "      <th>12176</th>\n",
              "      <td>0.0</td>\n",
              "      <td>NaN</td>\n",
              "      <td>1050000.0</td>\n",
              "    </tr>\n",
              "    <tr>\n",
              "      <th>12188</th>\n",
              "      <td>0.0</td>\n",
              "      <td>66.32</td>\n",
              "      <td>300000.0</td>\n",
              "    </tr>\n",
              "    <tr>\n",
              "      <th>12207</th>\n",
              "      <td>0.0</td>\n",
              "      <td>35.64</td>\n",
              "      <td>385000.0</td>\n",
              "    </tr>\n",
              "    <tr>\n",
              "      <th>12209</th>\n",
              "      <td>0.0</td>\n",
              "      <td>61.60</td>\n",
              "      <td>560000.0</td>\n",
              "    </tr>\n",
              "  </tbody>\n",
              "</table>\n",
              "<p>1939 rows × 3 columns</p>\n",
              "</div>\n",
              "      <button class=\"colab-df-convert\" onclick=\"convertToInteractive('df-75952407-9317-402b-9618-24681853a98d')\"\n",
              "              title=\"Convert this dataframe to an interactive table.\"\n",
              "              style=\"display:none;\">\n",
              "        \n",
              "  <svg xmlns=\"http://www.w3.org/2000/svg\" height=\"24px\"viewBox=\"0 0 24 24\"\n",
              "       width=\"24px\">\n",
              "    <path d=\"M0 0h24v24H0V0z\" fill=\"none\"/>\n",
              "    <path d=\"M18.56 5.44l.94 2.06.94-2.06 2.06-.94-2.06-.94-.94-2.06-.94 2.06-2.06.94zm-11 1L8.5 8.5l.94-2.06 2.06-.94-2.06-.94L8.5 2.5l-.94 2.06-2.06.94zm10 10l.94 2.06.94-2.06 2.06-.94-2.06-.94-.94-2.06-.94 2.06-2.06.94z\"/><path d=\"M17.41 7.96l-1.37-1.37c-.4-.4-.92-.59-1.43-.59-.52 0-1.04.2-1.43.59L10.3 9.45l-7.72 7.72c-.78.78-.78 2.05 0 2.83L4 21.41c.39.39.9.59 1.41.59.51 0 1.02-.2 1.41-.59l7.78-7.78 2.81-2.81c.8-.78.8-2.07 0-2.86zM5.41 20L4 18.59l7.72-7.72 1.47 1.35L5.41 20z\"/>\n",
              "  </svg>\n",
              "      </button>\n",
              "      \n",
              "  <style>\n",
              "    .colab-df-container {\n",
              "      display:flex;\n",
              "      flex-wrap:wrap;\n",
              "      gap: 12px;\n",
              "    }\n",
              "\n",
              "    .colab-df-convert {\n",
              "      background-color: #E8F0FE;\n",
              "      border: none;\n",
              "      border-radius: 50%;\n",
              "      cursor: pointer;\n",
              "      display: none;\n",
              "      fill: #1967D2;\n",
              "      height: 32px;\n",
              "      padding: 0 0 0 0;\n",
              "      width: 32px;\n",
              "    }\n",
              "\n",
              "    .colab-df-convert:hover {\n",
              "      background-color: #E2EBFA;\n",
              "      box-shadow: 0px 1px 2px rgba(60, 64, 67, 0.3), 0px 1px 3px 1px rgba(60, 64, 67, 0.15);\n",
              "      fill: #174EA6;\n",
              "    }\n",
              "\n",
              "    [theme=dark] .colab-df-convert {\n",
              "      background-color: #3B4455;\n",
              "      fill: #D2E3FC;\n",
              "    }\n",
              "\n",
              "    [theme=dark] .colab-df-convert:hover {\n",
              "      background-color: #434B5C;\n",
              "      box-shadow: 0px 1px 3px 1px rgba(0, 0, 0, 0.15);\n",
              "      filter: drop-shadow(0px 1px 2px rgba(0, 0, 0, 0.3));\n",
              "      fill: #FFFFFF;\n",
              "    }\n",
              "  </style>\n",
              "\n",
              "      <script>\n",
              "        const buttonEl =\n",
              "          document.querySelector('#df-75952407-9317-402b-9618-24681853a98d button.colab-df-convert');\n",
              "        buttonEl.style.display =\n",
              "          google.colab.kernel.accessAllowed ? 'block' : 'none';\n",
              "\n",
              "        async function convertToInteractive(key) {\n",
              "          const element = document.querySelector('#df-75952407-9317-402b-9618-24681853a98d');\n",
              "          const dataTable =\n",
              "            await google.colab.kernel.invokeFunction('convertToInteractive',\n",
              "                                                     [key], {});\n",
              "          if (!dataTable) return;\n",
              "\n",
              "          const docLinkHtml = 'Like what you see? Visit the ' +\n",
              "            '<a target=\"_blank\" href=https://colab.research.google.com/notebooks/data_table.ipynb>data table notebook</a>'\n",
              "            + ' to learn more about interactive tables.';\n",
              "          element.innerHTML = '';\n",
              "          dataTable['output_type'] = 'display_data';\n",
              "          await google.colab.output.renderOutput(dataTable, element);\n",
              "          const docLink = document.createElement('div');\n",
              "          docLink.innerHTML = docLinkHtml;\n",
              "          element.appendChild(docLink);\n",
              "        }\n",
              "      </script>\n",
              "    </div>\n",
              "  </div>\n",
              "  "
            ]
          },
          "metadata": {},
          "execution_count": 8
        }
      ]
    },
    {
      "cell_type": "code",
      "source": [
        "# Llenamos los valores faltantes con 0 gracias a la función fillna()\n",
        "melb_data_ba = melb_data\n",
        "melb_data_ba['BuildingArea'] = melb_data_ba['BuildingArea'].fillna(0) \n",
        "melb_data_ba['BuildingArea'][8:22]"
      ],
      "metadata": {
        "colab": {
          "base_uri": "https://localhost:8080/"
        },
        "id": "OV19Nq3iAZH3",
        "outputId": "610d62a3-2924-4012-c03e-f814327bc0d8"
      },
      "execution_count": 9,
      "outputs": [
        {
          "output_type": "execute_result",
          "data": {
            "text/plain": [
              "8       0.0\n",
              "9      75.0\n",
              "10      0.0\n",
              "11    190.0\n",
              "12     94.0\n",
              "13      0.0\n",
              "14      0.0\n",
              "15     97.0\n",
              "16    110.0\n",
              "17    105.0\n",
              "18      0.0\n",
              "19     73.0\n",
              "20    135.0\n",
              "21      0.0\n",
              "Name: BuildingArea, dtype: float64"
            ]
          },
          "metadata": {},
          "execution_count": 9
        }
      ]
    },
    {
      "cell_type": "code",
      "source": [
        "# ['Car']\n",
        "# Nuestra columna 'Car' hace referencia a la cantidad de coches que se pueden\n",
        "# aparcar en el terreno, por lo tanto hemos relacionado la columna 'Car' con la\n",
        "# 'Suburb' que es la calle.\n",
        "# Imputaremos la mediana de 'Car' segun la calle 'Suburb' a la que pertenece\n",
        "# .\n",
        "# .\n",
        "# Agruparemos los datos por Suburbio \n",
        "# Creamos un diccionaro de numero de aparcamientos segun el suburbio\n",
        "\n",
        "use_cols = ['Suburb','Car']\n",
        "imp_car = pd.read_csv('/content/sample_data/melb_data.csv',usecols=use_cols)\n",
        "\n",
        "df_suburb_car = imp_car.groupby(['Suburb']).agg('median')\n",
        "df_suburb_car['Car_round'] = round(df_suburb_car['Car'])\n",
        "df_suburb_car.drop(['Car'],axis=1, inplace= True)\n",
        "df_suburb_car =df_suburb_car.rename(columns={'Car_round':'Car'})\n",
        "\n",
        "list_suburb_car = df_suburb_car.reset_index()\n",
        "dict_suburb_car = dict(zip(list_suburb_car.Suburb, list_suburb_car.Car))\n",
        "#dict_suburb_car"
      ],
      "metadata": {
        "id": "Xfeja56kERmz"
      },
      "execution_count": 10,
      "outputs": []
    },
    {
      "cell_type": "code",
      "source": [
        "# Llenamos los datos nulos con el diccionario que creamos\n",
        "melb_data_ba.Car = melb_data_ba.Car.fillna(melb_data_ba.Suburb.map(dict_suburb_car))\n",
        "melb_data_ba['Car'].isnull().sum()"
      ],
      "metadata": {
        "colab": {
          "base_uri": "https://localhost:8080/"
        },
        "id": "S3b6g_ckIJiA",
        "outputId": "990a4b17-61e6-4ff9-f57e-b2525dd7b60b"
      },
      "execution_count": 11,
      "outputs": [
        {
          "output_type": "execute_result",
          "data": {
            "text/plain": [
              "0"
            ]
          },
          "metadata": {},
          "execution_count": 11
        }
      ]
    },
    {
      "cell_type": "code",
      "source": [
        "# Para la variable 'YearBuild' que es el año de construcción\n",
        "# Realizamos la imputación con el valor 0 debido a que los datos nulos\n",
        "# coinciden con el tamaño del edificio que realmente no existe\n",
        "# por ende no existe o no hay un año de construcción\n",
        "\n",
        "melb_data_yb = melb_data_ba\n",
        "melb_data_yb['YearBuilt'] = melb_data_yb['YearBuilt'].fillna(melb_data_yb['YearBuilt'].mode()[0])"
      ],
      "metadata": {
        "id": "3RgVpaKiOjn7"
      },
      "execution_count": 12,
      "outputs": []
    },
    {
      "cell_type": "code",
      "source": [
        "# ['YearBuilt']\n",
        "# Para la variable 'YearBuild' que es el año de construcción\n",
        "# Realizamos la imputación con el valor 0 debido a que los datos nulos\n",
        "# coinciden con el tamaño del edificio que realmente no existe\n",
        "# por ende no existe o no hay un año de construcción\n",
        "\n",
        "melb_data_year_ba = melb_data_ba[melb_data['BuildingArea'] == 0]\n",
        "melb_data_year_ba[['BuildingArea','YearBuilt','Price']]"
      ],
      "metadata": {
        "id": "YavMkuTCI4SK",
        "colab": {
          "base_uri": "https://localhost:8080/",
          "height": 423
        },
        "outputId": "c069c149-6605-465c-8f4f-aa610b3bc337"
      },
      "execution_count": 13,
      "outputs": [
        {
          "output_type": "execute_result",
          "data": {
            "text/plain": [
              "       BuildingArea  YearBuilt      Price\n",
              "0               0.0     1970.0  1480000.0\n",
              "3               0.0     1970.0   850000.0\n",
              "5               0.0     1970.0   941000.0\n",
              "8               0.0     1970.0   300000.0\n",
              "10              0.0     1970.0   700000.0\n",
              "...             ...        ...        ...\n",
              "13569           0.0     1970.0  1323000.0\n",
              "13570           0.0     1970.0   970000.0\n",
              "13574           0.0     1970.0   582000.0\n",
              "13575           0.0     1981.0  1245000.0\n",
              "13577           0.0     1997.0  1170000.0\n",
              "\n",
              "[6467 rows x 3 columns]"
            ],
            "text/html": [
              "\n",
              "  <div id=\"df-e701d6dc-fa14-4e0b-9bb9-23aad9da7d71\">\n",
              "    <div class=\"colab-df-container\">\n",
              "      <div>\n",
              "<style scoped>\n",
              "    .dataframe tbody tr th:only-of-type {\n",
              "        vertical-align: middle;\n",
              "    }\n",
              "\n",
              "    .dataframe tbody tr th {\n",
              "        vertical-align: top;\n",
              "    }\n",
              "\n",
              "    .dataframe thead th {\n",
              "        text-align: right;\n",
              "    }\n",
              "</style>\n",
              "<table border=\"1\" class=\"dataframe\">\n",
              "  <thead>\n",
              "    <tr style=\"text-align: right;\">\n",
              "      <th></th>\n",
              "      <th>BuildingArea</th>\n",
              "      <th>YearBuilt</th>\n",
              "      <th>Price</th>\n",
              "    </tr>\n",
              "  </thead>\n",
              "  <tbody>\n",
              "    <tr>\n",
              "      <th>0</th>\n",
              "      <td>0.0</td>\n",
              "      <td>1970.0</td>\n",
              "      <td>1480000.0</td>\n",
              "    </tr>\n",
              "    <tr>\n",
              "      <th>3</th>\n",
              "      <td>0.0</td>\n",
              "      <td>1970.0</td>\n",
              "      <td>850000.0</td>\n",
              "    </tr>\n",
              "    <tr>\n",
              "      <th>5</th>\n",
              "      <td>0.0</td>\n",
              "      <td>1970.0</td>\n",
              "      <td>941000.0</td>\n",
              "    </tr>\n",
              "    <tr>\n",
              "      <th>8</th>\n",
              "      <td>0.0</td>\n",
              "      <td>1970.0</td>\n",
              "      <td>300000.0</td>\n",
              "    </tr>\n",
              "    <tr>\n",
              "      <th>10</th>\n",
              "      <td>0.0</td>\n",
              "      <td>1970.0</td>\n",
              "      <td>700000.0</td>\n",
              "    </tr>\n",
              "    <tr>\n",
              "      <th>...</th>\n",
              "      <td>...</td>\n",
              "      <td>...</td>\n",
              "      <td>...</td>\n",
              "    </tr>\n",
              "    <tr>\n",
              "      <th>13569</th>\n",
              "      <td>0.0</td>\n",
              "      <td>1970.0</td>\n",
              "      <td>1323000.0</td>\n",
              "    </tr>\n",
              "    <tr>\n",
              "      <th>13570</th>\n",
              "      <td>0.0</td>\n",
              "      <td>1970.0</td>\n",
              "      <td>970000.0</td>\n",
              "    </tr>\n",
              "    <tr>\n",
              "      <th>13574</th>\n",
              "      <td>0.0</td>\n",
              "      <td>1970.0</td>\n",
              "      <td>582000.0</td>\n",
              "    </tr>\n",
              "    <tr>\n",
              "      <th>13575</th>\n",
              "      <td>0.0</td>\n",
              "      <td>1981.0</td>\n",
              "      <td>1245000.0</td>\n",
              "    </tr>\n",
              "    <tr>\n",
              "      <th>13577</th>\n",
              "      <td>0.0</td>\n",
              "      <td>1997.0</td>\n",
              "      <td>1170000.0</td>\n",
              "    </tr>\n",
              "  </tbody>\n",
              "</table>\n",
              "<p>6467 rows × 3 columns</p>\n",
              "</div>\n",
              "      <button class=\"colab-df-convert\" onclick=\"convertToInteractive('df-e701d6dc-fa14-4e0b-9bb9-23aad9da7d71')\"\n",
              "              title=\"Convert this dataframe to an interactive table.\"\n",
              "              style=\"display:none;\">\n",
              "        \n",
              "  <svg xmlns=\"http://www.w3.org/2000/svg\" height=\"24px\"viewBox=\"0 0 24 24\"\n",
              "       width=\"24px\">\n",
              "    <path d=\"M0 0h24v24H0V0z\" fill=\"none\"/>\n",
              "    <path d=\"M18.56 5.44l.94 2.06.94-2.06 2.06-.94-2.06-.94-.94-2.06-.94 2.06-2.06.94zm-11 1L8.5 8.5l.94-2.06 2.06-.94-2.06-.94L8.5 2.5l-.94 2.06-2.06.94zm10 10l.94 2.06.94-2.06 2.06-.94-2.06-.94-.94-2.06-.94 2.06-2.06.94z\"/><path d=\"M17.41 7.96l-1.37-1.37c-.4-.4-.92-.59-1.43-.59-.52 0-1.04.2-1.43.59L10.3 9.45l-7.72 7.72c-.78.78-.78 2.05 0 2.83L4 21.41c.39.39.9.59 1.41.59.51 0 1.02-.2 1.41-.59l7.78-7.78 2.81-2.81c.8-.78.8-2.07 0-2.86zM5.41 20L4 18.59l7.72-7.72 1.47 1.35L5.41 20z\"/>\n",
              "  </svg>\n",
              "      </button>\n",
              "      \n",
              "  <style>\n",
              "    .colab-df-container {\n",
              "      display:flex;\n",
              "      flex-wrap:wrap;\n",
              "      gap: 12px;\n",
              "    }\n",
              "\n",
              "    .colab-df-convert {\n",
              "      background-color: #E8F0FE;\n",
              "      border: none;\n",
              "      border-radius: 50%;\n",
              "      cursor: pointer;\n",
              "      display: none;\n",
              "      fill: #1967D2;\n",
              "      height: 32px;\n",
              "      padding: 0 0 0 0;\n",
              "      width: 32px;\n",
              "    }\n",
              "\n",
              "    .colab-df-convert:hover {\n",
              "      background-color: #E2EBFA;\n",
              "      box-shadow: 0px 1px 2px rgba(60, 64, 67, 0.3), 0px 1px 3px 1px rgba(60, 64, 67, 0.15);\n",
              "      fill: #174EA6;\n",
              "    }\n",
              "\n",
              "    [theme=dark] .colab-df-convert {\n",
              "      background-color: #3B4455;\n",
              "      fill: #D2E3FC;\n",
              "    }\n",
              "\n",
              "    [theme=dark] .colab-df-convert:hover {\n",
              "      background-color: #434B5C;\n",
              "      box-shadow: 0px 1px 3px 1px rgba(0, 0, 0, 0.15);\n",
              "      filter: drop-shadow(0px 1px 2px rgba(0, 0, 0, 0.3));\n",
              "      fill: #FFFFFF;\n",
              "    }\n",
              "  </style>\n",
              "\n",
              "      <script>\n",
              "        const buttonEl =\n",
              "          document.querySelector('#df-e701d6dc-fa14-4e0b-9bb9-23aad9da7d71 button.colab-df-convert');\n",
              "        buttonEl.style.display =\n",
              "          google.colab.kernel.accessAllowed ? 'block' : 'none';\n",
              "\n",
              "        async function convertToInteractive(key) {\n",
              "          const element = document.querySelector('#df-e701d6dc-fa14-4e0b-9bb9-23aad9da7d71');\n",
              "          const dataTable =\n",
              "            await google.colab.kernel.invokeFunction('convertToInteractive',\n",
              "                                                     [key], {});\n",
              "          if (!dataTable) return;\n",
              "\n",
              "          const docLinkHtml = 'Like what you see? Visit the ' +\n",
              "            '<a target=\"_blank\" href=https://colab.research.google.com/notebooks/data_table.ipynb>data table notebook</a>'\n",
              "            + ' to learn more about interactive tables.';\n",
              "          element.innerHTML = '';\n",
              "          dataTable['output_type'] = 'display_data';\n",
              "          await google.colab.output.renderOutput(dataTable, element);\n",
              "          const docLink = document.createElement('div');\n",
              "          docLink.innerHTML = docLinkHtml;\n",
              "          element.appendChild(docLink);\n",
              "        }\n",
              "      </script>\n",
              "    </div>\n",
              "  </div>\n",
              "  "
            ]
          },
          "metadata": {},
          "execution_count": 13
        }
      ]
    },
    {
      "cell_type": "code",
      "source": [
        "# Llenamos los valores faltantes con 0 gracias a la función fillna()\n",
        "melb_data_yb = melb_data_ba\n",
        "melb_data_yb['YearBuilt'] = melb_data_yb['YearBuilt'].fillna(0) \n",
        "melb_data_yb['YearBuilt'][0:10]"
      ],
      "metadata": {
        "colab": {
          "base_uri": "https://localhost:8080/"
        },
        "id": "BGvK-MOvLMjW",
        "outputId": "ffb6831f-cf04-4398-a53d-2eefc0857254"
      },
      "execution_count": 14,
      "outputs": [
        {
          "output_type": "execute_result",
          "data": {
            "text/plain": [
              "0    1970.0\n",
              "1    1900.0\n",
              "2    1900.0\n",
              "3    1970.0\n",
              "4    2014.0\n",
              "5    1970.0\n",
              "6    1910.0\n",
              "7    1890.0\n",
              "8    1970.0\n",
              "9    1900.0\n",
              "Name: YearBuilt, dtype: float64"
            ]
          },
          "metadata": {},
          "execution_count": 14
        }
      ]
    },
    {
      "cell_type": "code",
      "source": [
        "# ['CoouncilArea']\n",
        "# Para la variable 'CouncilArea' (Gobierno del Area) que está relacionada con el \n",
        "# suburbio y la región. Para este caso hemos escogido la columna 'Regionname'\n",
        "# para agrupar los gobiernos más comunes por región.\n",
        "#\n",
        "melb_data_yb[['Suburb','CouncilArea','Regionname']][13565:13579]"
      ],
      "metadata": {
        "colab": {
          "base_uri": "https://localhost:8080/",
          "height": 488
        },
        "id": "yhGKDoGxOgbM",
        "outputId": "8868169b-2abf-4dd2-912e-404e0d32ed1f"
      },
      "execution_count": 15,
      "outputs": [
        {
          "output_type": "execute_result",
          "data": {
            "text/plain": [
              "               Suburb CouncilArea                  Regionname\n",
              "13565         Vermont         NaN        Eastern Metropolitan\n",
              "13566   Vermont South         NaN        Eastern Metropolitan\n",
              "13567        Viewbank         NaN        Eastern Metropolitan\n",
              "13568        Wantirna         NaN        Eastern Metropolitan\n",
              "13569  Wantirna South         NaN        Eastern Metropolitan\n",
              "13570  Wantirna South         NaN        Eastern Metropolitan\n",
              "13571  Wantirna South         NaN        Eastern Metropolitan\n",
              "13572        Watsonia         NaN       Northern Metropolitan\n",
              "13573        Werribee         NaN        Western Metropolitan\n",
              "13574     Westmeadows         NaN       Northern Metropolitan\n",
              "13575   Wheelers Hill         NaN  South-Eastern Metropolitan\n",
              "13576    Williamstown         NaN        Western Metropolitan\n",
              "13577    Williamstown         NaN        Western Metropolitan\n",
              "13578    Williamstown         NaN        Western Metropolitan"
            ],
            "text/html": [
              "\n",
              "  <div id=\"df-c8ab3dc7-9975-4a7c-9601-49293ecf4113\">\n",
              "    <div class=\"colab-df-container\">\n",
              "      <div>\n",
              "<style scoped>\n",
              "    .dataframe tbody tr th:only-of-type {\n",
              "        vertical-align: middle;\n",
              "    }\n",
              "\n",
              "    .dataframe tbody tr th {\n",
              "        vertical-align: top;\n",
              "    }\n",
              "\n",
              "    .dataframe thead th {\n",
              "        text-align: right;\n",
              "    }\n",
              "</style>\n",
              "<table border=\"1\" class=\"dataframe\">\n",
              "  <thead>\n",
              "    <tr style=\"text-align: right;\">\n",
              "      <th></th>\n",
              "      <th>Suburb</th>\n",
              "      <th>CouncilArea</th>\n",
              "      <th>Regionname</th>\n",
              "    </tr>\n",
              "  </thead>\n",
              "  <tbody>\n",
              "    <tr>\n",
              "      <th>13565</th>\n",
              "      <td>Vermont</td>\n",
              "      <td>NaN</td>\n",
              "      <td>Eastern Metropolitan</td>\n",
              "    </tr>\n",
              "    <tr>\n",
              "      <th>13566</th>\n",
              "      <td>Vermont South</td>\n",
              "      <td>NaN</td>\n",
              "      <td>Eastern Metropolitan</td>\n",
              "    </tr>\n",
              "    <tr>\n",
              "      <th>13567</th>\n",
              "      <td>Viewbank</td>\n",
              "      <td>NaN</td>\n",
              "      <td>Eastern Metropolitan</td>\n",
              "    </tr>\n",
              "    <tr>\n",
              "      <th>13568</th>\n",
              "      <td>Wantirna</td>\n",
              "      <td>NaN</td>\n",
              "      <td>Eastern Metropolitan</td>\n",
              "    </tr>\n",
              "    <tr>\n",
              "      <th>13569</th>\n",
              "      <td>Wantirna South</td>\n",
              "      <td>NaN</td>\n",
              "      <td>Eastern Metropolitan</td>\n",
              "    </tr>\n",
              "    <tr>\n",
              "      <th>13570</th>\n",
              "      <td>Wantirna South</td>\n",
              "      <td>NaN</td>\n",
              "      <td>Eastern Metropolitan</td>\n",
              "    </tr>\n",
              "    <tr>\n",
              "      <th>13571</th>\n",
              "      <td>Wantirna South</td>\n",
              "      <td>NaN</td>\n",
              "      <td>Eastern Metropolitan</td>\n",
              "    </tr>\n",
              "    <tr>\n",
              "      <th>13572</th>\n",
              "      <td>Watsonia</td>\n",
              "      <td>NaN</td>\n",
              "      <td>Northern Metropolitan</td>\n",
              "    </tr>\n",
              "    <tr>\n",
              "      <th>13573</th>\n",
              "      <td>Werribee</td>\n",
              "      <td>NaN</td>\n",
              "      <td>Western Metropolitan</td>\n",
              "    </tr>\n",
              "    <tr>\n",
              "      <th>13574</th>\n",
              "      <td>Westmeadows</td>\n",
              "      <td>NaN</td>\n",
              "      <td>Northern Metropolitan</td>\n",
              "    </tr>\n",
              "    <tr>\n",
              "      <th>13575</th>\n",
              "      <td>Wheelers Hill</td>\n",
              "      <td>NaN</td>\n",
              "      <td>South-Eastern Metropolitan</td>\n",
              "    </tr>\n",
              "    <tr>\n",
              "      <th>13576</th>\n",
              "      <td>Williamstown</td>\n",
              "      <td>NaN</td>\n",
              "      <td>Western Metropolitan</td>\n",
              "    </tr>\n",
              "    <tr>\n",
              "      <th>13577</th>\n",
              "      <td>Williamstown</td>\n",
              "      <td>NaN</td>\n",
              "      <td>Western Metropolitan</td>\n",
              "    </tr>\n",
              "    <tr>\n",
              "      <th>13578</th>\n",
              "      <td>Williamstown</td>\n",
              "      <td>NaN</td>\n",
              "      <td>Western Metropolitan</td>\n",
              "    </tr>\n",
              "  </tbody>\n",
              "</table>\n",
              "</div>\n",
              "      <button class=\"colab-df-convert\" onclick=\"convertToInteractive('df-c8ab3dc7-9975-4a7c-9601-49293ecf4113')\"\n",
              "              title=\"Convert this dataframe to an interactive table.\"\n",
              "              style=\"display:none;\">\n",
              "        \n",
              "  <svg xmlns=\"http://www.w3.org/2000/svg\" height=\"24px\"viewBox=\"0 0 24 24\"\n",
              "       width=\"24px\">\n",
              "    <path d=\"M0 0h24v24H0V0z\" fill=\"none\"/>\n",
              "    <path d=\"M18.56 5.44l.94 2.06.94-2.06 2.06-.94-2.06-.94-.94-2.06-.94 2.06-2.06.94zm-11 1L8.5 8.5l.94-2.06 2.06-.94-2.06-.94L8.5 2.5l-.94 2.06-2.06.94zm10 10l.94 2.06.94-2.06 2.06-.94-2.06-.94-.94-2.06-.94 2.06-2.06.94z\"/><path d=\"M17.41 7.96l-1.37-1.37c-.4-.4-.92-.59-1.43-.59-.52 0-1.04.2-1.43.59L10.3 9.45l-7.72 7.72c-.78.78-.78 2.05 0 2.83L4 21.41c.39.39.9.59 1.41.59.51 0 1.02-.2 1.41-.59l7.78-7.78 2.81-2.81c.8-.78.8-2.07 0-2.86zM5.41 20L4 18.59l7.72-7.72 1.47 1.35L5.41 20z\"/>\n",
              "  </svg>\n",
              "      </button>\n",
              "      \n",
              "  <style>\n",
              "    .colab-df-container {\n",
              "      display:flex;\n",
              "      flex-wrap:wrap;\n",
              "      gap: 12px;\n",
              "    }\n",
              "\n",
              "    .colab-df-convert {\n",
              "      background-color: #E8F0FE;\n",
              "      border: none;\n",
              "      border-radius: 50%;\n",
              "      cursor: pointer;\n",
              "      display: none;\n",
              "      fill: #1967D2;\n",
              "      height: 32px;\n",
              "      padding: 0 0 0 0;\n",
              "      width: 32px;\n",
              "    }\n",
              "\n",
              "    .colab-df-convert:hover {\n",
              "      background-color: #E2EBFA;\n",
              "      box-shadow: 0px 1px 2px rgba(60, 64, 67, 0.3), 0px 1px 3px 1px rgba(60, 64, 67, 0.15);\n",
              "      fill: #174EA6;\n",
              "    }\n",
              "\n",
              "    [theme=dark] .colab-df-convert {\n",
              "      background-color: #3B4455;\n",
              "      fill: #D2E3FC;\n",
              "    }\n",
              "\n",
              "    [theme=dark] .colab-df-convert:hover {\n",
              "      background-color: #434B5C;\n",
              "      box-shadow: 0px 1px 3px 1px rgba(0, 0, 0, 0.15);\n",
              "      filter: drop-shadow(0px 1px 2px rgba(0, 0, 0, 0.3));\n",
              "      fill: #FFFFFF;\n",
              "    }\n",
              "  </style>\n",
              "\n",
              "      <script>\n",
              "        const buttonEl =\n",
              "          document.querySelector('#df-c8ab3dc7-9975-4a7c-9601-49293ecf4113 button.colab-df-convert');\n",
              "        buttonEl.style.display =\n",
              "          google.colab.kernel.accessAllowed ? 'block' : 'none';\n",
              "\n",
              "        async function convertToInteractive(key) {\n",
              "          const element = document.querySelector('#df-c8ab3dc7-9975-4a7c-9601-49293ecf4113');\n",
              "          const dataTable =\n",
              "            await google.colab.kernel.invokeFunction('convertToInteractive',\n",
              "                                                     [key], {});\n",
              "          if (!dataTable) return;\n",
              "\n",
              "          const docLinkHtml = 'Like what you see? Visit the ' +\n",
              "            '<a target=\"_blank\" href=https://colab.research.google.com/notebooks/data_table.ipynb>data table notebook</a>'\n",
              "            + ' to learn more about interactive tables.';\n",
              "          element.innerHTML = '';\n",
              "          dataTable['output_type'] = 'display_data';\n",
              "          await google.colab.output.renderOutput(dataTable, element);\n",
              "          const docLink = document.createElement('div');\n",
              "          docLink.innerHTML = docLinkHtml;\n",
              "          element.appendChild(docLink);\n",
              "        }\n",
              "      </script>\n",
              "    </div>\n",
              "  </div>\n",
              "  "
            ]
          },
          "metadata": {},
          "execution_count": 15
        }
      ]
    },
    {
      "cell_type": "code",
      "source": [
        "# Empezamos creando un dataframe nuevo para crear un diccionario\n",
        "#\n",
        "use_cols = ['Regionname', 'CouncilArea', 'Address']\n",
        "council = pd.read_csv('/content/sample_data/melb_data.csv',usecols=use_cols)\n",
        "\n",
        "council['CouncilArea'].isnull().sum(), council['CouncilArea'].unique().size"
      ],
      "metadata": {
        "colab": {
          "base_uri": "https://localhost:8080/"
        },
        "id": "T_otqxk6Ox-Q",
        "outputId": "6cd5d435-b6f2-4c90-e443-637bf38c6a0a"
      },
      "execution_count": 16,
      "outputs": [
        {
          "output_type": "execute_result",
          "data": {
            "text/plain": [
              "(1369, 34)"
            ]
          },
          "metadata": {},
          "execution_count": 16
        }
      ]
    },
    {
      "cell_type": "code",
      "source": [
        "# Agrupamos los datos por la columna 'RegionName' y seccionamos los CouncilArea\n",
        "# mas frecuentes por recgión\n",
        "#\n",
        "df_council = council.groupby(['Regionname','CouncilArea'])['Address'].count()\n",
        "df_council_01 = df_council.reset_index()\n",
        "df_council_02 = df_council_01.sort_values(['Regionname','Address'],ascending=False)\n",
        "\n",
        "df_council_03 = df_council_02.drop_duplicates(subset = \"CouncilArea\")\n",
        "df_council_03 = df_council_03.sort_values(['Address'],ascending=False)\n",
        "df_council_03['CouncilArea'].unique().size"
      ],
      "metadata": {
        "colab": {
          "base_uri": "https://localhost:8080/"
        },
        "id": "r5sOZDd6Pz-w",
        "outputId": "c4fd9439-4973-4f48-d891-a70ed787f8c9"
      },
      "execution_count": 17,
      "outputs": [
        {
          "output_type": "execute_result",
          "data": {
            "text/plain": [
              "33"
            ]
          },
          "metadata": {},
          "execution_count": 17
        }
      ]
    },
    {
      "cell_type": "code",
      "source": [
        "# Creamos el diccionario\n",
        "df_council_03.drop(['Address'],axis=1, inplace= True)\n",
        "\n",
        "dict_council = dict(zip(df_council_03.Regionname, df_council_03.CouncilArea))\n",
        "dict_council"
      ],
      "metadata": {
        "colab": {
          "base_uri": "https://localhost:8080/"
        },
        "id": "jZeaFoFuKltu",
        "outputId": "e5b5b2ca-6f4c-4175-a966-8e4f7c7b1e2c"
      },
      "execution_count": 18,
      "outputs": [
        {
          "output_type": "execute_result",
          "data": {
            "text/plain": [
              "{'Southern Metropolitan': 'Unavailable',\n",
              " 'Western Metropolitan': 'Moreland',\n",
              " 'Northern Metropolitan': 'Banyule',\n",
              " 'Eastern Metropolitan': 'Maroondah',\n",
              " 'South-Eastern Metropolitan': 'Knox',\n",
              " 'Western Victoria': 'Moorabool',\n",
              " 'Eastern Victoria': 'Manningham',\n",
              " 'Northern Victoria': 'Yarra Ranges'}"
            ]
          },
          "metadata": {},
          "execution_count": 18
        }
      ]
    },
    {
      "cell_type": "code",
      "source": [
        "# Con el diccionario creado mapeamos y llenamos los valores nulos.\n",
        "melb_data_co = melb_data_yb.copy()\n",
        "melb_data_co.CouncilArea = melb_data_co.CouncilArea.fillna(melb_data_co.Regionname.map(dict_council))\n",
        "melb_data_co['CouncilArea'].isnull().sum()\n"
      ],
      "metadata": {
        "colab": {
          "base_uri": "https://localhost:8080/"
        },
        "id": "a2ydLCl0Kycv",
        "outputId": "8cc34095-72b0-431f-d819-860d319c3406"
      },
      "execution_count": 19,
      "outputs": [
        {
          "output_type": "execute_result",
          "data": {
            "text/plain": [
              "0"
            ]
          },
          "metadata": {},
          "execution_count": 19
        }
      ]
    },
    {
      "cell_type": "code",
      "source": [
        "# Mostramos la diferencia entre la data original con la data imputada para\n",
        "# CouncilArea\n",
        "# Data original:\n",
        "#\n",
        "melb_data_yb['CouncilArea'].value_counts().sort_values(ascending=False).plot.bar()\n",
        "plt.xlabel('CouncilArea')\n",
        "plt.ylabel('Number of houses')"
      ],
      "metadata": {
        "colab": {
          "base_uri": "https://localhost:8080/",
          "height": 387
        },
        "id": "KLYEYFssK0cO",
        "outputId": "1556462a-185c-4396-e924-8b6a6cb761ed"
      },
      "execution_count": 20,
      "outputs": [
        {
          "output_type": "execute_result",
          "data": {
            "text/plain": [
              "Text(0, 0.5, 'Number of houses')"
            ]
          },
          "metadata": {},
          "execution_count": 20
        },
        {
          "output_type": "display_data",
          "data": {
            "text/plain": [
              "<Figure size 432x288 with 1 Axes>"
            ],
            "image/png": "[encoded data removed]"
          },
          "metadata": {
            "needs_background": "light"
          }
        }
      ]
    },
    {
      "cell_type": "code",
      "source": [
        "# Data imputada:\n",
        "#\n",
        "melb_data_co['CouncilArea'].value_counts().sort_values(ascending=False).plot.bar()\n",
        "plt.xlabel('CouncilArea')\n",
        "plt.ylabel('Number of houses')"
      ],
      "metadata": {
        "colab": {
          "base_uri": "https://localhost:8080/",
          "height": 386
        },
        "id": "WLSNDKzURcIB",
        "outputId": "8835e878-e8d4-4ff1-9820-29b49c609d23"
      },
      "execution_count": 21,
      "outputs": [
        {
          "output_type": "execute_result",
          "data": {
            "text/plain": [
              "Text(0, 0.5, 'Number of houses')"
            ]
          },
          "metadata": {},
          "execution_count": 21
        },
        {
          "output_type": "display_data",
          "data": {
            "text/plain": [
              "<Figure size 432x288 with 1 Axes>"
            ],
            "image/png": "[encoded data removed]"
          },
          "metadata": {
            "needs_background": "light"
          }
        }
      ]
    },
    {
      "cell_type": "code",
      "source": [
        "# Se muestra las columnas sin nulos\n",
        "melb_data_co.isnull().sum()"
      ],
      "metadata": {
        "colab": {
          "base_uri": "https://localhost:8080/"
        },
        "id": "h8C2Vl0ZeB22",
        "outputId": "57f0a276-c32d-4ce8-b8be-b8d6100b7649"
      },
      "execution_count": 22,
      "outputs": [
        {
          "output_type": "execute_result",
          "data": {
            "text/plain": [
              "Suburb           0\n",
              "Address          0\n",
              "Rooms            0\n",
              "Type             0\n",
              "Price            0\n",
              "Method           0\n",
              "SellerG          0\n",
              "Date             0\n",
              "Distance         0\n",
              "Postcode         0\n",
              "Bedroom2         0\n",
              "Bathroom         0\n",
              "Car              0\n",
              "Landsize         0\n",
              "BuildingArea     0\n",
              "YearBuilt        0\n",
              "CouncilArea      0\n",
              "Lattitude        0\n",
              "Longtitude       0\n",
              "Regionname       0\n",
              "Propertycount    0\n",
              "dtype: int64"
            ]
          },
          "metadata": {},
          "execution_count": 22
        }
      ]
    },
    {
      "cell_type": "markdown",
      "source": [
        "# Eliminamos las columnas que no aportarán al modelo"
      ],
      "metadata": {
        "id": "OsT14yWnVfrR"
      }
    },
    {
      "cell_type": "code",
      "source": [
        "# Elimanos las columnas: SellerG, Postcode, Lattitude, Longtitude\n",
        "melb_data_co.drop(['SellerG'],axis='columns', inplace= True)\n",
        "melb_data_co.drop(['Postcode'],axis='columns', inplace= True)\n",
        "melb_data_co.drop(['Lattitude'],axis='columns', inplace= True)\n",
        "melb_data_co.drop(['Longtitude'],axis='columns', inplace= True)\n",
        "melb_data_co.drop(['Address'],axis='columns', inplace= True)\n",
        "\n"
      ],
      "metadata": {
        "id": "Z93bVyWkVidT"
      },
      "execution_count": 23,
      "outputs": []
    },
    {
      "cell_type": "code",
      "source": [
        "# La variable 'Date' la convertimos a variable de tipo Fecha\n",
        "melb_data_co['Date'] = pd.to_datetime(melb_data_co['Date'], infer_datetime_format=True)\n",
        "\n",
        "# Eliminamos Date y convertimos en un sola columna Year\n",
        "melb_data_co['year'] = melb_data_co['Date'].dt.year\n",
        "melb_data_co.drop(['Date'],axis=1, inplace= True)\n",
        "melb_data_co.head()"
      ],
      "metadata": {
        "id": "CYTUqUFVZTZm",
        "colab": {
          "base_uri": "https://localhost:8080/",
          "height": 357
        },
        "outputId": "f175382c-7317-42b3-c363-a7caaed9151e"
      },
      "execution_count": 24,
      "outputs": [
        {
          "output_type": "execute_result",
          "data": {
            "text/plain": [
              "       Suburb  Rooms Type      Price Method  Distance  Bedroom2  Bathroom  \\\n",
              "0  Abbotsford      2    h  1480000.0      S       2.5       2.0       1.0   \n",
              "1  Abbotsford      2    h  1035000.0      S       2.5       2.0       1.0   \n",
              "2  Abbotsford      3    h  1465000.0     SP       2.5       3.0       2.0   \n",
              "3  Abbotsford      3    h   850000.0     PI       2.5       3.0       2.0   \n",
              "4  Abbotsford      4    h  1600000.0     VB       2.5       3.0       1.0   \n",
              "\n",
              "   Car  Landsize  BuildingArea  YearBuilt CouncilArea             Regionname  \\\n",
              "0  1.0     202.0           0.0     1970.0       Yarra  Northern Metropolitan   \n",
              "1  0.0     156.0          79.0     1900.0       Yarra  Northern Metropolitan   \n",
              "2  0.0     134.0         150.0     1900.0       Yarra  Northern Metropolitan   \n",
              "3  1.0      94.0           0.0     1970.0       Yarra  Northern Metropolitan   \n",
              "4  2.0     120.0         142.0     2014.0       Yarra  Northern Metropolitan   \n",
              "\n",
              "   Propertycount  year  \n",
              "0         4019.0  2016  \n",
              "1         4019.0  2016  \n",
              "2         4019.0  2017  \n",
              "3         4019.0  2017  \n",
              "4         4019.0  2016  "
            ],
            "text/html": [
              "\n",
              "  <div id=\"df-98c73c38-0544-4c0a-bd64-581c252cdc60\">\n",
              "    <div class=\"colab-df-container\">\n",
              "      <div>\n",
              "<style scoped>\n",
              "    .dataframe tbody tr th:only-of-type {\n",
              "        vertical-align: middle;\n",
              "    }\n",
              "\n",
              "    .dataframe tbody tr th {\n",
              "        vertical-align: top;\n",
              "    }\n",
              "\n",
              "    .dataframe thead th {\n",
              "        text-align: right;\n",
              "    }\n",
              "</style>\n",
              "<table border=\"1\" class=\"dataframe\">\n",
              "  <thead>\n",
              "    <tr style=\"text-align: right;\">\n",
              "      <th></th>\n",
              "      <th>Suburb</th>\n",
              "      <th>Rooms</th>\n",
              "      <th>Type</th>\n",
              "      <th>Price</th>\n",
              "      <th>Method</th>\n",
              "      <th>Distance</th>\n",
              "      <th>Bedroom2</th>\n",
              "      <th>Bathroom</th>\n",
              "      <th>Car</th>\n",
              "      <th>Landsize</th>\n",
              "      <th>BuildingArea</th>\n",
              "      <th>YearBuilt</th>\n",
              "      <th>CouncilArea</th>\n",
              "      <th>Regionname</th>\n",
              "      <th>Propertycount</th>\n",
              "      <th>year</th>\n",
              "    </tr>\n",
              "  </thead>\n",
              "  <tbody>\n",
              "    <tr>\n",
              "      <th>0</th>\n",
              "      <td>Abbotsford</td>\n",
              "      <td>2</td>\n",
              "      <td>h</td>\n",
              "      <td>1480000.0</td>\n",
              "      <td>S</td>\n",
              "      <td>2.5</td>\n",
              "      <td>2.0</td>\n",
              "      <td>1.0</td>\n",
              "      <td>1.0</td>\n",
              "      <td>202.0</td>\n",
              "      <td>0.0</td>\n",
              "      <td>1970.0</td>\n",
              "      <td>Yarra</td>\n",
              "      <td>Northern Metropolitan</td>\n",
              "      <td>4019.0</td>\n",
              "      <td>2016</td>\n",
              "    </tr>\n",
              "    <tr>\n",
              "      <th>1</th>\n",
              "      <td>Abbotsford</td>\n",
              "      <td>2</td>\n",
              "      <td>h</td>\n",
              "      <td>1035000.0</td>\n",
              "      <td>S</td>\n",
              "      <td>2.5</td>\n",
              "      <td>2.0</td>\n",
              "      <td>1.0</td>\n",
              "      <td>0.0</td>\n",
              "      <td>156.0</td>\n",
              "      <td>79.0</td>\n",
              "      <td>1900.0</td>\n",
              "      <td>Yarra</td>\n",
              "      <td>Northern Metropolitan</td>\n",
              "      <td>4019.0</td>\n",
              "      <td>2016</td>\n",
              "    </tr>\n",
              "    <tr>\n",
              "      <th>2</th>\n",
              "      <td>Abbotsford</td>\n",
              "      <td>3</td>\n",
              "      <td>h</td>\n",
              "      <td>1465000.0</td>\n",
              "      <td>SP</td>\n",
              "      <td>2.5</td>\n",
              "      <td>3.0</td>\n",
              "      <td>2.0</td>\n",
              "      <td>0.0</td>\n",
              "      <td>134.0</td>\n",
              "      <td>150.0</td>\n",
              "      <td>1900.0</td>\n",
              "      <td>Yarra</td>\n",
              "      <td>Northern Metropolitan</td>\n",
              "      <td>4019.0</td>\n",
              "      <td>2017</td>\n",
              "    </tr>\n",
              "    <tr>\n",
              "      <th>3</th>\n",
              "      <td>Abbotsford</td>\n",
              "      <td>3</td>\n",
              "      <td>h</td>\n",
              "      <td>850000.0</td>\n",
              "      <td>PI</td>\n",
              "      <td>2.5</td>\n",
              "      <td>3.0</td>\n",
              "      <td>2.0</td>\n",
              "      <td>1.0</td>\n",
              "      <td>94.0</td>\n",
              "      <td>0.0</td>\n",
              "      <td>1970.0</td>\n",
              "      <td>Yarra</td>\n",
              "      <td>Northern Metropolitan</td>\n",
              "      <td>4019.0</td>\n",
              "      <td>2017</td>\n",
              "    </tr>\n",
              "    <tr>\n",
              "      <th>4</th>\n",
              "      <td>Abbotsford</td>\n",
              "      <td>4</td>\n",
              "      <td>h</td>\n",
              "      <td>1600000.0</td>\n",
              "      <td>VB</td>\n",
              "      <td>2.5</td>\n",
              "      <td>3.0</td>\n",
              "      <td>1.0</td>\n",
              "      <td>2.0</td>\n",
              "      <td>120.0</td>\n",
              "      <td>142.0</td>\n",
              "      <td>2014.0</td>\n",
              "      <td>Yarra</td>\n",
              "      <td>Northern Metropolitan</td>\n",
              "      <td>4019.0</td>\n",
              "      <td>2016</td>\n",
              "    </tr>\n",
              "  </tbody>\n",
              "</table>\n",
              "</div>\n",
              "      <button class=\"colab-df-convert\" onclick=\"convertToInteractive('df-98c73c38-0544-4c0a-bd64-581c252cdc60')\"\n",
              "              title=\"Convert this dataframe to an interactive table.\"\n",
              "              style=\"display:none;\">\n",
              "        \n",
              "  <svg xmlns=\"http://www.w3.org/2000/svg\" height=\"24px\"viewBox=\"0 0 24 24\"\n",
              "       width=\"24px\">\n",
              "    <path d=\"M0 0h24v24H0V0z\" fill=\"none\"/>\n",
              "    <path d=\"M18.56 5.44l.94 2.06.94-2.06 2.06-.94-2.06-.94-.94-2.06-.94 2.06-2.06.94zm-11 1L8.5 8.5l.94-2.06 2.06-.94-2.06-.94L8.5 2.5l-.94 2.06-2.06.94zm10 10l.94 2.06.94-2.06 2.06-.94-2.06-.94-.94-2.06-.94 2.06-2.06.94z\"/><path d=\"M17.41 7.96l-1.37-1.37c-.4-.4-.92-.59-1.43-.59-.52 0-1.04.2-1.43.59L10.3 9.45l-7.72 7.72c-.78.78-.78 2.05 0 2.83L4 21.41c.39.39.9.59 1.41.59.51 0 1.02-.2 1.41-.59l7.78-7.78 2.81-2.81c.8-.78.8-2.07 0-2.86zM5.41 20L4 18.59l7.72-7.72 1.47 1.35L5.41 20z\"/>\n",
              "  </svg>\n",
              "      </button>\n",
              "      \n",
              "  <style>\n",
              "    .colab-df-container {\n",
              "      display:flex;\n",
              "      flex-wrap:wrap;\n",
              "      gap: 12px;\n",
              "    }\n",
              "\n",
              "    .colab-df-convert {\n",
              "      background-color: #E8F0FE;\n",
              "      border: none;\n",
              "      border-radius: 50%;\n",
              "      cursor: pointer;\n",
              "      display: none;\n",
              "      fill: #1967D2;\n",
              "      height: 32px;\n",
              "      padding: 0 0 0 0;\n",
              "      width: 32px;\n",
              "    }\n",
              "\n",
              "    .colab-df-convert:hover {\n",
              "      background-color: #E2EBFA;\n",
              "      box-shadow: 0px 1px 2px rgba(60, 64, 67, 0.3), 0px 1px 3px 1px rgba(60, 64, 67, 0.15);\n",
              "      fill: #174EA6;\n",
              "    }\n",
              "\n",
              "    [theme=dark] .colab-df-convert {\n",
              "      background-color: #3B4455;\n",
              "      fill: #D2E3FC;\n",
              "    }\n",
              "\n",
              "    [theme=dark] .colab-df-convert:hover {\n",
              "      background-color: #434B5C;\n",
              "      box-shadow: 0px 1px 3px 1px rgba(0, 0, 0, 0.15);\n",
              "      filter: drop-shadow(0px 1px 2px rgba(0, 0, 0, 0.3));\n",
              "      fill: #FFFFFF;\n",
              "    }\n",
              "  </style>\n",
              "\n",
              "      <script>\n",
              "        const buttonEl =\n",
              "          document.querySelector('#df-98c73c38-0544-4c0a-bd64-581c252cdc60 button.colab-df-convert');\n",
              "        buttonEl.style.display =\n",
              "          google.colab.kernel.accessAllowed ? 'block' : 'none';\n",
              "\n",
              "        async function convertToInteractive(key) {\n",
              "          const element = document.querySelector('#df-98c73c38-0544-4c0a-bd64-581c252cdc60');\n",
              "          const dataTable =\n",
              "            await google.colab.kernel.invokeFunction('convertToInteractive',\n",
              "                                                     [key], {});\n",
              "          if (!dataTable) return;\n",
              "\n",
              "          const docLinkHtml = 'Like what you see? Visit the ' +\n",
              "            '<a target=\"_blank\" href=https://colab.research.google.com/notebooks/data_table.ipynb>data table notebook</a>'\n",
              "            + ' to learn more about interactive tables.';\n",
              "          element.innerHTML = '';\n",
              "          dataTable['output_type'] = 'display_data';\n",
              "          await google.colab.output.renderOutput(dataTable, element);\n",
              "          const docLink = document.createElement('div');\n",
              "          docLink.innerHTML = docLinkHtml;\n",
              "          element.appendChild(docLink);\n",
              "        }\n",
              "      </script>\n",
              "    </div>\n",
              "  </div>\n",
              "  "
            ]
          },
          "metadata": {},
          "execution_count": 24
        }
      ]
    },
    {
      "cell_type": "code",
      "source": [
        "melb_data_co.info()"
      ],
      "metadata": {
        "colab": {
          "base_uri": "https://localhost:8080/"
        },
        "id": "84XSXdCNZldz",
        "outputId": "67af44ed-4e4a-4162-9dc5-a4084b31e2e0"
      },
      "execution_count": 25,
      "outputs": [
        {
          "output_type": "stream",
          "name": "stdout",
          "text": [
            "<class 'pandas.core.frame.DataFrame'>\n",
            "RangeIndex: 13580 entries, 0 to 13579\n",
            "Data columns (total 16 columns):\n",
            " #   Column         Non-Null Count  Dtype  \n",
            "---  ------         --------------  -----  \n",
            " 0   Suburb         13580 non-null  object \n",
            " 1   Rooms          13580 non-null  int64  \n",
            " 2   Type           13580 non-null  object \n",
            " 3   Price          13580 non-null  float64\n",
            " 4   Method         13580 non-null  object \n",
            " 5   Distance       13580 non-null  float64\n",
            " 6   Bedroom2       13580 non-null  float64\n",
            " 7   Bathroom       13580 non-null  float64\n",
            " 8   Car            13580 non-null  float64\n",
            " 9   Landsize       13580 non-null  float64\n",
            " 10  BuildingArea   13580 non-null  float64\n",
            " 11  YearBuilt      13580 non-null  float64\n",
            " 12  CouncilArea    13580 non-null  object \n",
            " 13  Regionname     13580 non-null  object \n",
            " 14  Propertycount  13580 non-null  float64\n",
            " 15  year           13580 non-null  int64  \n",
            "dtypes: float64(9), int64(2), object(5)\n",
            "memory usage: 1.7+ MB\n"
          ]
        }
      ]
    },
    {
      "cell_type": "code",
      "source": [
        "plt.figure(figsize=(14,7))\n",
        "MatrizInf = np.triu(melb_data_co.corr())\n",
        "sns.heatmap(melb_data_co.corr(), cmap='RdBu_r', annot=True, mask=MatrizInf)\n",
        "plt.show()"
      ],
      "metadata": {
        "colab": {
          "base_uri": "https://localhost:8080/",
          "height": 489
        },
        "id": "FJ5J15CzgLIu",
        "outputId": "dbdb0db0-4ad5-45c1-9ff4-78a626078632"
      },
      "execution_count": 26,
      "outputs": [
        {
          "output_type": "display_data",
          "data": {
            "text/plain": [
              "<Figure size 1008x504 with 2 Axes>"
            ],
            "image/png": "[encoded data removed]"
          },
          "metadata": {
            "needs_background": "light"
          }
        }
      ]
    },
    {
      "cell_type": "markdown",
      "source": [
        "# Transformación de datos categóricos"
      ],
      "metadata": {
        "id": "hh4UEW2HSoWx"
      }
    },
    {
      "cell_type": "markdown",
      "source": [
        "## *ONE HOT ENCODING para las columnas 'Regionname', 'Type', 'Method' y 'CouncilArea'*"
      ],
      "metadata": {
        "id": "s11wmgmEtr2c"
      }
    },
    {
      "cell_type": "code",
      "source": [
        "# Tambien con sklearn\n",
        "# ONE HOT ENCODIGN to Regionname\n",
        "#\n",
        "from sklearn.preprocessing import OneHotEncoder\n",
        "oe_style = OneHotEncoder(handle_unknown='ignore',sparse=False)\n",
        "\n",
        "oe_results_reg = oe_style.fit_transform(melb_data_co[['Regionname']])\n",
        "oe_style.get_feature_names_out()\n",
        "oe_reg = pd.DataFrame(oe_results_reg, columns=oe_style.categories_[0])"
      ],
      "metadata": {
        "id": "7o2uUWb0CGnN"
      },
      "execution_count": 27,
      "outputs": []
    },
    {
      "cell_type": "code",
      "source": [
        "# ONE HOT ENCODIGN to Type\n",
        "#\n",
        "oe_results_type = oe_style.fit_transform(melb_data_co[['Type']])\n",
        "oe_style.get_feature_names_out()\n",
        "oe_type = pd.DataFrame(oe_results_type, columns=oe_style.categories_[0])"
      ],
      "metadata": {
        "id": "S9M3-xjFyTlS"
      },
      "execution_count": 28,
      "outputs": []
    },
    {
      "cell_type": "code",
      "source": [
        "# ONE HOT ENCODIGN to Method\n",
        "#\n",
        "oe_results_method = oe_style.fit_transform(melb_data_co[['Method']])\n",
        "oe_style.get_feature_names_out()\n",
        "oe_method = pd.DataFrame(oe_results_method, columns=oe_style.categories_[0])"
      ],
      "metadata": {
        "id": "zJDhmCqCyYd2"
      },
      "execution_count": 29,
      "outputs": []
    },
    {
      "cell_type": "code",
      "source": [
        "# ONE HOT ENCODIGN to CouncilArea\n",
        "#\n",
        "oe_results_coun = oe_style.fit_transform(melb_data_co[['CouncilArea']])\n",
        "oe_style.get_feature_names_out()\n",
        "oe_coun = pd.DataFrame(oe_results_coun, columns=oe_style.categories_[0])"
      ],
      "metadata": {
        "id": "TSKOdiCtyd2u"
      },
      "execution_count": 30,
      "outputs": []
    },
    {
      "cell_type": "code",
      "source": [
        "oe_melb_data = pd.concat([melb_data_co,oe_reg,oe_type,oe_method,oe_coun], axis = 1)\n",
        "oe_melb_data.drop(['Regionname'],axis=1, inplace= True)\n",
        "oe_melb_data.drop(['Type'],axis=1, inplace= True)\n",
        "oe_melb_data.drop(['Method'],axis=1, inplace= True)\n",
        "oe_melb_data.drop(['CouncilArea'],axis=1, inplace= True)\n",
        "oe_melb_data.columns"
      ],
      "metadata": {
        "colab": {
          "base_uri": "https://localhost:8080/"
        },
        "id": "RVtJHl0BTIPm",
        "outputId": "9fd75820-1b6e-467f-b984-63243db34be8"
      },
      "execution_count": 31,
      "outputs": [
        {
          "output_type": "execute_result",
          "data": {
            "text/plain": [
              "Index(['Suburb', 'Rooms', 'Price', 'Distance', 'Bedroom2', 'Bathroom', 'Car',\n",
              "       'Landsize', 'BuildingArea', 'YearBuilt', 'Propertycount', 'year',\n",
              "       'Eastern Metropolitan', 'Eastern Victoria', 'Northern Metropolitan',\n",
              "       'Northern Victoria', 'South-Eastern Metropolitan',\n",
              "       'Southern Metropolitan', 'Western Metropolitan', 'Western Victoria',\n",
              "       'h', 't', 'u', 'PI', 'S', 'SA', 'SP', 'VB', 'Banyule', 'Bayside',\n",
              "       'Boroondara', 'Brimbank', 'Cardinia', 'Casey', 'Darebin', 'Frankston',\n",
              "       'Glen Eira', 'Greater Dandenong', 'Hobsons Bay', 'Hume', 'Kingston',\n",
              "       'Knox', 'Macedon Ranges', 'Manningham', 'Maribyrnong', 'Maroondah',\n",
              "       'Melbourne', 'Melton', 'Monash', 'Moonee Valley', 'Moorabool',\n",
              "       'Moreland', 'Nillumbik', 'Port Phillip', 'Stonnington', 'Unavailable',\n",
              "       'Whitehorse', 'Whittlesea', 'Wyndham', 'Yarra', 'Yarra Ranges'],\n",
              "      dtype='object')"
            ]
          },
          "metadata": {},
          "execution_count": 31
        }
      ]
    },
    {
      "cell_type": "code",
      "source": [
        "oe_melb_data.head()"
      ],
      "metadata": {
        "colab": {
          "base_uri": "https://localhost:8080/",
          "height": 317
        },
        "id": "cd0ttePFTFu2",
        "outputId": "b7d6e8a9-129e-4916-f9dc-0c38254e9365"
      },
      "execution_count": 32,
      "outputs": [
        {
          "output_type": "execute_result",
          "data": {
            "text/plain": [
              "       Suburb  Rooms      Price  Distance  Bedroom2  Bathroom  Car  Landsize  \\\n",
              "0  Abbotsford      2  1480000.0       2.5       2.0       1.0  1.0     202.0   \n",
              "1  Abbotsford      2  1035000.0       2.5       2.0       1.0  0.0     156.0   \n",
              "2  Abbotsford      3  1465000.0       2.5       3.0       2.0  0.0     134.0   \n",
              "3  Abbotsford      3   850000.0       2.5       3.0       2.0  1.0      94.0   \n",
              "4  Abbotsford      4  1600000.0       2.5       3.0       1.0  2.0     120.0   \n",
              "\n",
              "   BuildingArea  YearBuilt  ...  Moreland  Nillumbik  Port Phillip  \\\n",
              "0           0.0     1970.0  ...       0.0        0.0           0.0   \n",
              "1          79.0     1900.0  ...       0.0        0.0           0.0   \n",
              "2         150.0     1900.0  ...       0.0        0.0           0.0   \n",
              "3           0.0     1970.0  ...       0.0        0.0           0.0   \n",
              "4         142.0     2014.0  ...       0.0        0.0           0.0   \n",
              "\n",
              "   Stonnington  Unavailable  Whitehorse  Whittlesea  Wyndham  Yarra  \\\n",
              "0          0.0          0.0         0.0         0.0      0.0    1.0   \n",
              "1          0.0          0.0         0.0         0.0      0.0    1.0   \n",
              "2          0.0          0.0         0.0         0.0      0.0    1.0   \n",
              "3          0.0          0.0         0.0         0.0      0.0    1.0   \n",
              "4          0.0          0.0         0.0         0.0      0.0    1.0   \n",
              "\n",
              "   Yarra Ranges  \n",
              "0           0.0  \n",
              "1           0.0  \n",
              "2           0.0  \n",
              "3           0.0  \n",
              "4           0.0  \n",
              "\n",
              "[5 rows x 61 columns]"
            ],
            "text/html": [
              "\n",
              "  <div id=\"df-2aeec309-712c-496b-a734-4900cd4db8d3\">\n",
              "    <div class=\"colab-df-container\">\n",
              "      <div>\n",
              "<style scoped>\n",
              "    .dataframe tbody tr th:only-of-type {\n",
              "        vertical-align: middle;\n",
              "    }\n",
              "\n",
              "    .dataframe tbody tr th {\n",
              "        vertical-align: top;\n",
              "    }\n",
              "\n",
              "    .dataframe thead th {\n",
              "        text-align: right;\n",
              "    }\n",
              "</style>\n",
              "<table border=\"1\" class=\"dataframe\">\n",
              "  <thead>\n",
              "    <tr style=\"text-align: right;\">\n",
              "      <th></th>\n",
              "      <th>Suburb</th>\n",
              "      <th>Rooms</th>\n",
              "      <th>Price</th>\n",
              "      <th>Distance</th>\n",
              "      <th>Bedroom2</th>\n",
              "      <th>Bathroom</th>\n",
              "      <th>Car</th>\n",
              "      <th>Landsize</th>\n",
              "      <th>BuildingArea</th>\n",
              "      <th>YearBuilt</th>\n",
              "      <th>...</th>\n",
              "      <th>Moreland</th>\n",
              "      <th>Nillumbik</th>\n",
              "      <th>Port Phillip</th>\n",
              "      <th>Stonnington</th>\n",
              "      <th>Unavailable</th>\n",
              "      <th>Whitehorse</th>\n",
              "      <th>Whittlesea</th>\n",
              "      <th>Wyndham</th>\n",
              "      <th>Yarra</th>\n",
              "      <th>Yarra Ranges</th>\n",
              "    </tr>\n",
              "  </thead>\n",
              "  <tbody>\n",
              "    <tr>\n",
              "      <th>0</th>\n",
              "      <td>Abbotsford</td>\n",
              "      <td>2</td>\n",
              "      <td>1480000.0</td>\n",
              "      <td>2.5</td>\n",
              "      <td>2.0</td>\n",
              "      <td>1.0</td>\n",
              "      <td>1.0</td>\n",
              "      <td>202.0</td>\n",
              "      <td>0.0</td>\n",
              "      <td>1970.0</td>\n",
              "      <td>...</td>\n",
              "      <td>0.0</td>\n",
              "      <td>0.0</td>\n",
              "      <td>0.0</td>\n",
              "      <td>0.0</td>\n",
              "      <td>0.0</td>\n",
              "      <td>0.0</td>\n",
              "      <td>0.0</td>\n",
              "      <td>0.0</td>\n",
              "      <td>1.0</td>\n",
              "      <td>0.0</td>\n",
              "    </tr>\n",
              "    <tr>\n",
              "      <th>1</th>\n",
              "      <td>Abbotsford</td>\n",
              "      <td>2</td>\n",
              "      <td>1035000.0</td>\n",
              "      <td>2.5</td>\n",
              "      <td>2.0</td>\n",
              "      <td>1.0</td>\n",
              "      <td>0.0</td>\n",
              "      <td>156.0</td>\n",
              "      <td>79.0</td>\n",
              "      <td>1900.0</td>\n",
              "      <td>...</td>\n",
              "      <td>0.0</td>\n",
              "      <td>0.0</td>\n",
              "      <td>0.0</td>\n",
              "      <td>0.0</td>\n",
              "      <td>0.0</td>\n",
              "      <td>0.0</td>\n",
              "      <td>0.0</td>\n",
              "      <td>0.0</td>\n",
              "      <td>1.0</td>\n",
              "      <td>0.0</td>\n",
              "    </tr>\n",
              "    <tr>\n",
              "      <th>2</th>\n",
              "      <td>Abbotsford</td>\n",
              "      <td>3</td>\n",
              "      <td>1465000.0</td>\n",
              "      <td>2.5</td>\n",
              "      <td>3.0</td>\n",
              "      <td>2.0</td>\n",
              "      <td>0.0</td>\n",
              "      <td>134.0</td>\n",
              "      <td>150.0</td>\n",
              "      <td>1900.0</td>\n",
              "      <td>...</td>\n",
              "      <td>0.0</td>\n",
              "      <td>0.0</td>\n",
              "      <td>0.0</td>\n",
              "      <td>0.0</td>\n",
              "      <td>0.0</td>\n",
              "      <td>0.0</td>\n",
              "      <td>0.0</td>\n",
              "      <td>0.0</td>\n",
              "      <td>1.0</td>\n",
              "      <td>0.0</td>\n",
              "    </tr>\n",
              "    <tr>\n",
              "      <th>3</th>\n",
              "      <td>Abbotsford</td>\n",
              "      <td>3</td>\n",
              "      <td>850000.0</td>\n",
              "      <td>2.5</td>\n",
              "      <td>3.0</td>\n",
              "      <td>2.0</td>\n",
              "      <td>1.0</td>\n",
              "      <td>94.0</td>\n",
              "      <td>0.0</td>\n",
              "      <td>1970.0</td>\n",
              "      <td>...</td>\n",
              "      <td>0.0</td>\n",
              "      <td>0.0</td>\n",
              "      <td>0.0</td>\n",
              "      <td>0.0</td>\n",
              "      <td>0.0</td>\n",
              "      <td>0.0</td>\n",
              "      <td>0.0</td>\n",
              "      <td>0.0</td>\n",
              "      <td>1.0</td>\n",
              "      <td>0.0</td>\n",
              "    </tr>\n",
              "    <tr>\n",
              "      <th>4</th>\n",
              "      <td>Abbotsford</td>\n",
              "      <td>4</td>\n",
              "      <td>1600000.0</td>\n",
              "      <td>2.5</td>\n",
              "      <td>3.0</td>\n",
              "      <td>1.0</td>\n",
              "      <td>2.0</td>\n",
              "      <td>120.0</td>\n",
              "      <td>142.0</td>\n",
              "      <td>2014.0</td>\n",
              "      <td>...</td>\n",
              "      <td>0.0</td>\n",
              "      <td>0.0</td>\n",
              "      <td>0.0</td>\n",
              "      <td>0.0</td>\n",
              "      <td>0.0</td>\n",
              "      <td>0.0</td>\n",
              "      <td>0.0</td>\n",
              "      <td>0.0</td>\n",
              "      <td>1.0</td>\n",
              "      <td>0.0</td>\n",
              "    </tr>\n",
              "  </tbody>\n",
              "</table>\n",
              "<p>5 rows × 61 columns</p>\n",
              "</div>\n",
              "      <button class=\"colab-df-convert\" onclick=\"convertToInteractive('df-2aeec309-712c-496b-a734-4900cd4db8d3')\"\n",
              "              title=\"Convert this dataframe to an interactive table.\"\n",
              "              style=\"display:none;\">\n",
              "        \n",
              "  <svg xmlns=\"http://www.w3.org/2000/svg\" height=\"24px\"viewBox=\"0 0 24 24\"\n",
              "       width=\"24px\">\n",
              "    <path d=\"M0 0h24v24H0V0z\" fill=\"none\"/>\n",
              "    <path d=\"M18.56 5.44l.94 2.06.94-2.06 2.06-.94-2.06-.94-.94-2.06-.94 2.06-2.06.94zm-11 1L8.5 8.5l.94-2.06 2.06-.94-2.06-.94L8.5 2.5l-.94 2.06-2.06.94zm10 10l.94 2.06.94-2.06 2.06-.94-2.06-.94-.94-2.06-.94 2.06-2.06.94z\"/><path d=\"M17.41 7.96l-1.37-1.37c-.4-.4-.92-.59-1.43-.59-.52 0-1.04.2-1.43.59L10.3 9.45l-7.72 7.72c-.78.78-.78 2.05 0 2.83L4 21.41c.39.39.9.59 1.41.59.51 0 1.02-.2 1.41-.59l7.78-7.78 2.81-2.81c.8-.78.8-2.07 0-2.86zM5.41 20L4 18.59l7.72-7.72 1.47 1.35L5.41 20z\"/>\n",
              "  </svg>\n",
              "      </button>\n",
              "      \n",
              "  <style>\n",
              "    .colab-df-container {\n",
              "      display:flex;\n",
              "      flex-wrap:wrap;\n",
              "      gap: 12px;\n",
              "    }\n",
              "\n",
              "    .colab-df-convert {\n",
              "      background-color: #E8F0FE;\n",
              "      border: none;\n",
              "      border-radius: 50%;\n",
              "      cursor: pointer;\n",
              "      display: none;\n",
              "      fill: #1967D2;\n",
              "      height: 32px;\n",
              "      padding: 0 0 0 0;\n",
              "      width: 32px;\n",
              "    }\n",
              "\n",
              "    .colab-df-convert:hover {\n",
              "      background-color: #E2EBFA;\n",
              "      box-shadow: 0px 1px 2px rgba(60, 64, 67, 0.3), 0px 1px 3px 1px rgba(60, 64, 67, 0.15);\n",
              "      fill: #174EA6;\n",
              "    }\n",
              "\n",
              "    [theme=dark] .colab-df-convert {\n",
              "      background-color: #3B4455;\n",
              "      fill: #D2E3FC;\n",
              "    }\n",
              "\n",
              "    [theme=dark] .colab-df-convert:hover {\n",
              "      background-color: #434B5C;\n",
              "      box-shadow: 0px 1px 3px 1px rgba(0, 0, 0, 0.15);\n",
              "      filter: drop-shadow(0px 1px 2px rgba(0, 0, 0, 0.3));\n",
              "      fill: #FFFFFF;\n",
              "    }\n",
              "  </style>\n",
              "\n",
              "      <script>\n",
              "        const buttonEl =\n",
              "          document.querySelector('#df-2aeec309-712c-496b-a734-4900cd4db8d3 button.colab-df-convert');\n",
              "        buttonEl.style.display =\n",
              "          google.colab.kernel.accessAllowed ? 'block' : 'none';\n",
              "\n",
              "        async function convertToInteractive(key) {\n",
              "          const element = document.querySelector('#df-2aeec309-712c-496b-a734-4900cd4db8d3');\n",
              "          const dataTable =\n",
              "            await google.colab.kernel.invokeFunction('convertToInteractive',\n",
              "                                                     [key], {});\n",
              "          if (!dataTable) return;\n",
              "\n",
              "          const docLinkHtml = 'Like what you see? Visit the ' +\n",
              "            '<a target=\"_blank\" href=https://colab.research.google.com/notebooks/data_table.ipynb>data table notebook</a>'\n",
              "            + ' to learn more about interactive tables.';\n",
              "          element.innerHTML = '';\n",
              "          dataTable['output_type'] = 'display_data';\n",
              "          await google.colab.output.renderOutput(dataTable, element);\n",
              "          const docLink = document.createElement('div');\n",
              "          docLink.innerHTML = docLinkHtml;\n",
              "          element.appendChild(docLink);\n",
              "        }\n",
              "      </script>\n",
              "    </div>\n",
              "  </div>\n",
              "  "
            ]
          },
          "metadata": {},
          "execution_count": 32
        }
      ]
    },
    {
      "cell_type": "markdown",
      "source": [
        "## *LABEL ENCODER para la columna 'Suburb'*"
      ],
      "metadata": {
        "id": "n88konXMtu1W"
      }
    },
    {
      "cell_type": "code",
      "source": [
        "# LabelEncoder ['Suburb']\n",
        "#\n",
        "oe_melb_data.groupby(['Suburb'])['Price'].mean().sort_values()"
      ],
      "metadata": {
        "colab": {
          "base_uri": "https://localhost:8080/"
        },
        "id": "hOhObqOYcMKv",
        "outputId": "98c64c41-1533-4dbe-f1c7-2af46b97a3d7"
      },
      "execution_count": 33,
      "outputs": [
        {
          "output_type": "execute_result",
          "data": {
            "text/plain": [
              "Suburb\n",
              "Bacchus Marsh    2.850000e+05\n",
              "Rockbank         3.400000e+05\n",
              "Kurunjang        3.530000e+05\n",
              "Wallan           3.660000e+05\n",
              "Melton South     3.807361e+05\n",
              "                     ...     \n",
              "Brighton         1.930158e+06\n",
              "Albert Park      1.941355e+06\n",
              "Middle Park      2.082529e+06\n",
              "Canterbury       2.180241e+06\n",
              "Kooyong          2.185000e+06\n",
              "Name: Price, Length: 314, dtype: float64"
            ]
          },
          "metadata": {},
          "execution_count": 33
        }
      ]
    },
    {
      "cell_type": "code",
      "source": [
        "ordered_labels = oe_melb_data.groupby(['Suburb'\n",
        "                                  ])['Price'].mean().sort_values().index\n",
        "\n",
        "ordered_labels"
      ],
      "metadata": {
        "colab": {
          "base_uri": "https://localhost:8080/"
        },
        "id": "QlrOTwC-ckwR",
        "outputId": "8291d003-a741-42b5-c3b3-ab7fdde1299f"
      },
      "execution_count": 34,
      "outputs": [
        {
          "output_type": "execute_result",
          "data": {
            "text/plain": [
              "Index(['Bacchus Marsh', 'Rockbank', 'Kurunjang', 'Wallan', 'Melton South',\n",
              "       'Dallas', 'Melton', 'Melton West', 'Brookfield', 'Truganina',\n",
              "       ...\n",
              "       'Kew', 'Malvern', 'Balwyn North', 'Eaglemont', 'Balwyn', 'Brighton',\n",
              "       'Albert Park', 'Middle Park', 'Canterbury', 'Kooyong'],\n",
              "      dtype='object', name='Suburb', length=314)"
            ]
          },
          "metadata": {},
          "execution_count": 34
        }
      ]
    },
    {
      "cell_type": "code",
      "source": [
        "# next let's create a dictionary with the mappings of categories to numbers\n",
        "\n",
        "ordinal_mapping = {k: i for i, k in enumerate(ordered_labels, 0)}\n",
        "\n",
        "ordinal_mapping"
      ],
      "metadata": {
        "colab": {
          "base_uri": "https://localhost:8080/"
        },
        "id": "SFDB5X3tcyjg",
        "outputId": "c7c7dc74-d7e1-44ca-9a91-4a12c4f48315"
      },
      "execution_count": 35,
      "outputs": [
        {
          "output_type": "execute_result",
          "data": {
            "text/plain": [
              "{'Bacchus Marsh': 0,\n",
              " 'Rockbank': 1,\n",
              " 'Kurunjang': 2,\n",
              " 'Wallan': 3,\n",
              " 'Melton South': 4,\n",
              " 'Dallas': 5,\n",
              " 'Melton': 6,\n",
              " 'Melton West': 7,\n",
              " 'Brookfield': 8,\n",
              " 'Truganina': 9,\n",
              " 'Coolaroo': 10,\n",
              " 'Campbellfield': 11,\n",
              " 'Wyndham Vale': 12,\n",
              " 'Roxburgh Park': 13,\n",
              " 'Tarneit': 14,\n",
              " 'Meadow Heights': 15,\n",
              " 'Doreen': 16,\n",
              " 'Pakenham': 17,\n",
              " 'Doveton': 18,\n",
              " 'Wollert': 19,\n",
              " 'Werribee': 20,\n",
              " 'Diggers Rest': 21,\n",
              " 'Jacana': 22,\n",
              " 'Sunbury': 23,\n",
              " 'Frankston North': 24,\n",
              " 'Williams Landing': 25,\n",
              " 'Bullengarook': 26,\n",
              " 'Albanvale': 27,\n",
              " 'Kings Park': 28,\n",
              " 'Delahey': 29,\n",
              " 'Carrum Downs': 30,\n",
              " 'Hampton Park': 31,\n",
              " 'Craigieburn': 32,\n",
              " 'Officer': 33,\n",
              " 'Hoppers Crossing': 34,\n",
              " 'Mount Evelyn': 35,\n",
              " 'Epping': 36,\n",
              " 'Upwey': 37,\n",
              " 'Seabrook': 38,\n",
              " 'Kealba': 39,\n",
              " 'The Basin': 40,\n",
              " 'Cranbourne North': 41,\n",
              " 'Albion': 42,\n",
              " 'Sunshine West': 43,\n",
              " 'Burnside Heights': 44,\n",
              " 'Skye': 45,\n",
              " 'Whittlesea': 46,\n",
              " 'Mernda': 47,\n",
              " 'Beaconsfield': 48,\n",
              " 'St Albans': 49,\n",
              " 'Deer Park': 50,\n",
              " 'Taylors Hill': 51,\n",
              " 'Tullamarine': 52,\n",
              " 'Broadmeadows': 53,\n",
              " 'Dandenong': 54,\n",
              " 'Sydenham': 55,\n",
              " 'Cranbourne': 56,\n",
              " 'Melbourne': 57,\n",
              " 'Burnside': 58,\n",
              " 'Yarra Glen': 59,\n",
              " 'Westmeadows': 60,\n",
              " 'Plumpton': 61,\n",
              " 'Southbank': 62,\n",
              " 'Frankston': 63,\n",
              " 'Lalor': 64,\n",
              " 'Point Cook': 65,\n",
              " 'Attwood': 66,\n",
              " 'South Morang': 67,\n",
              " 'Caroline Springs': 68,\n",
              " 'Heidelberg West': 69,\n",
              " 'Sandhurst': 70,\n",
              " 'Dandenong North': 71,\n",
              " 'Gisborne': 72,\n",
              " 'Brooklyn': 73,\n",
              " 'Fawkner': 74,\n",
              " 'Healesville': 75,\n",
              " 'Thomastown': 76,\n",
              " 'Narre Warren': 77,\n",
              " 'Gladstone Park': 78,\n",
              " 'Langwarrin': 79,\n",
              " 'Emerald': 80,\n",
              " 'Mill Park': 81,\n",
              " 'Sunshine North': 82,\n",
              " 'Keilor Lodge': 83,\n",
              " 'Hillside': 84,\n",
              " 'Ardeer': 85,\n",
              " 'Altona Meadows': 86,\n",
              " 'Keilor Park': 87,\n",
              " 'Keilor Downs': 88,\n",
              " 'Glenroy': 89,\n",
              " 'Beaconsfield Upper': 90,\n",
              " 'Noble Park': 91,\n",
              " 'Cairnlea': 92,\n",
              " 'Braybrook': 93,\n",
              " 'Hadfield': 94,\n",
              " 'Reservoir': 95,\n",
              " 'Gowanbrae': 96,\n",
              " 'Hurstbridge': 97,\n",
              " 'Footscray': 98,\n",
              " 'Endeavour Hills': 99,\n",
              " 'Bayswater North': 100,\n",
              " 'Derrimut': 101,\n",
              " 'Maidstone': 102,\n",
              " 'Sunshine': 103,\n",
              " 'Carrum': 104,\n",
              " 'Monbulk': 105,\n",
              " 'Chelsea': 106,\n",
              " 'Kingsbury': 107,\n",
              " 'South Kingsville': 108,\n",
              " 'Taylors Lakes': 109,\n",
              " 'Seaford': 110,\n",
              " 'Briar Hill': 111,\n",
              " 'Montrose': 112,\n",
              " 'Mooroolbark': 113,\n",
              " 'Watsonia': 114,\n",
              " 'Balaclava': 115,\n",
              " 'Chelsea Heights': 116,\n",
              " 'Greenvale': 117,\n",
              " 'Heidelberg Heights': 118,\n",
              " 'Airport West': 119,\n",
              " 'Berwick': 120,\n",
              " 'Bayswater': 121,\n",
              " 'Watsonia North': 122,\n",
              " 'Springvale South': 123,\n",
              " 'Ripponlea': 124,\n",
              " 'Lower Plenty': 125,\n",
              " 'Chirnside Park': 126,\n",
              " 'Kilsyth': 127,\n",
              " 'Glen Huntly': 128,\n",
              " 'Pascoe Vale': 129,\n",
              " 'Hallam': 130,\n",
              " 'West Footscray': 131,\n",
              " 'Caulfield': 132,\n",
              " 'Croydon South': 133,\n",
              " 'Altona North': 134,\n",
              " 'Coburg North': 135,\n",
              " 'Avondale Heights': 136,\n",
              " 'Keysborough': 137,\n",
              " 'Keilor East': 138,\n",
              " 'Riddells Creek': 139,\n",
              " 'Bellfield': 140,\n",
              " 'Kingsville': 141,\n",
              " 'Greensborough': 142,\n",
              " 'Maribyrnong': 143,\n",
              " 'Kensington': 144,\n",
              " 'Keilor': 145,\n",
              " 'Ferntree Gully': 146,\n",
              " 'Altona': 147,\n",
              " 'Bundoora': 148,\n",
              " 'Oak Park': 149,\n",
              " 'Springvale': 150,\n",
              " 'Diamond Creek': 151,\n",
              " 'Yallambie': 152,\n",
              " 'Brunswick West': 153,\n",
              " 'Docklands': 154,\n",
              " 'Croydon': 155,\n",
              " 'Croydon North': 156,\n",
              " 'St Kilda': 157,\n",
              " 'Boronia': 158,\n",
              " 'Eltham': 159,\n",
              " 'Clayton South': 160,\n",
              " 'Williamstown North': 161,\n",
              " 'Flemington': 162,\n",
              " 'Essendon North': 163,\n",
              " 'North Melbourne': 164,\n",
              " 'Aspendale Gardens': 165,\n",
              " 'Rowville': 166,\n",
              " 'Dingley Village': 167,\n",
              " 'Wonga Park': 168,\n",
              " 'Montmorency': 169,\n",
              " 'Preston': 170,\n",
              " 'Ringwood East': 171,\n",
              " 'Eltham North': 172,\n",
              " 'Croydon Hills': 173,\n",
              " 'Coburg': 174,\n",
              " 'Collingwood': 175,\n",
              " 'Elwood': 176,\n",
              " 'Heidelberg': 177,\n",
              " 'Brunswick East': 178,\n",
              " 'Ringwood North': 179,\n",
              " 'Viewbank': 180,\n",
              " 'Spotswood': 181,\n",
              " 'Carnegie': 182,\n",
              " 'Heathmont': 183,\n",
              " 'Strathmore Heights': 184,\n",
              " 'Mentone': 185,\n",
              " 'Thornbury': 186,\n",
              " 'Scoresby': 187,\n",
              " 'Cremorne': 188,\n",
              " 'Mitcham': 189,\n",
              " 'Chadstone': 190,\n",
              " 'Ringwood': 191,\n",
              " 'Murrumbeena': 192,\n",
              " 'Seddon': 193,\n",
              " 'Niddrie': 194,\n",
              " 'Windsor': 195,\n",
              " 'Clarinda': 196,\n",
              " 'Forest Hill': 197,\n",
              " 'Moorabbin': 198,\n",
              " 'Yarraville': 199,\n",
              " 'Edithvale': 200,\n",
              " 'Wantirna': 201,\n",
              " 'West Melbourne': 202,\n",
              " 'Rosanna': 203,\n",
              " 'Oakleigh South': 204,\n",
              " 'Frankston South': 205,\n",
              " 'Travancore': 206,\n",
              " 'Brunswick': 207,\n",
              " 'Caulfield North': 208,\n",
              " 'South Yarra': 209,\n",
              " 'Nunawading': 210,\n",
              " 'St Helena': 211,\n",
              " 'Cheltenham': 212,\n",
              " 'Notting Hill': 213,\n",
              " 'Hampton East': 214,\n",
              " 'Ascot Vale': 215,\n",
              " 'Abbotsford': 216,\n",
              " 'Newport': 217,\n",
              " 'Huntingdale': 218,\n",
              " 'Essendon': 219,\n",
              " 'Carlton': 220,\n",
              " 'Fairfield': 221,\n",
              " 'Silvan': 222,\n",
              " 'Blackburn South': 223,\n",
              " 'Richmond': 224,\n",
              " 'Vermont': 225,\n",
              " 'Knoxfield': 226,\n",
              " 'Bentleigh East': 227,\n",
              " 'Burwood East': 228,\n",
              " 'Essendon West': 229,\n",
              " 'Caulfield East': 230,\n",
              " 'Hughesdale': 231,\n",
              " 'Prahran': 232,\n",
              " 'Ormond': 233,\n",
              " 'Wantirna South': 234,\n",
              " 'Oakleigh': 235,\n",
              " 'Mordialloc': 236,\n",
              " 'Moonee Ponds': 237,\n",
              " 'Aspendale': 238,\n",
              " 'Gardenvale': 239,\n",
              " 'Bonbeach': 240,\n",
              " 'Caulfield South': 241,\n",
              " 'Clifton Hill': 242,\n",
              " 'Ashwood': 243,\n",
              " 'Bulleen': 244,\n",
              " 'Oakleigh East': 245,\n",
              " 'Templestowe Lower': 246,\n",
              " 'Strathmore': 247,\n",
              " 'Deepdene': 248,\n",
              " 'Ivanhoe': 249,\n",
              " 'Blackburn North': 250,\n",
              " 'Donvale': 251,\n",
              " 'Warrandyte': 252,\n",
              " 'North Warrandyte': 253,\n",
              " 'Seaholme': 254,\n",
              " 'Vermont South': 255,\n",
              " 'Mulgrave': 256,\n",
              " 'Port Melbourne': 257,\n",
              " 'Burnley': 258,\n",
              " 'Waterways': 259,\n",
              " 'Burwood': 260,\n",
              " 'Wheelers Hill': 261,\n",
              " 'Doncaster': 262,\n",
              " 'Fitzroy': 263,\n",
              " 'Clayton': 264,\n",
              " 'Highett': 265,\n",
              " 'Parkdale': 266,\n",
              " 'Northcote': 267,\n",
              " 'Elsternwick': 268,\n",
              " 'Blackburn': 269,\n",
              " 'Fitzroy North': 270,\n",
              " 'Hawthorn': 271,\n",
              " 'Aberfeldie': 272,\n",
              " 'Bentleigh': 273,\n",
              " 'Parkville': 274,\n",
              " 'Box Hill': 275,\n",
              " 'Williamstown': 276,\n",
              " 'South Melbourne': 277,\n",
              " 'Black Rock': 278,\n",
              " 'New Gisborne': 279,\n",
              " 'Mount Waverley': 280,\n",
              " 'Doncaster East': 281,\n",
              " 'Glen Waverley': 282,\n",
              " 'Alphington': 283,\n",
              " 'East Melbourne': 284,\n",
              " 'Armadale': 285,\n",
              " 'McKinnon': 286,\n",
              " 'Toorak': 287,\n",
              " 'Carlton North': 288,\n",
              " 'Hawthorn East': 289,\n",
              " 'Malvern East': 290,\n",
              " 'Brighton East': 291,\n",
              " 'Surrey Hills': 292,\n",
              " 'Templestowe': 293,\n",
              " 'Glen Iris': 294,\n",
              " 'Mont Albert': 295,\n",
              " 'Hampton': 296,\n",
              " 'Sandringham': 297,\n",
              " 'Kew East': 298,\n",
              " 'Ivanhoe East': 299,\n",
              " 'Beaumaris': 300,\n",
              " 'Ashburton': 301,\n",
              " 'Princes Hill': 302,\n",
              " 'Camberwell': 303,\n",
              " 'Kew': 304,\n",
              " 'Malvern': 305,\n",
              " 'Balwyn North': 306,\n",
              " 'Eaglemont': 307,\n",
              " 'Balwyn': 308,\n",
              " 'Brighton': 309,\n",
              " 'Albert Park': 310,\n",
              " 'Middle Park': 311,\n",
              " 'Canterbury': 312,\n",
              " 'Kooyong': 313}"
            ]
          },
          "metadata": {},
          "execution_count": 35
        }
      ]
    },
    {
      "cell_type": "code",
      "source": [
        "# now, we replace the labels with the integers\n",
        "oe_melb_data['Suburb'] = oe_melb_data['Suburb'].map(ordinal_mapping)"
      ],
      "metadata": {
        "id": "fx5lzfzqc2k1"
      },
      "execution_count": 36,
      "outputs": []
    },
    {
      "cell_type": "code",
      "source": [
        "# let's explore the result\n",
        "oe_melb_data.head(10)"
      ],
      "metadata": {
        "colab": {
          "base_uri": "https://localhost:8080/",
          "height": 473
        },
        "id": "6CZJn6w6c2Zl",
        "outputId": "49f72bf5-f583-42fb-a67b-8ea52ac17891"
      },
      "execution_count": 37,
      "outputs": [
        {
          "output_type": "execute_result",
          "data": {
            "text/plain": [
              "   Suburb  Rooms      Price  Distance  Bedroom2  Bathroom  Car  Landsize  \\\n",
              "0     216      2  1480000.0       2.5       2.0       1.0  1.0     202.0   \n",
              "1     216      2  1035000.0       2.5       2.0       1.0  0.0     156.0   \n",
              "2     216      3  1465000.0       2.5       3.0       2.0  0.0     134.0   \n",
              "3     216      3   850000.0       2.5       3.0       2.0  1.0      94.0   \n",
              "4     216      4  1600000.0       2.5       3.0       1.0  2.0     120.0   \n",
              "5     216      2   941000.0       2.5       2.0       1.0  0.0     181.0   \n",
              "6     216      3  1876000.0       2.5       4.0       2.0  0.0     245.0   \n",
              "7     216      2  1636000.0       2.5       2.0       1.0  2.0     256.0   \n",
              "8     216      1   300000.0       2.5       1.0       1.0  1.0       0.0   \n",
              "9     216      2  1097000.0       2.5       3.0       1.0  2.0     220.0   \n",
              "\n",
              "   BuildingArea  YearBuilt  ...  Moreland  Nillumbik  Port Phillip  \\\n",
              "0           0.0     1970.0  ...       0.0        0.0           0.0   \n",
              "1          79.0     1900.0  ...       0.0        0.0           0.0   \n",
              "2         150.0     1900.0  ...       0.0        0.0           0.0   \n",
              "3           0.0     1970.0  ...       0.0        0.0           0.0   \n",
              "4         142.0     2014.0  ...       0.0        0.0           0.0   \n",
              "5           0.0     1970.0  ...       0.0        0.0           0.0   \n",
              "6         210.0     1910.0  ...       0.0        0.0           0.0   \n",
              "7         107.0     1890.0  ...       0.0        0.0           0.0   \n",
              "8           0.0     1970.0  ...       0.0        0.0           0.0   \n",
              "9          75.0     1900.0  ...       0.0        0.0           0.0   \n",
              "\n",
              "   Stonnington  Unavailable  Whitehorse  Whittlesea  Wyndham  Yarra  \\\n",
              "0          0.0          0.0         0.0         0.0      0.0    1.0   \n",
              "1          0.0          0.0         0.0         0.0      0.0    1.0   \n",
              "2          0.0          0.0         0.0         0.0      0.0    1.0   \n",
              "3          0.0          0.0         0.0         0.0      0.0    1.0   \n",
              "4          0.0          0.0         0.0         0.0      0.0    1.0   \n",
              "5          0.0          0.0         0.0         0.0      0.0    1.0   \n",
              "6          0.0          0.0         0.0         0.0      0.0    1.0   \n",
              "7          0.0          0.0         0.0         0.0      0.0    1.0   \n",
              "8          0.0          0.0         0.0         0.0      0.0    1.0   \n",
              "9          0.0          0.0         0.0         0.0      0.0    1.0   \n",
              "\n",
              "   Yarra Ranges  \n",
              "0           0.0  \n",
              "1           0.0  \n",
              "2           0.0  \n",
              "3           0.0  \n",
              "4           0.0  \n",
              "5           0.0  \n",
              "6           0.0  \n",
              "7           0.0  \n",
              "8           0.0  \n",
              "9           0.0  \n",
              "\n",
              "[10 rows x 61 columns]"
            ],
            "text/html": [
              "\n",
              "  <div id=\"df-0908bc6c-f6fb-43dd-b8cd-be0d63904be1\">\n",
              "    <div class=\"colab-df-container\">\n",
              "      <div>\n",
              "<style scoped>\n",
              "    .dataframe tbody tr th:only-of-type {\n",
              "        vertical-align: middle;\n",
              "    }\n",
              "\n",
              "    .dataframe tbody tr th {\n",
              "        vertical-align: top;\n",
              "    }\n",
              "\n",
              "    .dataframe thead th {\n",
              "        text-align: right;\n",
              "    }\n",
              "</style>\n",
              "<table border=\"1\" class=\"dataframe\">\n",
              "  <thead>\n",
              "    <tr style=\"text-align: right;\">\n",
              "      <th></th>\n",
              "      <th>Suburb</th>\n",
              "      <th>Rooms</th>\n",
              "      <th>Price</th>\n",
              "      <th>Distance</th>\n",
              "      <th>Bedroom2</th>\n",
              "      <th>Bathroom</th>\n",
              "      <th>Car</th>\n",
              "      <th>Landsize</th>\n",
              "      <th>BuildingArea</th>\n",
              "      <th>YearBuilt</th>\n",
              "      <th>...</th>\n",
              "      <th>Moreland</th>\n",
              "      <th>Nillumbik</th>\n",
              "      <th>Port Phillip</th>\n",
              "      <th>Stonnington</th>\n",
              "      <th>Unavailable</th>\n",
              "      <th>Whitehorse</th>\n",
              "      <th>Whittlesea</th>\n",
              "      <th>Wyndham</th>\n",
              "      <th>Yarra</th>\n",
              "      <th>Yarra Ranges</th>\n",
              "    </tr>\n",
              "  </thead>\n",
              "  <tbody>\n",
              "    <tr>\n",
              "      <th>0</th>\n",
              "      <td>216</td>\n",
              "      <td>2</td>\n",
              "      <td>1480000.0</td>\n",
              "      <td>2.5</td>\n",
              "      <td>2.0</td>\n",
              "      <td>1.0</td>\n",
              "      <td>1.0</td>\n",
              "      <td>202.0</td>\n",
              "      <td>0.0</td>\n",
              "      <td>1970.0</td>\n",
              "      <td>...</td>\n",
              "      <td>0.0</td>\n",
              "      <td>0.0</td>\n",
              "      <td>0.0</td>\n",
              "      <td>0.0</td>\n",
              "      <td>0.0</td>\n",
              "      <td>0.0</td>\n",
              "      <td>0.0</td>\n",
              "      <td>0.0</td>\n",
              "      <td>1.0</td>\n",
              "      <td>0.0</td>\n",
              "    </tr>\n",
              "    <tr>\n",
              "      <th>1</th>\n",
              "      <td>216</td>\n",
              "      <td>2</td>\n",
              "      <td>1035000.0</td>\n",
              "      <td>2.5</td>\n",
              "      <td>2.0</td>\n",
              "      <td>1.0</td>\n",
              "      <td>0.0</td>\n",
              "      <td>156.0</td>\n",
              "      <td>79.0</td>\n",
              "      <td>1900.0</td>\n",
              "      <td>...</td>\n",
              "      <td>0.0</td>\n",
              "      <td>0.0</td>\n",
              "      <td>0.0</td>\n",
              "      <td>0.0</td>\n",
              "      <td>0.0</td>\n",
              "      <td>0.0</td>\n",
              "      <td>0.0</td>\n",
              "      <td>0.0</td>\n",
              "      <td>1.0</td>\n",
              "      <td>0.0</td>\n",
              "    </tr>\n",
              "    <tr>\n",
              "      <th>2</th>\n",
              "      <td>216</td>\n",
              "      <td>3</td>\n",
              "      <td>1465000.0</td>\n",
              "      <td>2.5</td>\n",
              "      <td>3.0</td>\n",
              "      <td>2.0</td>\n",
              "      <td>0.0</td>\n",
              "      <td>134.0</td>\n",
              "      <td>150.0</td>\n",
              "      <td>1900.0</td>\n",
              "      <td>...</td>\n",
              "      <td>0.0</td>\n",
              "      <td>0.0</td>\n",
              "      <td>0.0</td>\n",
              "      <td>0.0</td>\n",
              "      <td>0.0</td>\n",
              "      <td>0.0</td>\n",
              "      <td>0.0</td>\n",
              "      <td>0.0</td>\n",
              "      <td>1.0</td>\n",
              "      <td>0.0</td>\n",
              "    </tr>\n",
              "    <tr>\n",
              "      <th>3</th>\n",
              "      <td>216</td>\n",
              "      <td>3</td>\n",
              "      <td>850000.0</td>\n",
              "      <td>2.5</td>\n",
              "      <td>3.0</td>\n",
              "      <td>2.0</td>\n",
              "      <td>1.0</td>\n",
              "      <td>94.0</td>\n",
              "      <td>0.0</td>\n",
              "      <td>1970.0</td>\n",
              "      <td>...</td>\n",
              "      <td>0.0</td>\n",
              "      <td>0.0</td>\n",
              "      <td>0.0</td>\n",
              "      <td>0.0</td>\n",
              "      <td>0.0</td>\n",
              "      <td>0.0</td>\n",
              "      <td>0.0</td>\n",
              "      <td>0.0</td>\n",
              "      <td>1.0</td>\n",
              "      <td>0.0</td>\n",
              "    </tr>\n",
              "    <tr>\n",
              "      <th>4</th>\n",
              "      <td>216</td>\n",
              "      <td>4</td>\n",
              "      <td>1600000.0</td>\n",
              "      <td>2.5</td>\n",
              "      <td>3.0</td>\n",
              "      <td>1.0</td>\n",
              "      <td>2.0</td>\n",
              "      <td>120.0</td>\n",
              "      <td>142.0</td>\n",
              "      <td>2014.0</td>\n",
              "      <td>...</td>\n",
              "      <td>0.0</td>\n",
              "      <td>0.0</td>\n",
              "      <td>0.0</td>\n",
              "      <td>0.0</td>\n",
              "      <td>0.0</td>\n",
              "      <td>0.0</td>\n",
              "      <td>0.0</td>\n",
              "      <td>0.0</td>\n",
              "      <td>1.0</td>\n",
              "      <td>0.0</td>\n",
              "    </tr>\n",
              "    <tr>\n",
              "      <th>5</th>\n",
              "      <td>216</td>\n",
              "      <td>2</td>\n",
              "      <td>941000.0</td>\n",
              "      <td>2.5</td>\n",
              "      <td>2.0</td>\n",
              "      <td>1.0</td>\n",
              "      <td>0.0</td>\n",
              "      <td>181.0</td>\n",
              "      <td>0.0</td>\n",
              "      <td>1970.0</td>\n",
              "      <td>...</td>\n",
              "      <td>0.0</td>\n",
              "      <td>0.0</td>\n",
              "      <td>0.0</td>\n",
              "      <td>0.0</td>\n",
              "      <td>0.0</td>\n",
              "      <td>0.0</td>\n",
              "      <td>0.0</td>\n",
              "      <td>0.0</td>\n",
              "      <td>1.0</td>\n",
              "      <td>0.0</td>\n",
              "    </tr>\n",
              "    <tr>\n",
              "      <th>6</th>\n",
              "      <td>216</td>\n",
              "      <td>3</td>\n",
              "      <td>1876000.0</td>\n",
              "      <td>2.5</td>\n",
              "      <td>4.0</td>\n",
              "      <td>2.0</td>\n",
              "      <td>0.0</td>\n",
              "      <td>245.0</td>\n",
              "      <td>210.0</td>\n",
              "      <td>1910.0</td>\n",
              "      <td>...</td>\n",
              "      <td>0.0</td>\n",
              "      <td>0.0</td>\n",
              "      <td>0.0</td>\n",
              "      <td>0.0</td>\n",
              "      <td>0.0</td>\n",
              "      <td>0.0</td>\n",
              "      <td>0.0</td>\n",
              "      <td>0.0</td>\n",
              "      <td>1.0</td>\n",
              "      <td>0.0</td>\n",
              "    </tr>\n",
              "    <tr>\n",
              "      <th>7</th>\n",
              "      <td>216</td>\n",
              "      <td>2</td>\n",
              "      <td>1636000.0</td>\n",
              "      <td>2.5</td>\n",
              "      <td>2.0</td>\n",
              "      <td>1.0</td>\n",
              "      <td>2.0</td>\n",
              "      <td>256.0</td>\n",
              "      <td>107.0</td>\n",
              "      <td>1890.0</td>\n",
              "      <td>...</td>\n",
              "      <td>0.0</td>\n",
              "      <td>0.0</td>\n",
              "      <td>0.0</td>\n",
              "      <td>0.0</td>\n",
              "      <td>0.0</td>\n",
              "      <td>0.0</td>\n",
              "      <td>0.0</td>\n",
              "      <td>0.0</td>\n",
              "      <td>1.0</td>\n",
              "      <td>0.0</td>\n",
              "    </tr>\n",
              "    <tr>\n",
              "      <th>8</th>\n",
              "      <td>216</td>\n",
              "      <td>1</td>\n",
              "      <td>300000.0</td>\n",
              "      <td>2.5</td>\n",
              "      <td>1.0</td>\n",
              "      <td>1.0</td>\n",
              "      <td>1.0</td>\n",
              "      <td>0.0</td>\n",
              "      <td>0.0</td>\n",
              "      <td>1970.0</td>\n",
              "      <td>...</td>\n",
              "      <td>0.0</td>\n",
              "      <td>0.0</td>\n",
              "      <td>0.0</td>\n",
              "      <td>0.0</td>\n",
              "      <td>0.0</td>\n",
              "      <td>0.0</td>\n",
              "      <td>0.0</td>\n",
              "      <td>0.0</td>\n",
              "      <td>1.0</td>\n",
              "      <td>0.0</td>\n",
              "    </tr>\n",
              "    <tr>\n",
              "      <th>9</th>\n",
              "      <td>216</td>\n",
              "      <td>2</td>\n",
              "      <td>1097000.0</td>\n",
              "      <td>2.5</td>\n",
              "      <td>3.0</td>\n",
              "      <td>1.0</td>\n",
              "      <td>2.0</td>\n",
              "      <td>220.0</td>\n",
              "      <td>75.0</td>\n",
              "      <td>1900.0</td>\n",
              "      <td>...</td>\n",
              "      <td>0.0</td>\n",
              "      <td>0.0</td>\n",
              "      <td>0.0</td>\n",
              "      <td>0.0</td>\n",
              "      <td>0.0</td>\n",
              "      <td>0.0</td>\n",
              "      <td>0.0</td>\n",
              "      <td>0.0</td>\n",
              "      <td>1.0</td>\n",
              "      <td>0.0</td>\n",
              "    </tr>\n",
              "  </tbody>\n",
              "</table>\n",
              "<p>10 rows × 61 columns</p>\n",
              "</div>\n",
              "      <button class=\"colab-df-convert\" onclick=\"convertToInteractive('df-0908bc6c-f6fb-43dd-b8cd-be0d63904be1')\"\n",
              "              title=\"Convert this dataframe to an interactive table.\"\n",
              "              style=\"display:none;\">\n",
              "        \n",
              "  <svg xmlns=\"http://www.w3.org/2000/svg\" height=\"24px\"viewBox=\"0 0 24 24\"\n",
              "       width=\"24px\">\n",
              "    <path d=\"M0 0h24v24H0V0z\" fill=\"none\"/>\n",
              "    <path d=\"M18.56 5.44l.94 2.06.94-2.06 2.06-.94-2.06-.94-.94-2.06-.94 2.06-2.06.94zm-11 1L8.5 8.5l.94-2.06 2.06-.94-2.06-.94L8.5 2.5l-.94 2.06-2.06.94zm10 10l.94 2.06.94-2.06 2.06-.94-2.06-.94-.94-2.06-.94 2.06-2.06.94z\"/><path d=\"M17.41 7.96l-1.37-1.37c-.4-.4-.92-.59-1.43-.59-.52 0-1.04.2-1.43.59L10.3 9.45l-7.72 7.72c-.78.78-.78 2.05 0 2.83L4 21.41c.39.39.9.59 1.41.59.51 0 1.02-.2 1.41-.59l7.78-7.78 2.81-2.81c.8-.78.8-2.07 0-2.86zM5.41 20L4 18.59l7.72-7.72 1.47 1.35L5.41 20z\"/>\n",
              "  </svg>\n",
              "      </button>\n",
              "      \n",
              "  <style>\n",
              "    .colab-df-container {\n",
              "      display:flex;\n",
              "      flex-wrap:wrap;\n",
              "      gap: 12px;\n",
              "    }\n",
              "\n",
              "    .colab-df-convert {\n",
              "      background-color: #E8F0FE;\n",
              "      border: none;\n",
              "      border-radius: 50%;\n",
              "      cursor: pointer;\n",
              "      display: none;\n",
              "      fill: #1967D2;\n",
              "      height: 32px;\n",
              "      padding: 0 0 0 0;\n",
              "      width: 32px;\n",
              "    }\n",
              "\n",
              "    .colab-df-convert:hover {\n",
              "      background-color: #E2EBFA;\n",
              "      box-shadow: 0px 1px 2px rgba(60, 64, 67, 0.3), 0px 1px 3px 1px rgba(60, 64, 67, 0.15);\n",
              "      fill: #174EA6;\n",
              "    }\n",
              "\n",
              "    [theme=dark] .colab-df-convert {\n",
              "      background-color: #3B4455;\n",
              "      fill: #D2E3FC;\n",
              "    }\n",
              "\n",
              "    [theme=dark] .colab-df-convert:hover {\n",
              "      background-color: #434B5C;\n",
              "      box-shadow: 0px 1px 3px 1px rgba(0, 0, 0, 0.15);\n",
              "      filter: drop-shadow(0px 1px 2px rgba(0, 0, 0, 0.3));\n",
              "      fill: #FFFFFF;\n",
              "    }\n",
              "  </style>\n",
              "\n",
              "      <script>\n",
              "        const buttonEl =\n",
              "          document.querySelector('#df-0908bc6c-f6fb-43dd-b8cd-be0d63904be1 button.colab-df-convert');\n",
              "        buttonEl.style.display =\n",
              "          google.colab.kernel.accessAllowed ? 'block' : 'none';\n",
              "\n",
              "        async function convertToInteractive(key) {\n",
              "          const element = document.querySelector('#df-0908bc6c-f6fb-43dd-b8cd-be0d63904be1');\n",
              "          const dataTable =\n",
              "            await google.colab.kernel.invokeFunction('convertToInteractive',\n",
              "                                                     [key], {});\n",
              "          if (!dataTable) return;\n",
              "\n",
              "          const docLinkHtml = 'Like what you see? Visit the ' +\n",
              "            '<a target=\"_blank\" href=https://colab.research.google.com/notebooks/data_table.ipynb>data table notebook</a>'\n",
              "            + ' to learn more about interactive tables.';\n",
              "          element.innerHTML = '';\n",
              "          dataTable['output_type'] = 'display_data';\n",
              "          await google.colab.output.renderOutput(dataTable, element);\n",
              "          const docLink = document.createElement('div');\n",
              "          docLink.innerHTML = docLinkHtml;\n",
              "          element.appendChild(docLink);\n",
              "        }\n",
              "      </script>\n",
              "    </div>\n",
              "  </div>\n",
              "  "
            ]
          },
          "metadata": {},
          "execution_count": 37
        }
      ]
    },
    {
      "cell_type": "code",
      "source": [
        "for var in ['Suburb']:\n",
        "    \n",
        "    fig = plt.figure()\n",
        "    fig = oe_melb_data.groupby([var])['Price'].mean().plot()\n",
        "    fig.set_title('Monotonic relationship between {} and SalePrice'.format(var))\n",
        "    fig.set_ylabel('Mean SalePrice')\n",
        "    plt.show()\n"
      ],
      "metadata": {
        "id": "FQOpS9gwc2Us",
        "colab": {
          "base_uri": "https://localhost:8080/",
          "height": 295
        },
        "outputId": "5ca5b23b-4027-445f-8fc7-bc2cf8d46e14"
      },
      "execution_count": 38,
      "outputs": [
        {
          "output_type": "display_data",
          "data": {
            "text/plain": [
              "<Figure size 432x288 with 1 Axes>"
            ],
            "image/png": "[encoded data removed]"
          },
          "metadata": {
            "needs_background": "light"
          }
        }
      ]
    },
    {
      "cell_type": "markdown",
      "source": [
        "# Eliminar Outliers"
      ],
      "metadata": {
        "id": "O5iut3DdPO8L"
      }
    },
    {
      "cell_type": "markdown",
      "source": [
        "Un outlier es un punto de datos que es significativamente diferente de los datos restantes. “Un valor atípico es una observación que se desvía tanto de las otras observaciones como para despertar sospechas de que fue generada por un mecanismo diferente”  [D. Hawkins. Identification of Outliers, Chapman and Hall , 1980].\n",
        "\n",
        "Medidas estadísticas como la media y la varianza son muy susceptibles a valores atípicos. Además, algunos modelos de Machine Learning son sensibles a valores atípicos que pueden disminuir su rendimiento. Por lo tanto, según el algoritmo que deseemos entrenar, a menudo eliminamos los valores atípicos de nuestras variables."
      ],
      "metadata": {
        "id": "F7J2vZcht0mB"
      }
    },
    {
      "cell_type": "markdown",
      "source": [
        "TRIMMING o TRUNCAMIENTO\n",
        "\n",
        "Trimming, también conocido como truncamiento, consiste en eliminar los valores atípicos del conjunto de datos. Solo necesitamos decidir una métrica para determinar los valores atípicos. Como vimos en la sección 3, esta puede ser la aproximación gaussiana para variables distribuidas normalmente o la regla de proximidad del rango entre cuantiles para variables sesgadas.\n",
        "\n",
        "Ventajas\n",
        "*   rápido\n",
        "\n",
        "Limitaciones\n",
        "*   los valores atípicos para una variable podrían contener información útil en las otras variables\n",
        "*   si hay valores atípicos en muchas variables, podríamos eliminar una gran parte del conjunto de datos"
      ],
      "metadata": {
        "id": "FnIl52Zmt3YZ"
      }
    },
    {
      "cell_type": "code",
      "source": [
        "import seaborn as sns\n",
        "\n",
        "# for Q-Q plots\n",
        "import scipy.stats as stats"
      ],
      "metadata": {
        "id": "XuLS89XYPa42"
      },
      "execution_count": 39,
      "outputs": []
    },
    {
      "cell_type": "code",
      "source": [
        "# function to create histogram, Q-Q plot and\n",
        "# boxplot. We learned this in section 3 of the course\n",
        "\n",
        "def diagnostic_plots(df, variable):\n",
        "    # function takes a dataframe (df) and\n",
        "    # the variable of interest as arguments\n",
        "\n",
        "    # define figure size\n",
        "    plt.figure(figsize=(16, 4))\n",
        "\n",
        "    # histogram\n",
        "    plt.subplot(1, 3, 1)\n",
        "    sns.histplot(df[variable], bins=30)\n",
        "    plt.title('Histogram')\n",
        "\n",
        "    # Q-Q plot\n",
        "    plt.subplot(1, 3, 2)\n",
        "    stats.probplot(df[variable], dist=\"norm\", plot=plt)\n",
        "    plt.ylabel('Variable quantiles')\n",
        "\n",
        "    # boxplot\n",
        "    plt.subplot(1, 3, 3)\n",
        "    sns.boxplot(y=df[variable])\n",
        "    plt.title('Boxplot')\n",
        "\n",
        "    plt.show()"
      ],
      "metadata": {
        "id": "PZwvWwkJPdNP"
      },
      "execution_count": 40,
      "outputs": []
    },
    {
      "cell_type": "code",
      "source": [
        "# let's find outliers in Landsize\n",
        "diagnostic_plots(oe_melb_data, 'Landsize')"
      ],
      "metadata": {
        "colab": {
          "base_uri": "https://localhost:8080/",
          "height": 265
        },
        "id": "EpX01lOaPfBz",
        "outputId": "e5f9d317-1229-4fb0-a514-a7f9a50e3485"
      },
      "execution_count": 41,
      "outputs": [
        {
          "output_type": "display_data",
          "data": {
            "text/plain": [
              "<Figure size 1152x288 with 3 Axes>"
            ],
            "image/png": "[encoded data removed]"
          },
          "metadata": {
            "needs_background": "light"
          }
        }
      ]
    },
    {
      "cell_type": "code",
      "source": [
        "# let's find outliers in BuildingArea\n",
        "diagnostic_plots(oe_melb_data, 'BuildingArea')"
      ],
      "metadata": {
        "colab": {
          "base_uri": "https://localhost:8080/",
          "height": 265
        },
        "id": "k5QWzOqBPg2u",
        "outputId": "07e2318a-2abc-4ffe-8d87-aa8b77887261"
      },
      "execution_count": 42,
      "outputs": [
        {
          "output_type": "display_data",
          "data": {
            "text/plain": [
              "<Figure size 1152x288 with 3 Axes>"
            ],
            "image/png": "[encoded data removed]"
          },
          "metadata": {
            "needs_background": "light"
          }
        }
      ]
    },
    {
      "cell_type": "code",
      "source": [
        "# let's find outliers in YearBuilt\n",
        "diagnostic_plots(oe_melb_data, 'YearBuilt')"
      ],
      "metadata": {
        "colab": {
          "base_uri": "https://localhost:8080/",
          "height": 267
        },
        "id": "oeLjmH-TPiQJ",
        "outputId": "6116b3e0-8664-4559-8257-4c75124699ec"
      },
      "execution_count": 43,
      "outputs": [
        {
          "output_type": "display_data",
          "data": {
            "text/plain": [
              "<Figure size 1152x288 with 3 Axes>"
            ],
            "image/png": "[encoded data removed]"
          },
          "metadata": {
            "needs_background": "light"
          }
        }
      ]
    },
    {
      "cell_type": "code",
      "source": [
        "def find_skewed_boundaries(df, variable, distance):\n",
        "\n",
        "    # Let's calculate the boundaries outside which sit the outliers\n",
        "    # for skewed distributions\n",
        "\n",
        "    # distance passed as an argument, gives us the option to\n",
        "    # estimate 1.5 times or 3 times the IQR to calculate\n",
        "    # the boundaries.\n",
        "\n",
        "    IQR = df[variable].quantile(0.75) - df[variable].quantile(0.25)\n",
        "\n",
        "    lower_boundary = df[variable].quantile(0.25) - (IQR * distance)\n",
        "    upper_boundary = df[variable].quantile(0.75) + (IQR * distance)\n",
        "\n",
        "    return upper_boundary, lower_boundary"
      ],
      "metadata": {
        "id": "kOtow5VvPki7"
      },
      "execution_count": 44,
      "outputs": []
    },
    {
      "cell_type": "code",
      "source": [
        "# find limits for Landsize\n",
        "LS_upper_limit, LS_lower_limit = find_skewed_boundaries(oe_melb_data, 'Landsize', 1.5)\n",
        "LS_upper_limit, LS_lower_limit"
      ],
      "metadata": {
        "colab": {
          "base_uri": "https://localhost:8080/"
        },
        "id": "jAIj2dr4PmL_",
        "outputId": "d71262ad-dabf-4c2d-a409-fadb3cfa69ff"
      },
      "execution_count": 45,
      "outputs": [
        {
          "output_type": "execute_result",
          "data": {
            "text/plain": [
              "(1362.0, -534.0)"
            ]
          },
          "metadata": {},
          "execution_count": 45
        }
      ]
    },
    {
      "cell_type": "code",
      "source": [
        "# limits for BuildingArea\n",
        "BA_upper_limit, BA_lower_limit = find_skewed_boundaries(oe_melb_data, 'BuildingArea', 1.5)\n",
        "BA_upper_limit, BA_lower_limit"
      ],
      "metadata": {
        "colab": {
          "base_uri": "https://localhost:8080/"
        },
        "id": "zBMbpOt3PolS",
        "outputId": "cea23946-8163-4cfc-d530-928d97289b91"
      },
      "execution_count": 46,
      "outputs": [
        {
          "output_type": "execute_result",
          "data": {
            "text/plain": [
              "(324.85, -194.91)"
            ]
          },
          "metadata": {},
          "execution_count": 46
        }
      ]
    },
    {
      "cell_type": "code",
      "source": [
        "# limits for YearBuilt\n",
        "YB_upper_limit, YB_lower_limit = find_skewed_boundaries(oe_melb_data, 'YearBuilt', 2)\n",
        "YB_upper_limit, YB_lower_limit"
      ],
      "metadata": {
        "colab": {
          "base_uri": "https://localhost:8080/"
        },
        "id": "wLxH4Nc4PpfK",
        "outputId": "500b62c0-7383-408e-e3cc-f26b43700e96"
      },
      "execution_count": 47,
      "outputs": [
        {
          "output_type": "execute_result",
          "data": {
            "text/plain": [
              "(2005.0, 1930.0)"
            ]
          },
          "metadata": {},
          "execution_count": 47
        }
      ]
    },
    {
      "cell_type": "code",
      "source": [
        "# let's flag the outliers in the data set Landsize\n",
        "outliers_LS = np.where(oe_melb_data['Landsize'] > LS_upper_limit, True,\n",
        "                       np.where(oe_melb_data['Landsize']< LS_lower_limit, True, False))"
      ],
      "metadata": {
        "id": "CT_F8xGUPrRU"
      },
      "execution_count": 48,
      "outputs": []
    },
    {
      "cell_type": "code",
      "source": [
        "# let's flag the outliers in the data set BuildingArea\n",
        "outliers_BA = np.where(oe_melb_data['BuildingArea'] > BA_upper_limit, True,\n",
        "                       np.where(oe_melb_data['BuildingArea'] < BA_lower_limit, True, False))"
      ],
      "metadata": {
        "id": "eUjM4mHZPtih"
      },
      "execution_count": 49,
      "outputs": []
    },
    {
      "cell_type": "code",
      "source": [
        "# let's flag the outliers in the data set YearBuilt\n",
        "outliers_YB = np.where(oe_melb_data['YearBuilt'] > YB_upper_limit, True,\n",
        "                       np.where(oe_melb_data['YearBuilt'] < YB_lower_limit, True, False))"
      ],
      "metadata": {
        "id": "JpREUvIzPvJT"
      },
      "execution_count": 50,
      "outputs": []
    },
    {
      "cell_type": "code",
      "source": [
        "# let's trimm the dataset\n",
        "melb_trimmed = oe_melb_data.loc[~(outliers_LS + outliers_BA + outliers_YB), ]\n",
        "oe_melb_data.shape, melb_trimmed.shape"
      ],
      "metadata": {
        "colab": {
          "base_uri": "https://localhost:8080/"
        },
        "id": "DTYSFJV7PwZy",
        "outputId": "ac8684ee-2be9-4905-9d29-e8f91396beb5"
      },
      "execution_count": 52,
      "outputs": [
        {
          "output_type": "execute_result",
          "data": {
            "text/plain": [
              "((13580, 61), (10399, 61))"
            ]
          },
          "metadata": {},
          "execution_count": 52
        }
      ]
    },
    {
      "cell_type": "code",
      "source": [
        "# let's explore outliers in the trimmed dataset\n",
        "# for RM we see much less outliers as in the original dataset\n",
        "diagnostic_plots(melb_trimmed, 'YearBuilt')\n"
      ],
      "metadata": {
        "colab": {
          "base_uri": "https://localhost:8080/",
          "height": 267
        },
        "id": "og5J_dC3PyD4",
        "outputId": "f7724ea9-59a9-44cc-faaa-4861d7b43b18"
      },
      "execution_count": 53,
      "outputs": [
        {
          "output_type": "display_data",
          "data": {
            "text/plain": [
              "<Figure size 1152x288 with 3 Axes>"
            ],
            "image/png": "[encoded data removed]"
          },
          "metadata": {
            "needs_background": "light"
          }
        }
      ]
    },
    {
      "cell_type": "code",
      "source": [
        "# let's explore outliers in the trimmed dataset\n",
        "# for RM we see much less outliers as in the original dataset\n",
        "diagnostic_plots(melb_trimmed, 'Landsize')"
      ],
      "metadata": {
        "colab": {
          "base_uri": "https://localhost:8080/",
          "height": 267
        },
        "id": "MqyRjpc6PzXh",
        "outputId": "1cb0c5e8-6719-46a4-bf2d-eae2b1b6c428"
      },
      "execution_count": 54,
      "outputs": [
        {
          "output_type": "display_data",
          "data": {
            "text/plain": [
              "<Figure size 1152x288 with 3 Axes>"
            ],
            "image/png": "[encoded data removed]"
          },
          "metadata": {
            "needs_background": "light"
          }
        }
      ]
    },
    {
      "cell_type": "code",
      "source": [
        "# let's explore outliers in the trimmed dataset\n",
        "# for RM we see much less outliers as in the original dataset\n",
        "diagnostic_plots(melb_trimmed, 'BuildingArea')"
      ],
      "metadata": {
        "colab": {
          "base_uri": "https://localhost:8080/",
          "height": 267
        },
        "id": "7zueGzKYP0wR",
        "outputId": "887a29b7-f9ee-47d8-b237-3a55b0a3563a"
      },
      "execution_count": 55,
      "outputs": [
        {
          "output_type": "display_data",
          "data": {
            "text/plain": [
              "<Figure size 1152x288 with 3 Axes>"
            ],
            "image/png": "[encoded data removed]"
          },
          "metadata": {
            "needs_background": "light"
          }
        }
      ]
    },
    {
      "cell_type": "code",
      "source": [
        "melb_trimmed.isnull().sum()"
      ],
      "metadata": {
        "colab": {
          "base_uri": "https://localhost:8080/"
        },
        "id": "IDbmlbzDP3HW",
        "outputId": "8bcccb26-48e7-4e4b-fd81-95a7a818f23f"
      },
      "execution_count": 56,
      "outputs": [
        {
          "output_type": "execute_result",
          "data": {
            "text/plain": [
              "Suburb          0\n",
              "Rooms           0\n",
              "Price           0\n",
              "Distance        0\n",
              "Bedroom2        0\n",
              "               ..\n",
              "Whitehorse      0\n",
              "Whittlesea      0\n",
              "Wyndham         0\n",
              "Yarra           0\n",
              "Yarra Ranges    0\n",
              "Length: 61, dtype: int64"
            ]
          },
          "metadata": {},
          "execution_count": 56
        }
      ]
    },
    {
      "cell_type": "code",
      "source": [
        "melb_trimmed.info()"
      ],
      "metadata": {
        "colab": {
          "base_uri": "https://localhost:8080/"
        },
        "id": "Ll5SSQJGP4Vi",
        "outputId": "6cfe934d-1e3c-4bc3-b44d-12c460172039"
      },
      "execution_count": 57,
      "outputs": [
        {
          "output_type": "stream",
          "name": "stdout",
          "text": [
            "<class 'pandas.core.frame.DataFrame'>\n",
            "Int64Index: 10399 entries, 0 to 13577\n",
            "Data columns (total 61 columns):\n",
            " #   Column                      Non-Null Count  Dtype  \n",
            "---  ------                      --------------  -----  \n",
            " 0   Suburb                      10399 non-null  int64  \n",
            " 1   Rooms                       10399 non-null  int64  \n",
            " 2   Price                       10399 non-null  float64\n",
            " 3   Distance                    10399 non-null  float64\n",
            " 4   Bedroom2                    10399 non-null  float64\n",
            " 5   Bathroom                    10399 non-null  float64\n",
            " 6   Car                         10399 non-null  float64\n",
            " 7   Landsize                    10399 non-null  float64\n",
            " 8   BuildingArea                10399 non-null  float64\n",
            " 9   YearBuilt                   10399 non-null  float64\n",
            " 10  Propertycount               10399 non-null  float64\n",
            " 11  year                        10399 non-null  int64  \n",
            " 12  Eastern Metropolitan        10399 non-null  float64\n",
            " 13  Eastern Victoria            10399 non-null  float64\n",
            " 14  Northern Metropolitan       10399 non-null  float64\n",
            " 15  Northern Victoria           10399 non-null  float64\n",
            " 16  South-Eastern Metropolitan  10399 non-null  float64\n",
            " 17  Southern Metropolitan       10399 non-null  float64\n",
            " 18  Western Metropolitan        10399 non-null  float64\n",
            " 19  Western Victoria            10399 non-null  float64\n",
            " 20  h                           10399 non-null  float64\n",
            " 21  t                           10399 non-null  float64\n",
            " 22  u                           10399 non-null  float64\n",
            " 23  PI                          10399 non-null  float64\n",
            " 24  S                           10399 non-null  float64\n",
            " 25  SA                          10399 non-null  float64\n",
            " 26  SP                          10399 non-null  float64\n",
            " 27  VB                          10399 non-null  float64\n",
            " 28  Banyule                     10399 non-null  float64\n",
            " 29  Bayside                     10399 non-null  float64\n",
            " 30  Boroondara                  10399 non-null  float64\n",
            " 31  Brimbank                    10399 non-null  float64\n",
            " 32  Cardinia                    10399 non-null  float64\n",
            " 33  Casey                       10399 non-null  float64\n",
            " 34  Darebin                     10399 non-null  float64\n",
            " 35  Frankston                   10399 non-null  float64\n",
            " 36  Glen Eira                   10399 non-null  float64\n",
            " 37  Greater Dandenong           10399 non-null  float64\n",
            " 38  Hobsons Bay                 10399 non-null  float64\n",
            " 39  Hume                        10399 non-null  float64\n",
            " 40  Kingston                    10399 non-null  float64\n",
            " 41  Knox                        10399 non-null  float64\n",
            " 42  Macedon Ranges              10399 non-null  float64\n",
            " 43  Manningham                  10399 non-null  float64\n",
            " 44  Maribyrnong                 10399 non-null  float64\n",
            " 45  Maroondah                   10399 non-null  float64\n",
            " 46  Melbourne                   10399 non-null  float64\n",
            " 47  Melton                      10399 non-null  float64\n",
            " 48  Monash                      10399 non-null  float64\n",
            " 49  Moonee Valley               10399 non-null  float64\n",
            " 50  Moorabool                   10399 non-null  float64\n",
            " 51  Moreland                    10399 non-null  float64\n",
            " 52  Nillumbik                   10399 non-null  float64\n",
            " 53  Port Phillip                10399 non-null  float64\n",
            " 54  Stonnington                 10399 non-null  float64\n",
            " 55  Unavailable                 10399 non-null  float64\n",
            " 56  Whitehorse                  10399 non-null  float64\n",
            " 57  Whittlesea                  10399 non-null  float64\n",
            " 58  Wyndham                     10399 non-null  float64\n",
            " 59  Yarra                       10399 non-null  float64\n",
            " 60  Yarra Ranges                10399 non-null  float64\n",
            "dtypes: float64(58), int64(3)\n",
            "memory usage: 4.9 MB\n"
          ]
        }
      ]
    },
    {
      "cell_type": "markdown",
      "source": [
        "#ANOVA"
      ],
      "metadata": {
        "id": "qaDMV5kQPlW1"
      }
    },
    {
      "cell_type": "code",
      "source": [
        "from sklearn.feature_selection import SelectKBest\n",
        "from sklearn.feature_selection import chi2\n",
        "from sklearn.feature_selection import f_classif"
      ],
      "metadata": {
        "id": "F_wvnws6PoLY"
      },
      "execution_count": 58,
      "outputs": []
    },
    {
      "cell_type": "code",
      "source": [
        "from sklearn.model_selection import train_test_split\n",
        "\n",
        "# let's separate the data into training and testing set\n",
        "X_train, X_test, y_train, y_test = train_test_split(melb_trimmed.drop('Price', axis=1),\n",
        "                                                    melb_trimmed['Price'],\n",
        "                                                    test_size=0.3,\n",
        "                                                    random_state=0)\n",
        "\n",
        "X_train.shape, X_test.shape"
      ],
      "metadata": {
        "colab": {
          "base_uri": "https://localhost:8080/"
        },
        "id": "EdowBqa3oBzd",
        "outputId": "6405e534-7a45-45f4-f39d-90a6d878878a"
      },
      "execution_count": 60,
      "outputs": [
        {
          "output_type": "execute_result",
          "data": {
            "text/plain": [
              "((7279, 60), (3120, 60))"
            ]
          },
          "metadata": {},
          "execution_count": 60
        }
      ]
    },
    {
      "cell_type": "code",
      "source": [
        "selector = SelectKBest(f_classif, k=3)\n",
        "selector.fit(X_train, y_train)"
      ],
      "metadata": {
        "colab": {
          "base_uri": "https://localhost:8080/"
        },
        "id": "VOHTieTBoFtz",
        "outputId": "a608e03e-f59c-475a-f7cd-8f10ee994de8"
      },
      "execution_count": 62,
      "outputs": [
        {
          "output_type": "execute_result",
          "data": {
            "text/plain": [
              "SelectKBest(k=3)"
            ]
          },
          "metadata": {},
          "execution_count": 62
        }
      ]
    },
    {
      "cell_type": "code",
      "source": [
        "selector.scores_"
      ],
      "metadata": {
        "colab": {
          "base_uri": "https://localhost:8080/"
        },
        "id": "edinMF80dEv4",
        "outputId": "08154150-d9a9-49dc-d49d-d2c9a1b48fe8"
      },
      "execution_count": 63,
      "outputs": [
        {
          "output_type": "execute_result",
          "data": {
            "text/plain": [
              "array([3.15659104, 2.96876273, 1.17076263, 2.6594188 , 2.27843493,\n",
              "       1.31617543, 1.75084907, 1.18095379, 1.11412948, 0.97725273,\n",
              "       0.97318611, 1.12640645, 1.04210391, 1.12684066, 0.97794702,\n",
              "       1.00036571, 1.66080262, 1.03255004, 1.52594888, 2.2993948 ,\n",
              "       0.80234372, 2.92761212, 0.65635969, 1.42243937, 0.63889258,\n",
              "       1.03276086, 0.86610924, 0.85520211, 1.40044798, 1.79922622,\n",
              "       0.96166117, 1.54246415, 0.65869004, 0.84055124, 0.83873568,\n",
              "       1.03197504, 0.78802192, 0.80504347, 1.10379465, 1.01792379,\n",
              "       0.76814442, 0.83141477, 1.25864824, 1.05313193, 1.12922094,\n",
              "       1.01088716, 1.46781844, 1.07624098, 0.78620795, 1.17294302,\n",
              "       1.07180634, 0.77402723, 1.02147677, 1.18900143, 1.87200864,\n",
              "       1.30867865, 1.27639414, 1.89083024, 1.18438467, 0.78163377])"
            ]
          },
          "metadata": {},
          "execution_count": 63
        }
      ]
    },
    {
      "cell_type": "code",
      "source": [
        "cols = selector.get_support(indices=True)\n",
        "cols"
      ],
      "metadata": {
        "colab": {
          "base_uri": "https://localhost:8080/"
        },
        "id": "gEXkJ3wkdKSI",
        "outputId": "d257d2b2-1e82-44d4-fc6b-f568829803dc"
      },
      "execution_count": 64,
      "outputs": [
        {
          "output_type": "execute_result",
          "data": {
            "text/plain": [
              "array([ 0,  1, 21])"
            ]
          },
          "metadata": {},
          "execution_count": 64
        }
      ]
    },
    {
      "cell_type": "code",
      "source": [
        "X_train_a = X_train.iloc[:,cols]\n",
        "X_test_a = X_test.iloc[:,cols]"
      ],
      "metadata": {
        "id": "kph9jJ1cddbM"
      },
      "execution_count": 66,
      "outputs": []
    },
    {
      "cell_type": "markdown",
      "source": [
        "# Modelos de Machine Learning"
      ],
      "metadata": {
        "id": "2xueD7PKqJM6"
      }
    },
    {
      "cell_type": "markdown",
      "source": [
        "## Random Forest"
      ],
      "metadata": {
        "id": "54smZefaqOMv"
      }
    },
    {
      "cell_type": "code",
      "source": [
        "from sklearn.ensemble import RandomForestClassifier\n",
        "from sklearn.datasets import make_classification\n",
        "\n",
        "rf = RandomForestClassifier(n_estimators=100, max_depth=10, random_state=42)\n",
        "rf.fit(X_train_a, y_train)"
      ],
      "metadata": {
        "id": "0bXvIZWXWVxY",
        "colab": {
          "base_uri": "https://localhost:8080/"
        },
        "outputId": "ec0f4ed0-dc13-4a54-a422-548068596d14"
      },
      "execution_count": 67,
      "outputs": [
        {
          "output_type": "execute_result",
          "data": {
            "text/plain": [
              "RandomForestClassifier(max_depth=10, random_state=42)"
            ]
          },
          "metadata": {},
          "execution_count": 67
        }
      ]
    },
    {
      "cell_type": "code",
      "source": [
        "# prediction on test set\n",
        "y_predict = rf.predict(X_test_a)"
      ],
      "metadata": {
        "id": "zqdTFaAVqG7s"
      },
      "execution_count": 68,
      "outputs": []
    },
    {
      "cell_type": "code",
      "source": [
        "#Import scikit-learn metrics module for accuracy calculation\n",
        "from sklearn.metrics import accuracy_score\n",
        "from sklearn.metrics import mean_squared_error\n",
        "from sklearn import metrics\n",
        "\n",
        "print(accuracy_score(y_test, y_predict))\n",
        "print('Error Cuadratico Medio = ', mean_squared_error(y_test, y_predict))\n",
        "print('R^2 =',metrics.explained_variance_score(y_test,y_predict))"
      ],
      "metadata": {
        "colab": {
          "base_uri": "https://localhost:8080/"
        },
        "id": "eUwCkEL7kFgR",
        "outputId": "2da8b0e9-9924-47ba-ee53-4a2d0d82d970"
      },
      "execution_count": 71,
      "outputs": [
        {
          "output_type": "stream",
          "name": "stdout",
          "text": [
            "0.016987179487179486\n",
            "Error Cuadratico Medio 156209175782.57758\n",
            "R^2 = 0.49186401976531124\n"
          ]
        }
      ]
    },
    {
      "cell_type": "markdown",
      "source": [
        "## AdaBoost"
      ],
      "metadata": {
        "id": "b4xsgNKPTLuh"
      }
    },
    {
      "cell_type": "code",
      "source": [
        "from sklearn.ensemble import AdaBoostRegressor\n",
        "from sklearn.ensemble import AdaBoostClassifier\n",
        "from sklearn.datasets import make_classification\n",
        "\n",
        "adb = AdaBoostRegressor(random_state=42, n_estimators=100)\n",
        "adb.fit(X_train_a, y_train)"
      ],
      "metadata": {
        "colab": {
          "base_uri": "https://localhost:8080/"
        },
        "id": "SOf0-6JjTN0h",
        "outputId": "11805792-c2de-41cd-812e-c0ff0c8ab932"
      },
      "execution_count": 72,
      "outputs": [
        {
          "output_type": "execute_result",
          "data": {
            "text/plain": [
              "AdaBoostRegressor(n_estimators=100, random_state=42)"
            ]
          },
          "metadata": {},
          "execution_count": 72
        }
      ]
    },
    {
      "cell_type": "code",
      "source": [
        "# prediction on test set\n",
        "y_predict = adb.predict(X_test_a)"
      ],
      "metadata": {
        "id": "H41Tu5m-TxJx"
      },
      "execution_count": 73,
      "outputs": []
    },
    {
      "cell_type": "code",
      "source": [
        "#Import scikit-learn metrics module for accuracy calculation\n",
        "from sklearn.metrics import mean_squared_error\n",
        "from sklearn import metrics\n",
        "\n",
        "print('Error Cuadratico Medio = ',mean_squared_error(y_test, y_predict))\n",
        "print('R^2 =',metrics.explained_variance_score(y_test,y_predict))"
      ],
      "metadata": {
        "id": "GOHZ0caoTuM9",
        "colab": {
          "base_uri": "https://localhost:8080/"
        },
        "outputId": "7c62018a-683c-4be3-d2f3-d0c2fc7dea00"
      },
      "execution_count": 74,
      "outputs": [
        {
          "output_type": "stream",
          "name": "stdout",
          "text": [
            "Error Cuadratico Medio =  139026651718.19003\n",
            "R^2 = 0.5507915593335391\n"
          ]
        }
      ]
    },
    {
      "cell_type": "markdown",
      "source": [
        "# Problema: \n",
        "Predecir el precio de la vivienda en Melbourne en función de la cantidad de habitaciones, baños, suburbio y área.\n",
        "\n",
        "#Solución tecnológica: \n",
        "\n",
        "Utilizar un modelo de machine learning para analizar el conjunto de datos Melbourne Housing Snapshot y entrenar un modelo que pueda predecir el precio de la vivienda en función de la cantidad de habitaciones, baños y área. Se podría utilizar un modelo de regresión lineal, un modelo de árbol de decisión, un modelo de random forest, un modelo de gradient boosting o un modelo de support vector machine (SVM), entre otros. Luego, se podría evaluar el rendimiento del modelo utilizando un conjunto de prueba y, si es necesario, ajustar los hiperparámetros del modelo para mejorar la precisión. Una vez que el modelo esté entrenado y optimizado, se podría utilizar para predecir el precio de la vivienda en función de la cantidad de habitaciones, baños y área de nuevas propiedades."
      ],
      "metadata": {
        "id": "eGcux4hdQBcK"
      }
    }
  ]
}